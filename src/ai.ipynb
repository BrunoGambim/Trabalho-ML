{
 "cells": [
  {
   "cell_type": "code",
   "execution_count": 2,
   "metadata": {},
   "outputs": [],
   "source": [
    "import pandas as pd\n",
    "from sklearn.model_selection import train_test_split\n",
    "from sklearn.preprocessing import StandardScaler, RobustScaler\n",
    "from sklearn.metrics import accuracy_score, classification_report\n",
    "from sklearn.neural_network import MLPRegressor, MLPClassifier\n",
    "from sklearn.metrics import accuracy_score, mean_squared_error\n",
    "from sklearn.tree import DecisionTreeClassifier\n",
    "import numpy as np\n",
    "from sklearn.preprocessing import OneHotEncoder, PowerTransformer\n",
    "from sklearn.ensemble import RandomForestClassifier\n",
    "from sklearn.utils import resample\n",
    "from sklearn.neighbors import LocalOutlierFactor\n",
    "import matplotlib.pyplot as plt\n",
    "from sklearn.base import BaseEstimator, TransformerMixin\n",
    "#from sklearn.pipeline import Pipeline, FeatureUnion\n",
    "from sklearn.impute import SimpleImputer\n",
    "from imblearn.pipeline import Pipeline\n",
    "from imblearn import FunctionSampler\n",
    "import seaborn as sns\n",
    "from sklearn.cluster import DBSCAN\n",
    "from sklearn.metrics import precision_recall_curve\n",
    "\n",
    "from sklearn.model_selection import cross_val_score\n",
    "import optuna\n",
    "\n",
    "from sklearn.linear_model import LogisticRegression\n",
    "from sklearn.svm import SVC, LinearSVC\n",
    "from sklearn.neighbors import KNeighborsClassifier\n",
    "from sklearn.naive_bayes import GaussianNB, MultinomialNB, BernoulliNB, ComplementNB\n",
    "from sklearn.ensemble import GradientBoostingClassifier, AdaBoostClassifier\n",
    "from sklearn.discriminant_analysis import QuadraticDiscriminantAnalysis, LinearDiscriminantAnalysis\n",
    "from sklearn.ensemble import ExtraTreesClassifier, BaggingClassifier\n",
    "from sklearn.linear_model import SGDClassifier\n",
    "\n",
    "from sklearn.metrics import precision_score, recall_score, f1_score\n",
    "from imblearn.over_sampling import SMOTE, BorderlineSMOTE, KMeansSMOTE, SVMSMOTE, ADASYN, RandomOverSampler\n",
    "from sklearn.feature_selection import SelectKBest, f_classif, chi2, SelectPercentile, SelectFromModel, SequentialFeatureSelector, SelectFromModel\n",
    "from sklearn.decomposition import PCA\n",
    "from scipy import stats\n",
    "from imblearn.base import SamplerMixin\n",
    "from sklearn.ensemble import VotingClassifier"
   ]
  },
  {
   "cell_type": "code",
   "execution_count": 3,
   "metadata": {},
   "outputs": [],
   "source": [
    "class ManualFeatureSelectorTransformer(BaseEstimator, TransformerMixin):\n",
    "    def fit(self, X, y=None):\n",
    "        #print(\"fit - ManualFeatureSelectorTransformer - begin\", X.shape)\n",
    "        #print(\"fit - ManualFeatureSelectorTransformer - end\", X.shape)\n",
    "        return self\n",
    "\n",
    "    def transform(self, X):\n",
    "        #print(\"transform - ManualFeatureSelectorTransformer\", X.shape)\n",
    "        X.drop('Cidade', axis=1, inplace=True)\n",
    "        X.drop('Codigo', axis=1, inplace=True)\n",
    "        #print(\"transform - ManualFeatureSelectorTransformer - end\", X.shape)\n",
    "        return X"
   ]
  },
  {
   "cell_type": "code",
   "execution_count": 4,
   "metadata": {},
   "outputs": [],
   "source": [
    "class ImputerTransformer(BaseEstimator, TransformerMixin):\n",
    "    def __init__(self):\n",
    "        self.imputer_numeric = SimpleImputer(strategy='mean')\n",
    "        self.imputer_categorical = SimpleImputer(strategy='most_frequent')\n",
    "\n",
    "    def fit(self, X, y=None):\n",
    "        #print(\"fit - ImputerTransformer - begin\", X.shape)\n",
    "        numeric_cols = X.select_dtypes(include=['number']).columns\n",
    "        categorical_cols = X.select_dtypes(include=['object']).columns\n",
    "\n",
    "        self.imputer_numeric.fit(X[numeric_cols])\n",
    "        self.imputer_categorical.fit(X[categorical_cols])\n",
    "        #print(\"fit - ImputerTransformer - end\", X.shape)\n",
    "        return self\n",
    "\n",
    "    def transform(self, X):\n",
    "        #print(\"transform - ImputerTransformer - begin\", X.shape)\n",
    "        numeric_cols = X.select_dtypes(include=['number']).columns\n",
    "        categorical_cols = X.select_dtypes(include=['object']).columns\n",
    "        X[numeric_cols] = self.imputer_numeric.transform(X[numeric_cols])\n",
    "        X[categorical_cols] = self.imputer_categorical.transform(X[categorical_cols])\n",
    "        #print(\"transform - ImputerTransformer - end\", X.shape)\n",
    "        return X"
   ]
  },
  {
   "cell_type": "code",
   "execution_count": 5,
   "metadata": {},
   "outputs": [],
   "source": [
    "class DateTransformer(BaseEstimator, TransformerMixin):\n",
    "    def fit(self, X, y=None):\n",
    "        #print(\"fit - DateTransformer - begin\", X.shape)\n",
    "        #print(\"fit - DateTransformer - end\", X.shape)\n",
    "        return self\n",
    "\n",
    "    def transform(self, X):\n",
    "        #print(\"transform - DateTransformer\", X.shape)\n",
    "        X['Data'] = pd.to_datetime(X['Data'])\n",
    "        X['Ano'] = X['Data'].dt.year\n",
    "        X['Mes'] = X['Data'].dt.month\n",
    "        X['Dia'] = X['Data'].dt.day\n",
    "        X.drop('Data', axis=1, inplace=True)\n",
    "        #print(\"transform - DateTransformer - end\", X.shape)\n",
    "        return X"
   ]
  },
  {
   "cell_type": "code",
   "execution_count": 6,
   "metadata": {},
   "outputs": [],
   "source": [
    "class RobustScalerTransformer(BaseEstimator, TransformerMixin):\n",
    "    def __init__(self):\n",
    "        self.rainfall_scaler = RobustScaler(quantile_range=(6.5, 93.5))\n",
    "        self.scaler = RobustScaler()\n",
    "\n",
    "    def fit(self, X, y=None):\n",
    "        #print(\"fit - RobustScalerTransformer - begin\", X.shape)\n",
    "        self.scaler.fit(X[['Pressao Maxima','Pressao Minima','Temperatura Maxima','Temperatura Minima','Temperatura Orvalho Maxima','Temperatura Orvalho Minima',\n",
    "                'Umidade Minima', 'Umidade Maxima', 'Pressao Media', 'Temperatura Media', 'Temperatura Orvalho Media', 'Umidade Media', \n",
    "                'Direcao Vento 0H','Direcao Vento 6H','Direcao Vento 12H','Direcao Vento 18H', 'Rajada Maxima de Vento 0H', 'Rajada Maxima de Vento 6H',\n",
    "                'Rajada Maxima de Vento 12H', 'Rajada Maxima de Vento 18H', 'Vento Velocidade Media 0H', 'Vento Velocidade Media 6H',\n",
    "                'Vento Velocidade Media 12H', 'Vento Velocidade Media 18H', 'Latitude', 'Longitude', 'Ano', 'Mes', 'Dia','Radiacao Global', 'Altitude']])\n",
    "        self.rainfall_scaler.fit(X[['Precipitacao Total']])\n",
    "        #print(\"fit - RobustScalerTransformer - end\", X.shape)\n",
    "        return self\n",
    "\n",
    "    def transform(self, X):\n",
    "        #print(\"transform - RobustScalerTransformer - begin\", X.shape)\n",
    "        X[['Pressao Maxima','Pressao Minima','Temperatura Maxima','Temperatura Minima','Temperatura Orvalho Maxima','Temperatura Orvalho Minima','Umidade Minima',\n",
    "      'Umidade Maxima', 'Pressao Media', 'Temperatura Media', 'Temperatura Orvalho Media', 'Umidade Media', 'Direcao Vento 0H','Direcao Vento 6H','Direcao Vento 12H', \n",
    "      'Direcao Vento 18H', 'Rajada Maxima de Vento 0H', 'Rajada Maxima de Vento 6H', 'Rajada Maxima de Vento 12H', 'Rajada Maxima de Vento 18H',\n",
    "      'Vento Velocidade Media 0H', 'Vento Velocidade Media 6H', 'Vento Velocidade Media 12H', 'Vento Velocidade Media 18H', 'Latitude', 'Longitude', 'Ano', 'Mes', 'Dia',\n",
    "      'Radiacao Global', 'Altitude']] = self.scaler.transform(\n",
    "          X[['Pressao Maxima','Pressao Minima','Temperatura Maxima','Temperatura Minima','Temperatura Orvalho Maxima','Temperatura Orvalho Minima',\n",
    "                'Umidade Minima', 'Umidade Maxima', 'Pressao Media', 'Temperatura Media', 'Temperatura Orvalho Media', 'Umidade Media', 'Direcao Vento 0H', \n",
    "                'Direcao Vento 6H','Direcao Vento 12H','Direcao Vento 18H', 'Rajada Maxima de Vento 0H', 'Rajada Maxima de Vento 6H', 'Rajada Maxima de Vento 12H',\n",
    "                'Rajada Maxima de Vento 18H', 'Vento Velocidade Media 0H', 'Vento Velocidade Media 6H', 'Vento Velocidade Media 12H', 'Vento Velocidade Media 18H',\n",
    "                'Latitude', 'Longitude', 'Ano', 'Mes', 'Dia', 'Radiacao Global', 'Altitude']])\n",
    "        X['Precipitacao Total'] = self.rainfall_scaler.transform(X[['Precipitacao Total']])\n",
    "        #print(\"transform - RobustScalerTransformer - end\", X.shape)\n",
    "        return X"
   ]
  },
  {
   "cell_type": "code",
   "execution_count": 7,
   "metadata": {},
   "outputs": [],
   "source": [
    "class SimpleRobustScalerTransformer(BaseEstimator, TransformerMixin):\n",
    "    def __init__(self):\n",
    "        self.rainfall_scaler = RobustScaler()\n",
    "        self.scaler = RobustScaler()\n",
    "\n",
    "    def fit(self, X, y=None):\n",
    "        #print(\"fit - RobustScalerTransformer - begin\", X.shape)\n",
    "        self.scaler.fit(X[['Pressao Maxima','Pressao Minima','Temperatura Maxima','Temperatura Minima','Temperatura Orvalho Maxima','Temperatura Orvalho Minima',\n",
    "                'Umidade Minima', 'Umidade Maxima', 'Pressao Media', 'Temperatura Media', 'Temperatura Orvalho Media', 'Umidade Media', \n",
    "                'Direcao Vento 0H','Direcao Vento 6H','Direcao Vento 12H','Direcao Vento 18H', 'Rajada Maxima de Vento 0H', 'Rajada Maxima de Vento 6H',\n",
    "                'Rajada Maxima de Vento 12H', 'Rajada Maxima de Vento 18H', 'Vento Velocidade Media 0H', 'Vento Velocidade Media 6H',\n",
    "                'Vento Velocidade Media 12H', 'Vento Velocidade Media 18H', 'Latitude', 'Longitude', 'Ano', 'Mes', 'Dia','Radiacao Global', 'Altitude']])\n",
    "        self.rainfall_scaler.fit(X[['Precipitacao Total']])\n",
    "        #print(\"fit - RobustScalerTransformer - end\", X.shape)\n",
    "        return self\n",
    "\n",
    "    def transform(self, X):\n",
    "        #print(\"transform - RobustScalerTransformer - begin\", X.shape)\n",
    "        X[['Pressao Maxima','Pressao Minima','Temperatura Maxima','Temperatura Minima','Temperatura Orvalho Maxima','Temperatura Orvalho Minima','Umidade Minima',\n",
    "      'Umidade Maxima', 'Pressao Media', 'Temperatura Media', 'Temperatura Orvalho Media', 'Umidade Media', 'Direcao Vento 0H','Direcao Vento 6H','Direcao Vento 12H', \n",
    "      'Direcao Vento 18H', 'Rajada Maxima de Vento 0H', 'Rajada Maxima de Vento 6H', 'Rajada Maxima de Vento 12H', 'Rajada Maxima de Vento 18H',\n",
    "      'Vento Velocidade Media 0H', 'Vento Velocidade Media 6H', 'Vento Velocidade Media 12H', 'Vento Velocidade Media 18H', 'Latitude', 'Longitude', 'Ano', 'Mes', 'Dia',\n",
    "      'Radiacao Global', 'Altitude']] = self.scaler.transform(\n",
    "          X[['Pressao Maxima','Pressao Minima','Temperatura Maxima','Temperatura Minima','Temperatura Orvalho Maxima','Temperatura Orvalho Minima',\n",
    "                'Umidade Minima', 'Umidade Maxima', 'Pressao Media', 'Temperatura Media', 'Temperatura Orvalho Media', 'Umidade Media', 'Direcao Vento 0H', \n",
    "                'Direcao Vento 6H','Direcao Vento 12H','Direcao Vento 18H', 'Rajada Maxima de Vento 0H', 'Rajada Maxima de Vento 6H', 'Rajada Maxima de Vento 12H',\n",
    "                'Rajada Maxima de Vento 18H', 'Vento Velocidade Media 0H', 'Vento Velocidade Media 6H', 'Vento Velocidade Media 12H', 'Vento Velocidade Media 18H',\n",
    "                'Latitude', 'Longitude', 'Ano', 'Mes', 'Dia', 'Radiacao Global', 'Altitude']])\n",
    "        X['Precipitacao Total'] = self.rainfall_scaler.transform(X[['Precipitacao Total']])\n",
    "        #print(\"transform - RobustScalerTransformer - end\", X.shape)\n",
    "        return X"
   ]
  },
  {
   "cell_type": "code",
   "execution_count": 8,
   "metadata": {},
   "outputs": [],
   "source": [
    "def handleOutliersZIndex(X, threshold = 3):\n",
    "    #print(\"handleOutliersZIndex - begin\", X.shape)\n",
    "    columns = ['Pressao Maxima','Pressao Minima','Temperatura Maxima','Temperatura Minima','Temperatura Orvalho Maxima','Temperatura Orvalho Minima',\n",
    "                'Umidade Minima', 'Umidade Maxima', 'Pressao Media', 'Temperatura Media', 'Temperatura Orvalho Media', 'Umidade Media', \n",
    "                'Direcao Vento 0H','Direcao Vento 6H','Direcao Vento 12H','Direcao Vento 18H', 'Rajada Maxima de Vento 0H', 'Rajada Maxima de Vento 6H', \n",
    "                'Rajada Maxima de Vento 12H', 'Rajada Maxima de Vento 18H', 'Vento Velocidade Media 0H', 'Vento Velocidade Media 6H', 'Vento Velocidade Media 12H', \n",
    "                'Vento Velocidade Media 18H', 'Radiacao Global', 'Altitude']\n",
    "    \n",
    "    for column in columns:\n",
    "        non_zero_mask = (X[column].notna())\n",
    "\n",
    "        nz_X = X[non_zero_mask]\n",
    "        z_scores = np.abs(stats.zscore(nz_X[column]))\n",
    "        outliers_mask = (z_scores > threshold)\n",
    "\n",
    "        nz_X.loc[outliers_mask, column] = nz_X[(~outliers_mask)][column].mean()\n",
    "\n",
    "        X.loc[non_zero_mask, column] = nz_X[column]\n",
    "    \n",
    "    column = 'Precipitacao Total'\n",
    "    non_zero_mask = (X[column] != 0) & (X[column].notna())\n",
    "\n",
    "    nz_X = X[non_zero_mask]\n",
    "    z_scores = np.abs(stats.zscore(nz_X[column]))\n",
    "    outliers_mask = (z_scores > threshold)\n",
    "\n",
    "    nz_X.loc[outliers_mask, column] = nz_X[(~outliers_mask)][column].mean()\n",
    "\n",
    "    X.loc[non_zero_mask, column] = nz_X[column]\n",
    "\n",
    "    #print(\"handleOutliersZIndex - end\", X.shape)\n",
    "    return X"
   ]
  },
  {
   "cell_type": "code",
   "execution_count": 9,
   "metadata": {},
   "outputs": [],
   "source": [
    "def handleOutliersSimpleZIndex(X, threshold = 3):\n",
    "    #print(\"handleOutliersZIndex - begin\", X.shape)\n",
    "    columns = ['Pressao Maxima','Pressao Minima','Temperatura Maxima','Temperatura Minima','Temperatura Orvalho Maxima','Temperatura Orvalho Minima',\n",
    "                'Umidade Minima', 'Umidade Maxima', 'Pressao Media', 'Temperatura Media', 'Temperatura Orvalho Media', 'Umidade Media', \n",
    "                'Direcao Vento 0H','Direcao Vento 6H','Direcao Vento 12H','Direcao Vento 18H', 'Rajada Maxima de Vento 0H', 'Rajada Maxima de Vento 6H', \n",
    "                'Rajada Maxima de Vento 12H', 'Rajada Maxima de Vento 18H', 'Vento Velocidade Media 0H', 'Vento Velocidade Media 6H', 'Vento Velocidade Media 12H', \n",
    "                'Vento Velocidade Media 18H', 'Radiacao Global', 'Altitude', 'Precipitacao Total']\n",
    "    \n",
    "    for column in columns:\n",
    "        non_zero_mask = (X[column].notna())\n",
    "\n",
    "        nz_X = X[non_zero_mask]\n",
    "        z_scores = np.abs(stats.zscore(nz_X[column]))\n",
    "        outliers_mask = (z_scores > threshold)\n",
    "\n",
    "        nz_X.loc[outliers_mask, column] = nz_X[(~outliers_mask)][column].mean()\n",
    "\n",
    "        X.loc[non_zero_mask, column] = nz_X[column]\n",
    "\n",
    "    #print(\"handleOutliersZIndex - end\", X.shape)\n",
    "    return X"
   ]
  },
  {
   "cell_type": "code",
   "execution_count": 10,
   "metadata": {},
   "outputs": [],
   "source": [
    "def get_mlp(data_x, data_y):\n",
    "    mlp = MLPClassifier(hidden_layer_sizes=(10,20,20,10), activation='relu', max_iter=250, random_state=42)\n",
    "    mlp.fit(data_x, data_y)\n",
    "    return mlp"
   ]
  },
  {
   "cell_type": "code",
   "execution_count": 11,
   "metadata": {},
   "outputs": [],
   "source": [
    "def get_dt(data_x, data_y):\n",
    "    dt = DecisionTreeClassifier(class_weight='balanced', splitter='best', max_depth=None, criterion='gini')\n",
    "    dt.fit(data_x, data_y)\n",
    "    return dt"
   ]
  },
  {
   "cell_type": "code",
   "execution_count": 12,
   "metadata": {},
   "outputs": [],
   "source": [
    "def get_rf(data_x, data_y):\n",
    "    rf = RandomForestClassifier(class_weight='balanced', max_depth=15, n_estimators=100, random_state=42)\n",
    "    rf.fit(data_x, data_y)\n",
    "    return rf"
   ]
  },
  {
   "cell_type": "code",
   "execution_count": 13,
   "metadata": {},
   "outputs": [],
   "source": [
    "def get_sgd(data_x, data_y):\n",
    "    sgd = SGDClassifier(max_iter=3000, tol=1e-3, class_weight='balanced', random_state=42)\n",
    "    sgd.fit(data_x, data_y)\n",
    "    return sgd"
   ]
  },
  {
   "cell_type": "code",
   "execution_count": 14,
   "metadata": {},
   "outputs": [],
   "source": [
    "def get_logistic_regression(data_x, data_y):\n",
    "    lr = LogisticRegression(class_weight='balanced', max_iter=5000, random_state=42)\n",
    "    lr.fit(data_x, data_y)\n",
    "    return lr"
   ]
  },
  {
   "cell_type": "code",
   "execution_count": 15,
   "metadata": {},
   "outputs": [],
   "source": [
    "def get_bagging(data_x, data_y):\n",
    "   base_classifier = DecisionTreeClassifier(class_weight='balanced', splitter='best', max_depth=15, criterion='gini', random_state=42)\n",
    "   bagging = BaggingClassifier(base_estimator=base_classifier, n_estimators=20, random_state=42)\n",
    "   bagging.fit(data_x, data_y)\n",
    "   return bagging"
   ]
  },
  {
   "cell_type": "code",
   "execution_count": 16,
   "metadata": {},
   "outputs": [],
   "source": [
    "def get_linear_svc(data_x, data_y):\n",
    "    linear_svc = LinearSVC(class_weight='balanced', random_state=42)\n",
    "    linear_svc.fit(data_x, data_y)\n",
    "    return linear_svc"
   ]
  },
  {
   "cell_type": "code",
   "execution_count": 17,
   "metadata": {},
   "outputs": [],
   "source": [
    "def get_knn(data_x, data_y):\n",
    "    knn = KNeighborsClassifier(n_neighbors=20)\n",
    "    knn.fit(data_x, data_y)\n",
    "    return knn"
   ]
  },
  {
   "cell_type": "code",
   "execution_count": 18,
   "metadata": {},
   "outputs": [],
   "source": [
    "def get_nb(data_x, data_y):\n",
    "    nb = BernoulliNB()\n",
    "    nb.fit(data_x, data_y)\n",
    "    return nb"
   ]
  },
  {
   "cell_type": "code",
   "execution_count": 19,
   "metadata": {},
   "outputs": [],
   "source": [
    "def get_ada(data_x, data_y):\n",
    "    dt = DecisionTreeClassifier(class_weight='balanced', splitter='best', max_depth=5, criterion='gini')\n",
    "    ada = AdaBoostClassifier(base_estimator=dt, n_estimators=100, algorithm=\"SAMME\", random_state=0)\n",
    "    ada.fit(data_x, data_y)\n",
    "    return ada"
   ]
  },
  {
   "cell_type": "code",
   "execution_count": 20,
   "metadata": {},
   "outputs": [],
   "source": [
    "def get_ensemble(data_x, data_y):\n",
    "    mlp = MLPClassifier(hidden_layer_sizes=(10,20,20,10), activation='relu', max_iter=15, random_state=42)\n",
    "    rf = RandomForestClassifier(class_weight='balanced', max_depth=15, n_estimators=20, random_state=42)\n",
    "    base_classifier = DecisionTreeClassifier(class_weight='balanced', splitter='best', max_depth=15, criterion='gini', random_state=42)\n",
    "    bagging = BaggingClassifier(base_estimator=base_classifier, n_estimators=20, random_state=42)\n",
    "    ensemble = VotingClassifier(estimators=[('mlp', mlp), ('rf', rf), ('bagging', bagging)], voting='hard')\n",
    "    ensemble.fit(data_x, data_y)\n",
    "    return ensemble"
   ]
  },
  {
   "cell_type": "code",
   "execution_count": 21,
   "metadata": {},
   "outputs": [],
   "source": [
    "def get_lda(data_x, data_y):\n",
    "    lda = LinearDiscriminantAnalysis()\n",
    "    lda.fit(data_x, data_y)\n",
    "    return lda"
   ]
  },
  {
   "cell_type": "code",
   "execution_count": 22,
   "metadata": {},
   "outputs": [],
   "source": [
    "def plot_result_scikit(model, data_x, data_y):\n",
    "    y_pred = model.predict(data_x)\n",
    "    accuracy = accuracy_score(data_y, y_pred),\n",
    "    y_true  = (data_y == 'Sim').astype(int)\n",
    "    y_pred  = (y_pred == 'Sim').astype(int)\n",
    "\n",
    "    precision = precision_score(y_true, y_pred)\n",
    "    recall = recall_score(y_true, y_pred)\n",
    "    f1 = f1_score(y_true, y_pred)\n",
    "\n",
    "    print(f\"Accuracy: {str(accuracy).replace('.',',')} | Precision:{str(precision).replace('.',',')} | Recall:{str(recall).replace('.',',')} | F1-score:{str(f1).replace('.',',')}\")\n",
    "    print(f\"{str(accuracy).replace('.',',')[1:-2]}\\t{str(precision).replace('.',',')}\\t{str(recall).replace('.',',')}\\t{str(f1).replace('.',',')}\")"
   ]
  },
  {
   "cell_type": "code",
   "execution_count": 57,
   "metadata": {},
   "outputs": [
    {
     "name": "stdout",
     "output_type": "stream",
     "text": [
      "256311\n",
      "240452\n",
      "lda\n",
      "training:\n",
      "Accuracy: (0,6842707201563727,) | Precision:0,45797021971602625 | Recall:0,7155896652571577 | F1-score:0,5585036782879241\n",
      "0,6842707201563727\t0,45797021971602625\t0,7155896652571577\t0,5585036782879241\n",
      "over sampled training:\n",
      "Accuracy: (0,692979419951254,) | Precision:0,685260563770283 | Recall:0,7138118519159492 | F1-score:0,6992448805159395\n",
      "0,692979419951254\t0,685260563770283\t0,7138118519159492\t0,6992448805159395\n",
      "test:\n",
      "Accuracy: (0,6848266827472916,) | Precision:0,4582125718629734 | Recall:0,7198089267054785 | F1-score:0,5599651618522282\n",
      "0,6848266827472916\t0,4582125718629734\t0,7198089267054785\t0,5599651618522282\n",
      "bagging\n",
      "training:\n",
      "Accuracy: (0,8815196427550283,) | Precision:0,7375576745616733 | Recall:0,8933181826649033 | F1-score:0,8079997978147141\n",
      "0,8815196427550283\t0,7375576745616733\t0,8933181826649033\t0,8079997978147141\n",
      "over sampled training:\n",
      "Accuracy: (0,8950734795713812,) | Precision:0,8812559149362579 | Recall:0,9131945946725508 | F1-score:0,8969410231530337\n",
      "0,8950734795713812\t0,8812559149362579\t0,9131945946725508\t0,8969410231530337\n",
      "test:\n",
      "Accuracy: (0,7325279158262461,) | Precision:0,5161641186778657 | Recall:0,6375578444543962 | F1-score:0,5704745049587605\n",
      "0,7325279158262461\t0,5161641186778657\t0,6375578444543962\t0,5704745049587605\n",
      "rf\n",
      "training:\n",
      "Accuracy: (0,8731083743586278,) | Precision:0,7234792964455845 | Recall:0,8826816683121286 | F1-score:0,7951904278438316\n",
      "0,8731083743586278\t0,7234792964455845\t0,8826816683121286\t0,7951904278438316\n",
      "over sampled training:\n",
      "Accuracy: (0,8862653052394757,) | Precision:0,8736632834571518 | Recall:0,9031281097218016 | F1-score:0,888151386539873\n",
      "0,8862653052394757\t0,8736632834571518\t0,9031281097218016\t0,888151386539873\n",
      "test:\n",
      "Accuracy: (0,7362292320808467,) | Precision:0,5212696139848457 | Recall:0,6521122555605314 | F1-score:0,5793958685632813\n",
      "0,7362292320808467\t0,5212696139848457\t0,6521122555605314\t0,5793958685632813\n",
      "ada\n",
      "training:\n",
      "Accuracy: (0,7331319758163037,) | Precision:0,5153435972501764 | Recall:0,7345155822141087 | F1-score:0,605712881249184\n",
      "0,7331319758163037\t0,5153435972501764\t0,7345155822141087\t0,605712881249184\n",
      "over sampled training:\n",
      "Accuracy: (0,7363064076493748,) | Precision:0,7345659129463806 | Recall:0,7400164409639597 | F1-score:0,737281103507732\n",
      "0,7363064076493748\t0,7345659129463806\t0,7400164409639597\t0,737281103507732\n",
      "test:\n",
      "Accuracy: (0,7211952340354744,) | Precision:0,4997390396659708 | Recall:0,7146589043140767 | F1-score:0,588181092204681\n",
      "0,7211952340354744\t0,4997390396659708\t0,7146589043140767\t0,588181092204681\n",
      "logistic_regression\n",
      "training:\n",
      "Accuracy: (0,6902022759291124,) | Precision:0,4641366085732317 | Recall:0,7123856714416109 | F1-score:0,5620705619529831\n",
      "0,6902022759291124\t0,4641366085732317\t0,7123856714416109\t0,5620705619529831\n",
      "over sampled training:\n",
      "Accuracy: (0,6959683583553268,) | Precision:0,6904997231159619 | Recall:0,7103217525490705 | F1-score:0,7002704941049346\n",
      "0,6959683583553268\t0,6904997231159619\t0,7103217525490705\t0,7002704941049346\n",
      "test:\n",
      "Accuracy: (0,6918966126718097,) | Precision:0,4656266653747396 | Recall:0,7173458725182863 | F1-score:0,5647051911043215\n",
      "0,6918966126718097\t0,4656266653747396\t0,7173458725182863\t0,5647051911043215\n",
      "mlp\n",
      "training:\n",
      "Accuracy: (0,7221682149708101,) | Precision:0,5014503307239517 | Recall:0,7696477469590001 | F1-score:0,6072546627669424\n",
      "0,7221682149708101\t0,5014503307239517\t0,7696477469590001\t0,6072546627669424\n",
      "over sampled training:\n",
      "Accuracy: (0,7372907022022238,) | Precision:0,722389673582483 | Recall:0,770792771744617 | F1-score:0,7458067036923335\n",
      "0,7372907022022238\t0,722389673582483\t0,770792771744617\t0,7458067036923335\n",
      "test:\n",
      "Accuracy: (0,7167453369653366,) | Precision:0,4945652173913043 | Recall:0,7607105538140021 | F1-score:0,5994236311239193\n",
      "0,7167453369653366\t0,4945652173913043\t0,7607105538140021\t0,5994236311239193\n"
     ]
    },
    {
     "name": "stderr",
     "output_type": "stream",
     "text": [
      "c:\\Users\\Public\\Anaconda\\lib\\site-packages\\sklearn\\neural_network\\_multilayer_perceptron.py:692: ConvergenceWarning: Stochastic Optimizer: Maximum iterations (15) reached and the optimization hasn't converged yet.\n",
      "  warnings.warn(\n"
     ]
    },
    {
     "name": "stdout",
     "output_type": "stream",
     "text": [
      "ensemble\n",
      "training:\n",
      "Accuracy: (0,8523141385208021,) | Precision:0,6838536968603602 | Recall:0,875584449453272 | F1-score:0,7679325583864987\n",
      "0,8523141385208021\t0,6838536968603602\t0,875584449453272\t0,7679325583864987\n",
      "over sampled training:\n",
      "Accuracy: (0,8689626328617372,) | Precision:0,8509540859020261 | Recall:0,8946191897777586 | F1-score:0,8722405017013977\n",
      "0,8689626328617372\t0,8509540859020261\t0,8946191897777586\t0,8722405017013977\n",
      "test:\n",
      "Accuracy: (0,7337963444303508,) | Precision:0,5167849498704518 | Recall:0,6848037020450813 | F1-score:0,5890472521828454\n",
      "0,7337963444303508\t0,5167849498704518\t0,6848037020450813\t0,5890472521828454\n",
      "sgd\n",
      "training:\n",
      "Accuracy: (0,6776789473957819,) | Precision:0,4515170235333885 | Recall:0,7215878397257978 | F1-score:0,5554647394533827\n",
      "0,6776789473957819\t0,4515170235333885\t0,7215878397257978\t0,5554647394533827\n",
      "over sampled training:\n",
      "Accuracy: (0,690599806746564,) | Precision:0,6798388852601785 | Recall:0,7205180345837119 | F1-score:0,6995876129863402\n",
      "0,690599806746564\t0,6798388852601785\t0,7205180345837119\t0,6995876129863402\n",
      "test:\n",
      "Accuracy: (0,6787548605768231,) | Precision:0,4525033578805984 | Recall:0,729213315420212 | F1-score:0,5584612306724971\n",
      "0,6787548605768231\t0,4525033578805984\t0,729213315420212\t0,5584612306724971\n"
     ]
    },
    {
     "name": "stderr",
     "output_type": "stream",
     "text": [
      "c:\\Users\\Public\\Anaconda\\lib\\site-packages\\sklearn\\svm\\_base.py:1206: ConvergenceWarning: Liblinear failed to converge, increase the number of iterations.\n",
      "  warnings.warn(\n"
     ]
    },
    {
     "name": "stdout",
     "output_type": "stream",
     "text": [
      "svc\n",
      "training:\n",
      "Accuracy: (0,6855547642193583,) | Precision:0,45930232558139533 | Recall:0,7151984799657247 | F1-score:0,5593735203059552\n",
      "0,6855547642193583\t0,45930232558139533\t0,7151984799657247\t0,5593735203059552\n",
      "over sampled training:\n",
      "Accuracy: (0,6937942572001327,) | Precision:0,6864429120475074 | Recall:0,7135089920535341 | F1-score:0,6997143099595509\n",
      "0,6937942572001327\t0,6864429120475074\t0,7135089920535341\t0,6997143099595509\n",
      "test:\n",
      "Accuracy: (0,6861574930860244,) | Precision:0,459548470240084 | Recall:0,7186147186147186 | F1-score:0,5605985618213049\n",
      "0,6861574930860244\t0,459548470240084\t0,7186147186147186\t0,5605985618213049\n",
      "nb\n",
      "training:\n",
      "Accuracy: (0,630346068069931,) | Precision:0,4001856052794391 | Recall:0,6506529068792728 | F1-score:0,4955698222963147\n",
      "0,630346068069931\t0,4001856052794391\t0,6506529068792728\t0,4955698222963147\n",
      "over sampled training:\n",
      "Accuracy: (0,6359444180042977,) | Precision:0,6323809256307448 | Recall:0,6494036545090065 | F1-score:0,6407792549690666\n",
      "0,6359444180042977\t0,6323809256307448\t0,6494036545090065\t0,6407792549690666\n",
      "test:\n",
      "Accuracy: (0,634359859433158,) | Precision:0,4048722843377875 | Recall:0,6648753545305269 | F1-score:0,5032768361581921\n",
      "0,634359859433158\t0,4048722843377875\t0,6648753545305269\t0,5032768361581921\n",
      "knn\n",
      "training:\n",
      "over sampled training:\n",
      "test:\n"
     ]
    },
    {
     "name": "stderr",
     "output_type": "stream",
     "text": [
      "c:\\Users\\Public\\Anaconda\\lib\\site-packages\\sklearn\\neighbors\\_classification.py:228: FutureWarning: Unlike other reduction functions (e.g. `skew`, `kurtosis`), the default behavior of `mode` typically preserves the axis it acts along. In SciPy 1.11.0, this behavior will change: the default value of `keepdims` will become False, the `axis` over which the statistic is taken will be eliminated, and the value None will no longer be accepted. Set `keepdims` to True or False to avoid this warning.\n",
      "  mode, _ = stats.mode(_y[neigh_ind, k], axis=1)\n"
     ]
    },
    {
     "name": "stdout",
     "output_type": "stream",
     "text": [
      "Accuracy: (0,6890686407020025,) | Precision:0,45760863638841937 | Recall:0,6264367816091954 | F1-score:0,5288761460663537\n",
      "0,6890686407020025\t0,45760863638841937\t0,6264367816091954\t0,5288761460663537\n"
     ]
    }
   ],
   "source": [
    "data = pd.read_csv('data.csv', delimiter=';')\n",
    "\n",
    "print(data.shape[0])\n",
    "data = data.dropna(subset=['Vai Chover Amanha'])#Removendo linhas com valores faltantes na coluna de outliers\n",
    "\n",
    "data.reset_index(drop=True, inplace=True)\n",
    "print(data.shape[0])\n",
    "\n",
    "X = data.drop('Vai Chover Amanha', axis=1)\n",
    "y = data['Vai Chover Amanha']\n",
    "\n",
    "raw_X_train, X_test, raw_y_train, y_test = train_test_split(X, y, test_size=0.2, random_state=60) #Holdout 20%/80%\n",
    "\n",
    "#selector = SelectKBest(k=20) #Seleção de features com o SelectKBest\n",
    "#rf = RandomForestClassifier(class_weight='balanced', max_depth=20, n_estimators=100, random_state=42)\n",
    "#selector = SelectFromModel(rf) #Seleção de features com o SelectFromModel\n",
    "\n",
    "pipeline = Pipeline(steps=[\n",
    "    ('manual',ManualFeatureSelectorTransformer()),#Remoção de colunas de código e cidades\n",
    "    ('imputer',ImputerTransformer()),#Lidando com valores faltantes restantes\n",
    "    ('date', DateTransformer()),#Separa coluna de data em dia, mês e ano\n",
    "    ('scaler', RobustScalerTransformer()),#Normalização dos dados\n",
    "    #('scaler', SimpleRobustScalerTransformer()),#Normalização dos dados\n",
    "    #('PCA', PCA(n_components=21)),\n",
    "    #('selector', selector),\n",
    "    ])\n",
    "\n",
    "#X_train = pipeline.fit_transform(handleOutliersSimpleZIndex(raw_X_train.copy(),3), raw_y_train.copy()) # Abordagem simples para lidar com outliers\n",
    "#X_train = pipeline.fit_transform(handleOutliersZIndex(raw_X_train.copy(),3), raw_y_train.copy()) # Abordagem complexa para lidar com outliers\n",
    "X_train = pipeline.fit_transform(raw_X_train.copy(), raw_y_train.copy())\n",
    "y_train = raw_y_train.copy()\n",
    "\n",
    "X_test = pipeline.transform(X_test.copy())\n",
    "\n",
    "# Abordagens para lidar com dados desbalanceados\n",
    "os = RandomOverSampler(random_state=42)\n",
    "#os = SMOTE(random_state=42, k_neighbors=5)\n",
    "#os = BorderlineSMOTE(random_state=42, k_neighbors=10)\n",
    "X_train, y_train = os.fit_resample(X_train.copy(), y_train.copy())\n",
    "\n",
    "scikit_model = get_lda(X_train.copy(), y_train.copy())\n",
    "print(\"lda\")\n",
    "print(\"training:\")\n",
    "plot_result_scikit(scikit_model, pipeline.transform(raw_X_train.copy()), raw_y_train.copy()) \n",
    "print(\"over sampled training:\")\n",
    "plot_result_scikit(scikit_model, X_train.copy(), y_train.copy()) \n",
    "print(\"test:\")\n",
    "plot_result_scikit(scikit_model, X_test.copy(),y_test.copy())\n",
    "\n",
    "scikit_model = get_bagging(X_train.copy(), y_train.copy())\n",
    "print(\"bagging\")\n",
    "print(\"training:\")\n",
    "plot_result_scikit(scikit_model, pipeline.transform(raw_X_train.copy()), raw_y_train.copy()) \n",
    "print(\"over sampled training:\")\n",
    "plot_result_scikit(scikit_model, X_train.copy(), y_train.copy()) \n",
    "print(\"test:\")\n",
    "plot_result_scikit(scikit_model, X_test.copy(),y_test.copy())\n",
    "\n",
    "scikit_model = get_rf(X_train.copy(), y_train.copy())\n",
    "print(\"rf\")\n",
    "print(\"training:\")\n",
    "plot_result_scikit(scikit_model, pipeline.transform(raw_X_train.copy()), raw_y_train.copy()) \n",
    "print(\"over sampled training:\")\n",
    "plot_result_scikit(scikit_model, X_train.copy(), y_train.copy()) \n",
    "print(\"test:\")\n",
    "plot_result_scikit(scikit_model, X_test.copy(),y_test.copy())\n",
    "\n",
    "scikit_model = get_ada(X_train, y_train)\n",
    "print(\"ada\")\n",
    "print(\"training:\")\n",
    "plot_result_scikit(scikit_model, pipeline.transform(raw_X_train.copy()), raw_y_train.copy()) \n",
    "print(\"over sampled training:\")\n",
    "plot_result_scikit(scikit_model, X_train.copy(), y_train.copy()) \n",
    "print(\"test:\")\n",
    "plot_result_scikit(scikit_model, X_test.copy(),y_test.copy())\n",
    "\n",
    "scikit_model = get_logistic_regression(X_train, y_train)\n",
    "print(\"logistic_regression\")\n",
    "print(\"training:\")\n",
    "plot_result_scikit(scikit_model, pipeline.transform(raw_X_train.copy()), raw_y_train.copy()) \n",
    "print(\"over sampled training:\")\n",
    "plot_result_scikit(scikit_model, X_train.copy(), y_train.copy()) \n",
    "print(\"test:\")\n",
    "plot_result_scikit(scikit_model, X_test.copy(),y_test.copy())\n",
    "\n",
    "scikit_model = get_mlp(X_train, y_train)\n",
    "print(\"mlp\")\n",
    "print(\"training:\")\n",
    "plot_result_scikit(scikit_model, pipeline.transform(raw_X_train.copy()), raw_y_train.copy()) \n",
    "print(\"over sampled training:\")\n",
    "plot_result_scikit(scikit_model, X_train.copy(), y_train.copy()) \n",
    "print(\"test:\")\n",
    "plot_result_scikit(scikit_model, X_test.copy(),y_test.copy())\n",
    "\n",
    "scikit_model = get_ensemble(X_train, y_train)\n",
    "print(\"ensemble\")\n",
    "print(\"training:\")\n",
    "plot_result_scikit(scikit_model, pipeline.transform(raw_X_train.copy()), raw_y_train.copy()) \n",
    "print(\"over sampled training:\")\n",
    "plot_result_scikit(scikit_model, X_train.copy(), y_train.copy()) \n",
    "print(\"test:\")\n",
    "plot_result_scikit(scikit_model, X_test.copy(),y_test.copy())\n",
    "\n",
    "scikit_model = get_sgd(X_train, y_train)\n",
    "print(\"sgd\")\n",
    "print(\"training:\")\n",
    "plot_result_scikit(scikit_model, pipeline.transform(raw_X_train.copy()), raw_y_train.copy()) \n",
    "print(\"over sampled training:\")\n",
    "plot_result_scikit(scikit_model, X_train.copy(), y_train.copy()) \n",
    "print(\"test:\")\n",
    "plot_result_scikit(scikit_model, X_test.copy(),y_test.copy())\n",
    "\n",
    "scikit_model = get_linear_svc(X_train, y_train)\n",
    "print(\"svc\")\n",
    "print(\"training:\")\n",
    "plot_result_scikit(scikit_model, pipeline.transform(raw_X_train.copy()), raw_y_train.copy()) \n",
    "print(\"over sampled training:\")\n",
    "plot_result_scikit(scikit_model, X_train.copy(), y_train.copy()) \n",
    "print(\"test:\")\n",
    "plot_result_scikit(scikit_model, X_test.copy(),y_test.copy())\n",
    "\n",
    "scikit_model = get_nb(X_train, y_train)\n",
    "print(\"nb\")\n",
    "print(\"training:\")\n",
    "plot_result_scikit(scikit_model, pipeline.transform(raw_X_train.copy()), raw_y_train.copy()) \n",
    "print(\"over sampled training:\")\n",
    "plot_result_scikit(scikit_model, X_train.copy(), y_train.copy()) \n",
    "print(\"test:\")\n",
    "plot_result_scikit(scikit_model, X_test.copy(),y_test.copy())\n",
    "\n",
    "scikit_model = get_knn(X_train, y_train)\n",
    "print(\"knn\")\n",
    "print(\"training:\")\n",
    "plot_result_scikit(scikit_model, pipeline.transform(raw_X_train.copy()), raw_y_train.copy()) \n",
    "print(\"over sampled training:\")\n",
    "plot_result_scikit(scikit_model, X_train.copy(), y_train.copy()) \n",
    "print(\"test:\")\n",
    "plot_result_scikit(scikit_model, X_test.copy(),y_test.copy())"
   ]
  },
  {
   "cell_type": "code",
   "execution_count": 29,
   "metadata": {},
   "outputs": [
    {
     "name": "stdout",
     "output_type": "stream",
     "text": [
      "256311\n",
      "240452\n"
     ]
    },
    {
     "name": "stderr",
     "output_type": "stream",
     "text": [
      "[I 2024-08-04 21:15:22,796] A new study created in memory with name: no-name-24a8f0ef-50d6-4f4d-8e73-b4631958ffa2\n",
      "[I 2024-08-04 21:18:53,921] Trial 0 finished with value: 0.55181403432544 and parameters: {'n_layers': 3, 'n_units_0': 1, 'n_units_1': 27, 'n_units_2': 27, 'activation': 'identity', 'solver': 'sgd', 'alpha': 6.239626604263786e-05, 'learning_rate_init': 0.01548195480996856, 'max_iter': 38}. Best is trial 0 with value: 0.55181403432544.\n"
     ]
    },
    {
     "name": "stdout",
     "output_type": "stream",
     "text": [
      "Accuracy: 0,6770001565680288 | Precision:0,450168370059668 | Recall:0,7127490412496492 | F1-score:0,55181403432544\n"
     ]
    },
    {
     "name": "stderr",
     "output_type": "stream",
     "text": [
      "[I 2024-08-04 21:25:00,363] Trial 1 finished with value: 0.5550608926009052 and parameters: {'n_layers': 4, 'n_units_0': 16, 'n_units_1': 21, 'n_units_2': 15, 'n_units_3': 24, 'activation': 'identity', 'solver': 'adam', 'alpha': 0.00017896486404367487, 'learning_rate_init': 0.000714533998322623, 'max_iter': 37}. Best is trial 1 with value: 0.5550608926009052.\n"
     ]
    },
    {
     "name": "stdout",
     "output_type": "stream",
     "text": [
      "Accuracy: 0,6844371379364333 | Precision:0,45748423095584667 | Recall:0,7055467215414835 | F1-score:0,5550608926009052\n"
     ]
    },
    {
     "name": "stderr",
     "output_type": "stream",
     "text": [
      "[I 2024-08-04 21:36:46,739] Trial 2 finished with value: 0.5539649582923543 and parameters: {'n_layers': 4, 'n_units_0': 14, 'n_units_1': 25, 'n_units_2': 3, 'n_units_3': 23, 'activation': 'identity', 'solver': 'sgd', 'alpha': 0.07404579505629022, 'learning_rate_init': 0.0020889336987528887, 'max_iter': 33}. Best is trial 1 with value: 0.5550608926009052.\n"
     ]
    },
    {
     "name": "stdout",
     "output_type": "stream",
     "text": [
      "Accuracy: 0,6804707478732843 | Precision:0,45364514974346737 | Recall:0,7112524553362641 | F1-score:0,5539649582923543\n"
     ]
    },
    {
     "name": "stderr",
     "output_type": "stream",
     "text": [
      "[I 2024-08-04 21:37:35,316] Trial 3 finished with value: 0.5730244912308113 and parameters: {'n_layers': 1, 'n_units_0': 29, 'activation': 'logistic', 'solver': 'adam', 'alpha': 0.05145535227302912, 'learning_rate_init': 0.01806591975764368, 'max_iter': 37}. Best is trial 3 with value: 0.5730244912308113.\n"
     ]
    },
    {
     "name": "stdout",
     "output_type": "stream",
     "text": [
      "Accuracy: 0,7147591461823496 | Precision:0,4919517102615694 | Recall:0,6860911046674774 | F1-score:0,5730244912308113\n"
     ]
    },
    {
     "name": "stderr",
     "output_type": "stream",
     "text": [
      "[I 2024-08-04 21:40:34,619] Trial 4 finished with value: 0.5489251432534034 and parameters: {'n_layers': 4, 'n_units_0': 27, 'n_units_1': 15, 'n_units_2': 22, 'n_units_3': 5, 'activation': 'identity', 'solver': 'sgd', 'alpha': 6.177177409134978e-05, 'learning_rate_init': 0.0004217183965399104, 'max_iter': 39}. Best is trial 3 with value: 0.5730244912308113.\n"
     ]
    },
    {
     "name": "stdout",
     "output_type": "stream",
     "text": [
      "Accuracy: 0,6774959553259224 | Precision:0,4500837921953555 | Recall:0,7033953792909924 | F1-score:0,5489251432534034\n"
     ]
    },
    {
     "name": "stderr",
     "output_type": "stream",
     "text": [
      "[I 2024-08-04 21:41:48,689] Trial 5 finished with value: 0.5536777843954734 and parameters: {'n_layers': 2, 'n_units_0': 18, 'n_units_1': 15, 'activation': 'identity', 'solver': 'adam', 'alpha': 0.00045989045347910785, 'learning_rate_init': 0.00020461068800312526, 'max_iter': 33}. Best is trial 3 with value: 0.5730244912308113.\n"
     ]
    },
    {
     "name": "stdout",
     "output_type": "stream",
     "text": [
      "Accuracy: 0,6871248890976462 | Precision:0,4598404748655166 | Recall:0,6956318398653073 | F1-score:0,5536777843954734\n"
     ]
    },
    {
     "name": "stderr",
     "output_type": "stream",
     "text": [
      "[I 2024-08-04 21:47:06,205] Trial 6 finished with value: 0.5485894594493069 and parameters: {'n_layers': 4, 'n_units_0': 26, 'n_units_1': 24, 'n_units_2': 20, 'n_units_3': 15, 'activation': 'identity', 'solver': 'adam', 'alpha': 0.0021938929951881157, 'learning_rate_init': 0.007602379248451267, 'max_iter': 35}. Best is trial 3 with value: 0.5730244912308113.\n"
     ]
    },
    {
     "name": "stdout",
     "output_type": "stream",
     "text": [
      "Accuracy: 0,686420332968008 | Precision:0,4583804143126177 | Recall:0,6830043962211205 | F1-score:0,5485894594493069\n"
     ]
    },
    {
     "name": "stderr",
     "output_type": "stream",
     "text": [
      "c:\\Users\\Public\\Anaconda\\lib\\site-packages\\sklearn\\metrics\\_classification.py:1318: UndefinedMetricWarning: Precision is ill-defined and being set to 0.0 due to no predicted samples. Use `zero_division` parameter to control this behavior.\n",
      "  _warn_prf(average, modifier, msg_start, len(result))\n",
      "[I 2024-08-04 21:48:02,773] Trial 7 finished with value: 0.0 and parameters: {'n_layers': 5, 'n_units_0': 25, 'n_units_1': 4, 'n_units_2': 6, 'n_units_3': 3, 'n_units_4': 11, 'activation': 'logistic', 'solver': 'adam', 'alpha': 0.03639704109680688, 'learning_rate_init': 0.012336985004580043, 'max_iter': 39}. Best is trial 3 with value: 0.5730244912308113.\n"
     ]
    },
    {
     "name": "stdout",
     "output_type": "stream",
     "text": [
      "Accuracy: 0,7210218673346902 | Precision:0,0 | Recall:0,0 | F1-score:0,0\n"
     ]
    },
    {
     "name": "stderr",
     "output_type": "stream",
     "text": [
      "[I 2024-08-04 21:49:22,762] Trial 8 finished with value: 0.5543727064636849 and parameters: {'n_layers': 2, 'n_units_0': 28, 'n_units_1': 10, 'activation': 'identity', 'solver': 'adam', 'alpha': 4.051650452279873e-05, 'learning_rate_init': 0.001867969943144337, 'max_iter': 33}. Best is trial 3 with value: 0.5730244912308113.\n"
     ]
    },
    {
     "name": "stdout",
     "output_type": "stream",
     "text": [
      "Accuracy: 0,6799488544439225 | Precision:0,4532438212927757 | Recall:0,7135908708259283 | F1-score:0,5543727064636849\n"
     ]
    },
    {
     "name": "stderr",
     "output_type": "stream",
     "text": [
      "c:\\Users\\Public\\Anaconda\\lib\\site-packages\\sklearn\\neural_network\\_multilayer_perceptron.py:692: ConvergenceWarning: Stochastic Optimizer: Maximum iterations (310) reached and the optimization hasn't converged yet.\n",
      "  warnings.warn(\n",
      "[I 2024-08-04 22:28:32,169] Trial 9 finished with value: 0.5992311219271329 and parameters: {'n_layers': 5, 'n_units_0': 10, 'n_units_1': 7, 'n_units_2': 27, 'n_units_3': 16, 'n_units_4': 28, 'activation': 'logistic', 'solver': 'adam', 'alpha': 0.0003629543804893746, 'learning_rate_init': 0.00044484921922101567, 'max_iter': 31}. Best is trial 9 with value: 0.5992311219271329.\n"
     ]
    },
    {
     "name": "stdout",
     "output_type": "stream",
     "text": [
      "Accuracy: 0,7034862481081363 | Precision:0,48097610689616127 | Recall:0,7945935833878963 | F1-score:0,5992311219271329\n"
     ]
    },
    {
     "name": "stderr",
     "output_type": "stream",
     "text": [
      "[I 2024-08-04 22:46:00,483] Trial 10 finished with value: 0.5533812419384558 and parameters: {'n_layers': 5, 'n_units_0': 5, 'n_units_1': 4, 'n_units_2': 28, 'n_units_3': 14, 'n_units_4': 30, 'activation': 'tanh', 'solver': 'sgd', 'alpha': 0.0042461138815354195, 'learning_rate_init': 1.9782422145583008e-05, 'max_iter': 30}. Best is trial 9 with value: 0.5992311219271329.\n"
     ]
    },
    {
     "name": "stdout",
     "output_type": "stream",
     "text": [
      "Accuracy: 0,6837586764782632 | Precision:0,45657990756506933 | Recall:0,7022729398559536 | F1-score:0,5533812419384558\n"
     ]
    },
    {
     "name": "stderr",
     "output_type": "stream",
     "text": [
      "[I 2024-08-04 22:46:16,081] Trial 11 finished with value: 0.5756727053568264 and parameters: {'n_layers': 1, 'n_units_0': 9, 'activation': 'logistic', 'solver': 'adam', 'alpha': 0.009016617294184317, 'learning_rate_init': 0.04965978416877037, 'max_iter': 30}. Best is trial 9 with value: 0.5992311219271329.\n"
     ]
    },
    {
     "name": "stdout",
     "output_type": "stream",
     "text": [
      "Accuracy: 0,687672877198476 | Precision:0,4635190682804293 | Recall:0,7594238144233467 | F1-score:0,5756727053568264\n"
     ]
    },
    {
     "name": "stderr",
     "output_type": "stream",
     "text": [
      "[I 2024-08-04 22:46:46,253] Trial 12 finished with value: 0.5694283201407212 and parameters: {'n_layers': 1, 'n_units_0': 9, 'activation': 'logistic', 'solver': 'adam', 'alpha': 0.005260644785464895, 'learning_rate_init': 0.07001893634980275, 'max_iter': 30}. Best is trial 9 with value: 0.5992311219271329.\n"
     ]
    },
    {
     "name": "stdout",
     "output_type": "stream",
     "text": [
      "Accuracy: 0,6806273159020928 | Precision:0,45635502424720875 | Recall:0,756991862314096 | F1-score:0,5694283201407212\n"
     ]
    },
    {
     "name": "stderr",
     "output_type": "stream",
     "text": [
      "c:\\Users\\Public\\Anaconda\\lib\\site-packages\\sklearn\\neural_network\\_multilayer_perceptron.py:692: ConvergenceWarning: Stochastic Optimizer: Maximum iterations (310) reached and the optimization hasn't converged yet.\n",
      "  warnings.warn(\n",
      "[I 2024-08-04 22:54:47,356] Trial 13 finished with value: 0.5953590657465686 and parameters: {'n_layers': 2, 'n_units_0': 11, 'n_units_1': 10, 'activation': 'relu', 'solver': 'adam', 'alpha': 0.012366264369741909, 'learning_rate_init': 4.85405338228305e-05, 'max_iter': 31}. Best is trial 9 with value: 0.5992311219271329.\n"
     ]
    },
    {
     "name": "stdout",
     "output_type": "stream",
     "text": [
      "Accuracy: 0,7215176660925839 | Precision:0,5006057514506154 | Recall:0,7343560003741465 | F1-score:0,5953590657465686\n"
     ]
    },
    {
     "name": "stderr",
     "output_type": "stream",
     "text": [
      "c:\\Users\\Public\\Anaconda\\lib\\site-packages\\sklearn\\neural_network\\_multilayer_perceptron.py:692: ConvergenceWarning: Stochastic Optimizer: Maximum iterations (320) reached and the optimization hasn't converged yet.\n",
      "  warnings.warn(\n",
      "[I 2024-08-04 23:01:57,300] Trial 14 finished with value: 0.5889160040935212 and parameters: {'n_layers': 2, 'n_units_0': 11, 'n_units_1': 9, 'activation': 'relu', 'solver': 'adam', 'alpha': 0.000738853397882023, 'learning_rate_init': 6.715957994697982e-05, 'max_iter': 32}. Best is trial 9 with value: 0.5992311219271329.\n"
     ]
    },
    {
     "name": "stdout",
     "output_type": "stream",
     "text": [
      "Accuracy: 0,7274672511873076 | Precision:0,508392796466191 | Recall:0,6997474511271162 | F1-score:0,5889160040935212\n"
     ]
    },
    {
     "name": "stderr",
     "output_type": "stream",
     "text": [
      "c:\\Users\\Public\\Anaconda\\lib\\site-packages\\sklearn\\neural_network\\_multilayer_perceptron.py:692: ConvergenceWarning: Stochastic Optimizer: Maximum iterations (320) reached and the optimization hasn't converged yet.\n",
      "  warnings.warn(\n",
      "[I 2024-08-04 23:14:31,543] Trial 15 finished with value: 0.5848675522411249 and parameters: {'n_layers': 3, 'n_units_0': 20, 'n_units_1': 9, 'n_units_2': 12, 'activation': 'relu', 'solver': 'adam', 'alpha': 1.2230720566353867e-05, 'learning_rate_init': 1.1107925076906635e-05, 'max_iter': 32}. Best is trial 9 with value: 0.5992311219271329.\n"
     ]
    },
    {
     "name": "stdout",
     "output_type": "stream",
     "text": [
      "Accuracy: 0,7211001513490946 | Precision:0,5000996346728661 | Recall:0,7042372088672716 | F1-score:0,5848675522411249\n"
     ]
    },
    {
     "name": "stderr",
     "output_type": "stream",
     "text": [
      "[I 2024-08-04 23:17:44,456] Trial 16 finished with value: 0.5956018006051214 and parameters: {'n_layers': 2, 'n_units_0': 4, 'n_units_1': 1, 'activation': 'relu', 'solver': 'adam', 'alpha': 0.014737538877035678, 'learning_rate_init': 7.053716616530048e-05, 'max_iter': 31}. Best is trial 9 with value: 0.5992311219271329.\n"
     ]
    },
    {
     "name": "stdout",
     "output_type": "stream",
     "text": [
      "Accuracy: 0,714002400709775 | Precision:0,4918042776186704 | Recall:0,7549340566831915 | F1-score:0,5956018006051214\n"
     ]
    },
    {
     "name": "stderr",
     "output_type": "stream",
     "text": [
      "[I 2024-08-04 23:27:53,006] Trial 17 finished with value: 0.6074290421628099 and parameters: {'n_layers': 3, 'n_units_0': 4, 'n_units_1': 2, 'n_units_2': 30, 'activation': 'tanh', 'solver': 'adam', 'alpha': 0.00026300311127326896, 'learning_rate_init': 0.00015373773782206807, 'max_iter': 35}. Best is trial 17 with value: 0.6074290421628099.\n"
     ]
    },
    {
     "name": "stdout",
     "output_type": "stream",
     "text": [
      "Accuracy: 0,7264234643285841 | Precision:0,5064626912269747 | Recall:0,7586755214666542 | F1-score:0,6074290421628099\n"
     ]
    },
    {
     "name": "stderr",
     "output_type": "stream",
     "text": [
      "c:\\Users\\Public\\Anaconda\\lib\\site-packages\\sklearn\\neural_network\\_multilayer_perceptron.py:692: ConvergenceWarning: Stochastic Optimizer: Maximum iterations (350) reached and the optimization hasn't converged yet.\n",
      "  warnings.warn(\n",
      "[I 2024-08-05 00:13:28,104] Trial 18 finished with value: 0.5960992515577186 and parameters: {'n_layers': 5, 'n_units_0': 5, 'n_units_1': 1, 'n_units_2': 29, 'n_units_3': 30, 'n_units_4': 30, 'activation': 'tanh', 'solver': 'sgd', 'alpha': 0.00036682609830777983, 'learning_rate_init': 0.0001861300116019933, 'max_iter': 35}. Best is trial 17 with value: 0.6074290421628099.\n"
     ]
    },
    {
     "name": "stdout",
     "output_type": "stream",
     "text": [
      "Accuracy: 0,7141328740671155 | Precision:0,49196689386562803 | Recall:0,7561500327378169 | F1-score:0,5960992515577186\n"
     ]
    },
    {
     "name": "stderr",
     "output_type": "stream",
     "text": [
      "[I 2024-08-05 00:18:29,114] Trial 19 finished with value: 0.5908844079209354 and parameters: {'n_layers': 3, 'n_units_0': 2, 'n_units_1': 6, 'n_units_2': 23, 'activation': 'tanh', 'solver': 'adam', 'alpha': 0.0016472097782466737, 'learning_rate_init': 0.002789613411732404, 'max_iter': 36}. Best is trial 17 with value: 0.6074290421628099.\n"
     ]
    },
    {
     "name": "stdout",
     "output_type": "stream",
     "text": [
      "Accuracy: 0,7051041177391577 | Precision:0,4819867706118592 | Recall:0,7633523524459827 | F1-score:0,5908844079209354\n"
     ]
    },
    {
     "name": "stderr",
     "output_type": "stream",
     "text": [
      "c:\\Users\\Public\\Anaconda\\lib\\site-packages\\sklearn\\neural_network\\_multilayer_perceptron.py:692: ConvergenceWarning: Stochastic Optimizer: Maximum iterations (400) reached and the optimization hasn't converged yet.\n",
      "  warnings.warn(\n",
      "[I 2024-08-05 00:52:43,336] Trial 20 finished with value: 0.4896741410656846 and parameters: {'n_layers': 3, 'n_units_0': 7, 'n_units_1': 18, 'n_units_2': 30, 'activation': 'tanh', 'solver': 'adam', 'alpha': 0.00016060064430225654, 'learning_rate_init': 0.000230397341349013, 'max_iter': 40}. Best is trial 17 with value: 0.6074290421628099.\n"
     ]
    },
    {
     "name": "stdout",
     "output_type": "stream",
     "text": [
      "Accuracy: 0,7143416314388602 | Precision:0,48810408921933085 | Recall:0,4912543260686559 | F1-score:0,4896741410656846\n"
     ]
    },
    {
     "name": "stderr",
     "output_type": "stream",
     "text": [
      "[I 2024-08-05 01:36:00,336] Trial 21 finished with value: 0.5871278458844132 and parameters: {'n_layers': 5, 'n_units_0': 4, 'n_units_1': 1, 'n_units_2': 30, 'n_units_3': 29, 'n_units_4': 30, 'activation': 'tanh', 'solver': 'sgd', 'alpha': 0.0002946084959355897, 'learning_rate_init': 0.00016302627916472439, 'max_iter': 35}. Best is trial 17 with value: 0.6074290421628099.\n"
     ]
    },
    {
     "name": "stdout",
     "output_type": "stream",
     "text": [
      "Accuracy: 0,7047126976671364 | Precision:0,4813064545073877 | Recall:0,7525956411935273 | F1-score:0,5871278458844132\n"
     ]
    },
    {
     "name": "stderr",
     "output_type": "stream",
     "text": [
      "c:\\Users\\Public\\Anaconda\\lib\\site-packages\\sklearn\\neural_network\\_multilayer_perceptron.py:692: ConvergenceWarning: Stochastic Optimizer: Maximum iterations (340) reached and the optimization hasn't converged yet.\n",
      "  warnings.warn(\n",
      "[I 2024-08-05 01:59:15,781] Trial 22 finished with value: 0.6012723324825722 and parameters: {'n_layers': 5, 'n_units_0': 7, 'n_units_1': 4, 'n_units_2': 24, 'n_units_3': 10, 'n_units_4': 23, 'activation': 'tanh', 'solver': 'sgd', 'alpha': 0.0011489033663903963, 'learning_rate_init': 0.0005724244971436988, 'max_iter': 34}. Best is trial 17 with value: 0.6074290421628099.\n"
     ]
    },
    {
     "name": "stdout",
     "output_type": "stream",
     "text": [
      "Accuracy: 0,7268670737435415 | Precision:0,5071979434447301 | Recall:0,7381910017771958 | F1-score:0,6012723324825722\n"
     ]
    },
    {
     "name": "stderr",
     "output_type": "stream",
     "text": [
      "c:\\Users\\Public\\Anaconda\\lib\\site-packages\\sklearn\\neural_network\\_multilayer_perceptron.py:692: ConvergenceWarning: Stochastic Optimizer: Maximum iterations (340) reached and the optimization hasn't converged yet.\n",
      "  warnings.warn(\n",
      "[I 2024-08-05 02:18:35,263] Trial 23 finished with value: 0.6026686999618758 and parameters: {'n_layers': 4, 'n_units_0': 13, 'n_units_1': 6, 'n_units_2': 24, 'n_units_3': 10, 'activation': 'tanh', 'solver': 'sgd', 'alpha': 0.001246300304553496, 'learning_rate_init': 0.0007564471157424167, 'max_iter': 34}. Best is trial 17 with value: 0.6074290421628099.\n"
     ]
    },
    {
     "name": "stdout",
     "output_type": "stream",
     "text": [
      "Accuracy: 0,7280413339596055 | Precision:0,5086556406461162 | Recall:0,7393134412122346 | F1-score:0,6026686999618758\n"
     ]
    },
    {
     "name": "stderr",
     "output_type": "stream",
     "text": [
      "c:\\Users\\Public\\Anaconda\\lib\\site-packages\\sklearn\\neural_network\\_multilayer_perceptron.py:692: ConvergenceWarning: Stochastic Optimizer: Maximum iterations (340) reached and the optimization hasn't converged yet.\n",
      "  warnings.warn(\n",
      "[I 2024-08-05 02:36:36,976] Trial 24 finished with value: 0.5925517849272808 and parameters: {'n_layers': 4, 'n_units_0': 13, 'n_units_1': 4, 'n_units_2': 24, 'n_units_3': 9, 'activation': 'tanh', 'solver': 'sgd', 'alpha': 0.0014038658321438402, 'learning_rate_init': 0.0009325596049495052, 'max_iter': 34}. Best is trial 17 with value: 0.6074290421628099.\n"
     ]
    },
    {
     "name": "stdout",
     "output_type": "stream",
     "text": [
      "Accuracy: 0,7105057147330515 | Precision:0,4878152022736893 | Recall:0,7545599102048453 | F1-score:0,5925517849272808\n"
     ]
    },
    {
     "name": "stderr",
     "output_type": "stream",
     "text": [
      "c:\\Users\\Public\\Anaconda\\lib\\site-packages\\sklearn\\neural_network\\_multilayer_perceptron.py:692: ConvergenceWarning: Stochastic Optimizer: Maximum iterations (340) reached and the optimization hasn't converged yet.\n",
      "  warnings.warn(\n",
      "[I 2024-08-05 02:52:25,208] Trial 25 finished with value: 0.5848281159976955 and parameters: {'n_layers': 4, 'n_units_0': 7, 'n_units_1': 6, 'n_units_2': 19, 'n_units_3': 9, 'activation': 'tanh', 'solver': 'sgd', 'alpha': 0.0009785665817422223, 'learning_rate_init': 0.0013772965606382102, 'max_iter': 34}. Best is trial 17 with value: 0.6074290421628099.\n"
     ]
    },
    {
     "name": "stdout",
     "output_type": "stream",
     "text": [
      "Accuracy: 0,7179426961014561 | Precision:0,4961548488008342 | Recall:0,7120942849125432 | F1-score:0,5848281159976955\n"
     ]
    },
    {
     "name": "stderr",
     "output_type": "stream",
     "text": [
      "[I 2024-08-05 03:18:25,089] Trial 26 finished with value: 0.4999767798263131 and parameters: {'n_layers': 4, 'n_units_0': 21, 'n_units_1': 13, 'n_units_2': 25, 'n_units_3': 10, 'activation': 'tanh', 'solver': 'sgd', 'alpha': 0.0001322657055407907, 'learning_rate_init': 0.004199446661022126, 'max_iter': 36}. Best is trial 17 with value: 0.6074290421628099.\n"
     ]
    },
    {
     "name": "stdout",
     "output_type": "stream",
     "text": [
      "Accuracy: 0,7190386723031157 | Precision:0,4964951116030253 | Recall:0,5035076232344963 | F1-score:0,4999767798263131\n"
     ]
    },
    {
     "name": "stderr",
     "output_type": "stream",
     "text": [
      "c:\\Users\\Public\\Anaconda\\lib\\site-packages\\sklearn\\neural_network\\_multilayer_perceptron.py:692: ConvergenceWarning: Stochastic Optimizer: Maximum iterations (340) reached and the optimization hasn't converged yet.\n",
      "  warnings.warn(\n",
      "[I 2024-08-05 03:54:09,646] Trial 27 finished with value: 0.5914045582999963 and parameters: {'n_layers': 5, 'n_units_0': 14, 'n_units_1': 30, 'n_units_2': 18, 'n_units_3': 18, 'n_units_4': 1, 'activation': 'tanh', 'solver': 'sgd', 'alpha': 0.0031486523691949715, 'learning_rate_init': 0.00048589204440426984, 'max_iter': 34}. Best is trial 17 with value: 0.6074290421628099.\n"
     ]
    },
    {
     "name": "stdout",
     "output_type": "stream",
     "text": [
      "Accuracy: 0,7094880225457961 | Precision:0,4866513650640251 | Recall:0,7536245440089795 | F1-score:0,5914045582999963\n"
     ]
    },
    {
     "name": "stderr",
     "output_type": "stream",
     "text": [
      "[I 2024-08-05 04:03:08,759] Trial 28 finished with value: 0.5783920344776341 and parameters: {'n_layers': 3, 'n_units_0': 6, 'n_units_1': 12, 'n_units_2': 13, 'activation': 'tanh', 'solver': 'sgd', 'alpha': 0.000746309522448927, 'learning_rate_init': 0.00010458666017261119, 'max_iter': 36}. Best is trial 17 with value: 0.6074290421628099.\n"
     ]
    },
    {
     "name": "stdout",
     "output_type": "stream",
     "text": [
      "Accuracy: 0,7038776681801576 | Precision:0,47975346687211096 | Recall:0,7280890468618464 | F1-score:0,5783920344776341\n"
     ]
    },
    {
     "name": "stderr",
     "output_type": "stream",
     "text": [
      "[I 2024-08-05 04:07:52,665] Trial 29 finished with value: 0.5317327840323898 and parameters: {'n_layers': 3, 'n_units_0': 1, 'n_units_1': 3, 'n_units_2': 26, 'activation': 'tanh', 'solver': 'sgd', 'alpha': 2.593470793311586e-05, 'learning_rate_init': 2.1638224191088903e-05, 'max_iter': 37}. Best is trial 17 with value: 0.6074290421628099.\n"
     ]
    },
    {
     "name": "stdout",
     "output_type": "stream",
     "text": [
      "Accuracy: 0,6559417566932833 | Precision:0,4286041451963815 | Recall:0,7002151342250491 | F1-score:0,5317327840323898\n"
     ]
    },
    {
     "name": "stderr",
     "output_type": "stream",
     "text": [
      "c:\\Users\\Public\\Anaconda\\lib\\site-packages\\sklearn\\neural_network\\_multilayer_perceptron.py:692: ConvergenceWarning: Stochastic Optimizer: Maximum iterations (350) reached and the optimization hasn't converged yet.\n",
      "  warnings.warn(\n",
      "[I 2024-08-05 04:22:13,363] Trial 30 finished with value: 0.6056506465356156 and parameters: {'n_layers': 4, 'n_units_0': 2, 'n_units_1': 7, 'n_units_2': 21, 'n_units_3': 6, 'activation': 'tanh', 'solver': 'sgd', 'alpha': 9.768940200509225e-05, 'learning_rate_init': 0.0007312023492438447, 'max_iter': 35}. Best is trial 17 with value: 0.6074290421628099.\n"
     ]
    },
    {
     "name": "stdout",
     "output_type": "stream",
     "text": [
      "Accuracy: 0,7246490266687542 | Precision:0,5043256363975851 | Recall:0,7579272285099616 | F1-score:0,6056506465356156\n"
     ]
    },
    {
     "name": "stderr",
     "output_type": "stream",
     "text": [
      "c:\\Users\\Public\\Anaconda\\lib\\site-packages\\sklearn\\neural_network\\_multilayer_perceptron.py:692: ConvergenceWarning: Stochastic Optimizer: Maximum iterations (350) reached and the optimization hasn't converged yet.\n",
      "  warnings.warn(\n",
      "[I 2024-08-05 04:35:27,192] Trial 31 finished with value: 0.5984658398451503 and parameters: {'n_layers': 4, 'n_units_0': 2, 'n_units_1': 6, 'n_units_2': 21, 'n_units_3': 5, 'activation': 'tanh', 'solver': 'sgd', 'alpha': 9.743464048684794e-05, 'learning_rate_init': 0.0007788869830227008, 'max_iter': 35}. Best is trial 17 with value: 0.6074290421628099.\n"
     ]
    },
    {
     "name": "stdout",
     "output_type": "stream",
     "text": [
      "Accuracy: 0,7076874902144982 | Precision:0,4851513918753996 | Recall:0,7808437003086709 | F1-score:0,5984658398451503\n"
     ]
    },
    {
     "name": "stderr",
     "output_type": "stream",
     "text": [
      "[I 2024-08-05 04:45:24,173] Trial 32 finished with value: 0.5966983792727409 and parameters: {'n_layers': 3, 'n_units_0': 3, 'n_units_1': 8, 'n_units_2': 17, 'activation': 'tanh', 'solver': 'sgd', 'alpha': 0.0002353434958930407, 'learning_rate_init': 0.00030407177037692355, 'max_iter': 34}. Best is trial 17 with value: 0.6074290421628099.\n"
     ]
    },
    {
     "name": "stdout",
     "output_type": "stream",
     "text": [
      "Accuracy: 0,7201346485047754 | Precision:0,4989309520814992 | Recall:0,7421195397998316 | F1-score:0,5966983792727409\n"
     ]
    },
    {
     "name": "stderr",
     "output_type": "stream",
     "text": [
      "c:\\Users\\Public\\Anaconda\\lib\\site-packages\\sklearn\\neural_network\\_multilayer_perceptron.py:692: ConvergenceWarning: Stochastic Optimizer: Maximum iterations (330) reached and the optimization hasn't converged yet.\n",
      "  warnings.warn(\n",
      "[I 2024-08-05 04:56:51,416] Trial 33 finished with value: 0.599242755206058 and parameters: {'n_layers': 4, 'n_units_0': 8, 'n_units_1': 3, 'n_units_2': 24, 'n_units_3': 1, 'activation': 'tanh', 'solver': 'sgd', 'alpha': 0.0005994587111020378, 'learning_rate_init': 0.001061819819866984, 'max_iter': 33}. Best is trial 17 with value: 0.6074290421628099.\n"
     ]
    },
    {
     "name": "stdout",
     "output_type": "stream",
     "text": [
      "Accuracy: 0,7127498564793069 | Precision:0,4905525421708291 | Recall:0,7698063791974558 | F1-score:0,599242755206058\n"
     ]
    },
    {
     "name": "stderr",
     "output_type": "stream",
     "text": [
      "c:\\Users\\Public\\Anaconda\\lib\\site-packages\\sklearn\\neural_network\\_multilayer_perceptron.py:692: ConvergenceWarning: Stochastic Optimizer: Maximum iterations (360) reached and the optimization hasn't converged yet.\n",
      "  warnings.warn(\n",
      "[I 2024-08-05 05:21:38,798] Trial 34 finished with value: 0.5946754194018964 and parameters: {'n_layers': 5, 'n_units_0': 1, 'n_units_1': 5, 'n_units_2': 22, 'n_units_3': 11, 'n_units_4': 19, 'activation': 'tanh', 'solver': 'sgd', 'alpha': 6.391473515254237e-05, 'learning_rate_init': 0.002738841391102565, 'max_iter': 36}. Best is trial 17 with value: 0.6074290421628099.\n"
     ]
    },
    {
     "name": "stdout",
     "output_type": "stream",
     "text": [
      "Accuracy: 0,7099838213036898 | Precision:0,4873572837587423 | Recall:0,7626040594892901 | F1-score:0,5946754194018964\n"
     ]
    },
    {
     "name": "stderr",
     "output_type": "stream",
     "text": [
      "c:\\Users\\Public\\Anaconda\\lib\\site-packages\\sklearn\\neural_network\\_multilayer_perceptron.py:692: ConvergenceWarning: Stochastic Optimizer: Maximum iterations (370) reached and the optimization hasn't converged yet.\n",
      "  warnings.warn(\n",
      "[I 2024-08-05 05:39:32,284] Trial 35 finished with value: 0.5975254213183531 and parameters: {'n_layers': 4, 'n_units_0': 16, 'n_units_1': 2, 'n_units_2': 25, 'n_units_3': 7, 'activation': 'tanh', 'solver': 'sgd', 'alpha': 9.484003612093658e-05, 'learning_rate_init': 0.0005431956082500377, 'max_iter': 37}. Best is trial 17 with value: 0.6074290421628099.\n"
     ]
    },
    {
     "name": "stdout",
     "output_type": "stream",
     "text": [
      "Accuracy: 0,7046083189812641 | Precision:0,4819615715514769 | Recall:0,7859882143859321 | F1-score:0,5975254213183531\n"
     ]
    },
    {
     "name": "stderr",
     "output_type": "stream",
     "text": [
      "c:\\Users\\Public\\Anaconda\\lib\\site-packages\\sklearn\\neural_network\\_multilayer_perceptron.py:692: ConvergenceWarning: Stochastic Optimizer: Maximum iterations (350) reached and the optimization hasn't converged yet.\n",
      "  warnings.warn(\n",
      "[I 2024-08-05 06:01:27,883] Trial 36 finished with value: 0.5948356631563166 and parameters: {'n_layers': 4, 'n_units_0': 12, 'n_units_1': 18, 'n_units_2': 16, 'n_units_3': 12, 'activation': 'tanh', 'solver': 'sgd', 'alpha': 0.0013033811494454674, 'learning_rate_init': 0.00013016776434324513, 'max_iter': 35}. Best is trial 17 with value: 0.6074290421628099.\n"
     ]
    },
    {
     "name": "stdout",
     "output_type": "stream",
     "text": [
      "Accuracy: 0,71789050675852 | Precision:0,496248124062031 | Recall:0,7423066130390048 | F1-score:0,5948356631563166\n"
     ]
    },
    {
     "name": "stderr",
     "output_type": "stream",
     "text": [
      "c:\\Users\\Public\\Anaconda\\lib\\site-packages\\sklearn\\neural_network\\_multilayer_perceptron.py:692: ConvergenceWarning: Stochastic Optimizer: Maximum iterations (330) reached and the optimization hasn't converged yet.\n",
      "  warnings.warn(\n",
      "[I 2024-08-05 06:22:22,200] Trial 37 finished with value: 0.48898178018083516 and parameters: {'n_layers': 4, 'n_units_0': 7, 'n_units_1': 12, 'n_units_2': 21, 'n_units_3': 7, 'activation': 'tanh', 'solver': 'sgd', 'alpha': 0.0026860048919216885, 'learning_rate_init': 0.004691233510076809, 'max_iter': 33}. Best is trial 17 with value: 0.6074290421628099.\n"
     ]
    },
    {
     "name": "stdout",
     "output_type": "stream",
     "text": [
      "Accuracy: 0,7065132299984344 | Precision:0,47543735642339635 | Recall:0,5033205499953232 | F1-score:0,48898178018083516\n"
     ]
    },
    {
     "name": "stderr",
     "output_type": "stream",
     "text": [
      "[I 2024-08-05 06:25:22,641] Trial 38 finished with value: 0.5503859035969128 and parameters: {'n_layers': 5, 'n_units_0': 16, 'n_units_1': 7, 'n_units_2': 27, 'n_units_3': 20, 'n_units_4': 18, 'activation': 'identity', 'solver': 'sgd', 'alpha': 2.5687657014514557e-05, 'learning_rate_init': 0.00028800820867904613, 'max_iter': 38}. Best is trial 17 with value: 0.6074290421628099.\n"
     ]
    },
    {
     "name": "stdout",
     "output_type": "stream",
     "text": [
      "Accuracy: 0,6777308073691353 | Precision:0,45055731060380283 | Recall:0,7070433074548685 | F1-score:0,5503859035969128\n"
     ]
    },
    {
     "name": "stderr",
     "output_type": "stream",
     "text": [
      "c:\\Users\\Public\\Anaconda\\lib\\site-packages\\sklearn\\neural_network\\_multilayer_perceptron.py:692: ConvergenceWarning: Stochastic Optimizer: Maximum iterations (340) reached and the optimization hasn't converged yet.\n",
      "  warnings.warn(\n",
      "[I 2024-08-05 06:35:56,817] Trial 39 finished with value: 0.606901753724307 and parameters: {'n_layers': 3, 'n_units_0': 3, 'n_units_1': 3, 'n_units_2': 28, 'activation': 'tanh', 'solver': 'sgd', 'alpha': 0.00021238108946120517, 'learning_rate_init': 0.0015190542539047828, 'max_iter': 34}. Best is trial 17 with value: 0.6074290421628099.\n"
     ]
    },
    {
     "name": "stdout",
     "output_type": "stream",
     "text": [
      "Accuracy: 0,7280152392881374 | Precision:0,5084681496461072 | Recall:0,7525956411935273 | F1-score:0,606901753724307\n"
     ]
    },
    {
     "name": "stderr",
     "output_type": "stream",
     "text": [
      "c:\\Users\\Public\\Anaconda\\lib\\site-packages\\sklearn\\neural_network\\_multilayer_perceptron.py:692: ConvergenceWarning: Stochastic Optimizer: Maximum iterations (320) reached and the optimization hasn't converged yet.\n",
      "  warnings.warn(\n",
      "[I 2024-08-05 06:50:18,881] Trial 40 finished with value: 0.6011192885617909 and parameters: {'n_layers': 3, 'n_units_0': 24, 'n_units_1': 2, 'n_units_2': 28, 'activation': 'tanh', 'solver': 'sgd', 'alpha': 0.00020106385422623914, 'learning_rate_init': 0.0015940162129596668, 'max_iter': 32}. Best is trial 17 with value: 0.6074290421628099.\n"
     ]
    },
    {
     "name": "stdout",
     "output_type": "stream",
     "text": [
      "Accuracy: 0,7284588487030949 | Precision:0,5092550496850036 | Recall:0,7334206341782809 | F1-score:0,6011192885617909\n"
     ]
    },
    {
     "name": "stderr",
     "output_type": "stream",
     "text": [
      "c:\\Users\\Public\\Anaconda\\lib\\site-packages\\sklearn\\neural_network\\_multilayer_perceptron.py:692: ConvergenceWarning: Stochastic Optimizer: Maximum iterations (340) reached and the optimization hasn't converged yet.\n",
      "  warnings.warn(\n",
      "[I 2024-08-05 07:02:12,202] Trial 41 finished with value: 0.6031947450921848 and parameters: {'n_layers': 3, 'n_units_0': 5, 'n_units_1': 5, 'n_units_2': 26, 'activation': 'tanh', 'solver': 'sgd', 'alpha': 0.0005204611685606552, 'learning_rate_init': 0.0005621215315116234, 'max_iter': 34}. Best is trial 17 with value: 0.6074290421628099.\n"
     ]
    },
    {
     "name": "stdout",
     "output_type": "stream",
     "text": [
      "Accuracy: 0,7225614529513074 | Precision:0,5018319567782401 | Recall:0,7558694228790571 | F1-score:0,6031947450921848\n"
     ]
    },
    {
     "name": "stderr",
     "output_type": "stream",
     "text": [
      "c:\\Users\\Public\\Anaconda\\lib\\site-packages\\sklearn\\neural_network\\_multilayer_perceptron.py:692: ConvergenceWarning: Stochastic Optimizer: Maximum iterations (340) reached and the optimization hasn't converged yet.\n",
      "  warnings.warn(\n",
      "[I 2024-08-05 07:13:43,615] Trial 42 finished with value: 0.5978792208768895 and parameters: {'n_layers': 3, 'n_units_0': 3, 'n_units_1': 5, 'n_units_2': 27, 'activation': 'tanh', 'solver': 'sgd', 'alpha': 0.0004952889450922928, 'learning_rate_init': 0.00034830590757547623, 'max_iter': 34}. Best is trial 17 with value: 0.6074290421628099.\n"
     ]
    },
    {
     "name": "stdout",
     "output_type": "stream",
     "text": [
      "Accuracy: 0,720943583320286 | Precision:0,49990567817392945 | Recall:0,7436161257132167 | F1-score:0,5978792208768895\n"
     ]
    },
    {
     "name": "stderr",
     "output_type": "stream",
     "text": [
      "[I 2024-08-05 07:14:40,457] Trial 43 finished with value: 0.5517968097089496 and parameters: {'n_layers': 3, 'n_units_0': 5, 'n_units_1': 8, 'n_units_2': 30, 'activation': 'identity', 'solver': 'sgd', 'alpha': 6.746562291592088e-05, 'learning_rate_init': 0.0008048791741269185, 'max_iter': 35}. Best is trial 17 with value: 0.6074290421628099.\n"
     ]
    },
    {
     "name": "stdout",
     "output_type": "stream",
     "text": [
      "Accuracy: 0,6781222274411565 | Precision:0,45115864527629235 | Recall:0,7102235525208119 | F1-score:0,5517968097089496\n"
     ]
    },
    {
     "name": "stderr",
     "output_type": "stream",
     "text": [
      "c:\\Users\\Public\\Anaconda\\lib\\site-packages\\sklearn\\metrics\\_classification.py:1318: UndefinedMetricWarning: Precision is ill-defined and being set to 0.0 due to no predicted samples. Use `zero_division` parameter to control this behavior.\n",
      "  _warn_prf(average, modifier, msg_start, len(result))\n",
      "[I 2024-08-05 07:15:09,034] Trial 44 finished with value: 0.0 and parameters: {'n_layers': 3, 'n_units_0': 18, 'n_units_1': 3, 'n_units_2': 28, 'activation': 'logistic', 'solver': 'sgd', 'alpha': 0.00011939645451264777, 'learning_rate_init': 0.0011685607662184868, 'max_iter': 33}. Best is trial 17 with value: 0.6074290421628099.\n"
     ]
    },
    {
     "name": "stdout",
     "output_type": "stream",
     "text": [
      "Accuracy: 0,7210218673346902 | Precision:0,0 | Recall:0,0 | F1-score:0,0\n"
     ]
    },
    {
     "name": "stderr",
     "output_type": "stream",
     "text": [
      "[I 2024-08-05 07:19:39,813] Trial 45 finished with value: 0.60548917815017 and parameters: {'n_layers': 2, 'n_units_0': 3, 'n_units_1': 5, 'activation': 'tanh', 'solver': 'sgd', 'alpha': 0.000355945140335487, 'learning_rate_init': 0.00232770682361858, 'max_iter': 36}. Best is trial 17 with value: 0.6074290421628099.\n"
     ]
    },
    {
     "name": "stdout",
     "output_type": "stream",
     "text": [
      "Accuracy: 0,730311570377329 | Precision:0,5114794273184574 | Recall:0,7418389299410719 | F1-score:0,60548917815017\n"
     ]
    },
    {
     "name": "stderr",
     "output_type": "stream",
     "text": [
      "[I 2024-08-05 07:22:29,790] Trial 46 finished with value: 0.599664380563257 and parameters: {'n_layers': 2, 'n_units_0': 3, 'n_units_1': 2, 'activation': 'tanh', 'solver': 'sgd', 'alpha': 0.00024301865940802188, 'learning_rate_init': 0.009525268420822873, 'max_iter': 36}. Best is trial 17 with value: 0.6074290421628099.\n"
     ]
    },
    {
     "name": "stdout",
     "output_type": "stream",
     "text": [
      "Accuracy: 0,7136370753092218 | Precision:0,49153758746486453 | Recall:0,7687774763820036 | F1-score:0,599664380563257\n"
     ]
    },
    {
     "name": "stderr",
     "output_type": "stream",
     "text": [
      "[I 2024-08-05 07:23:57,041] Trial 47 finished with value: 0.5900710212363993 and parameters: {'n_layers': 2, 'n_units_0': 1, 'n_units_1': 22, 'activation': 'relu', 'solver': 'adam', 'alpha': 0.0004242183138796056, 'learning_rate_init': 0.025438476265670674, 'max_iter': 37}. Best is trial 17 with value: 0.6074290421628099.\n"
     ]
    },
    {
     "name": "stdout",
     "output_type": "stream",
     "text": [
      "Accuracy: 0,6942487344084338 | Precision:0,47132796780684105 | Recall:0,7887943129735291 | F1-score:0,5900710212363993\n"
     ]
    },
    {
     "name": "stderr",
     "output_type": "stream",
     "text": [
      "[I 2024-08-05 07:27:46,587] Trial 48 finished with value: 0.587229056824839 and parameters: {'n_layers': 2, 'n_units_0': 5, 'n_units_1': 8, 'activation': 'logistic', 'solver': 'adam', 'alpha': 5.289426330776951e-05, 'learning_rate_init': 0.006215422091382295, 'max_iter': 38}. Best is trial 17 with value: 0.6074290421628099.\n"
     ]
    },
    {
     "name": "stdout",
     "output_type": "stream",
     "text": [
      "Accuracy: 0,7242054172537967 | Precision:0,5040901166689017 | Recall:0,7032083060518193 | F1-score:0,587229056824839\n"
     ]
    },
    {
     "name": "stderr",
     "output_type": "stream",
     "text": [
      "[I 2024-08-05 07:28:13,356] Trial 49 finished with value: 0.5519940915805022 and parameters: {'n_layers': 1, 'n_units_0': 30, 'activation': 'identity', 'solver': 'sgd', 'alpha': 0.00016093558040305018, 'learning_rate_init': 0.002699537181406381, 'max_iter': 35}. Best is trial 17 with value: 0.6074290421628099.\n"
     ]
    },
    {
     "name": "stdout",
     "output_type": "stream",
     "text": [
      "Accuracy: 0,683419445749178 | Precision:0,4560375861858564 | Recall:0,6990926947900102 | F1-score:0,5519940915805022\n",
      "Trial 0:\n",
      "  Value: 0.55181403432544\n",
      "  Params:\n",
      "    n_layers: 3\n",
      "    n_units_0: 1\n",
      "    n_units_1: 27\n",
      "    n_units_2: 27\n",
      "    activation: identity\n",
      "    solver: sgd\n",
      "    alpha: 6.239626604263786e-05\n",
      "    learning_rate_init: 0.01548195480996856\n",
      "    max_iter: 38\n",
      "\n",
      "Trial 1:\n",
      "  Value: 0.5550608926009052\n",
      "  Params:\n",
      "    n_layers: 4\n",
      "    n_units_0: 16\n",
      "    n_units_1: 21\n",
      "    n_units_2: 15\n",
      "    n_units_3: 24\n",
      "    activation: identity\n",
      "    solver: adam\n",
      "    alpha: 0.00017896486404367487\n",
      "    learning_rate_init: 0.000714533998322623\n",
      "    max_iter: 37\n",
      "\n",
      "Trial 2:\n",
      "  Value: 0.5539649582923543\n",
      "  Params:\n",
      "    n_layers: 4\n",
      "    n_units_0: 14\n",
      "    n_units_1: 25\n",
      "    n_units_2: 3\n",
      "    n_units_3: 23\n",
      "    activation: identity\n",
      "    solver: sgd\n",
      "    alpha: 0.07404579505629022\n",
      "    learning_rate_init: 0.0020889336987528887\n",
      "    max_iter: 33\n",
      "\n",
      "Trial 3:\n",
      "  Value: 0.5730244912308113\n",
      "  Params:\n",
      "    n_layers: 1\n",
      "    n_units_0: 29\n",
      "    activation: logistic\n",
      "    solver: adam\n",
      "    alpha: 0.05145535227302912\n",
      "    learning_rate_init: 0.01806591975764368\n",
      "    max_iter: 37\n",
      "\n",
      "Trial 4:\n",
      "  Value: 0.5489251432534034\n",
      "  Params:\n",
      "    n_layers: 4\n",
      "    n_units_0: 27\n",
      "    n_units_1: 15\n",
      "    n_units_2: 22\n",
      "    n_units_3: 5\n",
      "    activation: identity\n",
      "    solver: sgd\n",
      "    alpha: 6.177177409134978e-05\n",
      "    learning_rate_init: 0.0004217183965399104\n",
      "    max_iter: 39\n",
      "\n",
      "Trial 5:\n",
      "  Value: 0.5536777843954734\n",
      "  Params:\n",
      "    n_layers: 2\n",
      "    n_units_0: 18\n",
      "    n_units_1: 15\n",
      "    activation: identity\n",
      "    solver: adam\n",
      "    alpha: 0.00045989045347910785\n",
      "    learning_rate_init: 0.00020461068800312526\n",
      "    max_iter: 33\n",
      "\n",
      "Trial 6:\n",
      "  Value: 0.5485894594493069\n",
      "  Params:\n",
      "    n_layers: 4\n",
      "    n_units_0: 26\n",
      "    n_units_1: 24\n",
      "    n_units_2: 20\n",
      "    n_units_3: 15\n",
      "    activation: identity\n",
      "    solver: adam\n",
      "    alpha: 0.0021938929951881157\n",
      "    learning_rate_init: 0.007602379248451267\n",
      "    max_iter: 35\n",
      "\n",
      "Trial 7:\n",
      "  Value: 0.0\n",
      "  Params:\n",
      "    n_layers: 5\n",
      "    n_units_0: 25\n",
      "    n_units_1: 4\n",
      "    n_units_2: 6\n",
      "    n_units_3: 3\n",
      "    n_units_4: 11\n",
      "    activation: logistic\n",
      "    solver: adam\n",
      "    alpha: 0.03639704109680688\n",
      "    learning_rate_init: 0.012336985004580043\n",
      "    max_iter: 39\n",
      "\n",
      "Trial 8:\n",
      "  Value: 0.5543727064636849\n",
      "  Params:\n",
      "    n_layers: 2\n",
      "    n_units_0: 28\n",
      "    n_units_1: 10\n",
      "    activation: identity\n",
      "    solver: adam\n",
      "    alpha: 4.051650452279873e-05\n",
      "    learning_rate_init: 0.001867969943144337\n",
      "    max_iter: 33\n",
      "\n",
      "Trial 9:\n",
      "  Value: 0.5992311219271329\n",
      "  Params:\n",
      "    n_layers: 5\n",
      "    n_units_0: 10\n",
      "    n_units_1: 7\n",
      "    n_units_2: 27\n",
      "    n_units_3: 16\n",
      "    n_units_4: 28\n",
      "    activation: logistic\n",
      "    solver: adam\n",
      "    alpha: 0.0003629543804893746\n",
      "    learning_rate_init: 0.00044484921922101567\n",
      "    max_iter: 31\n",
      "\n",
      "Trial 10:\n",
      "  Value: 0.5533812419384558\n",
      "  Params:\n",
      "    n_layers: 5\n",
      "    n_units_0: 5\n",
      "    n_units_1: 4\n",
      "    n_units_2: 28\n",
      "    n_units_3: 14\n",
      "    n_units_4: 30\n",
      "    activation: tanh\n",
      "    solver: sgd\n",
      "    alpha: 0.0042461138815354195\n",
      "    learning_rate_init: 1.9782422145583008e-05\n",
      "    max_iter: 30\n",
      "\n",
      "Trial 11:\n",
      "  Value: 0.5756727053568264\n",
      "  Params:\n",
      "    n_layers: 1\n",
      "    n_units_0: 9\n",
      "    activation: logistic\n",
      "    solver: adam\n",
      "    alpha: 0.009016617294184317\n",
      "    learning_rate_init: 0.04965978416877037\n",
      "    max_iter: 30\n",
      "\n",
      "Trial 12:\n",
      "  Value: 0.5694283201407212\n",
      "  Params:\n",
      "    n_layers: 1\n",
      "    n_units_0: 9\n",
      "    activation: logistic\n",
      "    solver: adam\n",
      "    alpha: 0.005260644785464895\n",
      "    learning_rate_init: 0.07001893634980275\n",
      "    max_iter: 30\n",
      "\n",
      "Trial 13:\n",
      "  Value: 0.5953590657465686\n",
      "  Params:\n",
      "    n_layers: 2\n",
      "    n_units_0: 11\n",
      "    n_units_1: 10\n",
      "    activation: relu\n",
      "    solver: adam\n",
      "    alpha: 0.012366264369741909\n",
      "    learning_rate_init: 4.85405338228305e-05\n",
      "    max_iter: 31\n",
      "\n",
      "Trial 14:\n",
      "  Value: 0.5889160040935212\n",
      "  Params:\n",
      "    n_layers: 2\n",
      "    n_units_0: 11\n",
      "    n_units_1: 9\n",
      "    activation: relu\n",
      "    solver: adam\n",
      "    alpha: 0.000738853397882023\n",
      "    learning_rate_init: 6.715957994697982e-05\n",
      "    max_iter: 32\n",
      "\n",
      "Trial 15:\n",
      "  Value: 0.5848675522411249\n",
      "  Params:\n",
      "    n_layers: 3\n",
      "    n_units_0: 20\n",
      "    n_units_1: 9\n",
      "    n_units_2: 12\n",
      "    activation: relu\n",
      "    solver: adam\n",
      "    alpha: 1.2230720566353867e-05\n",
      "    learning_rate_init: 1.1107925076906635e-05\n",
      "    max_iter: 32\n",
      "\n",
      "Trial 16:\n",
      "  Value: 0.5956018006051214\n",
      "  Params:\n",
      "    n_layers: 2\n",
      "    n_units_0: 4\n",
      "    n_units_1: 1\n",
      "    activation: relu\n",
      "    solver: adam\n",
      "    alpha: 0.014737538877035678\n",
      "    learning_rate_init: 7.053716616530048e-05\n",
      "    max_iter: 31\n",
      "\n",
      "Trial 17:\n",
      "  Value: 0.6074290421628099\n",
      "  Params:\n",
      "    n_layers: 3\n",
      "    n_units_0: 4\n",
      "    n_units_1: 2\n",
      "    n_units_2: 30\n",
      "    activation: tanh\n",
      "    solver: adam\n",
      "    alpha: 0.00026300311127326896\n",
      "    learning_rate_init: 0.00015373773782206807\n",
      "    max_iter: 35\n",
      "\n",
      "Trial 18:\n",
      "  Value: 0.5960992515577186\n",
      "  Params:\n",
      "    n_layers: 5\n",
      "    n_units_0: 5\n",
      "    n_units_1: 1\n",
      "    n_units_2: 29\n",
      "    n_units_3: 30\n",
      "    n_units_4: 30\n",
      "    activation: tanh\n",
      "    solver: sgd\n",
      "    alpha: 0.00036682609830777983\n",
      "    learning_rate_init: 0.0001861300116019933\n",
      "    max_iter: 35\n",
      "\n",
      "Trial 19:\n",
      "  Value: 0.5908844079209354\n",
      "  Params:\n",
      "    n_layers: 3\n",
      "    n_units_0: 2\n",
      "    n_units_1: 6\n",
      "    n_units_2: 23\n",
      "    activation: tanh\n",
      "    solver: adam\n",
      "    alpha: 0.0016472097782466737\n",
      "    learning_rate_init: 0.002789613411732404\n",
      "    max_iter: 36\n",
      "\n",
      "Trial 20:\n",
      "  Value: 0.4896741410656846\n",
      "  Params:\n",
      "    n_layers: 3\n",
      "    n_units_0: 7\n",
      "    n_units_1: 18\n",
      "    n_units_2: 30\n",
      "    activation: tanh\n",
      "    solver: adam\n",
      "    alpha: 0.00016060064430225654\n",
      "    learning_rate_init: 0.000230397341349013\n",
      "    max_iter: 40\n",
      "\n",
      "Trial 21:\n",
      "  Value: 0.5871278458844132\n",
      "  Params:\n",
      "    n_layers: 5\n",
      "    n_units_0: 4\n",
      "    n_units_1: 1\n",
      "    n_units_2: 30\n",
      "    n_units_3: 29\n",
      "    n_units_4: 30\n",
      "    activation: tanh\n",
      "    solver: sgd\n",
      "    alpha: 0.0002946084959355897\n",
      "    learning_rate_init: 0.00016302627916472439\n",
      "    max_iter: 35\n",
      "\n",
      "Trial 22:\n",
      "  Value: 0.6012723324825722\n",
      "  Params:\n",
      "    n_layers: 5\n",
      "    n_units_0: 7\n",
      "    n_units_1: 4\n",
      "    n_units_2: 24\n",
      "    n_units_3: 10\n",
      "    n_units_4: 23\n",
      "    activation: tanh\n",
      "    solver: sgd\n",
      "    alpha: 0.0011489033663903963\n",
      "    learning_rate_init: 0.0005724244971436988\n",
      "    max_iter: 34\n",
      "\n",
      "Trial 23:\n",
      "  Value: 0.6026686999618758\n",
      "  Params:\n",
      "    n_layers: 4\n",
      "    n_units_0: 13\n",
      "    n_units_1: 6\n",
      "    n_units_2: 24\n",
      "    n_units_3: 10\n",
      "    activation: tanh\n",
      "    solver: sgd\n",
      "    alpha: 0.001246300304553496\n",
      "    learning_rate_init: 0.0007564471157424167\n",
      "    max_iter: 34\n",
      "\n",
      "Trial 24:\n",
      "  Value: 0.5925517849272808\n",
      "  Params:\n",
      "    n_layers: 4\n",
      "    n_units_0: 13\n",
      "    n_units_1: 4\n",
      "    n_units_2: 24\n",
      "    n_units_3: 9\n",
      "    activation: tanh\n",
      "    solver: sgd\n",
      "    alpha: 0.0014038658321438402\n",
      "    learning_rate_init: 0.0009325596049495052\n",
      "    max_iter: 34\n",
      "\n",
      "Trial 25:\n",
      "  Value: 0.5848281159976955\n",
      "  Params:\n",
      "    n_layers: 4\n",
      "    n_units_0: 7\n",
      "    n_units_1: 6\n",
      "    n_units_2: 19\n",
      "    n_units_3: 9\n",
      "    activation: tanh\n",
      "    solver: sgd\n",
      "    alpha: 0.0009785665817422223\n",
      "    learning_rate_init: 0.0013772965606382102\n",
      "    max_iter: 34\n",
      "\n",
      "Trial 26:\n",
      "  Value: 0.4999767798263131\n",
      "  Params:\n",
      "    n_layers: 4\n",
      "    n_units_0: 21\n",
      "    n_units_1: 13\n",
      "    n_units_2: 25\n",
      "    n_units_3: 10\n",
      "    activation: tanh\n",
      "    solver: sgd\n",
      "    alpha: 0.0001322657055407907\n",
      "    learning_rate_init: 0.004199446661022126\n",
      "    max_iter: 36\n",
      "\n",
      "Trial 27:\n",
      "  Value: 0.5914045582999963\n",
      "  Params:\n",
      "    n_layers: 5\n",
      "    n_units_0: 14\n",
      "    n_units_1: 30\n",
      "    n_units_2: 18\n",
      "    n_units_3: 18\n",
      "    n_units_4: 1\n",
      "    activation: tanh\n",
      "    solver: sgd\n",
      "    alpha: 0.0031486523691949715\n",
      "    learning_rate_init: 0.00048589204440426984\n",
      "    max_iter: 34\n",
      "\n",
      "Trial 28:\n",
      "  Value: 0.5783920344776341\n",
      "  Params:\n",
      "    n_layers: 3\n",
      "    n_units_0: 6\n",
      "    n_units_1: 12\n",
      "    n_units_2: 13\n",
      "    activation: tanh\n",
      "    solver: sgd\n",
      "    alpha: 0.000746309522448927\n",
      "    learning_rate_init: 0.00010458666017261119\n",
      "    max_iter: 36\n",
      "\n",
      "Trial 29:\n",
      "  Value: 0.5317327840323898\n",
      "  Params:\n",
      "    n_layers: 3\n",
      "    n_units_0: 1\n",
      "    n_units_1: 3\n",
      "    n_units_2: 26\n",
      "    activation: tanh\n",
      "    solver: sgd\n",
      "    alpha: 2.593470793311586e-05\n",
      "    learning_rate_init: 2.1638224191088903e-05\n",
      "    max_iter: 37\n",
      "\n",
      "Trial 30:\n",
      "  Value: 0.6056506465356156\n",
      "  Params:\n",
      "    n_layers: 4\n",
      "    n_units_0: 2\n",
      "    n_units_1: 7\n",
      "    n_units_2: 21\n",
      "    n_units_3: 6\n",
      "    activation: tanh\n",
      "    solver: sgd\n",
      "    alpha: 9.768940200509225e-05\n",
      "    learning_rate_init: 0.0007312023492438447\n",
      "    max_iter: 35\n",
      "\n",
      "Trial 31:\n",
      "  Value: 0.5984658398451503\n",
      "  Params:\n",
      "    n_layers: 4\n",
      "    n_units_0: 2\n",
      "    n_units_1: 6\n",
      "    n_units_2: 21\n",
      "    n_units_3: 5\n",
      "    activation: tanh\n",
      "    solver: sgd\n",
      "    alpha: 9.743464048684794e-05\n",
      "    learning_rate_init: 0.0007788869830227008\n",
      "    max_iter: 35\n",
      "\n",
      "Trial 32:\n",
      "  Value: 0.5966983792727409\n",
      "  Params:\n",
      "    n_layers: 3\n",
      "    n_units_0: 3\n",
      "    n_units_1: 8\n",
      "    n_units_2: 17\n",
      "    activation: tanh\n",
      "    solver: sgd\n",
      "    alpha: 0.0002353434958930407\n",
      "    learning_rate_init: 0.00030407177037692355\n",
      "    max_iter: 34\n",
      "\n",
      "Trial 33:\n",
      "  Value: 0.599242755206058\n",
      "  Params:\n",
      "    n_layers: 4\n",
      "    n_units_0: 8\n",
      "    n_units_1: 3\n",
      "    n_units_2: 24\n",
      "    n_units_3: 1\n",
      "    activation: tanh\n",
      "    solver: sgd\n",
      "    alpha: 0.0005994587111020378\n",
      "    learning_rate_init: 0.001061819819866984\n",
      "    max_iter: 33\n",
      "\n",
      "Trial 34:\n",
      "  Value: 0.5946754194018964\n",
      "  Params:\n",
      "    n_layers: 5\n",
      "    n_units_0: 1\n",
      "    n_units_1: 5\n",
      "    n_units_2: 22\n",
      "    n_units_3: 11\n",
      "    n_units_4: 19\n",
      "    activation: tanh\n",
      "    solver: sgd\n",
      "    alpha: 6.391473515254237e-05\n",
      "    learning_rate_init: 0.002738841391102565\n",
      "    max_iter: 36\n",
      "\n",
      "Trial 35:\n",
      "  Value: 0.5975254213183531\n",
      "  Params:\n",
      "    n_layers: 4\n",
      "    n_units_0: 16\n",
      "    n_units_1: 2\n",
      "    n_units_2: 25\n",
      "    n_units_3: 7\n",
      "    activation: tanh\n",
      "    solver: sgd\n",
      "    alpha: 9.484003612093658e-05\n",
      "    learning_rate_init: 0.0005431956082500377\n",
      "    max_iter: 37\n",
      "\n",
      "Trial 36:\n",
      "  Value: 0.5948356631563166\n",
      "  Params:\n",
      "    n_layers: 4\n",
      "    n_units_0: 12\n",
      "    n_units_1: 18\n",
      "    n_units_2: 16\n",
      "    n_units_3: 12\n",
      "    activation: tanh\n",
      "    solver: sgd\n",
      "    alpha: 0.0013033811494454674\n",
      "    learning_rate_init: 0.00013016776434324513\n",
      "    max_iter: 35\n",
      "\n",
      "Trial 37:\n",
      "  Value: 0.48898178018083516\n",
      "  Params:\n",
      "    n_layers: 4\n",
      "    n_units_0: 7\n",
      "    n_units_1: 12\n",
      "    n_units_2: 21\n",
      "    n_units_3: 7\n",
      "    activation: tanh\n",
      "    solver: sgd\n",
      "    alpha: 0.0026860048919216885\n",
      "    learning_rate_init: 0.004691233510076809\n",
      "    max_iter: 33\n",
      "\n",
      "Trial 38:\n",
      "  Value: 0.5503859035969128\n",
      "  Params:\n",
      "    n_layers: 5\n",
      "    n_units_0: 16\n",
      "    n_units_1: 7\n",
      "    n_units_2: 27\n",
      "    n_units_3: 20\n",
      "    n_units_4: 18\n",
      "    activation: identity\n",
      "    solver: sgd\n",
      "    alpha: 2.5687657014514557e-05\n",
      "    learning_rate_init: 0.00028800820867904613\n",
      "    max_iter: 38\n",
      "\n",
      "Trial 39:\n",
      "  Value: 0.606901753724307\n",
      "  Params:\n",
      "    n_layers: 3\n",
      "    n_units_0: 3\n",
      "    n_units_1: 3\n",
      "    n_units_2: 28\n",
      "    activation: tanh\n",
      "    solver: sgd\n",
      "    alpha: 0.00021238108946120517\n",
      "    learning_rate_init: 0.0015190542539047828\n",
      "    max_iter: 34\n",
      "\n",
      "Trial 40:\n",
      "  Value: 0.6011192885617909\n",
      "  Params:\n",
      "    n_layers: 3\n",
      "    n_units_0: 24\n",
      "    n_units_1: 2\n",
      "    n_units_2: 28\n",
      "    activation: tanh\n",
      "    solver: sgd\n",
      "    alpha: 0.00020106385422623914\n",
      "    learning_rate_init: 0.0015940162129596668\n",
      "    max_iter: 32\n",
      "\n",
      "Trial 41:\n",
      "  Value: 0.6031947450921848\n",
      "  Params:\n",
      "    n_layers: 3\n",
      "    n_units_0: 5\n",
      "    n_units_1: 5\n",
      "    n_units_2: 26\n",
      "    activation: tanh\n",
      "    solver: sgd\n",
      "    alpha: 0.0005204611685606552\n",
      "    learning_rate_init: 0.0005621215315116234\n",
      "    max_iter: 34\n",
      "\n",
      "Trial 42:\n",
      "  Value: 0.5978792208768895\n",
      "  Params:\n",
      "    n_layers: 3\n",
      "    n_units_0: 3\n",
      "    n_units_1: 5\n",
      "    n_units_2: 27\n",
      "    activation: tanh\n",
      "    solver: sgd\n",
      "    alpha: 0.0004952889450922928\n",
      "    learning_rate_init: 0.00034830590757547623\n",
      "    max_iter: 34\n",
      "\n",
      "Trial 43:\n",
      "  Value: 0.5517968097089496\n",
      "  Params:\n",
      "    n_layers: 3\n",
      "    n_units_0: 5\n",
      "    n_units_1: 8\n",
      "    n_units_2: 30\n",
      "    activation: identity\n",
      "    solver: sgd\n",
      "    alpha: 6.746562291592088e-05\n",
      "    learning_rate_init: 0.0008048791741269185\n",
      "    max_iter: 35\n",
      "\n",
      "Trial 44:\n",
      "  Value: 0.0\n",
      "  Params:\n",
      "    n_layers: 3\n",
      "    n_units_0: 18\n",
      "    n_units_1: 3\n",
      "    n_units_2: 28\n",
      "    activation: logistic\n",
      "    solver: sgd\n",
      "    alpha: 0.00011939645451264777\n",
      "    learning_rate_init: 0.0011685607662184868\n",
      "    max_iter: 33\n",
      "\n",
      "Trial 45:\n",
      "  Value: 0.60548917815017\n",
      "  Params:\n",
      "    n_layers: 2\n",
      "    n_units_0: 3\n",
      "    n_units_1: 5\n",
      "    activation: tanh\n",
      "    solver: sgd\n",
      "    alpha: 0.000355945140335487\n",
      "    learning_rate_init: 0.00232770682361858\n",
      "    max_iter: 36\n",
      "\n",
      "Trial 46:\n",
      "  Value: 0.599664380563257\n",
      "  Params:\n",
      "    n_layers: 2\n",
      "    n_units_0: 3\n",
      "    n_units_1: 2\n",
      "    activation: tanh\n",
      "    solver: sgd\n",
      "    alpha: 0.00024301865940802188\n",
      "    learning_rate_init: 0.009525268420822873\n",
      "    max_iter: 36\n",
      "\n",
      "Trial 47:\n",
      "  Value: 0.5900710212363993\n",
      "  Params:\n",
      "    n_layers: 2\n",
      "    n_units_0: 1\n",
      "    n_units_1: 22\n",
      "    activation: relu\n",
      "    solver: adam\n",
      "    alpha: 0.0004242183138796056\n",
      "    learning_rate_init: 0.025438476265670674\n",
      "    max_iter: 37\n",
      "\n",
      "Trial 48:\n",
      "  Value: 0.587229056824839\n",
      "  Params:\n",
      "    n_layers: 2\n",
      "    n_units_0: 5\n",
      "    n_units_1: 8\n",
      "    activation: logistic\n",
      "    solver: adam\n",
      "    alpha: 5.289426330776951e-05\n",
      "    learning_rate_init: 0.006215422091382295\n",
      "    max_iter: 38\n",
      "\n",
      "Trial 49:\n",
      "  Value: 0.5519940915805022\n",
      "  Params:\n",
      "    n_layers: 1\n",
      "    n_units_0: 30\n",
      "    activation: identity\n",
      "    solver: sgd\n",
      "    alpha: 0.00016093558040305018\n",
      "    learning_rate_init: 0.002699537181406381\n",
      "    max_iter: 35\n",
      "\n",
      "\n",
      "\n",
      "\n",
      "Best trial:\n",
      " Val Value: 0.6074290421628099\n",
      " Val Params:\n",
      "    n_layers: 3\n",
      "    n_units_0: 4\n",
      "    n_units_1: 2\n",
      "    n_units_2: 30\n",
      "    activation: tanh\n",
      "    solver: adam\n",
      "    alpha: 0.00026300311127326896\n",
      "    learning_rate_init: 0.00015373773782206807\n",
      "    max_iter: 35\n",
      "layers: [40, 20, 300]\n",
      "Test: Accuracy: 0,7219141621381834 | Precision:0,5010351966873706 | Recall:0,7696283045120255 | F1-score:0,6069441178775766\n"
     ]
    }
   ],
   "source": [
    "data = pd.read_csv('data.csv', delimiter=';')\n",
    "\n",
    "print(data.shape[0])\n",
    "data = data.dropna(subset=['Vai Chover Amanha'])#Removendo linhas com valores faltantes na coluna de outliers\n",
    "\n",
    "data.reset_index(drop=True, inplace=True)\n",
    "print(data.shape[0])\n",
    "\n",
    "X = data.drop('Vai Chover Amanha', axis=1)\n",
    "y = data['Vai Chover Amanha']\n",
    "\n",
    "X_train, X_test, y_train, y_test = train_test_split(X, y, test_size=0.15, stratify=y, random_state=42)\n",
    "\n",
    "    \n",
    "\n",
    "def objective(trial):\n",
    "    n_layers = trial.suggest_int('n_layers', 1, 5)\n",
    "    layers = []\n",
    "    for i in range(n_layers):\n",
    "        layers.append(trial.suggest_int(f'n_units_{i}', 1, 30) * 10)\n",
    "\n",
    "    \n",
    "    activation = trial.suggest_categorical('activation', ['identity', 'logistic', 'tanh', 'relu'])\n",
    "    solver = trial.suggest_categorical('solver', ['sgd', 'adam'])\n",
    "    alpha = trial.suggest_float('alpha', 1e-5, 1e-1, log=True)\n",
    "    learning_rate_init = trial.suggest_float('learning_rate_init', 1e-5, 1e-1, log=True)\n",
    "    max_iter = trial.suggest_int('max_iter', 30, 40)\n",
    "\n",
    "    pipeline = Pipeline(steps=[\n",
    "        ('manual',ManualFeatureSelectorTransformer()),\n",
    "        ('imputer',ImputerTransformer()),\n",
    "        ('date', DateTransformer()),\n",
    "        ('scaler', RobustScalerTransformer()),\n",
    "        ('os', RandomOverSampler(random_state=42)),\n",
    "        ('model', MLPClassifier(hidden_layer_sizes=tuple(layers), activation=activation, solver=solver, max_iter=max_iter*10, alpha=alpha, learning_rate_init=learning_rate_init, random_state=42)),\n",
    "        ])\n",
    "\n",
    "    X_train_2, X_val, y_train_2, y_val = train_test_split(X_train.copy(), y_train.copy(), stratify=y_train, test_size=0.1875, random_state=42)\n",
    "    pipeline.fit(X_train_2, y_train_2)\n",
    "\n",
    "    y_pred = pipeline.predict(X_val)\n",
    "    accuracy = accuracy_score(y_val, y_pred)\n",
    "\n",
    "    y_true  = (y_val == 'Sim').astype(int)\n",
    "    y_pred  = (y_pred == 'Sim').astype(int)\n",
    "\n",
    "    precision = precision_score(y_true, y_pred)\n",
    "    recall = recall_score(y_true, y_pred)\n",
    "    f1 = f1_score(y_true, y_pred)\n",
    "\n",
    "    print(f\"Accuracy: {str(accuracy).replace('.',',')} | Precision:{str(precision).replace('.',',')} | Recall:{str(recall).replace('.',',')} | F1-score:{str(f1).replace('.',',')}\")\n",
    "    #score = cross_val_score(pipeline, X.copy(), y.copy(), n_jobs=-1, cv=5).mean()\n",
    "    return f1\n",
    "\n",
    "study = optuna.create_study(direction='maximize')\n",
    "study.optimize(objective, n_trials=50)\n",
    "\n",
    "for trial in study.trials:\n",
    "    print(f\"Trial {trial.number}:\")\n",
    "    print(f\"  Value: {trial.value}\")\n",
    "    print(\"  Params:\")\n",
    "    for key, value in trial.params.items():\n",
    "        print(f\"    {key}: {value}\")\n",
    "    print()\n",
    "\n",
    "print(\"\\n\\n\\nBest trial:\")\n",
    "trial = study.best_trial\n",
    "\n",
    "print(f\" Val Value: {trial.value}\")\n",
    "print(\" Val Params:\")\n",
    "for key, value in trial.params.items():\n",
    "    print(f\"    {key}: {value}\")\n",
    "\n",
    "layers = []\n",
    "for key, value in trial.params.items():\n",
    "    if key[:7] == 'n_units':\n",
    "        layers.append(value * 10)\n",
    "    \n",
    "print(f\"layers: {layers}\")\n",
    "\n",
    "pipeline = Pipeline(steps=[\n",
    "    ('manual',ManualFeatureSelectorTransformer()),\n",
    "    ('imputer',ImputerTransformer()),\n",
    "    ('date', DateTransformer()),\n",
    "    ('scaler', RobustScalerTransformer()),\n",
    "    ('os', RandomOverSampler(random_state=42)),\n",
    "    ('model', MLPClassifier(hidden_layer_sizes=tuple(layers), activation=trial.params['activation'], solver=trial.params['solver'], max_iter=trial.params['max_iter']*10, alpha=trial.params['alpha'], learning_rate_init=trial.params['learning_rate_init'], random_state=42)),\n",
    "    ])\n",
    "\n",
    "pipeline.fit(X_train, y_train)\n",
    "\n",
    "y_pred = pipeline.predict(X_test)\n",
    "accuracy = accuracy_score(y_test, y_pred)\n",
    "\n",
    "y_true  = (y_test == 'Sim').astype(int)\n",
    "y_pred  = (y_pred == 'Sim').astype(int)\n",
    "\n",
    "precision = precision_score(y_true, y_pred)\n",
    "recall = recall_score(y_true, y_pred)\n",
    "f1 = f1_score(y_true, y_pred)\n",
    "\n",
    "print(f\"Test: Accuracy: {str(accuracy).replace('.',',')} | Precision:{str(precision).replace('.',',')} | Recall:{str(recall).replace('.',',')} | F1-score:{str(f1).replace('.',',')}\")\n"
   ]
  },
  {
   "cell_type": "code",
   "execution_count": 24,
   "metadata": {},
   "outputs": [
    {
     "name": "stdout",
     "output_type": "stream",
     "text": [
      "2001\n",
      "Test: Accuracy: 0,6 | Precision:0,18518518518518517 | Recall:0,38461538461538464 | F1-score:0,25\n",
      "\t0,18518518518518517\t0,38461538461538464\t0,25\n",
      "2002\n",
      "Test: Accuracy: 0,6680497925311203 | Precision:0,4230769230769231 | Recall:0,6875 | F1-score:0,5238095238095238\n",
      ",66804979253112\t0,4230769230769231\t0,6875\t0,5238095238095238\n",
      "2003\n",
      "Test: Accuracy: 0,7183673469387755 | Precision:0,390625 | Recall:0,45454545454545453 | F1-score:0,4201680672268907\n",
      ",71836734693877\t0,390625\t0,45454545454545453\t0,4201680672268907\n",
      "2004\n",
      "Test: Accuracy: 0,7439613526570048 | Precision:0,3880597014925373 | Recall:0,6842105263157895 | F1-score:0,4952380952380952\n",
      ",74396135265700\t0,3880597014925373\t0,6842105263157895\t0,4952380952380952\n",
      "2005\n",
      "Test: Accuracy: 0,7395348837209302 | Precision:0,4659090909090909 | Recall:0,82 | F1-score:0,5942028985507246\n",
      ",73953488372093\t0,4659090909090909\t0,82\t0,5942028985507246\n",
      "2006\n",
      "Test: Accuracy: 0,7326732673267327 | Precision:0,4888888888888889 | Recall:0,8461538461538461 | F1-score:0,6197183098591549\n",
      ",73267326732673\t0,4888888888888889\t0,8461538461538461\t0,6197183098591549\n",
      "2007\n",
      "Test: Accuracy: 0,7119932432432432 | Precision:0,533213644524237 | Recall:0,7857142857142857 | F1-score:0,6352941176470589\n",
      ",71199324324324\t0,533213644524237\t0,7857142857142857\t0,6352941176470589\n",
      "2008\n",
      "Test: Accuracy: 0,7313345091122869 | Precision:0,4984025559105431 | Recall:0,6857142857142857 | F1-score:0,5772432932469935\n",
      ",73133450911228\t0,4984025559105431\t0,6857142857142857\t0,5772432932469935\n",
      "2009\n",
      "Test: Accuracy: 0,7319978343259339 | Precision:0,5170731707317073 | Recall:0,8107074569789675 | F1-score:0,6314221891288162\n",
      ",73199783432593\t0,5170731707317073\t0,8107074569789675\t0,6314221891288162\n",
      "2010\n",
      "Test: Accuracy: 0,7053087757313109 | Precision:0,4742785445420326 | Recall:0,7514910536779325 | F1-score:0,5815384615384616\n",
      ",70530877573131\t0,4742785445420326\t0,7514910536779325\t0,5815384615384616\n",
      "2011\n",
      "Test: Accuracy: 0,7282668124658284 | Precision:0,5230961298377028 | Recall:0,7846441947565543 | F1-score:0,6277153558052434\n",
      ",72826681246582\t0,5230961298377028\t0,7846441947565543\t0,6277153558052434\n",
      "2012\n",
      "Test: Accuracy: 0,7189218921892189 | Precision:0,4370771312584574 | Recall:0,7727272727272727 | F1-score:0,5583405358686258\n",
      ",71892189218921\t0,4370771312584574\t0,7727272727272727\t0,5583405358686258\n",
      "2013\n",
      "Test: Accuracy: 0,7408152994464016 | Precision:0,5182849936948297 | Recall:0,7555147058823529 | F1-score:0,6148092744951382\n",
      ",74081529944640\t0,5182849936948297\t0,7555147058823529\t0,6148092744951382\n",
      "2014\n",
      "Test: Accuracy: 0,7036637931034483 | Precision:0,5299334811529933 | Recall:0,7913907284768212 | F1-score:0,6347941567065073\n",
      ",70366379310344\t0,5299334811529933\t0,7913907284768212\t0,6347941567065073\n",
      "2015\n",
      "Test: Accuracy: 0,6977730646871686 | Precision:0,5255474452554745 | Recall:0,81421647819063 | F1-score:0,6387832699619772\n",
      ",69777306468716\t0,5255474452554745\t0,81421647819063\t0,6387832699619772\n",
      "2016\n",
      "Test: Accuracy: 0,7228260869565217 | Precision:0,4834123222748815 | Recall:0,7654784240150094 | F1-score:0,5925925925925926\n",
      ",72282608695652\t0,4834123222748815\t0,7654784240150094\t0,5925925925925926\n",
      "2017\n",
      "Test: Accuracy: 0,7385531135531136 | Precision:0,543859649122807 | Recall:0,8033536585365854 | F1-score:0,6486153846153846\n",
      ",73855311355311\t0,543859649122807\t0,8033536585365854\t0,6486153846153846\n",
      "2018\n",
      "Test: Accuracy: 0,7043828264758497 | Precision:0,494 | Recall:0,7611710323574731 | F1-score:0,5991510006064282\n",
      ",70438282647584\t0,494\t0,7611710323574731\t0,5991510006064282\n",
      "2019\n",
      "Test: Accuracy: 0,7349557522123894 | Precision:0,5431619786614937 | Recall:0,813953488372093 | F1-score:0,651541593949971\n",
      ",73495575221238\t0,5431619786614937\t0,813953488372093\t0,651541593949971\n",
      "2020\n",
      "Test: Accuracy: 0,7398408043569333 | Precision:0,4526795895096921 | Recall:0,7379182156133829 | F1-score:0,56113074204947\n",
      ",73984080435693\t0,4526795895096921\t0,7379182156133829\t0,56113074204947\n",
      "2021\n",
      "Test: Accuracy: 0,7494979919678715 | Precision:0,4696296296296296 | Recall:0,6921397379912664 | F1-score:0,559576345984113\n",
      ",74949799196787\t0,4696296296296296\t0,6921397379912664\t0,559576345984113\n",
      "2022\n",
      "Test: Accuracy: 0,7222476016445866 | Precision:0,4815242494226328 | Recall:0,7239583333333334 | F1-score:0,578363384188627\n",
      ",72224760164458\t0,4815242494226328\t0,7239583333333334\t0,578363384188627\n",
      "2023\n",
      "Test: Accuracy: 0,7126833477135461 | Precision:0,49906191369606 | Recall:0,8012048192771084 | F1-score:0,615028901734104\n",
      ",71268334771354\t0,49906191369606\t0,8012048192771084\t0,615028901734104\n",
      "2024\n",
      "Test: Accuracy: 0,6763412489006156 | Precision:0,5248344370860927 | Recall:0,7964824120603015 | F1-score:0,6327345309381238\n",
      ",67634124890061\t0,5248344370860927\t0,7964824120603015\t0,6327345309381238\n",
      "PORTO ALEGRE - JARDIM BOTANICO\n",
      "Test: Accuracy: 0,6978527607361963 | Precision:0,4602368866328257 | Recall:0,7838616714697406 | F1-score:0,579957356076759\n",
      ",69785276073619\t0,4602368866328257\t0,7838616714697406\t0,579957356076759\n",
      "RIO GRANDE\n",
      "Test: Accuracy: 0,7253032928942807 | Precision:0,4660633484162896 | Recall:0,7177700348432056 | F1-score:0,5651577503429355\n",
      ",72530329289428\t0,4660633484162896\t0,7177700348432056\t0,5651577503429355\n",
      "SANTA MARIA\n",
      "Test: Accuracy: 0,7394888705688376 | Precision:0,48125 | Recall:0,7751677852348994 | F1-score:0,5938303341902313\n",
      ",73948887056883\t0,48125\t0,7751677852348994\t0,5938303341902313\n",
      "SANTANA DO LIVRAMENTO\n",
      "Test: Accuracy: 0,7485436893203884 | Precision:0,48854961832061067 | Recall:0,768 | F1-score:0,5972006220839813\n",
      ",74854368932038\t0,48854961832061067\t0,768\t0,5972006220839813\n",
      "SANTO AUGUSTO\n",
      "Test: Accuracy: 0,6935341009743136 | Precision:0,46124031007751937 | Recall:0,7777777777777778 | F1-score:0,5790754257907542\n",
      ",69353410097431\t0,46124031007751937\t0,7777777777777778\t0,5790754257907542\n",
      "TORRES\n",
      "Test: Accuracy: 0,665911664779162 | Precision:0,5071283095723014 | Recall:0,8245033112582781 | F1-score:0,6279949558638082\n",
      ",6659116647791\t0,5071283095723014\t0,8245033112582781\t0,6279949558638082\n",
      "URUGUAIANA\n",
      "Test: Accuracy: 0,7260869565217392 | Precision:0,4006024096385542 | Recall:0,7150537634408602 | F1-score:0,5135135135135135\n",
      ",72608695652173\t0,4006024096385542\t0,7150537634408602\t0,5135135135135135\n",
      "SANTA ROSA\n",
      "Test: Accuracy: 0,7382133995037221 | Precision:0,503125 | Recall:0,755868544600939 | F1-score:0,6041275797373359\n",
      ",73821339950372\t0,503125\t0,755868544600939\t0,6041275797373359\n",
      "CACAPAVA DO SUL\n",
      "Test: Accuracy: 0,7692307692307693 | Precision:0,5614525139664804 | Recall:0,730909090909091 | F1-score:0,6350710900473933\n",
      ",76923076923076\t0,5614525139664804\t0,730909090909091\t0,6350710900473933\n",
      "RIO PARDO\n",
      "Test: Accuracy: 0,7628541448058762 | Precision:0,5531400966183575 | Recall:0,8481481481481481 | F1-score:0,6695906432748538\n",
      ",76285414480587\t0,5531400966183575\t0,8481481481481481\t0,6695906432748538\n",
      "ALEGRETE\n",
      "Test: Accuracy: 0,7392776523702032 | Precision:0,4735202492211838 | Recall:0,7102803738317757 | F1-score:0,5682242990654206\n",
      ",73927765237020\t0,4735202492211838\t0,7102803738317757\t0,5682242990654206\n",
      "ERECHIM\n",
      "Test: Accuracy: 0,7236533957845434 | Precision:0,5487465181058496 | Recall:0,7269372693726938 | F1-score:0,6253968253968254\n",
      ",72365339578454\t0,5487465181058496\t0,7269372693726938\t0,6253968253968254\n",
      "SAO JOSE DOS AUSENTES\n",
      "Test: Accuracy: 0,6612149532710281 | Precision:0,5055432372505543 | Recall:0,7728813559322034 | F1-score:0,6112600536193029\n",
      ",66121495327102\t0,5055432372505543\t0,7728813559322034\t0,6112600536193029\n",
      "CAMAQUA\n",
      "Test: Accuracy: 0,7326839826839827 | Precision:0,5526315789473685 | Recall:0,7317073170731707 | F1-score:0,6296851574212894\n",
      ",73268398268398\t0,5526315789473685\t0,7317073170731707\t0,6296851574212894\n",
      "PASSO FUNDO\n",
      "Test: Accuracy: 0,6907756813417191 | Precision:0,5267489711934157 | Recall:0,7975077881619937 | F1-score:0,6344485749690212\n",
      ",69077568134171\t0,5267489711934157\t0,7975077881619937\t0,6344485749690212\n",
      "BENTO GONCALVES\n",
      "Test: Accuracy: 0,7286486486486486 | Precision:0,5516483516483517 | Recall:0,8422818791946308 | F1-score:0,6666666666666666\n",
      ",72864864864864\t0,5516483516483517\t0,8422818791946308\t0,6666666666666666\n",
      "CANGUCU\n",
      "Test: Accuracy: 0,7161520190023754 | Precision:0,5106382978723404 | Recall:0,7773279352226721 | F1-score:0,6163723916532905\n",
      ",71615201900237\t0,5106382978723404\t0,7773279352226721\t0,6163723916532905\n",
      "BAGE\n",
      "Test: Accuracy: 0,7558733401430031 | Precision:0,5169491525423728 | Recall:0,7290836653386454 | F1-score:0,6049586776859505\n",
      ",75587334014300\t0,5169491525423728\t0,7290836653386454\t0,6049586776859505\n",
      "SAO BORJA\n",
      "Test: Accuracy: 0,7146067415730337 | Precision:0,4229607250755287 | Recall:0,6896551724137931 | F1-score:0,5243445692883895\n",
      ",71460674157303\t0,4229607250755287\t0,6896551724137931\t0,5243445692883895\n",
      "QUARAI\n",
      "Test: Accuracy: 0,7806912991656734 | Precision:0,4927536231884058 | Recall:0,7555555555555555 | F1-score:0,5964912280701755\n",
      ",78069129916567\t0,4927536231884058\t0,7555555555555555\t0,5964912280701755\n",
      "SAO GABRIEL\n",
      "Test: Accuracy: 0,7310267857142857 | Precision:0,49226804123711343 | Recall:0,8127659574468085 | F1-score:0,6131621187800963\n",
      ",73102678571428\t0,49226804123711343\t0,8127659574468085\t0,6131621187800963\n",
      "JAGUARAO\n",
      "Test: Accuracy: 0,7564935064935064 | Precision:0,48830409356725146 | Recall:0,7695852534562212 | F1-score:0,5974955277280859\n",
      ",75649350649350\t0,48830409356725146\t0,7695852534562212\t0,5974955277280859\n",
      "LAGOA VERMELHA\n",
      "Test: Accuracy: 0,723404255319149 | Precision:0,5614406779661016 | Recall:0,8333333333333334 | F1-score:0,670886075949367\n",
      ",7234042553191\t0,5614406779661016\t0,8333333333333334\t0,670886075949367\n",
      "SAO LUIZ GONZAGA\n",
      "Test: Accuracy: 0,6954087346024636 | Precision:0,45591939546599497 | Recall:0,7637130801687764 | F1-score:0,5709779179810726\n",
      ",69540873460246\t0,45591939546599497\t0,7637130801687764\t0,5709779179810726\n",
      "CRUZ ALTA\n",
      "Test: Accuracy: 0,7019650655021834 | Precision:0,49122807017543857 | Recall:0,7368421052631579 | F1-score:0,5894736842105264\n",
      ",70196506550218\t0,49122807017543857\t0,7368421052631579\t0,5894736842105264\n",
      "FREDERICO WESTPHALEN\n",
      "Test: Accuracy: 0,7225433526011561 | Precision:0,5298507462686567 | Recall:0,8068181818181818 | F1-score:0,6396396396396395\n",
      ",72254335260115\t0,5298507462686567\t0,8068181818181818\t0,6396396396396395\n",
      "TRAMANDAI\n",
      "Test: Accuracy: 0,6813471502590673 | Precision:0,49002849002849 | Recall:0,7196652719665272 | F1-score:0,5830508474576271\n",
      ",68134715025906\t0,49002849002849\t0,7196652719665272\t0,5830508474576271\n",
      "SOLEDADE\n",
      "Test: Accuracy: 0,7168742921857305 | Precision:0,4987146529562982 | Recall:0,7791164658634538 | F1-score:0,6081504702194357\n",
      ",71687429218573\t0,4987146529562982\t0,7791164658634538\t0,6081504702194357\n",
      "PALMEIRA DAS MISSOES\n",
      "Test: Accuracy: 0,7185863874345549 | Precision:0,47337278106508873 | Recall:0,8121827411167513 | F1-score:0,5981308411214953\n",
      ",71858638743455\t0,47337278106508873\t0,8121827411167513\t0,5981308411214953\n",
      "MOSTARDAS\n",
      "Test: Accuracy: 0,7185792349726776 | Precision:0,4456140350877193 | Recall:0,7257142857142858 | F1-score:0,5521739130434783\n",
      ",71857923497267\t0,4456140350877193\t0,7257142857142858\t0,5521739130434783\n",
      "CANELA\n",
      "Test: Accuracy: 0,6990521327014217 | Precision:0,5568181818181818 | Recall:0,805921052631579 | F1-score:0,6586021505376344\n",
      ",69905213270142\t0,5568181818181818\t0,805921052631579\t0,6586021505376344\n",
      "VACARIA\n",
      "Test: Accuracy: 0,6933638443935927 | Precision:0,5387931034482759 | Recall:0,8223684210526315 | F1-score:0,6510416666666667\n",
      ",69336384439359\t0,5387931034482759\t0,8223684210526315\t0,6510416666666667\n",
      "Santa Vitoria do Palmar - Barra do Chui\n",
      "Test: Accuracy: 0,6975 | Precision:0,3602941176470588 | Recall:0,5903614457831325 | F1-score:0,4474885844748858\n",
      ",69\t0,3602941176470588\t0,5903614457831325\t0,4474885844748858\n",
      "SANTIAGO\n",
      "Test: Accuracy: 0,6962962962962963 | Precision:0,45786516853932585 | Recall:0,7546296296296297 | F1-score:0,5699300699300699\n",
      ",69629629629629\t0,45786516853932585\t0,7546296296296297\t0,5699300699300699\n",
      "DOM PEDRITO\n",
      "Test: Accuracy: 0,7732283464566929 | Precision:0,4672897196261682 | Recall:0,7692307692307693 | F1-score:0,5813953488372093\n",
      ",77322834645669\t0,4672897196261682\t0,7692307692307693\t0,5813953488372093\n",
      "TEUTONIA\n",
      "Test: Accuracy: 0,732620320855615 | Precision:0,5736434108527132 | Recall:0,7872340425531915 | F1-score:0,6636771300448431\n",
      ",7326203208556\t0,5736434108527132\t0,7872340425531915\t0,6636771300448431\n",
      "IBIRUBA\n",
      "Test: Accuracy: 0,7248840803709428 | Precision:0,5266666666666666 | Recall:0,8144329896907216 | F1-score:0,6396761133603238\n",
      ",72488408037094\t0,5266666666666666\t0,8144329896907216\t0,6396761133603238\n",
      "CAMPO BOM\n",
      "Test: Accuracy: 0,6844660194174758 | Precision:0,49310344827586206 | Recall:0,7486910994764397 | F1-score:0,5945945945945945\n",
      ",68446601941747\t0,49310344827586206\t0,7486910994764397\t0,5945945945945945\n",
      "TUPANCIRETA\n",
      "Test: Accuracy: 0,7283653846153846 | Precision:0,5416666666666666 | Recall:0,7165354330708661 | F1-score:0,6169491525423728\n",
      ",72836538461538\t0,5416666666666666\t0,7165354330708661\t0,6169491525423728\n",
      "SAO VICENTE DO SUL\n",
      "Test: Accuracy: 0,745679012345679 | Precision:0,46715328467153283 | Recall:0,6808510638297872 | F1-score:0,5541125541125541\n",
      ",7456790123456\t0,46715328467153283\t0,6808510638297872\t0,5541125541125541\n",
      "SERAFINA CORREA\n",
      "Test: Accuracy: 0,7435897435897436 | Precision:0,5376884422110553 | Recall:0,856 | F1-score:0,6604938271604938\n",
      ",74358974358974\t0,5376884422110553\t0,856\t0,6604938271604938\n",
      "CAMBARA DO SUL\n",
      "Test: Accuracy: 0,6867167919799498 | Precision:0,5326633165829145 | Recall:0,7681159420289855 | F1-score:0,629080118694362\n",
      ",68671679197994\t0,5326633165829145\t0,7681159420289855\t0,629080118694362\n",
      "ENCRUZILHADA DO SUL\n",
      "Test: Accuracy: 0,7804154302670623 | Precision:0,5396825396825397 | Recall:0,8095238095238095 | F1-score:0,6476190476190475\n",
      ",78041543026706\t0,5396825396825397\t0,8095238095238095\t0,6476190476190475\n",
      "CAPAO DO LEAO (PELOTAS)\n",
      "Test: Accuracy: 0,7904411764705882 | Precision:0,5909090909090909 | Recall:0,7123287671232876 | F1-score:0,6459627329192547\n",
      ",79044117647058\t0,5909090909090909\t0,7123287671232876\t0,6459627329192547\n",
      "PORTO ALEGRE- BELEM NOVO\n",
      "Test: Accuracy: 0,6808510638297872 | Precision:0,5 | Recall:0,9333333333333333 | F1-score:0,6511627906976745\n",
      ",68085106382978\t0,5\t0,9333333333333333\t0,6511627906976745\n",
      "VP: 7744 - VN: 18294 - FP: 7712 - FN: 2318\n",
      "7744\t18294\t7712\t2318\n",
      "Test: Accuracy: 0,7219141621381834 | Precision:0,5010351966873706 | Recall:0,7696283045120255 | F1-score:0,6069441178775766\n",
      ",72191416213818\t0,5010351966873706\t0,7696283045120255\t0,6069441178775766\n"
     ]
    },
    {
     "data": {
      "image/png": "[encoded data removed]",
      "text/plain": [
       "<Figure size 800x600 with 1 Axes>"
      ]
     },
     "metadata": {},
     "output_type": "display_data"
    }
   ],
   "source": [
    "data = pd.read_csv('data.csv', delimiter=';')\n",
    "data = data.dropna(subset=['Vai Chover Amanha'])#Removendo linhas com valores faltantes na coluna de outliers\n",
    "data.reset_index(drop=True, inplace=True)\n",
    "\n",
    "X = data.drop('Vai Chover Amanha', axis=1)\n",
    "y = data['Vai Chover Amanha']\n",
    "\n",
    "X_train, X_test, y_train, y_test = train_test_split(X, y, test_size=0.15, stratify=y, random_state=42)\n",
    "\n",
    "pipeline = Pipeline(steps=[\n",
    "    ('manual',ManualFeatureSelectorTransformer()),\n",
    "    ('imputer',ImputerTransformer()),\n",
    "    ('date', DateTransformer()),\n",
    "    ('scaler', RobustScalerTransformer()),\n",
    "    ('os', RandomOverSampler(random_state=42)),\n",
    "    ('model', MLPClassifier(hidden_layer_sizes=(40,20,300), activation='tanh', solver='adam', max_iter=350, alpha=0.00026300311127326896, learning_rate_init=0.00015373773782206807, random_state=42)),\n",
    "    ])\n",
    "\n",
    "pipeline.fit(X_train, y_train)\n",
    "\n",
    "for i in range(2001,2025):\n",
    "    print(i)\n",
    "    f_X_test = X_test.copy().loc[pd.to_datetime(X_test['Data']).dt.year == i]\n",
    "    f_X_test.reset_index(drop=True, inplace=True)\n",
    "\n",
    "    f_y_test = y_test.copy().loc[pd.to_datetime(X_test['Data']).dt.year == i]\n",
    "    f_y_test.reset_index(drop=True, inplace=True)\n",
    "    \n",
    "\n",
    "    y_pred = pipeline.predict(f_X_test)\n",
    "    accuracy = accuracy_score(f_y_test, y_pred)\n",
    "\n",
    "    y_true  = (f_y_test == 'Sim').astype(int)\n",
    "    y_pred  = (y_pred == 'Sim').astype(int)\n",
    "\n",
    "    precision = precision_score(y_true, y_pred)\n",
    "    recall = recall_score(y_true, y_pred)\n",
    "    f1 = f1_score(y_true, y_pred)\n",
    "\n",
    "\n",
    "    print(f\"Test: Accuracy: {str(accuracy).replace('.',',')} | Precision:{str(precision).replace('.',',')} | Recall:{str(recall).replace('.',',')} | F1-score:{str(f1).replace('.',',')}\")\n",
    "    print(f\"{str(accuracy).replace('.',',')[1:-2]}\\t{str(precision).replace('.',',')}\\t{str(recall).replace('.',',')}\\t{str(f1).replace('.',',')}\")\n",
    "\n",
    "for cidade in data['Cidade'].unique():\n",
    "    print(cidade)\n",
    "    f_X_test = X_test.copy().loc[X_test['Cidade'] == cidade]\n",
    "    f_X_test.reset_index(drop=True, inplace=True)\n",
    "\n",
    "    f_y_test = y_test.copy().loc[X_test['Cidade'] == cidade]\n",
    "    f_y_test.reset_index(drop=True, inplace=True)\n",
    "\n",
    "    y_pred = pipeline.predict(f_X_test)\n",
    "    accuracy = accuracy_score(f_y_test, y_pred)\n",
    "\n",
    "    y_true  = (f_y_test == 'Sim').astype(int)\n",
    "    y_pred  = (y_pred == 'Sim').astype(int)\n",
    "\n",
    "    precision = precision_score(y_true, y_pred)\n",
    "    recall = recall_score(y_true, y_pred)\n",
    "    f1 = f1_score(y_true, y_pred)\n",
    "\n",
    "\n",
    "    print(f\"Test: Accuracy: {str(accuracy).replace('.',',')} | Precision:{str(precision).replace('.',',')} | Recall:{str(recall).replace('.',',')} | F1-score:{str(f1).replace('.',',')}\")\n",
    "    print(f\"{str(accuracy).replace('.',',')[1:-2]}\\t{str(precision).replace('.',',')}\\t{str(recall).replace('.',',')}\\t{str(f1).replace('.',',')}\")\n",
    "\n",
    "y_pred = pipeline.predict(X_test.copy())\n",
    "accuracy = accuracy_score(y_test, y_pred)\n",
    "\n",
    "y_true  = (y_test == 'Sim').astype(int)\n",
    "y_pred  = (y_pred == 'Sim').astype(int)\n",
    "\n",
    "precision = precision_score(y_true, y_pred)\n",
    "recall = recall_score(y_true, y_pred)\n",
    "f1 = f1_score(y_true, y_pred)\n",
    "\n",
    "FP = np.sum((y_pred == 1) & (y_true == 0))\n",
    "VP = np.sum((y_pred == 1) & (y_true == 1))\n",
    "FN = np.sum((y_pred == 0) & (y_true == 1))\n",
    "VN = np.sum((y_pred == 0) & (y_true == 0))\n",
    "\n",
    "print(f\"VP: {VP} - VN: {VN} - FP: {FP} - FN: {FN}\")\n",
    "print(f\"{VP}\\t{VN}\\t{FP}\\t{FN}\")\n",
    "print(f\"Test: Accuracy: {str(accuracy).replace('.',',')} | Precision:{str(precision).replace('.',',')} | Recall:{str(recall).replace('.',',')} | F1-score:{str(f1).replace('.',',')}\")\n",
    "print(f\"{str(accuracy).replace('.',',')[1:-2]}\\t{str(precision).replace('.',',')}\\t{str(recall).replace('.',',')}\\t{str(f1).replace('.',',')}\")\n",
    "\n",
    "class_labels = pipeline.classes_\n",
    "class_index = np.where(class_labels == \"Sim\")[0][0]\n",
    "\n",
    "y_probs = pipeline.predict_proba(X_test.copy())[:, class_index]\n",
    "\n",
    "y_true  = (y_test.copy() == 'Sim').astype(int)\n",
    "\n",
    "precision, recall, _ = precision_recall_curve(y_true, y_probs)\n",
    "\n",
    "plt.figure(figsize=(8, 6))\n",
    "plt.plot(recall, precision, marker='.')\n",
    "plt.xlabel('Recall')\n",
    "plt.ylabel('Precisão')\n",
    "plt.grid(True)\n",
    "plt.show()"
   ]
  },
  {
   "cell_type": "code",
   "execution_count": 22,
   "metadata": {},
   "outputs": [
    {
     "name": "stdout",
     "output_type": "stream",
     "text": [
      "256311\n",
      "240452\n"
     ]
    },
    {
     "name": "stderr",
     "output_type": "stream",
     "text": [
      "c:\\Users\\Public\\Anaconda\\lib\\site-packages\\sklearn\\neural_network\\_multilayer_perceptron.py:692: ConvergenceWarning: Stochastic Optimizer: Maximum iterations (310) reached and the optimization hasn't converged yet.\n",
      "  warnings.warn(\n"
     ]
    },
    {
     "name": "stdout",
     "output_type": "stream",
     "text": [
      "Test: Accuracy: 0,7100754131085727 | Precision:0,48786333189946535 | Recall:0,7890081494732658 | F1-score:0,602923865578128\n"
     ]
    }
   ],
   "source": [
    "data = pd.read_csv('data.csv', delimiter=';')\n",
    "\n",
    "print(data.shape[0])\n",
    "data = data.dropna(subset=['Vai Chover Amanha'])#Removendo linhas com valores faltantes na coluna de outliers\n",
    "\n",
    "data.reset_index(drop=True, inplace=True)\n",
    "print(data.shape[0])\n",
    "\n",
    "X = data.drop('Vai Chover Amanha', axis=1)\n",
    "y = data['Vai Chover Amanha']\n",
    "\n",
    "X_train, X_test, y_train, y_test = train_test_split(X, y, test_size=0.15, stratify=y, random_state=42)\n",
    "\n",
    "pipeline = Pipeline(steps=[\n",
    "    ('manual',ManualFeatureSelectorTransformer()),\n",
    "    ('imputer',ImputerTransformer()),\n",
    "    ('date', DateTransformer()),\n",
    "    ('scaler', RobustScalerTransformer()),\n",
    "    ('os', RandomOverSampler(random_state=42)),\n",
    "    ('model', MLPClassifier(hidden_layer_sizes=(100,70,270,160,280), activation='logistic', solver='adam', max_iter=310, alpha=0.0003629543804893746, learning_rate_init=0.00044484921922101567, random_state=42)),\n",
    "    ])\n",
    "\n",
    "pipeline.fit(X_train, y_train)\n",
    "\n",
    "y_pred = pipeline.predict(X_test)\n",
    "accuracy = accuracy_score(y_test, y_pred)\n",
    "\n",
    "y_true  = (y_test == 'Sim').astype(int)\n",
    "y_pred  = (y_pred == 'Sim').astype(int)\n",
    "\n",
    "precision = precision_score(y_true, y_pred)\n",
    "recall = recall_score(y_true, y_pred)\n",
    "f1 = f1_score(y_true, y_pred)\n",
    "\n",
    "\n",
    "print(f\"Test: Accuracy: {str(accuracy).replace('.',',')} | Precision:{str(precision).replace('.',',')} | Recall:{str(recall).replace('.',',')} | F1-score:{str(f1).replace('.',',')}\")\n"
   ]
  },
  {
   "cell_type": "code",
   "execution_count": 25,
   "metadata": {},
   "outputs": [
    {
     "name": "stderr",
     "output_type": "stream",
     "text": [
      "c:\\Users\\Public\\Anaconda\\lib\\site-packages\\sklearn\\neural_network\\_multilayer_perceptron.py:692: ConvergenceWarning: Stochastic Optimizer: Maximum iterations (310) reached and the optimization hasn't converged yet.\n",
      "  warnings.warn(\n"
     ]
    },
    {
     "name": "stdout",
     "output_type": "stream",
     "text": [
      "2001\n",
      "Test: Accuracy: 0,52 | Precision:0,15151515151515152 | Recall:0,38461538461538464 | F1-score:0,21739130434782608\n",
      ",\t0,15151515151515152\t0,38461538461538464\t0,21739130434782608\n",
      "2002\n",
      "Test: Accuracy: 0,6307053941908713 | Precision:0,3853211009174312 | Recall:0,65625 | F1-score:0,48554913294797697\n",
      ",63070539419087\t0,3853211009174312\t0,65625\t0,48554913294797697\n",
      "2003\n",
      "Test: Accuracy: 0,673469387755102 | Precision:0,33766233766233766 | Recall:0,4727272727272727 | F1-score:0,3939393939393939\n",
      ",6734693877551\t0,33766233766233766\t0,4727272727272727\t0,3939393939393939\n",
      "2004\n",
      "Test: Accuracy: 0,7391304347826086 | Precision:0,3918918918918919 | Recall:0,7631578947368421 | F1-score:0,5178571428571428\n",
      ",73913043478260\t0,3918918918918919\t0,7631578947368421\t0,5178571428571428\n",
      "2005\n",
      "Test: Accuracy: 0,6976744186046512 | Precision:0,4175824175824176 | Recall:0,76 | F1-score:0,5390070921985816\n",
      ",69767441860465\t0,4175824175824176\t0,76\t0,5390070921985816\n",
      "2006\n",
      "Test: Accuracy: 0,7524752475247525 | Precision:0,5114942528735632 | Recall:0,8557692307692307 | F1-score:0,6402877697841727\n",
      ",75247524752475\t0,5114942528735632\t0,8557692307692307\t0,6402877697841727\n",
      "2007\n",
      "Test: Accuracy: 0,683277027027027 | Precision:0,5025125628140703 | Recall:0,7936507936507936 | F1-score:0,6153846153846154\n",
      ",6832770270270\t0,5025125628140703\t0,7936507936507936\t0,6153846153846154\n",
      "2008\n",
      "Test: Accuracy: 0,7019400352733686 | Precision:0,4623188405797101 | Recall:0,701098901098901 | F1-score:0,5572052401746724\n",
      ",70194003527336\t0,4623188405797101\t0,701098901098901\t0,5572052401746724\n",
      "2009\n",
      "Test: Accuracy: 0,707634001082837 | Precision:0,4904171364148816 | Recall:0,8317399617590823 | F1-score:0,6170212765957447\n",
      ",7076340010828\t0,4904171364148816\t0,8317399617590823\t0,6170212765957447\n",
      "2010\n",
      "Test: Accuracy: 0,6939328277356447 | Precision:0,4630952380952381 | Recall:0,7733598409542743 | F1-score:0,5793000744601637\n",
      ",69393282773564\t0,4630952380952381\t0,7733598409542743\t0,5793000744601637\n",
      "2011\n",
      "Test: Accuracy: 0,7140513942044833 | Precision:0,5066344993968637 | Recall:0,7865168539325843 | F1-score:0,6162876008804109\n",
      ",71405139420448\t0,5066344993968637\t0,7865168539325843\t0,6162876008804109\n",
      "2012\n",
      "Test: Accuracy: 0,7062706270627063 | Precision:0,42874692874692877 | Recall:0,8349282296650717 | F1-score:0,5665584415584416\n",
      ",70627062706270\t0,42874692874692877\t0,8349282296650717\t0,5665584415584416\n",
      "2013\n",
      "Test: Accuracy: 0,7297433316557624 | Precision:0,5041617122473246 | Recall:0,7794117647058824 | F1-score:0,612274368231047\n",
      ",72974333165576\t0,5041617122473246\t0,7794117647058824\t0,612274368231047\n",
      "2014\n",
      "Test: Accuracy: 0,6901939655172413 | Precision:0,5156756756756756 | Recall:0,7897350993377483 | F1-score:0,6239372138652713\n",
      ",69019396551724\t0,5156756756756756\t0,7897350993377483\t0,6239372138652713\n",
      "2015\n",
      "Test: Accuracy: 0,6940615058324496 | Precision:0,5213414634146342 | Recall:0,8287560581583199 | F1-score:0,6400499064254522\n",
      ",69406150583244\t0,5213414634146342\t0,8287560581583199\t0,6400499064254522\n",
      "2016\n",
      "Test: Accuracy: 0,7198616600790514 | Precision:0,4805491990846682 | Recall:0,7879924953095685 | F1-score:0,5970149253731343\n",
      ",71986166007905\t0,4805491990846682\t0,7879924953095685\t0,5970149253731343\n",
      "2017\n",
      "Test: Accuracy: 0,7293956043956044 | Precision:0,5326633165829145 | Recall:0,8079268292682927 | F1-score:0,6420351302241066\n",
      ",72939560439560\t0,5326633165829145\t0,8079268292682927\t0,6420351302241066\n",
      "2018\n",
      "Test: Accuracy: 0,6949910554561717 | Precision:0,484149855907781 | Recall:0,7765793528505393 | F1-score:0,5964497041420118\n",
      ",69499105545617\t0,484149855907781\t0,7765793528505393\t0,5964497041420118\n",
      "2019\n",
      "Test: Accuracy: 0,7367256637168141 | Precision:0,5439924314096499 | Recall:0,8357558139534884 | F1-score:0,659025787965616\n",
      ",73672566371681\t0,5439924314096499\t0,8357558139534884\t0,659025787965616\n",
      "2020\n",
      "Test: Accuracy: 0,7327188940092166 | Precision:0,4469214437367304 | Recall:0,7825278810408922 | F1-score:0,568918918918919\n",
      ",73271889400921\t0,4469214437367304\t0,7825278810408922\t0,568918918918919\n",
      "2021\n",
      "Test: Accuracy: 0,7399598393574297 | Precision:0,45726495726495725 | Recall:0,7008733624454149 | F1-score:0,5534482758620689\n",
      ",73995983935742\t0,45726495726495725\t0,7008733624454149\t0,5534482758620689\n",
      "2022\n",
      "Test: Accuracy: 0,7213339424394701 | Precision:0,4811946902654867 | Recall:0,7552083333333334 | F1-score:0,5878378378378378\n",
      ",72133394243947\t0,4811946902654867\t0,7552083333333334\t0,5878378378378378\n",
      "2023\n",
      "Test: Accuracy: 0,6971527178602244 | Precision:0,48324514991181655 | Recall:0,8253012048192772 | F1-score:0,6095661846496107\n",
      ",69715271786022\t0,48324514991181655\t0,8253012048192772\t0,6095661846496107\n",
      "2024\n",
      "Test: Accuracy: 0,6508355321020228 | Precision:0,5007587253414264 | Recall:0,8291457286432161 | F1-score:0,6244087038789026\n",
      ",65083553210202\t0,5007587253414264\t0,8291457286432161\t0,6244087038789026\n",
      "PORTO ALEGRE - JARDIM BOTANICO\n",
      "Test: Accuracy: 0,6779141104294478 | Precision:0,4442748091603053 | Recall:0,8386167146974063 | F1-score:0,5808383233532933\n",
      ",67791411042944\t0,4442748091603053\t0,8386167146974063\t0,5808383233532933\n",
      "RIO GRANDE\n",
      "Test: Accuracy: 0,6941074523396881 | Precision:0,4291845493562232 | Recall:0,6968641114982579 | F1-score:0,5312084993359893\n",
      ",69410745233968\t0,4291845493562232\t0,6968641114982579\t0,5312084993359893\n",
      "SANTA MARIA\n",
      "Test: Accuracy: 0,7131079967023908 | Precision:0,4528301886792453 | Recall:0,8053691275167785 | F1-score:0,5797101449275363\n",
      ",71310799670239\t0,4528301886792453\t0,8053691275167785\t0,5797101449275363\n",
      "SANTANA DO LIVRAMENTO\n",
      "Test: Accuracy: 0,6980582524271844 | Precision:0,4326710816777042 | Recall:0,784 | F1-score:0,5576102418207681\n",
      ",69805825242718\t0,4326710816777042\t0,784\t0,5576102418207681\n",
      "SANTO AUGUSTO\n",
      "Test: Accuracy: 0,6891054030115146 | Precision:0,4581005586592179 | Recall:0,803921568627451 | F1-score:0,5836298932384342\n",
      ",68910540301151\t0,4581005586592179\t0,803921568627451\t0,5836298932384342\n",
      "TORRES\n",
      "Test: Accuracy: 0,6477916194790487 | Precision:0,4911242603550296 | Recall:0,8245033112582781 | F1-score:0,61557478368356\n",
      ",64779161947904\t0,4911242603550296\t0,8245033112582781\t0,61557478368356\n",
      "URUGUAIANA\n",
      "Test: Accuracy: 0,7423913043478261 | Precision:0,42201834862385323 | Recall:0,7419354838709677 | F1-score:0,5380116959064328\n",
      ",74239130434782\t0,42201834862385323\t0,7419354838709677\t0,5380116959064328\n",
      "SANTA ROSA\n",
      "Test: Accuracy: 0,7084367245657568 | Precision:0,46875 | Recall:0,7746478873239436 | F1-score:0,584070796460177\n",
      ",70843672456575\t0,46875\t0,7746478873239436\t0,584070796460177\n",
      "CACAPAVA DO SUL\n",
      "Test: Accuracy: 0,7822177822177823 | Precision:0,5785123966942148 | Recall:0,7636363636363637 | F1-score:0,6583072100313481\n",
      ",78221778221778\t0,5785123966942148\t0,7636363636363637\t0,6583072100313481\n",
      "RIO PARDO\n",
      "Test: Accuracy: 0,7471143756558237 | Precision:0,5342789598108747 | Recall:0,837037037037037 | F1-score:0,6522366522366522\n",
      ",74711437565582\t0,5342789598108747\t0,837037037037037\t0,6522366522366522\n",
      "ALEGRETE\n",
      "Test: Accuracy: 0,7110609480812641 | Precision:0,44166666666666665 | Recall:0,7429906542056075 | F1-score:0,554006968641115\n",
      ",71106094808126\t0,44166666666666665\t0,7429906542056075\t0,554006968641115\n",
      "ERECHIM\n",
      "Test: Accuracy: 0,7224824355971897 | Precision:0,5438144329896907 | Recall:0,7785977859778598 | F1-score:0,6403641881638846\n",
      ",72248243559718\t0,5438144329896907\t0,7785977859778598\t0,6403641881638846\n",
      "SAO JOSE DOS AUSENTES\n",
      "Test: Accuracy: 0,6635514018691588 | Precision:0,5078299776286354 | Recall:0,7694915254237288 | F1-score:0,6118598382749326\n",
      ",66355140186915\t0,5078299776286354\t0,7694915254237288\t0,6118598382749326\n",
      "CAMAQUA\n",
      "Test: Accuracy: 0,711038961038961 | Precision:0,5238095238095238 | Recall:0,7665505226480837 | F1-score:0,6223479490806224\n",
      ",7110389610389\t0,5238095238095238\t0,7665505226480837\t0,6223479490806224\n",
      "PASSO FUNDO\n",
      "Test: Accuracy: 0,6970649895178197 | Precision:0,531496062992126 | Recall:0,8411214953271028 | F1-score:0,6513872135102533\n",
      ",69706498951781\t0,531496062992126\t0,8411214953271028\t0,6513872135102533\n",
      "BENTO GONCALVES\n",
      "Test: Accuracy: 0,7178378378378378 | Precision:0,5406593406593406 | Recall:0,825503355704698 | F1-score:0,6533864541832669\n",
      ",71783783783783\t0,5406593406593406\t0,825503355704698\t0,6533864541832669\n",
      "CANGUCU\n",
      "Test: Accuracy: 0,7387173396674585 | Precision:0,536 | Recall:0,8137651821862348 | F1-score:0,6463022508038585\n",
      ",73871733966745\t0,536\t0,8137651821862348\t0,6463022508038585\n",
      "BAGE\n",
      "Test: Accuracy: 0,7487231869254342 | Precision:0,5067750677506775 | Recall:0,7450199203187251 | F1-score:0,603225806451613\n",
      ",74872318692543\t0,5067750677506775\t0,7450199203187251\t0,603225806451613\n",
      "SAO BORJA\n",
      "Test: Accuracy: 0,7056179775280899 | Precision:0,414985590778098 | Recall:0,7093596059113301 | F1-score:0,5236363636363637\n",
      ",70561797752808\t0,414985590778098\t0,7093596059113301\t0,5236363636363637\n",
      "QUARAI\n",
      "Test: Accuracy: 0,7544696066746126 | Precision:0,459375 | Recall:0,8166666666666667 | F1-score:0,588\n",
      ",75446960667461\t0,459375\t0,8166666666666667\t0,588\n",
      "SAO GABRIEL\n",
      "Test: Accuracy: 0,7020089285714286 | Precision:0,46208530805687204 | Recall:0,8297872340425532 | F1-score:0,593607305936073\n",
      ",70200892857142\t0,46208530805687204\t0,8297872340425532\t0,593607305936073\n",
      "JAGUARAO\n",
      "Test: Accuracy: 0,7294372294372294 | Precision:0,4547945205479452 | Recall:0,7649769585253456 | F1-score:0,570446735395189\n",
      ",72943722943722\t0,4547945205479452\t0,7649769585253456\t0,570446735395189\n",
      "LAGOA VERMELHA\n",
      "Test: Accuracy: 0,7021276595744681 | Precision:0,5395833333333333 | Recall:0,8144654088050315 | F1-score:0,6491228070175439\n",
      ",70212765957446\t0,5395833333333333\t0,8144654088050315\t0,6491228070175439\n",
      "SAO LUIZ GONZAGA\n",
      "Test: Accuracy: 0,6797312430011199 | Precision:0,4418052256532066 | Recall:0,7848101265822784 | F1-score:0,5653495440729484\n",
      ",67973124300111\t0,4418052256532066\t0,7848101265822784\t0,5653495440729484\n",
      "CRUZ ALTA\n",
      "Test: Accuracy: 0,7052401746724891 | Precision:0,49507389162561577 | Recall:0,7556390977443609 | F1-score:0,5982142857142858\n",
      ",70524017467248\t0,49507389162561577\t0,7556390977443609\t0,5982142857142858\n",
      "FREDERICO WESTPHALEN\n",
      "Test: Accuracy: 0,7005780346820809 | Precision:0,5059952038369304 | Recall:0,7992424242424242 | F1-score:0,6196769456681349\n",
      ",70057803468208\t0,5059952038369304\t0,7992424242424242\t0,6196769456681349\n",
      "TRAMANDAI\n",
      "Test: Accuracy: 0,6839378238341969 | Precision:0,4931506849315068 | Recall:0,7531380753138075 | F1-score:0,5960264900662251\n",
      ",68393782383419\t0,4931506849315068\t0,7531380753138075\t0,5960264900662251\n",
      "SOLEDADE\n",
      "Test: Accuracy: 0,7315968289920725 | Precision:0,515 | Recall:0,8273092369477911 | F1-score:0,6348228043143298\n",
      ",73159682899207\t0,515\t0,8273092369477911\t0,6348228043143298\n",
      "PALMEIRA DAS MISSOES\n",
      "Test: Accuracy: 0,6845549738219895 | Precision:0,43922651933701656 | Recall:0,8071065989847716 | F1-score:0,5688729874776386\n",
      ",68455497382198\t0,43922651933701656\t0,8071065989847716\t0,5688729874776386\n",
      "MOSTARDAS\n",
      "Test: Accuracy: 0,6980874316939891 | Precision:0,4243421052631579 | Recall:0,7371428571428571 | F1-score:0,5386221294363257\n",
      ",69808743169398\t0,4243421052631579\t0,7371428571428571\t0,5386221294363257\n",
      "CANELA\n",
      "Test: Accuracy: 0,6777251184834123 | Precision:0,5346320346320347 | Recall:0,8125 | F1-score:0,6449086161879896\n",
      ",67772511848341\t0,5346320346320347\t0,8125\t0,6449086161879896\n",
      "VACARIA\n",
      "Test: Accuracy: 0,7093821510297483 | Precision:0,5576036866359447 | Recall:0,7960526315789473 | F1-score:0,6558265582655826\n",
      ",70938215102974\t0,5576036866359447\t0,7960526315789473\t0,6558265582655826\n",
      "Santa Vitoria do Palmar - Barra do Chui\n",
      "Test: Accuracy: 0,695 | Precision:0,3717105263157895 | Recall:0,6807228915662651 | F1-score:0,4808510638297874\n",
      ",6\t0,3717105263157895\t0,6807228915662651\t0,4808510638297874\n",
      "SANTIAGO\n",
      "Test: Accuracy: 0,6962962962962963 | Precision:0,4583333333333333 | Recall:0,7638888888888888 | F1-score:0,5729166666666666\n",
      ",69629629629629\t0,4583333333333333\t0,7638888888888888\t0,5729166666666666\n",
      "DOM PEDRITO\n",
      "Test: Accuracy: 0,7637795275590551 | Precision:0,45689655172413796 | Recall:0,8153846153846154 | F1-score:0,5856353591160222\n",
      ",76377952755905\t0,45689655172413796\t0,8153846153846154\t0,5856353591160222\n",
      "TEUTONIA\n",
      "Test: Accuracy: 0,714795008912656 | Precision:0,548951048951049 | Recall:0,8351063829787234 | F1-score:0,6624472573839663\n",
      ",7147950089126\t0,548951048951049\t0,8351063829787234\t0,6624472573839663\n",
      "IBIRUBA\n",
      "Test: Accuracy: 0,7171561051004637 | Precision:0,5181518151815182 | Recall:0,8092783505154639 | F1-score:0,631790744466801\n",
      ",71715610510046\t0,5181518151815182\t0,8092783505154639\t0,631790744466801\n",
      "CAMPO BOM\n",
      "Test: Accuracy: 0,6699029126213593 | Precision:0,47962382445141066 | Recall:0,8010471204188482 | F1-score:0,6\n",
      ",66990291262135\t0,47962382445141066\t0,8010471204188482\t0,6\n",
      "TUPANCIRETA\n",
      "Test: Accuracy: 0,7307692307692307 | Precision:0,5414364640883977 | Recall:0,7716535433070866 | F1-score:0,6363636363636364\n",
      ",73076923076923\t0,5414364640883977\t0,7716535433070866\t0,6363636363636364\n",
      "SAO VICENTE DO SUL\n",
      "Test: Accuracy: 0,725925925925926 | Precision:0,44654088050314467 | Recall:0,7553191489361702 | F1-score:0,5612648221343874\n",
      ",7259259259259\t0,44654088050314467\t0,7553191489361702\t0,5612648221343874\n",
      "SERAFINA CORREA\n",
      "Test: Accuracy: 0,7226107226107226 | Precision:0,5141509433962265 | Recall:0,872 | F1-score:0,6468842729970328\n",
      ",72261072261072\t0,5141509433962265\t0,872\t0,6468842729970328\n",
      "CAMBARA DO SUL\n",
      "Test: Accuracy: 0,7092731829573935 | Precision:0,5567010309278351 | Recall:0,782608695652174 | F1-score:0,6506024096385542\n",
      ",70927318295739\t0,5567010309278351\t0,782608695652174\t0,6506024096385542\n",
      "ENCRUZILHADA DO SUL\n",
      "Test: Accuracy: 0,7774480712166172 | Precision:0,5348837209302325 | Recall:0,8214285714285714 | F1-score:0,647887323943662\n",
      ",77744807121661\t0,5348837209302325\t0,8214285714285714\t0,647887323943662\n",
      "CAPAO DO LEAO (PELOTAS)\n",
      "Test: Accuracy: 0,7647058823529411 | Precision:0,5463917525773195 | Recall:0,726027397260274 | F1-score:0,6235294117647058\n",
      ",76470588235294\t0,5463917525773195\t0,726027397260274\t0,6235294117647058\n",
      "PORTO ALEGRE- BELEM NOVO\n",
      "Test: Accuracy: 0,6276595744680851 | Precision:0,45614035087719296 | Recall:0,8666666666666667 | F1-score:0,5977011494252873\n",
      ",62765957446808\t0,45614035087719296\t0,8666666666666667\t0,5977011494252873\n",
      "VP: 7939 - VN: 17672 - FP: 8334 - FN: 2123\n",
      "7939\t17672\t8334\t2123\n",
      "Test: Accuracy: 0,7100754131085727 | Precision:0,48786333189946535 | Recall:0,7890081494732658 | F1-score:0,602923865578128\n",
      ",71007541310857\t0,48786333189946535\t0,7890081494732658\t0,602923865578128\n"
     ]
    },
    {
     "data": {
      "image/png": "[encoded data removed]",
      "text/plain": [
       "<Figure size 800x600 with 1 Axes>"
      ]
     },
     "metadata": {},
     "output_type": "display_data"
    }
   ],
   "source": [
    "data = pd.read_csv('data.csv', delimiter=';')\n",
    "data = data.dropna(subset=['Vai Chover Amanha'])#Removendo linhas com valores faltantes na coluna de outliers\n",
    "data.reset_index(drop=True, inplace=True)\n",
    "\n",
    "X = data.drop('Vai Chover Amanha', axis=1)\n",
    "y = data['Vai Chover Amanha']\n",
    "\n",
    "X_train, X_test, y_train, y_test = train_test_split(X, y, test_size=0.15, stratify=y, random_state=42)\n",
    "\n",
    "pipeline = Pipeline(steps=[\n",
    "    ('manual',ManualFeatureSelectorTransformer()),\n",
    "    ('imputer',ImputerTransformer()),\n",
    "    ('date', DateTransformer()),\n",
    "    ('scaler', RobustScalerTransformer()),\n",
    "    ('os', RandomOverSampler(random_state=42)),\n",
    "    ('model', MLPClassifier(hidden_layer_sizes=(100,70,270,160,280), activation='logistic', solver='adam', max_iter=310, alpha=0.0003629543804893746, learning_rate_init=0.00044484921922101567, random_state=42)),\n",
    "    ])\n",
    "\n",
    "pipeline.fit(X_train, y_train)\n",
    "\n",
    "for i in range(2001,2025):\n",
    "    print(i)\n",
    "    f_X_test = X_test.copy().loc[pd.to_datetime(X_test['Data']).dt.year == i]\n",
    "    f_X_test.reset_index(drop=True, inplace=True)\n",
    "\n",
    "    f_y_test = y_test.copy().loc[pd.to_datetime(X_test['Data']).dt.year == i]\n",
    "    f_y_test.reset_index(drop=True, inplace=True)\n",
    "    \n",
    "\n",
    "    y_pred = pipeline.predict(f_X_test)\n",
    "    accuracy = accuracy_score(f_y_test, y_pred)\n",
    "\n",
    "    y_true  = (f_y_test == 'Sim').astype(int)\n",
    "    y_pred  = (y_pred == 'Sim').astype(int)\n",
    "\n",
    "    precision = precision_score(y_true, y_pred)\n",
    "    recall = recall_score(y_true, y_pred)\n",
    "    f1 = f1_score(y_true, y_pred)\n",
    "\n",
    "\n",
    "    print(f\"Test: Accuracy: {str(accuracy).replace('.',',')} | Precision:{str(precision).replace('.',',')} | Recall:{str(recall).replace('.',',')} | F1-score:{str(f1).replace('.',',')}\")\n",
    "    print(f\"{str(accuracy).replace('.',',')[1:-2]}\\t{str(precision).replace('.',',')}\\t{str(recall).replace('.',',')}\\t{str(f1).replace('.',',')}\")\n",
    "\n",
    "for cidade in data['Cidade'].unique():\n",
    "    print(cidade)\n",
    "    f_X_test = X_test.copy().loc[X_test['Cidade'] == cidade]\n",
    "    f_X_test.reset_index(drop=True, inplace=True)\n",
    "\n",
    "    f_y_test = y_test.copy().loc[X_test['Cidade'] == cidade]\n",
    "    f_y_test.reset_index(drop=True, inplace=True)\n",
    "\n",
    "    y_pred = pipeline.predict(f_X_test)\n",
    "    accuracy = accuracy_score(f_y_test, y_pred)\n",
    "\n",
    "    y_true  = (f_y_test == 'Sim').astype(int)\n",
    "    y_pred  = (y_pred == 'Sim').astype(int)\n",
    "\n",
    "    precision = precision_score(y_true, y_pred)\n",
    "    recall = recall_score(y_true, y_pred)\n",
    "    f1 = f1_score(y_true, y_pred)\n",
    "\n",
    "\n",
    "    print(f\"Test: Accuracy: {str(accuracy).replace('.',',')} | Precision:{str(precision).replace('.',',')} | Recall:{str(recall).replace('.',',')} | F1-score:{str(f1).replace('.',',')}\")\n",
    "    print(f\"{str(accuracy).replace('.',',')[1:-2]}\\t{str(precision).replace('.',',')}\\t{str(recall).replace('.',',')}\\t{str(f1).replace('.',',')}\")\n",
    "\n",
    "y_pred = pipeline.predict(X_test.copy())\n",
    "accuracy = accuracy_score(y_test, y_pred)\n",
    "\n",
    "y_true  = (y_test == 'Sim').astype(int)\n",
    "y_pred  = (y_pred == 'Sim').astype(int)\n",
    "\n",
    "precision = precision_score(y_true, y_pred)\n",
    "recall = recall_score(y_true, y_pred)\n",
    "f1 = f1_score(y_true, y_pred)\n",
    "\n",
    "FP = np.sum((y_pred == 1) & (y_true == 0))\n",
    "VP = np.sum((y_pred == 1) & (y_true == 1))\n",
    "FN = np.sum((y_pred == 0) & (y_true == 1))\n",
    "VN = np.sum((y_pred == 0) & (y_true == 0))\n",
    "\n",
    "print(f\"VP: {VP} - VN: {VN} - FP: {FP} - FN: {FN}\")\n",
    "print(f\"{VP}\\t{VN}\\t{FP}\\t{FN}\")\n",
    "print(f\"Test: Accuracy: {str(accuracy).replace('.',',')} | Precision:{str(precision).replace('.',',')} | Recall:{str(recall).replace('.',',')} | F1-score:{str(f1).replace('.',',')}\")\n",
    "print(f\"{str(accuracy).replace('.',',')[1:-2]}\\t{str(precision).replace('.',',')}\\t{str(recall).replace('.',',')}\\t{str(f1).replace('.',',')}\")\n",
    "\n",
    "class_labels = pipeline.classes_\n",
    "class_index = np.where(class_labels == \"Sim\")[0][0]\n",
    "\n",
    "y_probs = pipeline.predict_proba(X_test.copy())[:, class_index]\n",
    "\n",
    "y_true  = (y_test.copy() == 'Sim').astype(int)\n",
    "\n",
    "precision, recall, _ = precision_recall_curve(y_true, y_probs)\n",
    "\n",
    "plt.figure(figsize=(8, 6))\n",
    "plt.plot(recall, precision, marker='.')\n",
    "plt.xlabel('Recall')\n",
    "plt.ylabel('Precisão')\n",
    "plt.grid(True)\n",
    "plt.show()"
   ]
  },
  {
   "cell_type": "code",
   "execution_count": 25,
   "metadata": {},
   "outputs": [
    {
     "name": "stdout",
     "output_type": "stream",
     "text": [
      "256311\n",
      "240452\n"
     ]
    },
    {
     "name": "stderr",
     "output_type": "stream",
     "text": [
      "[I 2024-08-05 16:50:48,522] A new study created in memory with name: no-name-cee43e4b-35d1-4d47-8107-819a0fda29da\n",
      "[I 2024-08-05 17:05:52,341] Trial 0 finished with value: 0.5866347157268195 and parameters: {'algorithm': 'SAMME', 'learning_rate': 0.35909055462534367, 'n_estimators': 21, 'criterion': 'entropy', 'max_depth': 8}. Best is trial 0 with value: 0.5866347157268195.\n"
     ]
    },
    {
     "name": "stdout",
     "output_type": "stream",
     "text": [
      "Accuracy: 0,7209174886488179 | Precision:0,49986826505071796 | Recall:0,7098494060424656 | F1-score:0,5866347157268195\n"
     ]
    },
    {
     "name": "stderr",
     "output_type": "stream",
     "text": [
      "[I 2024-08-05 17:14:15,669] Trial 1 finished with value: 0.5792128391287734 and parameters: {'algorithm': 'SAMME', 'learning_rate': 1.1602053576918157, 'n_estimators': 26, 'criterion': 'entropy', 'max_depth': 4}. Best is trial 0 with value: 0.5866347157268195.\n"
     ]
    },
    {
     "name": "stdout",
     "output_type": "stream",
     "text": [
      "Accuracy: 0,7126454777934346 | Precision:0,48963111312100266 | Recall:0,7089140398466 | F1-score:0,5792128391287734\n"
     ]
    },
    {
     "name": "stderr",
     "output_type": "stream",
     "text": [
      "[I 2024-08-05 17:24:35,497] Trial 2 finished with value: 0.5294613167812016 and parameters: {'algorithm': 'SAMME.R', 'learning_rate': 0.6898452721935281, 'n_estimators': 21, 'criterion': 'entropy', 'max_depth': 7}. Best is trial 0 with value: 0.5866347157268195.\n"
     ]
    },
    {
     "name": "stdout",
     "output_type": "stream",
     "text": [
      "Accuracy: 0,723057251709201 | Precision:0,5032872555630479 | Recall:0,5585071555513984 | F1-score:0,5294613167812016\n"
     ]
    },
    {
     "name": "stderr",
     "output_type": "stream",
     "text": [
      "[I 2024-08-05 17:36:05,757] Trial 3 finished with value: 0.5896330809551544 and parameters: {'algorithm': 'SAMME', 'learning_rate': 0.885752789823784, 'n_estimators': 30, 'criterion': 'gini', 'max_depth': 6}. Best is trial 3 with value: 0.5896330809551544.\n"
     ]
    },
    {
     "name": "stdout",
     "output_type": "stream",
     "text": [
      "Accuracy: 0,7242054172537967 | Precision:0,5040493892724376 | Recall:0,7102235525208119 | F1-score:0,5896330809551544\n"
     ]
    },
    {
     "name": "stderr",
     "output_type": "stream",
     "text": [
      "[I 2024-08-05 17:37:31,626] Trial 4 finished with value: 0.5642186262306214 and parameters: {'algorithm': 'SAMME', 'learning_rate': 0.5533629459916752, 'n_estimators': 6, 'criterion': 'entropy', 'max_depth': 3}. Best is trial 3 with value: 0.5896330809551544.\n"
     ]
    },
    {
     "name": "stdout",
     "output_type": "stream",
     "text": [
      "Accuracy: 0,6985282605291999 | Precision:0,47275600505689 | Recall:0,6995603778879431 | F1-score:0,5642186262306214\n"
     ]
    },
    {
     "name": "stderr",
     "output_type": "stream",
     "text": [
      "[I 2024-08-05 17:45:13,835] Trial 5 finished with value: 0.5526438338766352 and parameters: {'algorithm': 'SAMME.R', 'learning_rate': 0.8953729161084549, 'n_estimators': 19, 'criterion': 'entropy', 'max_depth': 6}. Best is trial 3 with value: 0.5896330809551544.\n"
     ]
    },
    {
     "name": "stdout",
     "output_type": "stream",
     "text": [
      "Accuracy: 0,724257606596733 | Precision:0,5047950502706883 | Recall:0,6105135160415303 | F1-score:0,5526438338766352\n"
     ]
    },
    {
     "name": "stderr",
     "output_type": "stream",
     "text": [
      "[I 2024-08-05 17:57:37,046] Trial 6 finished with value: 0.46892434178330233 and parameters: {'algorithm': 'SAMME.R', 'learning_rate': 0.9751776060995159, 'n_estimators': 25, 'criterion': 'gini', 'max_depth': 8}. Best is trial 3 with value: 0.5896330809551544.\n"
     ]
    },
    {
     "name": "stdout",
     "output_type": "stream",
     "text": [
      "Accuracy: 0,7168206252283283 | Precision:0,491737657805604 | Recall:0,448133944439248 | F1-score:0,46892434178330233\n"
     ]
    },
    {
     "name": "stderr",
     "output_type": "stream",
     "text": [
      "[I 2024-08-05 18:06:28,705] Trial 7 finished with value: 0.5049699967935505 and parameters: {'algorithm': 'SAMME.R', 'learning_rate': 1.1133985789513736, 'n_estimators': 20, 'criterion': 'gini', 'max_depth': 7}. Best is trial 3 with value: 0.5896330809551544.\n"
     ]
    },
    {
     "name": "stdout",
     "output_type": "stream",
     "text": [
      "Accuracy: 0,7179948854443923 | Precision:0,4947935368043088 | Recall:0,5155738471611636 | F1-score:0,5049699967935505\n"
     ]
    },
    {
     "name": "stderr",
     "output_type": "stream",
     "text": [
      "[I 2024-08-05 18:19:52,729] Trial 8 finished with value: 0.4489568845618915 and parameters: {'algorithm': 'SAMME.R', 'learning_rate': 1.9399499292742495, 'n_estimators': 27, 'criterion': 'gini', 'max_depth': 8}. Best is trial 3 with value: 0.5896330809551544.\n"
     ]
    },
    {
     "name": "stdout",
     "output_type": "stream",
     "text": [
      "Accuracy: 0,6898387349303272 | Precision:0,44507767258020037 | Recall:0,45290431203816295 | F1-score:0,4489568845618915\n"
     ]
    },
    {
     "name": "stderr",
     "output_type": "stream",
     "text": [
      "[I 2024-08-05 18:29:53,836] Trial 9 finished with value: 0.4581472952013912 and parameters: {'algorithm': 'SAMME.R', 'learning_rate': 1.741309986657235, 'n_estimators': 19, 'criterion': 'entropy', 'max_depth': 8}. Best is trial 3 with value: 0.5896330809551544.\n"
     ]
    },
    {
     "name": "stdout",
     "output_type": "stream",
     "text": [
      "Accuracy: 0,6991545326444341 | Precision:0,46041942187795204 | Recall:0,4558974838649331 | F1-score:0,4581472952013912\n"
     ]
    },
    {
     "name": "stderr",
     "output_type": "stream",
     "text": [
      "[I 2024-08-05 18:33:55,501] Trial 10 finished with value: 0.5673454805287602 and parameters: {'algorithm': 'SAMME', 'learning_rate': 1.4859822766927149, 'n_estimators': 12, 'criterion': 'gini', 'max_depth': 5}. Best is trial 3 with value: 0.5896330809551544.\n"
     ]
    },
    {
     "name": "stdout",
     "output_type": "stream",
     "text": [
      "Accuracy: 0,7155941756693284 | Precision:0,49282758620689654 | Recall:0,6684126835656159 | F1-score:0,5673454805287602\n"
     ]
    },
    {
     "name": "stderr",
     "output_type": "stream",
     "text": [
      "[I 2024-08-05 18:45:26,570] Trial 11 finished with value: 0.5862386730148978 and parameters: {'algorithm': 'SAMME', 'learning_rate': 0.3123077370123374, 'n_estimators': 30, 'criterion': 'gini', 'max_depth': 6}. Best is trial 3 with value: 0.5896330809551544.\n"
     ]
    },
    {
     "name": "stdout",
     "output_type": "stream",
     "text": [
      "Accuracy: 0,718803820259903 | Precision:0,4972318113723702 | Recall:0,7140585539238612 | F1-score:0,5862386730148978\n"
     ]
    },
    {
     "name": "stderr",
     "output_type": "stream",
     "text": [
      "[I 2024-08-05 18:49:46,442] Trial 12 finished with value: 0.5796471977749837 and parameters: {'algorithm': 'SAMME', 'learning_rate': 0.36815504324465487, 'n_estimators': 13, 'criterion': 'gini', 'max_depth': 5}. Best is trial 3 with value: 0.5896330809551544.\n"
     ]
    },
    {
     "name": "stdout",
     "output_type": "stream",
     "text": [
      "Accuracy: 0,7120974896926048 | Precision:0,489007456929802 | Recall:0,7115330651950239 | F1-score:0,5796471977749837\n"
     ]
    },
    {
     "name": "stderr",
     "output_type": "stream",
     "text": [
      "[I 2024-08-05 19:03:20,372] Trial 13 finished with value: 0.5935348348698798 and parameters: {'algorithm': 'SAMME', 'learning_rate': 0.6800009990564845, 'n_estimators': 30, 'criterion': 'entropy', 'max_depth': 7}. Best is trial 13 with value: 0.5935348348698798.\n"
     ]
    },
    {
     "name": "stdout",
     "output_type": "stream",
     "text": [
      "Accuracy: 0,7273367778299671 | Precision:0,5080580713905167 | Recall:0,7135908708259283 | F1-score:0,5935348348698798\n"
     ]
    },
    {
     "name": "stderr",
     "output_type": "stream",
     "text": [
      "[I 2024-08-05 19:16:54,312] Trial 14 finished with value: 0.586426463736605 and parameters: {'algorithm': 'SAMME', 'learning_rate': 0.7151224212880662, 'n_estimators': 30, 'criterion': 'entropy', 'max_depth': 7}. Best is trial 13 with value: 0.5935348348698798.\n"
     ]
    },
    {
     "name": "stdout",
     "output_type": "stream",
     "text": [
      "Accuracy: 0,7220395595219457 | Precision:0,5012943909724527 | Recall:0,7063885511177626 | F1-score:0,586426463736605\n"
     ]
    },
    {
     "name": "stderr",
     "output_type": "stream",
     "text": [
      "[I 2024-08-05 19:26:11,605] Trial 15 finished with value: 0.5715675149943265 and parameters: {'algorithm': 'SAMME', 'learning_rate': 1.3708874230421246, 'n_estimators': 24, 'criterion': 'gini', 'max_depth': 6}. Best is trial 13 with value: 0.5935348348698798.\n"
     ]
    },
    {
     "name": "stdout",
     "output_type": "stream",
     "text": [
      "Accuracy: 0,7241271332393925 | Precision:0,5042545584554881 | Recall:0,6596202413244785 | F1-score:0,5715675149943265\n"
     ]
    },
    {
     "name": "stderr",
     "output_type": "stream",
     "text": [
      "[I 2024-08-05 19:31:11,215] Trial 16 finished with value: 0.582047579235388 and parameters: {'algorithm': 'SAMME', 'learning_rate': 0.863665938531135, 'n_estimators': 15, 'criterion': 'gini', 'max_depth': 5}. Best is trial 13 with value: 0.5935348348698798.\n"
     ]
    },
    {
     "name": "stdout",
     "output_type": "stream",
     "text": [
      "Accuracy: 0,7130108031939878 | Precision:0,49017474236702296 | Recall:0,7163034327939388 | F1-score:0,582047579235388\n"
     ]
    },
    {
     "name": "stderr",
     "output_type": "stream",
     "text": [
      "[I 2024-08-05 19:44:18,779] Trial 17 finished with value: 0.5899828900295536 and parameters: {'algorithm': 'SAMME', 'learning_rate': 0.6551633972873695, 'n_estimators': 29, 'criterion': 'entropy', 'max_depth': 7}. Best is trial 13 with value: 0.5935348348698798.\n"
     ]
    },
    {
     "name": "stdout",
     "output_type": "stream",
     "text": [
      "Accuracy: 0,7248577840404989 | Precision:0,504891846921797 | Recall:0,7095687961837059 | F1-score:0,5899828900295536\n"
     ]
    },
    {
     "name": "stderr",
     "output_type": "stream",
     "text": [
      "[I 2024-08-05 19:54:44,586] Trial 18 finished with value: 0.5884320665914661 and parameters: {'algorithm': 'SAMME', 'learning_rate': 0.5833253318126839, 'n_estimators': 23, 'criterion': 'entropy', 'max_depth': 7}. Best is trial 13 with value: 0.5935348348698798.\n"
     ]
    },
    {
     "name": "stdout",
     "output_type": "stream",
     "text": [
      "Accuracy: 0,7238922811961798 | Precision:0,5036622719403383 | Recall:0,7075109905528014 | F1-score:0,5884320665914661\n"
     ]
    },
    {
     "name": "stderr",
     "output_type": "stream",
     "text": [
      "[I 2024-08-05 20:06:57,272] Trial 19 finished with value: 0.5882489369926557 and parameters: {'algorithm': 'SAMME', 'learning_rate': 0.5340844392452547, 'n_estimators': 27, 'criterion': 'entropy', 'max_depth': 7}. Best is trial 13 with value: 0.5935348348698798.\n"
     ]
    },
    {
     "name": "stdout",
     "output_type": "stream",
     "text": [
      "Accuracy: 0,7220395595219457 | Precision:0,5012846696093287 | Recall:0,711720138434197 | F1-score:0,5882489369926557\n"
     ]
    },
    {
     "name": "stderr",
     "output_type": "stream",
     "text": [
      "[I 2024-08-05 20:09:35,290] Trial 20 finished with value: 0.5737604881769641 and parameters: {'algorithm': 'SAMME', 'learning_rate': 1.158422007551537, 'n_estimators': 9, 'criterion': 'entropy', 'max_depth': 4}. Best is trial 13 with value: 0.5935348348698798.\n"
     ]
    },
    {
     "name": "stdout",
     "output_type": "stream",
     "text": [
      "Accuracy: 0,7083659516726685 | Precision:0,4843840556378389 | Recall:0,7035824525301656 | F1-score:0,5737604881769641\n"
     ]
    },
    {
     "name": "stderr",
     "output_type": "stream",
     "text": [
      "[I 2024-08-05 20:21:29,916] Trial 21 finished with value: 0.5876977422822915 and parameters: {'algorithm': 'SAMME', 'learning_rate': 0.7762107437172132, 'n_estimators': 30, 'criterion': 'entropy', 'max_depth': 6}. Best is trial 13 with value: 0.5935348348698798.\n"
     ]
    },
    {
     "name": "stdout",
     "output_type": "stream",
     "text": [
      "Accuracy: 0,7197954177756902 | Precision:0,4984693545235459 | Recall:0,7158357496960059 | F1-score:0,5876977422822915\n"
     ]
    },
    {
     "name": "stderr",
     "output_type": "stream",
     "text": [
      "[I 2024-08-05 20:34:18,033] Trial 22 finished with value: 0.5880827966136023 and parameters: {'algorithm': 'SAMME', 'learning_rate': 1.017514777127913, 'n_estimators': 28, 'criterion': 'entropy', 'max_depth': 7}. Best is trial 13 with value: 0.5935348348698798.\n"
     ]
    },
    {
     "name": "stdout",
     "output_type": "stream",
     "text": [
      "Accuracy: 0,7346432858410312 | Precision:0,5186481851957703 | Recall:0,6789823215788982 | F1-score:0,5880827966136023\n"
     ]
    },
    {
     "name": "stderr",
     "output_type": "stream",
     "text": [
      "[I 2024-08-05 20:47:48,132] Trial 23 finished with value: 0.5874703587546853 and parameters: {'algorithm': 'SAMME', 'learning_rate': 0.4967129963500344, 'n_estimators': 28, 'criterion': 'gini', 'max_depth': 6}. Best is trial 13 with value: 0.5935348348698798.\n"
     ]
    },
    {
     "name": "stdout",
     "output_type": "stream",
     "text": [
      "Accuracy: 0,7185428735452221 | Precision:0,49692656098350046 | Recall:0,7183612384248433 | F1-score:0,5874703587546853\n"
     ]
    },
    {
     "name": "stderr",
     "output_type": "stream",
     "text": [
      "[I 2024-08-05 21:00:15,144] Trial 24 finished with value: 0.5656983617632156 and parameters: {'algorithm': 'SAMME', 'learning_rate': 1.329273197369995, 'n_estimators': 23, 'criterion': 'entropy', 'max_depth': 7}. Best is trial 13 with value: 0.5935348348698798.\n"
     ]
    },
    {
     "name": "stdout",
     "output_type": "stream",
     "text": [
      "Accuracy: 0,7315902092792652 | Precision:0,5155853151697067 | Recall:0,62660181461042 | F1-score:0,5656983617632156\n"
     ]
    },
    {
     "name": "stderr",
     "output_type": "stream",
     "text": [
      "[I 2024-08-05 21:15:15,101] Trial 25 finished with value: 0.5816546209441795 and parameters: {'algorithm': 'SAMME', 'learning_rate': 0.7999540369360053, 'n_estimators': 30, 'criterion': 'entropy', 'max_depth': 6}. Best is trial 13 with value: 0.5935348348698798.\n"
     ]
    },
    {
     "name": "stdout",
     "output_type": "stream",
     "text": [
      "Accuracy: 0,7160377850842858 | Precision:0,49376672540956856 | Recall:0,707604527172388 | F1-score:0,5816546209441795\n"
     ]
    },
    {
     "name": "stderr",
     "output_type": "stream",
     "text": [
      "[I 2024-08-05 21:26:19,473] Trial 26 finished with value: 0.595553395699186 and parameters: {'algorithm': 'SAMME', 'learning_rate': 0.645003613327735, 'n_estimators': 16, 'criterion': 'gini', 'max_depth': 8}. Best is trial 26 with value: 0.595553395699186.\n"
     ]
    },
    {
     "name": "stdout",
     "output_type": "stream",
     "text": [
      "Accuracy: 0,739392516048223 | Precision:0,5251392658191687 | Recall:0,6877747638200356 | F1-score:0,595553395699186\n"
     ]
    },
    {
     "name": "stderr",
     "output_type": "stream",
     "text": [
      "[I 2024-08-05 21:37:36,478] Trial 27 finished with value: 0.5901703852359029 and parameters: {'algorithm': 'SAMME', 'learning_rate': 0.6847619758725125, 'n_estimators': 17, 'criterion': 'entropy', 'max_depth': 8}. Best is trial 26 with value: 0.595553395699186.\n"
     ]
    },
    {
     "name": "stdout",
     "output_type": "stream",
     "text": [
      "Accuracy: 0,728223996659882 | Precision:0,5093737263958701 | Recall:0,7014311102796745 | F1-score:0,5901703852359029\n"
     ]
    },
    {
     "name": "stderr",
     "output_type": "stream",
     "text": [
      "[I 2024-08-05 21:48:38,055] Trial 28 finished with value: 0.5893094030433087 and parameters: {'algorithm': 'SAMME', 'learning_rate': 0.4007863682197724, 'n_estimators': 17, 'criterion': 'gini', 'max_depth': 8}. Best is trial 26 with value: 0.595553395699186.\n"
     ]
    },
    {
     "name": "stdout",
     "output_type": "stream",
     "text": [
      "Accuracy: 0,7253274881269245 | Precision:0,5055224579958498 | Recall:0,7063885511177626 | F1-score:0,5893094030433087\n"
     ]
    },
    {
     "name": "stderr",
     "output_type": "stream",
     "text": [
      "[I 2024-08-05 21:56:36,629] Trial 29 finished with value: 0.5901893220798328 and parameters: {'algorithm': 'SAMME', 'learning_rate': 0.28808848299418816, 'n_estimators': 15, 'criterion': 'entropy', 'max_depth': 8}. Best is trial 26 with value: 0.595553395699186.\n"
     ]
    },
    {
     "name": "stdout",
     "output_type": "stream",
     "text": [
      "Accuracy: 0,7237879025103074 | Precision:0,5035011230017176 | Recall:0,7129361144888223 | F1-score:0,5901893220798328\n"
     ]
    },
    {
     "name": "stderr",
     "output_type": "stream",
     "text": [
      "[I 2024-08-05 22:04:44,317] Trial 30 finished with value: 0.58881324462324 and parameters: {'algorithm': 'SAMME', 'learning_rate': 0.2726591332448578, 'n_estimators': 15, 'criterion': 'entropy', 'max_depth': 8}. Best is trial 26 with value: 0.595553395699186.\n"
     ]
    },
    {
     "name": "stdout",
     "output_type": "stream",
     "text": [
      "Accuracy: 0,7226136422942435 | Precision:0,5020117406503529 | Recall:0,7119072116733701 | F1-score:0,58881324462324\n"
     ]
    },
    {
     "name": "stderr",
     "output_type": "stream",
     "text": [
      "[I 2024-08-05 22:12:58,067] Trial 31 finished with value: 0.5882534299367966 and parameters: {'algorithm': 'SAMME', 'learning_rate': 0.3857488139349805, 'n_estimators': 16, 'criterion': 'entropy', 'max_depth': 8}. Best is trial 26 with value: 0.595553395699186.\n"
     ]
    },
    {
     "name": "stdout",
     "output_type": "stream",
     "text": [
      "Accuracy: 0,7212045300349669 | Precision:0,5002294028970309 | Recall:0,7138714806846881 | F1-score:0,5882534299367966\n"
     ]
    },
    {
     "name": "stderr",
     "output_type": "stream",
     "text": [
      "[I 2024-08-05 22:19:10,898] Trial 32 finished with value: 0.589266240847484 and parameters: {'algorithm': 'SAMME', 'learning_rate': 0.45911783860442107, 'n_estimators': 12, 'criterion': 'entropy', 'max_depth': 8}. Best is trial 26 with value: 0.595553395699186.\n"
     ]
    },
    {
     "name": "stdout",
     "output_type": "stream",
     "text": [
      "Accuracy: 0,7248055946975628 | Precision:0,5048381715048381 | Recall:0,707604527172388 | F1-score:0,589266240847484\n"
     ]
    },
    {
     "name": "stderr",
     "output_type": "stream",
     "text": [
      "[I 2024-08-05 22:26:26,760] Trial 33 finished with value: 0.5936934508913102 and parameters: {'algorithm': 'SAMME', 'learning_rate': 0.25138773885580884, 'n_estimators': 14, 'criterion': 'entropy', 'max_depth': 8}. Best is trial 26 with value: 0.595553395699186.\n"
     ]
    },
    {
     "name": "stdout",
     "output_type": "stream",
     "text": [
      "Accuracy: 0,7246229319972861 | Precision:0,5045151158225363 | Recall:0,7211673370124404 | F1-score:0,5936934508913102\n"
     ]
    },
    {
     "name": "stderr",
     "output_type": "stream",
     "text": [
      "[I 2024-08-05 22:31:07,876] Trial 34 finished with value: 0.5874055803915522 and parameters: {'algorithm': 'SAMME', 'learning_rate': 0.3013697458395795, 'n_estimators': 9, 'criterion': 'entropy', 'max_depth': 8}. Best is trial 26 with value: 0.595553395699186.\n"
     ]
    },
    {
     "name": "stdout",
     "output_type": "stream",
     "text": [
      "Accuracy: 0,720630447262669 | Precision:0,4995084223635053 | Recall:0,7128425778692358 | F1-score:0,5874055803915522\n"
     ]
    },
    {
     "name": "stderr",
     "output_type": "stream",
     "text": [
      "[I 2024-08-05 22:38:35,139] Trial 35 finished with value: 0.5870198469724628 and parameters: {'algorithm': 'SAMME', 'learning_rate': 0.4374546504417539, 'n_estimators': 14, 'criterion': 'entropy', 'max_depth': 8}. Best is trial 26 with value: 0.595553395699186.\n"
     ]
    },
    {
     "name": "stdout",
     "output_type": "stream",
     "text": [
      "Accuracy: 0,7225353582798393 | Precision:0,5019261424017003 | Recall:0,7068562342156954 | F1-score:0,5870198469724628\n"
     ]
    },
    {
     "name": "stderr",
     "output_type": "stream",
     "text": [
      "[I 2024-08-05 22:43:40,483] Trial 36 finished with value: 0.5723916796842884 and parameters: {'algorithm': 'SAMME.R', 'learning_rate': 0.5774777870470434, 'n_estimators': 10, 'criterion': 'entropy', 'max_depth': 7}. Best is trial 26 with value: 0.595553395699186.\n"
     ]
    },
    {
     "name": "stdout",
     "output_type": "stream",
     "text": [
      "Accuracy: 0,7285632273889672 | Precision:0,5105977264393106 | Recall:0,6512019455616874 | F1-score:0,5723916796842884\n"
     ]
    },
    {
     "name": "stderr",
     "output_type": "stream",
     "text": [
      "[I 2024-08-05 22:46:32,645] Trial 37 finished with value: 0.5867628992628994 and parameters: {'algorithm': 'SAMME', 'learning_rate': 0.26936460936221734, 'n_estimators': 5, 'criterion': 'entropy', 'max_depth': 8}. Best is trial 26 with value: 0.595553395699186.\n"
     ]
    },
    {
     "name": "stdout",
     "output_type": "stream",
     "text": [
      "Accuracy: 0,7191169563175199 | Precision:0,49762323370449957 | Recall:0,7148068468805537 | F1-score:0,5867628992628994\n"
     ]
    },
    {
     "name": "stderr",
     "output_type": "stream",
     "text": [
      "[I 2024-08-05 22:55:27,856] Trial 38 finished with value: 0.5895834131759475 and parameters: {'algorithm': 'SAMME.R', 'learning_rate': 0.6194534540705378, 'n_estimators': 21, 'criterion': 'gini', 'max_depth': 3}. Best is trial 26 with value: 0.595553395699186.\n"
     ]
    },
    {
     "name": "stdout",
     "output_type": "stream",
     "text": [
      "Accuracy: 0,7205521632482647 | Precision:0,49941566030385665 | Recall:0,7194836778598821 | F1-score:0,5895834131759475\n"
     ]
    },
    {
     "name": "stderr",
     "output_type": "stream",
     "text": [
      "[I 2024-08-05 23:09:07,391] Trial 39 finished with value: 0.57973858774581 and parameters: {'algorithm': 'SAMME', 'learning_rate': 0.9933556681645813, 'n_estimators': 19, 'criterion': 'entropy', 'max_depth': 7}. Best is trial 26 with value: 0.595553395699186.\n"
     ]
    },
    {
     "name": "stdout",
     "output_type": "stream",
     "text": [
      "Accuracy: 0,7206043525912009 | Precision:0,49945894765318544 | Recall:0,6907679356468057 | F1-score:0,57973858774581\n"
     ]
    },
    {
     "name": "stderr",
     "output_type": "stream",
     "text": [
      "[I 2024-08-05 23:15:14,269] Trial 40 finished with value: 0.551470909647244 and parameters: {'algorithm': 'SAMME.R', 'learning_rate': 0.48732911738929785, 'n_estimators': 11, 'criterion': 'gini', 'max_depth': 8}. Best is trial 26 with value: 0.595553395699186.\n"
     ]
    },
    {
     "name": "stdout",
     "output_type": "stream",
     "text": [
      "Accuracy: 0,7322425760659673 | Precision:0,5176431971114394 | Recall:0,5900289963520718 | F1-score:0,551470909647244\n"
     ]
    },
    {
     "name": "stderr",
     "output_type": "stream",
     "text": [
      "[I 2024-08-05 23:24:52,639] Trial 41 finished with value: 0.5935271969879036 and parameters: {'algorithm': 'SAMME', 'learning_rate': 0.7346259350836621, 'n_estimators': 17, 'criterion': 'entropy', 'max_depth': 8}. Best is trial 26 with value: 0.595553395699186.\n"
     ]
    },
    {
     "name": "stdout",
     "output_type": "stream",
     "text": [
      "Accuracy: 0,7351912739418611 | Precision:0,5190192644483362 | Recall:0,6930128145168833 | F1-score:0,5935271969879036\n"
     ]
    },
    {
     "name": "stderr",
     "output_type": "stream",
     "text": [
      "[I 2024-08-05 23:36:36,804] Trial 42 finished with value: 0.5953362944162437 and parameters: {'algorithm': 'SAMME', 'learning_rate': 0.7650113357432213, 'n_estimators': 18, 'criterion': 'entropy', 'max_depth': 8}. Best is trial 26 with value: 0.595553395699186.\n"
     ]
    },
    {
     "name": "stdout",
     "output_type": "stream",
     "text": [
      "Accuracy: 0,7337299723396482 | Precision:0,5167641996557659 | Recall:0,7020858666167805 | F1-score:0,5953362944162437\n"
     ]
    },
    {
     "name": "stderr",
     "output_type": "stream",
     "text": [
      "[I 2024-08-05 23:47:55,922] Trial 43 finished with value: 0.5921543714762169 and parameters: {'algorithm': 'SAMME', 'learning_rate': 0.7930469575921176, 'n_estimators': 20, 'criterion': 'entropy', 'max_depth': 8}. Best is trial 26 with value: 0.595553395699186.\n"
     ]
    },
    {
     "name": "stdout",
     "output_type": "stream",
     "text": [
      "Accuracy: 0,7319555346798183 | Precision:0,5144532597447395 | Recall:0,6975025722570386 | F1-score:0,5921543714762169\n"
     ]
    },
    {
     "name": "stderr",
     "output_type": "stream",
     "text": [
      "[I 2024-08-05 23:57:22,357] Trial 44 finished with value: 0.5869857160297888 and parameters: {'algorithm': 'SAMME', 'learning_rate': 0.905639926307372, 'n_estimators': 18, 'criterion': 'entropy', 'max_depth': 8}. Best is trial 26 with value: 0.595553395699186.\n"
     ]
    },
    {
     "name": "stdout",
     "output_type": "stream",
     "text": [
      "Accuracy: 0,7351651792703929 | Precision:0,5195216827546463 | Recall:0,6745861004583295 | F1-score:0,5869857160297888\n"
     ]
    },
    {
     "name": "stderr",
     "output_type": "stream",
     "text": [
      "[I 2024-08-06 00:03:17,767] Trial 45 finished with value: 0.5883266066438995 and parameters: {'algorithm': 'SAMME', 'learning_rate': 0.7403260748408594, 'n_estimators': 13, 'criterion': 'entropy', 'max_depth': 7}. Best is trial 26 with value: 0.595553395699186.\n"
     ]
    },
    {
     "name": "stdout",
     "output_type": "stream",
     "text": [
      "Accuracy: 0,7231877250665414 | Precision:0,5027525369768522 | Recall:0,7090075764661865 | F1-score:0,5883266066438995\n"
     ]
    },
    {
     "name": "stderr",
     "output_type": "stream",
     "text": [
      "[I 2024-08-06 00:06:47,288] Trial 46 finished with value: 0.5734916166931832 and parameters: {'algorithm': 'SAMME', 'learning_rate': 1.0463426378461436, 'n_estimators': 7, 'criterion': 'gini', 'max_depth': 8}. Best is trial 26 with value: 0.595553395699186.\n"
     ]
    },
    {
     "name": "stdout",
     "output_type": "stream",
     "text": [
      "Accuracy: 0,7271802098011586 | Precision:0,50853711474461 | Recall:0,6574688990739874 | F1-score:0,5734916166931832\n"
     ]
    },
    {
     "name": "stderr",
     "output_type": "stream",
     "text": [
      "[I 2024-08-06 00:15:32,421] Trial 47 finished with value: 0.5032240486785942 and parameters: {'algorithm': 'SAMME.R', 'learning_rate': 1.2644495573955588, 'n_estimators': 18, 'criterion': 'entropy', 'max_depth': 7}. Best is trial 26 with value: 0.595553395699186.\n"
     ]
    },
    {
     "name": "stdout",
     "output_type": "stream",
     "text": [
      "Accuracy: 0,7145242941391368 | Precision:0,48901244373841674 | Recall:0,5182864091291741 | F1-score:0,5032240486785942\n"
     ]
    },
    {
     "name": "stderr",
     "output_type": "stream",
     "text": [
      "[I 2024-08-06 00:29:12,873] Trial 48 finished with value: 0.588329877713367 and parameters: {'algorithm': 'SAMME', 'learning_rate': 0.8776013849604478, 'n_estimators': 25, 'criterion': 'gini', 'max_depth': 8}. Best is trial 26 with value: 0.595553395699186.\n"
     ]
    },
    {
     "name": "stdout",
     "output_type": "stream",
     "text": [
      "Accuracy: 0,7461249412869893 | Precision:0,5371658167207541 | Recall:0,6502665793658218 | F1-score:0,588329877713367\n"
     ]
    },
    {
     "name": "stderr",
     "output_type": "stream",
     "text": [
      "[I 2024-08-06 00:36:39,310] Trial 49 finished with value: 0.5738167938931298 and parameters: {'algorithm': 'SAMME', 'learning_rate': 1.6216458843880428, 'n_estimators': 22, 'criterion': 'entropy', 'max_depth': 4}. Best is trial 26 with value: 0.595553395699186.\n"
     ]
    },
    {
     "name": "stdout",
     "output_type": "stream",
     "text": [
      "Accuracy: 0,7086268983873493 | Precision:0,48468631117415695 | Recall:0,7031147694322327 | F1-score:0,5738167938931298\n",
      "Trial 0:\n",
      "  Value: 0.5866347157268195\n",
      "  Params:\n",
      "    algorithm: SAMME\n",
      "    learning_rate: 0.35909055462534367\n",
      "    n_estimators: 21\n",
      "    criterion: entropy\n",
      "    max_depth: 8\n",
      "\n",
      "Trial 1:\n",
      "  Value: 0.5792128391287734\n",
      "  Params:\n",
      "    algorithm: SAMME\n",
      "    learning_rate: 1.1602053576918157\n",
      "    n_estimators: 26\n",
      "    criterion: entropy\n",
      "    max_depth: 4\n",
      "\n",
      "Trial 2:\n",
      "  Value: 0.5294613167812016\n",
      "  Params:\n",
      "    algorithm: SAMME.R\n",
      "    learning_rate: 0.6898452721935281\n",
      "    n_estimators: 21\n",
      "    criterion: entropy\n",
      "    max_depth: 7\n",
      "\n",
      "Trial 3:\n",
      "  Value: 0.5896330809551544\n",
      "  Params:\n",
      "    algorithm: SAMME\n",
      "    learning_rate: 0.885752789823784\n",
      "    n_estimators: 30\n",
      "    criterion: gini\n",
      "    max_depth: 6\n",
      "\n",
      "Trial 4:\n",
      "  Value: 0.5642186262306214\n",
      "  Params:\n",
      "    algorithm: SAMME\n",
      "    learning_rate: 0.5533629459916752\n",
      "    n_estimators: 6\n",
      "    criterion: entropy\n",
      "    max_depth: 3\n",
      "\n",
      "Trial 5:\n",
      "  Value: 0.5526438338766352\n",
      "  Params:\n",
      "    algorithm: SAMME.R\n",
      "    learning_rate: 0.8953729161084549\n",
      "    n_estimators: 19\n",
      "    criterion: entropy\n",
      "    max_depth: 6\n",
      "\n",
      "Trial 6:\n",
      "  Value: 0.46892434178330233\n",
      "  Params:\n",
      "    algorithm: SAMME.R\n",
      "    learning_rate: 0.9751776060995159\n",
      "    n_estimators: 25\n",
      "    criterion: gini\n",
      "    max_depth: 8\n",
      "\n",
      "Trial 7:\n",
      "  Value: 0.5049699967935505\n",
      "  Params:\n",
      "    algorithm: SAMME.R\n",
      "    learning_rate: 1.1133985789513736\n",
      "    n_estimators: 20\n",
      "    criterion: gini\n",
      "    max_depth: 7\n",
      "\n",
      "Trial 8:\n",
      "  Value: 0.4489568845618915\n",
      "  Params:\n",
      "    algorithm: SAMME.R\n",
      "    learning_rate: 1.9399499292742495\n",
      "    n_estimators: 27\n",
      "    criterion: gini\n",
      "    max_depth: 8\n",
      "\n",
      "Trial 9:\n",
      "  Value: 0.4581472952013912\n",
      "  Params:\n",
      "    algorithm: SAMME.R\n",
      "    learning_rate: 1.741309986657235\n",
      "    n_estimators: 19\n",
      "    criterion: entropy\n",
      "    max_depth: 8\n",
      "\n",
      "Trial 10:\n",
      "  Value: 0.5673454805287602\n",
      "  Params:\n",
      "    algorithm: SAMME\n",
      "    learning_rate: 1.4859822766927149\n",
      "    n_estimators: 12\n",
      "    criterion: gini\n",
      "    max_depth: 5\n",
      "\n",
      "Trial 11:\n",
      "  Value: 0.5862386730148978\n",
      "  Params:\n",
      "    algorithm: SAMME\n",
      "    learning_rate: 0.3123077370123374\n",
      "    n_estimators: 30\n",
      "    criterion: gini\n",
      "    max_depth: 6\n",
      "\n",
      "Trial 12:\n",
      "  Value: 0.5796471977749837\n",
      "  Params:\n",
      "    algorithm: SAMME\n",
      "    learning_rate: 0.36815504324465487\n",
      "    n_estimators: 13\n",
      "    criterion: gini\n",
      "    max_depth: 5\n",
      "\n",
      "Trial 13:\n",
      "  Value: 0.5935348348698798\n",
      "  Params:\n",
      "    algorithm: SAMME\n",
      "    learning_rate: 0.6800009990564845\n",
      "    n_estimators: 30\n",
      "    criterion: entropy\n",
      "    max_depth: 7\n",
      "\n",
      "Trial 14:\n",
      "  Value: 0.586426463736605\n",
      "  Params:\n",
      "    algorithm: SAMME\n",
      "    learning_rate: 0.7151224212880662\n",
      "    n_estimators: 30\n",
      "    criterion: entropy\n",
      "    max_depth: 7\n",
      "\n",
      "Trial 15:\n",
      "  Value: 0.5715675149943265\n",
      "  Params:\n",
      "    algorithm: SAMME\n",
      "    learning_rate: 1.3708874230421246\n",
      "    n_estimators: 24\n",
      "    criterion: gini\n",
      "    max_depth: 6\n",
      "\n",
      "Trial 16:\n",
      "  Value: 0.582047579235388\n",
      "  Params:\n",
      "    algorithm: SAMME\n",
      "    learning_rate: 0.863665938531135\n",
      "    n_estimators: 15\n",
      "    criterion: gini\n",
      "    max_depth: 5\n",
      "\n",
      "Trial 17:\n",
      "  Value: 0.5899828900295536\n",
      "  Params:\n",
      "    algorithm: SAMME\n",
      "    learning_rate: 0.6551633972873695\n",
      "    n_estimators: 29\n",
      "    criterion: entropy\n",
      "    max_depth: 7\n",
      "\n",
      "Trial 18:\n",
      "  Value: 0.5884320665914661\n",
      "  Params:\n",
      "    algorithm: SAMME\n",
      "    learning_rate: 0.5833253318126839\n",
      "    n_estimators: 23\n",
      "    criterion: entropy\n",
      "    max_depth: 7\n",
      "\n",
      "Trial 19:\n",
      "  Value: 0.5882489369926557\n",
      "  Params:\n",
      "    algorithm: SAMME\n",
      "    learning_rate: 0.5340844392452547\n",
      "    n_estimators: 27\n",
      "    criterion: entropy\n",
      "    max_depth: 7\n",
      "\n",
      "Trial 20:\n",
      "  Value: 0.5737604881769641\n",
      "  Params:\n",
      "    algorithm: SAMME\n",
      "    learning_rate: 1.158422007551537\n",
      "    n_estimators: 9\n",
      "    criterion: entropy\n",
      "    max_depth: 4\n",
      "\n",
      "Trial 21:\n",
      "  Value: 0.5876977422822915\n",
      "  Params:\n",
      "    algorithm: SAMME\n",
      "    learning_rate: 0.7762107437172132\n",
      "    n_estimators: 30\n",
      "    criterion: entropy\n",
      "    max_depth: 6\n",
      "\n",
      "Trial 22:\n",
      "  Value: 0.5880827966136023\n",
      "  Params:\n",
      "    algorithm: SAMME\n",
      "    learning_rate: 1.017514777127913\n",
      "    n_estimators: 28\n",
      "    criterion: entropy\n",
      "    max_depth: 7\n",
      "\n",
      "Trial 23:\n",
      "  Value: 0.5874703587546853\n",
      "  Params:\n",
      "    algorithm: SAMME\n",
      "    learning_rate: 0.4967129963500344\n",
      "    n_estimators: 28\n",
      "    criterion: gini\n",
      "    max_depth: 6\n",
      "\n",
      "Trial 24:\n",
      "  Value: 0.5656983617632156\n",
      "  Params:\n",
      "    algorithm: SAMME\n",
      "    learning_rate: 1.329273197369995\n",
      "    n_estimators: 23\n",
      "    criterion: entropy\n",
      "    max_depth: 7\n",
      "\n",
      "Trial 25:\n",
      "  Value: 0.5816546209441795\n",
      "  Params:\n",
      "    algorithm: SAMME\n",
      "    learning_rate: 0.7999540369360053\n",
      "    n_estimators: 30\n",
      "    criterion: entropy\n",
      "    max_depth: 6\n",
      "\n",
      "Trial 26:\n",
      "  Value: 0.595553395699186\n",
      "  Params:\n",
      "    algorithm: SAMME\n",
      "    learning_rate: 0.645003613327735\n",
      "    n_estimators: 16\n",
      "    criterion: gini\n",
      "    max_depth: 8\n",
      "\n",
      "Trial 27:\n",
      "  Value: 0.5901703852359029\n",
      "  Params:\n",
      "    algorithm: SAMME\n",
      "    learning_rate: 0.6847619758725125\n",
      "    n_estimators: 17\n",
      "    criterion: entropy\n",
      "    max_depth: 8\n",
      "\n",
      "Trial 28:\n",
      "  Value: 0.5893094030433087\n",
      "  Params:\n",
      "    algorithm: SAMME\n",
      "    learning_rate: 0.4007863682197724\n",
      "    n_estimators: 17\n",
      "    criterion: gini\n",
      "    max_depth: 8\n",
      "\n",
      "Trial 29:\n",
      "  Value: 0.5901893220798328\n",
      "  Params:\n",
      "    algorithm: SAMME\n",
      "    learning_rate: 0.28808848299418816\n",
      "    n_estimators: 15\n",
      "    criterion: entropy\n",
      "    max_depth: 8\n",
      "\n",
      "Trial 30:\n",
      "  Value: 0.58881324462324\n",
      "  Params:\n",
      "    algorithm: SAMME\n",
      "    learning_rate: 0.2726591332448578\n",
      "    n_estimators: 15\n",
      "    criterion: entropy\n",
      "    max_depth: 8\n",
      "\n",
      "Trial 31:\n",
      "  Value: 0.5882534299367966\n",
      "  Params:\n",
      "    algorithm: SAMME\n",
      "    learning_rate: 0.3857488139349805\n",
      "    n_estimators: 16\n",
      "    criterion: entropy\n",
      "    max_depth: 8\n",
      "\n",
      "Trial 32:\n",
      "  Value: 0.589266240847484\n",
      "  Params:\n",
      "    algorithm: SAMME\n",
      "    learning_rate: 0.45911783860442107\n",
      "    n_estimators: 12\n",
      "    criterion: entropy\n",
      "    max_depth: 8\n",
      "\n",
      "Trial 33:\n",
      "  Value: 0.5936934508913102\n",
      "  Params:\n",
      "    algorithm: SAMME\n",
      "    learning_rate: 0.25138773885580884\n",
      "    n_estimators: 14\n",
      "    criterion: entropy\n",
      "    max_depth: 8\n",
      "\n",
      "Trial 34:\n",
      "  Value: 0.5874055803915522\n",
      "  Params:\n",
      "    algorithm: SAMME\n",
      "    learning_rate: 0.3013697458395795\n",
      "    n_estimators: 9\n",
      "    criterion: entropy\n",
      "    max_depth: 8\n",
      "\n",
      "Trial 35:\n",
      "  Value: 0.5870198469724628\n",
      "  Params:\n",
      "    algorithm: SAMME\n",
      "    learning_rate: 0.4374546504417539\n",
      "    n_estimators: 14\n",
      "    criterion: entropy\n",
      "    max_depth: 8\n",
      "\n",
      "Trial 36:\n",
      "  Value: 0.5723916796842884\n",
      "  Params:\n",
      "    algorithm: SAMME.R\n",
      "    learning_rate: 0.5774777870470434\n",
      "    n_estimators: 10\n",
      "    criterion: entropy\n",
      "    max_depth: 7\n",
      "\n",
      "Trial 37:\n",
      "  Value: 0.5867628992628994\n",
      "  Params:\n",
      "    algorithm: SAMME\n",
      "    learning_rate: 0.26936460936221734\n",
      "    n_estimators: 5\n",
      "    criterion: entropy\n",
      "    max_depth: 8\n",
      "\n",
      "Trial 38:\n",
      "  Value: 0.5895834131759475\n",
      "  Params:\n",
      "    algorithm: SAMME.R\n",
      "    learning_rate: 0.6194534540705378\n",
      "    n_estimators: 21\n",
      "    criterion: gini\n",
      "    max_depth: 3\n",
      "\n",
      "Trial 39:\n",
      "  Value: 0.57973858774581\n",
      "  Params:\n",
      "    algorithm: SAMME\n",
      "    learning_rate: 0.9933556681645813\n",
      "    n_estimators: 19\n",
      "    criterion: entropy\n",
      "    max_depth: 7\n",
      "\n",
      "Trial 40:\n",
      "  Value: 0.551470909647244\n",
      "  Params:\n",
      "    algorithm: SAMME.R\n",
      "    learning_rate: 0.48732911738929785\n",
      "    n_estimators: 11\n",
      "    criterion: gini\n",
      "    max_depth: 8\n",
      "\n",
      "Trial 41:\n",
      "  Value: 0.5935271969879036\n",
      "  Params:\n",
      "    algorithm: SAMME\n",
      "    learning_rate: 0.7346259350836621\n",
      "    n_estimators: 17\n",
      "    criterion: entropy\n",
      "    max_depth: 8\n",
      "\n",
      "Trial 42:\n",
      "  Value: 0.5953362944162437\n",
      "  Params:\n",
      "    algorithm: SAMME\n",
      "    learning_rate: 0.7650113357432213\n",
      "    n_estimators: 18\n",
      "    criterion: entropy\n",
      "    max_depth: 8\n",
      "\n",
      "Trial 43:\n",
      "  Value: 0.5921543714762169\n",
      "  Params:\n",
      "    algorithm: SAMME\n",
      "    learning_rate: 0.7930469575921176\n",
      "    n_estimators: 20\n",
      "    criterion: entropy\n",
      "    max_depth: 8\n",
      "\n",
      "Trial 44:\n",
      "  Value: 0.5869857160297888\n",
      "  Params:\n",
      "    algorithm: SAMME\n",
      "    learning_rate: 0.905639926307372\n",
      "    n_estimators: 18\n",
      "    criterion: entropy\n",
      "    max_depth: 8\n",
      "\n",
      "Trial 45:\n",
      "  Value: 0.5883266066438995\n",
      "  Params:\n",
      "    algorithm: SAMME\n",
      "    learning_rate: 0.7403260748408594\n",
      "    n_estimators: 13\n",
      "    criterion: entropy\n",
      "    max_depth: 7\n",
      "\n",
      "Trial 46:\n",
      "  Value: 0.5734916166931832\n",
      "  Params:\n",
      "    algorithm: SAMME\n",
      "    learning_rate: 1.0463426378461436\n",
      "    n_estimators: 7\n",
      "    criterion: gini\n",
      "    max_depth: 8\n",
      "\n",
      "Trial 47:\n",
      "  Value: 0.5032240486785942\n",
      "  Params:\n",
      "    algorithm: SAMME.R\n",
      "    learning_rate: 1.2644495573955588\n",
      "    n_estimators: 18\n",
      "    criterion: entropy\n",
      "    max_depth: 7\n",
      "\n",
      "Trial 48:\n",
      "  Value: 0.588329877713367\n",
      "  Params:\n",
      "    algorithm: SAMME\n",
      "    learning_rate: 0.8776013849604478\n",
      "    n_estimators: 25\n",
      "    criterion: gini\n",
      "    max_depth: 8\n",
      "\n",
      "Trial 49:\n",
      "  Value: 0.5738167938931298\n",
      "  Params:\n",
      "    algorithm: SAMME\n",
      "    learning_rate: 1.6216458843880428\n",
      "    n_estimators: 22\n",
      "    criterion: entropy\n",
      "    max_depth: 4\n",
      "\n",
      "\n",
      "\n",
      "\n",
      "Best trial:\n",
      " Val Value: 0.595553395699186\n",
      " Val Params:\n",
      "    algorithm: SAMME\n",
      "    learning_rate: 0.645003613327735\n",
      "    n_estimators: 16\n",
      "    criterion: gini\n",
      "    max_depth: 8\n",
      "Test: Accuracy: 0,728041477209715 | Precision:0,5090157508374314 | Recall:0,7097992446829656 | F1-score:0,5928692981363882\n"
     ]
    }
   ],
   "source": [
    "data = pd.read_csv('data.csv', delimiter=';')\n",
    "\n",
    "print(data.shape[0])\n",
    "data = data.dropna(subset=['Vai Chover Amanha'])#Removendo linhas com valores faltantes na coluna de outliers\n",
    "\n",
    "data.reset_index(drop=True, inplace=True)\n",
    "print(data.shape[0])\n",
    "\n",
    "X = data.drop('Vai Chover Amanha', axis=1)\n",
    "y = data['Vai Chover Amanha']\n",
    "\n",
    "X_train, X_test, y_train, y_test = train_test_split(X, y, test_size=0.15, stratify=y, random_state=42)\n",
    "\n",
    "    \n",
    "\n",
    "def objective(trial):\n",
    "    algorithm = trial.suggest_categorical('algorithm', ['SAMME', 'SAMME.R'])\n",
    "    learning_rate = trial.suggest_float('learning_rate', 0.25, 2)\n",
    "    n_estimators = trial.suggest_int('n_estimators', 5, 30)\n",
    "    criterion = trial.suggest_categorical('criterion', ['gini', 'entropy'])\n",
    "    max_depth = trial.suggest_int('max_depth', 3, 8)\n",
    "\n",
    "    dt = DecisionTreeClassifier(class_weight='balanced', splitter='best', max_depth=max_depth, criterion=criterion, random_state=42)\n",
    "    ada = AdaBoostClassifier(base_estimator=dt, n_estimators=n_estimators*10, algorithm=algorithm, learning_rate=learning_rate, random_state=42)\n",
    "    \n",
    "\n",
    "    pipeline = Pipeline(steps=[\n",
    "        ('manual',ManualFeatureSelectorTransformer()),\n",
    "        ('imputer',ImputerTransformer()),\n",
    "        ('date', DateTransformer()),\n",
    "        ('scaler', RobustScalerTransformer()),\n",
    "        ('os', RandomOverSampler(random_state=42)),\n",
    "        ('model', ada),\n",
    "        ])\n",
    "\n",
    "    X_train_2, X_val, y_train_2, y_val = train_test_split(X_train.copy(), y_train.copy(), stratify=y_train, test_size=0.1875, random_state=42)\n",
    "    pipeline.fit(X_train_2, y_train_2)\n",
    "\n",
    "    y_pred = pipeline.predict(X_val)\n",
    "    accuracy = accuracy_score(y_val, y_pred)\n",
    "\n",
    "    y_true  = (y_val == 'Sim').astype(int)\n",
    "    y_pred  = (y_pred == 'Sim').astype(int)\n",
    "\n",
    "    precision = precision_score(y_true, y_pred)\n",
    "    recall = recall_score(y_true, y_pred)\n",
    "    f1 = f1_score(y_true, y_pred)\n",
    "\n",
    "    print(f\"Accuracy: {str(accuracy).replace('.',',')} | Precision:{str(precision).replace('.',',')} | Recall:{str(recall).replace('.',',')} | F1-score:{str(f1).replace('.',',')}\")\n",
    "    #score = cross_val_score(pipeline, X.copy(), y.copy(), n_jobs=-1, cv=5).mean()\n",
    "    return f1\n",
    "\n",
    "study = optuna.create_study(direction='maximize')\n",
    "study.optimize(objective, n_trials=50)\n",
    "\n",
    "for trial in study.trials:\n",
    "    print(f\"Trial {trial.number}:\")\n",
    "    print(f\"  Value: {trial.value}\")\n",
    "    print(\"  Params:\")\n",
    "    for key, value in trial.params.items():\n",
    "        print(f\"    {key}: {value}\")\n",
    "    print()\n",
    "\n",
    "print(\"\\n\\n\\nBest trial:\")\n",
    "trial = study.best_trial\n",
    "\n",
    "print(f\" Val Value: {trial.value}\")\n",
    "print(\" Val Params:\")\n",
    "for key, value in trial.params.items():\n",
    "    print(f\"    {key}: {value}\")\n",
    "\n",
    "dt = DecisionTreeClassifier(class_weight='balanced', splitter='best', max_depth=trial.params['max_depth'], criterion=trial.params['criterion'], random_state=42)\n",
    "ada = AdaBoostClassifier(base_estimator=dt, n_estimators=trial.params['n_estimators']*10, algorithm=trial.params['algorithm'], learning_rate=trial.params['learning_rate'], random_state=42)\n",
    "\n",
    "pipeline = Pipeline(steps=[\n",
    "    ('manual',ManualFeatureSelectorTransformer()),\n",
    "    ('imputer',ImputerTransformer()),\n",
    "    ('date', DateTransformer()),\n",
    "    ('scaler', RobustScalerTransformer()),\n",
    "    ('os', RandomOverSampler(random_state=42)),\n",
    "    ('model', ada),\n",
    "    ])\n",
    "\n",
    "pipeline.fit(X_train, y_train)\n",
    "\n",
    "y_pred = pipeline.predict(X_test)\n",
    "accuracy = accuracy_score(y_test, y_pred)\n",
    "\n",
    "y_true  = (y_test == 'Sim').astype(int)\n",
    "y_pred  = (y_pred == 'Sim').astype(int)\n",
    "\n",
    "precision = precision_score(y_true, y_pred)\n",
    "recall = recall_score(y_true, y_pred)\n",
    "f1 = f1_score(y_true, y_pred)\n",
    "\n",
    "print(f\"Test: Accuracy: {str(accuracy).replace('.',',')} | Precision:{str(precision).replace('.',',')} | Recall:{str(recall).replace('.',',')} | F1-score:{str(f1).replace('.',',')}\")\n"
   ]
  },
  {
   "cell_type": "code",
   "execution_count": 26,
   "metadata": {},
   "outputs": [
    {
     "name": "stdout",
     "output_type": "stream",
     "text": [
      "2001\n",
      "Test: Accuracy: 0,64 | Precision:0,18181818181818182 | Recall:0,3076923076923077 | F1-score:0,2285714285714286\n",
      ",\t0,18181818181818182\t0,3076923076923077\t0,2285714285714286\n",
      "2002\n",
      "Test: Accuracy: 0,6556016597510373 | Precision:0,3956043956043956 | Recall:0,5625 | F1-score:0,4645161290322581\n",
      ",65560165975103\t0,3956043956043956\t0,5625\t0,4645161290322581\n",
      "2003\n",
      "Test: Accuracy: 0,7387755102040816 | Precision:0,41818181818181815 | Recall:0,41818181818181815 | F1-score:0,41818181818181815\n",
      ",73877551020408\t0,41818181818181815\t0,41818181818181815\t0,41818181818181815\n",
      "2004\n",
      "Test: Accuracy: 0,7391304347826086 | Precision:0,35714285714285715 | Recall:0,5263157894736842 | F1-score:0,425531914893617\n",
      ",73913043478260\t0,35714285714285715\t0,5263157894736842\t0,425531914893617\n",
      "2005\n",
      "Test: Accuracy: 0,7813953488372093 | Precision:0,5211267605633803 | Recall:0,74 | F1-score:0,6115702479338843\n",
      ",78139534883720\t0,5211267605633803\t0,74\t0,6115702479338843\n",
      "2006\n",
      "Test: Accuracy: 0,7376237623762376 | Precision:0,49324324324324326 | Recall:0,7019230769230769 | F1-score:0,5793650793650794\n",
      ",73762376237623\t0,49324324324324326\t0,7019230769230769\t0,5793650793650794\n",
      "2007\n",
      "Test: Accuracy: 0,6900337837837838 | Precision:0,5103969754253308 | Recall:0,7142857142857143 | F1-score:0,5953693495038588\n",
      ",69003378378378\t0,5103969754253308\t0,7142857142857143\t0,5953693495038588\n",
      "2008\n",
      "Test: Accuracy: 0,7160493827160493 | Precision:0,47674418604651164 | Recall:0,6307692307692307 | F1-score:0,543046357615894\n",
      ",71604938271604\t0,47674418604651164\t0,6307692307692307\t0,543046357615894\n",
      "2009\n",
      "Test: Accuracy: 0,7211694639956686 | Precision:0,505249343832021 | Recall:0,7361376673040153 | F1-score:0,5992217898832685\n",
      ",72116946399566\t0,505249343832021\t0,7361376673040153\t0,5992217898832685\n",
      "2010\n",
      "Test: Accuracy: 0,7161430119176598 | Precision:0,4846715328467153 | Recall:0,6600397614314115 | F1-score:0,5589225589225589\n",
      ",71614301191765\t0,4846715328467153\t0,6600397614314115\t0,5589225589225589\n",
      "2011\n",
      "Test: Accuracy: 0,7348277747402953 | Precision:0,5326231691078562 | Recall:0,7490636704119851 | F1-score:0,622568093385214\n",
      ",73482777474029\t0,5326231691078562\t0,7490636704119851\t0,622568093385214\n",
      "2012\n",
      "Test: Accuracy: 0,7398239823982399 | Precision:0,4554294975688817 | Recall:0,6722488038277512 | F1-score:0,5429951690821255\n",
      ",73982398239823\t0,4554294975688817\t0,6722488038277512\t0,5429951690821255\n",
      "2013\n",
      "Test: Accuracy: 0,7388022143935581 | Precision:0,5166002656042497 | Recall:0,7150735294117647 | F1-score:0,599845797995374\n",
      ",73880221439355\t0,5166002656042497\t0,7150735294117647\t0,599845797995374\n",
      "2014\n",
      "Test: Accuracy: 0,71875 | Precision:0,5506172839506173 | Recall:0,7384105960264901 | F1-score:0,6308345120226309\n",
      ",718\t0,5506172839506173\t0,7384105960264901\t0,6308345120226309\n",
      "2015\n",
      "Test: Accuracy: 0,7094379639448568 | Precision:0,5406643757159221 | Recall:0,7625201938610663 | F1-score:0,6327077747989276\n",
      ",70943796394485\t0,5406643757159221\t0,7625201938610663\t0,6327077747989276\n",
      "2016\n",
      "Test: Accuracy: 0,7302371541501976 | Precision:0,4919053549190536 | Recall:0,7410881801125704 | F1-score:0,5913173652694612\n",
      ",73023715415019\t0,4919053549190536\t0,7410881801125704\t0,5913173652694612\n",
      "2017\n",
      "Test: Accuracy: 0,7380952380952381 | Precision:0,5477272727272727 | Recall:0,7347560975609756 | F1-score:0,6276041666666667\n",
      ",73809523809523\t0,5477272727272727\t0,7347560975609756\t0,6276041666666667\n",
      "2018\n",
      "Test: Accuracy: 0,7204830053667263 | Precision:0,5132450331125827 | Recall:0,7164869029275809 | F1-score:0,5980707395498391\n",
      ",72048300536672\t0,5132450331125827\t0,7164869029275809\t0,5980707395498391\n",
      "2019\n",
      "Test: Accuracy: 0,7300884955752213 | Precision:0,5414012738853503 | Recall:0,7412790697674418 | F1-score:0,6257668711656442\n",
      ",73008849557522\t0,5414012738853503\t0,7412790697674418\t0,6257668711656442\n",
      "2020\n",
      "Test: Accuracy: 0,7612065354000838 | Precision:0,4781420765027322 | Recall:0,6505576208178439 | F1-score:0,5511811023622047\n",
      ",76120653540008\t0,4781420765027322\t0,6505576208178439\t0,5511811023622047\n",
      "2021\n",
      "Test: Accuracy: 0,766566265060241 | Precision:0,49413735343383586 | Recall:0,6441048034934498 | F1-score:0,5592417061611374\n",
      ",7665662650602\t0,49413735343383586\t0,6441048034934498\t0,5592417061611374\n",
      "2022\n",
      "Test: Accuracy: 0,7272727272727273 | Precision:0,48714810281517745 | Recall:0,6909722222222222 | F1-score:0,5714285714285714\n",
      ",72727272727272\t0,48714810281517745\t0,6909722222222222\t0,5714285714285714\n",
      "2023\n",
      "Test: Accuracy: 0,7238999137187231 | Precision:0,5127118644067796 | Recall:0,7289156626506024 | F1-score:0,6019900497512437\n",
      ",72389991371872\t0,5127118644067796\t0,7289156626506024\t0,6019900497512437\n",
      "2024\n",
      "Test: Accuracy: 0,6772207563764292 | Precision:0,5264957264957265 | Recall:0,7738693467336684 | F1-score:0,6266531027466938\n",
      ",67722075637642\t0,5264957264957265\t0,7738693467336684\t0,6266531027466938\n",
      "PORTO ALEGRE - JARDIM BOTANICO\n",
      "Test: Accuracy: 0,7200920245398773 | Precision:0,482421875 | Recall:0,7118155619596542 | F1-score:0,5750873108265425\n",
      ",72009202453987\t0,482421875\t0,7118155619596542\t0,5750873108265425\n",
      "RIO GRANDE\n",
      "Test: Accuracy: 0,7391681109185442 | Precision:0,48128342245989303 | Recall:0,627177700348432 | F1-score:0,5446293494704992\n",
      ",73916811091854\t0,48128342245989303\t0,627177700348432\t0,5446293494704992\n",
      "SANTA MARIA\n",
      "Test: Accuracy: 0,7419620774938169 | Precision:0,4821002386634845 | Recall:0,6778523489932886 | F1-score:0,5634588563458857\n",
      ",74196207749381\t0,4821002386634845\t0,6778523489932886\t0,5634588563458857\n",
      "SANTANA DO LIVRAMENTO\n",
      "Test: Accuracy: 0,7563106796116504 | Precision:0,49852507374631266 | Recall:0,676 | F1-score:0,5738539898132429\n",
      ",75631067961165\t0,49852507374631266\t0,676\t0,5738539898132429\n",
      "SANTO AUGUSTO\n",
      "Test: Accuracy: 0,7068201948627104 | Precision:0,4720357941834452 | Recall:0,6895424836601307 | F1-score:0,5604249667994687\n",
      ",70682019486271\t0,4720357941834452\t0,6895424836601307\t0,5604249667994687\n",
      "TORRES\n",
      "Test: Accuracy: 0,6727066817667045 | Precision:0,5148741418764302 | Recall:0,7450331125827815 | F1-score:0,6089309878213803\n",
      ",67270668176670\t0,5148741418764302\t0,7450331125827815\t0,6089309878213803\n",
      "URUGUAIANA\n",
      "Test: Accuracy: 0,7652173913043478 | Precision:0,44565217391304346 | Recall:0,6612903225806451 | F1-score:0,5324675324675325\n",
      ",76521739130434\t0,44565217391304346\t0,6612903225806451\t0,5324675324675325\n",
      "SANTA ROSA\n",
      "Test: Accuracy: 0,7357320099255583 | Precision:0,5 | Recall:0,6948356807511737 | F1-score:0,581532416502947\n",
      ",73573200992555\t0,5\t0,6948356807511737\t0,581532416502947\n",
      "CACAPAVA DO SUL\n",
      "Test: Accuracy: 0,7512487512487512 | Precision:0,5361111111111111 | Recall:0,7018181818181818 | F1-score:0,6078740157480315\n",
      ",75124875124875\t0,5361111111111111\t0,7018181818181818\t0,6078740157480315\n",
      "RIO PARDO\n",
      "Test: Accuracy: 0,7660020986358866 | Precision:0,5654596100278552 | Recall:0,7518518518518519 | F1-score:0,6454689984101749\n",
      ",76600209863588\t0,5654596100278552\t0,7518518518518519\t0,6454689984101749\n",
      "ALEGRETE\n",
      "Test: Accuracy: 0,7686230248306998 | Precision:0,5164835164835165 | Recall:0,6588785046728972 | F1-score:0,5790554414784395\n",
      ",76862302483069\t0,5164835164835165\t0,6588785046728972\t0,5790554414784395\n",
      "ERECHIM\n",
      "Test: Accuracy: 0,7014051522248244 | Precision:0,5220994475138122 | Recall:0,6974169741697417 | F1-score:0,5971563981042654\n",
      ",70140515222482\t0,5220994475138122\t0,6974169741697417\t0,5971563981042654\n",
      "SAO JOSE DOS AUSENTES\n",
      "Test: Accuracy: 0,6822429906542056 | Precision:0,5281173594132029 | Recall:0,7322033898305085 | F1-score:0,6136363636363636\n",
      ",68224299065420\t0,5281173594132029\t0,7322033898305085\t0,6136363636363636\n",
      "CAMAQUA\n",
      "Test: Accuracy: 0,7283549783549783 | Precision:0,5491803278688525 | Recall:0,7003484320557491 | F1-score:0,6156202143950996\n",
      ",72835497835497\t0,5491803278688525\t0,7003484320557491\t0,6156202143950996\n",
      "PASSO FUNDO\n",
      "Test: Accuracy: 0,6928721174004193 | Precision:0,5309734513274337 | Recall:0,7476635514018691 | F1-score:0,6209573091849936\n",
      ",69287211740041\t0,5309734513274337\t0,7476635514018691\t0,6209573091849936\n",
      "BENTO GONCALVES\n",
      "Test: Accuracy: 0,6951351351351351 | Precision:0,518957345971564 | Recall:0,7348993288590604 | F1-score:0,6083333333333334\n",
      ",69513513513513\t0,518957345971564\t0,7348993288590604\t0,6083333333333334\n",
      "CANGUCU\n",
      "Test: Accuracy: 0,7315914489311164 | Precision:0,5297450424929179 | Recall:0,757085020242915 | F1-score:0,6233333333333334\n",
      ",73159144893111\t0,5297450424929179\t0,757085020242915\t0,6233333333333334\n",
      "BAGE\n",
      "Test: Accuracy: 0,763023493360572 | Precision:0,5283582089552239 | Recall:0,7051792828685259 | F1-score:0,6040955631399317\n",
      ",7630234933605\t0,5283582089552239\t0,7051792828685259\t0,6040955631399317\n",
      "SAO BORJA\n",
      "Test: Accuracy: 0,7539325842696629 | Precision:0,46923076923076923 | Recall:0,6009852216748769 | F1-score:0,5269978401727862\n",
      ",75393258426966\t0,46923076923076923\t0,6009852216748769\t0,5269978401727862\n",
      "QUARAI\n",
      "Test: Accuracy: 0,7794994040524433 | Precision:0,4898785425101215 | Recall:0,6722222222222223 | F1-score:0,566744730679157\n",
      ",77949940405244\t0,4898785425101215\t0,6722222222222223\t0,566744730679157\n",
      "SAO GABRIEL\n",
      "Test: Accuracy: 0,75 | Precision:0,5164179104477612 | Recall:0,7361702127659574 | F1-score:0,6070175438596491\n",
      ",\t0,5164179104477612\t0,7361702127659574\t0,6070175438596491\n",
      "JAGUARAO\n",
      "Test: Accuracy: 0,7543290043290043 | Precision:0,48322147651006714 | Recall:0,663594470046083 | F1-score:0,5592233009708738\n",
      ",75432900432900\t0,48322147651006714\t0,663594470046083\t0,5592233009708738\n",
      "LAGOA VERMELHA\n",
      "Test: Accuracy: 0,7180851063829787 | Precision:0,5626477541371159 | Recall:0,7484276729559748 | F1-score:0,6423751686909581\n",
      ",71808510638297\t0,5626477541371159\t0,7484276729559748\t0,6423751686909581\n",
      "SAO LUIZ GONZAGA\n",
      "Test: Accuracy: 0,7222844344904815 | Precision:0,48405797101449277 | Recall:0,7046413502109705 | F1-score:0,5738831615120276\n",
      ",72228443449048\t0,48405797101449277\t0,7046413502109705\t0,5738831615120276\n",
      "CRUZ ALTA\n",
      "Test: Accuracy: 0,7379912663755459 | Precision:0,5371428571428571 | Recall:0,706766917293233 | F1-score:0,6103896103896104\n",
      ",73799126637554\t0,5371428571428571\t0,706766917293233\t0,6103896103896104\n",
      "FREDERICO WESTPHALEN\n",
      "Test: Accuracy: 0,7052023121387283 | Precision:0,5122615803814714 | Recall:0,7121212121212122 | F1-score:0,595879556259905\n",
      ",70520231213872\t0,5122615803814714\t0,7121212121212122\t0,595879556259905\n",
      "TRAMANDAI\n",
      "Test: Accuracy: 0,7098445595854922 | Precision:0,5239616613418531 | Recall:0,6861924686192469 | F1-score:0,5942028985507247\n",
      ",70984455958549\t0,5239616613418531\t0,6861924686192469\t0,5942028985507247\n",
      "SOLEDADE\n",
      "Test: Accuracy: 0,7202718006795017 | Precision:0,5027173913043478 | Recall:0,7429718875502008 | F1-score:0,5996758508914101\n",
      ",72027180067950\t0,5027173913043478\t0,7429718875502008\t0,5996758508914101\n",
      "PALMEIRA DAS MISSOES\n",
      "Test: Accuracy: 0,7264397905759162 | Precision:0,48148148148148145 | Recall:0,7918781725888325 | F1-score:0,5988483685220729\n",
      ",72643979057591\t0,48148148148148145\t0,7918781725888325\t0,5988483685220729\n",
      "MOSTARDAS\n",
      "Test: Accuracy: 0,7404371584699454 | Precision:0,46887966804979253 | Recall:0,6457142857142857 | F1-score:0,5432692307692308\n",
      ",74043715846994\t0,46887966804979253\t0,6457142857142857\t0,5432692307692308\n",
      "CANELA\n",
      "Test: Accuracy: 0,6848341232227488 | Precision:0,5414847161572053 | Recall:0,8157894736842105 | F1-score:0,6509186351706038\n",
      ",68483412322274\t0,5414847161572053\t0,8157894736842105\t0,6509186351706038\n",
      "VACARIA\n",
      "Test: Accuracy: 0,6716247139588101 | Precision:0,5184381778741866 | Recall:0,7861842105263158 | F1-score:0,6248366013071895\n",
      ",67162471395881\t0,5184381778741866\t0,7861842105263158\t0,6248366013071895\n",
      "Santa Vitoria do Palmar - Barra do Chui\n",
      "Test: Accuracy: 0,72625 | Precision:0,3832599118942731 | Recall:0,5240963855421686 | F1-score:0,4427480916030534\n",
      ",726\t0,3832599118942731\t0,5240963855421686\t0,4427480916030534\n",
      "SANTIAGO\n",
      "Test: Accuracy: 0,7185185185185186 | Precision:0,4797297297297297 | Recall:0,6574074074074074 | F1-score:0,5546875\n",
      ",71851851851851\t0,4797297297297297\t0,6574074074074074\t0,5546875\n",
      "DOM PEDRITO\n",
      "Test: Accuracy: 0,7968503937007874 | Precision:0,5027027027027027 | Recall:0,7153846153846154 | F1-score:0,5904761904761905\n",
      ",79685039370078\t0,5027027027027027\t0,7153846153846154\t0,5904761904761905\n",
      "TEUTONIA\n",
      "Test: Accuracy: 0,7040998217468806 | Precision:0,5433070866141733 | Recall:0,7340425531914894 | F1-score:0,6244343891402715\n",
      ",70409982174688\t0,5433070866141733\t0,7340425531914894\t0,6244343891402715\n",
      "IBIRUBA\n",
      "Test: Accuracy: 0,7295208655332303 | Precision:0,5324232081911263 | Recall:0,8041237113402062 | F1-score:0,6406570841889118\n",
      ",72952086553323\t0,5324232081911263\t0,8041237113402062\t0,6406570841889118\n",
      "CAMPO BOM\n",
      "Test: Accuracy: 0,6650485436893204 | Precision:0,4699248120300752 | Recall:0,6544502617801047 | F1-score:0,5470459518599562\n",
      ",66504854368932\t0,4699248120300752\t0,6544502617801047\t0,5470459518599562\n",
      "TUPANCIRETA\n",
      "Test: Accuracy: 0,7235576923076923 | Precision:0,5365853658536586 | Recall:0,6929133858267716 | F1-score:0,6048109965635738\n",
      ",72355769230769\t0,5365853658536586\t0,6929133858267716\t0,6048109965635738\n",
      "SAO VICENTE DO SUL\n",
      "Test: Accuracy: 0,7654320987654321 | Precision:0,496 | Recall:0,6595744680851063 | F1-score:0,5662100456621004\n",
      ",76543209876543\t0,496\t0,6595744680851063\t0,5662100456621004\n",
      "SERAFINA CORREA\n",
      "Test: Accuracy: 0,745920745920746 | Precision:0,5454545454545454 | Recall:0,768 | F1-score:0,6378737541528239\n",
      ",7459207459207\t0,5454545454545454\t0,768\t0,6378737541528239\n",
      "CAMBARA DO SUL\n",
      "Test: Accuracy: 0,6516290726817042 | Precision:0,4976303317535545 | Recall:0,7608695652173914 | F1-score:0,6017191977077364\n",
      ",65162907268170\t0,4976303317535545\t0,7608695652173914\t0,6017191977077364\n",
      "ENCRUZILHADA DO SUL\n",
      "Test: Accuracy: 0,771513353115727 | Precision:0,5289256198347108 | Recall:0,7619047619047619 | F1-score:0,624390243902439\n",
      ",7715133531157\t0,5289256198347108\t0,7619047619047619\t0,624390243902439\n",
      "CAPAO DO LEAO (PELOTAS)\n",
      "Test: Accuracy: 0,7463235294117647 | Precision:0,5208333333333334 | Recall:0,684931506849315 | F1-score:0,591715976331361\n",
      ",74632352941176\t0,5208333333333334\t0,684931506849315\t0,591715976331361\n",
      "PORTO ALEGRE- BELEM NOVO\n",
      "Test: Accuracy: 0,7021276595744681 | Precision:0,5277777777777778 | Recall:0,6333333333333333 | F1-score:0,5757575757575758\n",
      ",70212765957446\t0,5277777777777778\t0,6333333333333333\t0,5757575757575758\n",
      "VP: 7142 - VN: 19117 - FP: 6889 - FN: 2920\n",
      "7142\t19117\t6889\t2920\n",
      "Test: Accuracy: 0,728041477209715 | Precision:0,5090157508374314 | Recall:0,7097992446829656 | F1-score:0,5928692981363882\n",
      ",7280414772097\t0,5090157508374314\t0,7097992446829656\t0,5928692981363882\n"
     ]
    },
    {
     "data": {
      "image/png": "[encoded data removed]",
      "text/plain": [
       "<Figure size 800x600 with 1 Axes>"
      ]
     },
     "metadata": {},
     "output_type": "display_data"
    }
   ],
   "source": [
    "data = pd.read_csv('data.csv', delimiter=';')\n",
    "data = data.dropna(subset=['Vai Chover Amanha'])#Removendo linhas com valores faltantes na coluna de outliers\n",
    "data.reset_index(drop=True, inplace=True)\n",
    "\n",
    "X = data.drop('Vai Chover Amanha', axis=1)\n",
    "y = data['Vai Chover Amanha']\n",
    "\n",
    "X_train, X_test, y_train, y_test = train_test_split(X, y, test_size=0.15, stratify=y, random_state=42)\n",
    "\n",
    "dt = DecisionTreeClassifier(class_weight='balanced', splitter='best', max_depth=8, criterion='gini', random_state=42)\n",
    "ada = AdaBoostClassifier(base_estimator=dt, n_estimators=16*10, algorithm='SAMME', learning_rate=0.645003613327735, random_state=42)\n",
    "\n",
    "pipeline = Pipeline(steps=[\n",
    "    ('manual',ManualFeatureSelectorTransformer()),\n",
    "    ('imputer',ImputerTransformer()),\n",
    "    ('date', DateTransformer()),\n",
    "    ('scaler', RobustScalerTransformer()),\n",
    "    ('os', RandomOverSampler(random_state=42)),\n",
    "    ('model', ada),\n",
    "    ])\n",
    "\n",
    "pipeline.fit(X_train, y_train)\n",
    "\n",
    "for i in range(2001,2025):\n",
    "    print(i)\n",
    "    f_X_test = X_test.copy().loc[pd.to_datetime(X_test['Data']).dt.year == i]\n",
    "    f_X_test.reset_index(drop=True, inplace=True)\n",
    "\n",
    "    f_y_test = y_test.copy().loc[pd.to_datetime(X_test['Data']).dt.year == i]\n",
    "    f_y_test.reset_index(drop=True, inplace=True)\n",
    "    \n",
    "\n",
    "    y_pred = pipeline.predict(f_X_test)\n",
    "    accuracy = accuracy_score(f_y_test, y_pred)\n",
    "\n",
    "    y_true  = (f_y_test == 'Sim').astype(int)\n",
    "    y_pred  = (y_pred == 'Sim').astype(int)\n",
    "\n",
    "    precision = precision_score(y_true, y_pred)\n",
    "    recall = recall_score(y_true, y_pred)\n",
    "    f1 = f1_score(y_true, y_pred)\n",
    "\n",
    "\n",
    "    print(f\"Test: Accuracy: {str(accuracy).replace('.',',')} | Precision:{str(precision).replace('.',',')} | Recall:{str(recall).replace('.',',')} | F1-score:{str(f1).replace('.',',')}\")\n",
    "    print(f\"{str(accuracy).replace('.',',')[1:-2]}\\t{str(precision).replace('.',',')}\\t{str(recall).replace('.',',')}\\t{str(f1).replace('.',',')}\")\n",
    "\n",
    "for cidade in data['Cidade'].unique():\n",
    "    print(cidade)\n",
    "    f_X_test = X_test.copy().loc[X_test['Cidade'] == cidade]\n",
    "    f_X_test.reset_index(drop=True, inplace=True)\n",
    "\n",
    "    f_y_test = y_test.copy().loc[X_test['Cidade'] == cidade]\n",
    "    f_y_test.reset_index(drop=True, inplace=True)\n",
    "\n",
    "    y_pred = pipeline.predict(f_X_test)\n",
    "    accuracy = accuracy_score(f_y_test, y_pred)\n",
    "\n",
    "    y_true  = (f_y_test == 'Sim').astype(int)\n",
    "    y_pred  = (y_pred == 'Sim').astype(int)\n",
    "\n",
    "    precision = precision_score(y_true, y_pred)\n",
    "    recall = recall_score(y_true, y_pred)\n",
    "    f1 = f1_score(y_true, y_pred)\n",
    "\n",
    "\n",
    "    print(f\"Test: Accuracy: {str(accuracy).replace('.',',')} | Precision:{str(precision).replace('.',',')} | Recall:{str(recall).replace('.',',')} | F1-score:{str(f1).replace('.',',')}\")\n",
    "    print(f\"{str(accuracy).replace('.',',')[1:-2]}\\t{str(precision).replace('.',',')}\\t{str(recall).replace('.',',')}\\t{str(f1).replace('.',',')}\")\n",
    "\n",
    "y_pred = pipeline.predict(X_test.copy())\n",
    "accuracy = accuracy_score(y_test, y_pred)\n",
    "\n",
    "y_true  = (y_test == 'Sim').astype(int)\n",
    "y_pred  = (y_pred == 'Sim').astype(int)\n",
    "\n",
    "precision = precision_score(y_true, y_pred)\n",
    "recall = recall_score(y_true, y_pred)\n",
    "f1 = f1_score(y_true, y_pred)\n",
    "\n",
    "FP = np.sum((y_pred == 1) & (y_true == 0))\n",
    "VP = np.sum((y_pred == 1) & (y_true == 1))\n",
    "FN = np.sum((y_pred == 0) & (y_true == 1))\n",
    "VN = np.sum((y_pred == 0) & (y_true == 0))\n",
    "\n",
    "print(f\"VP: {VP} - VN: {VN} - FP: {FP} - FN: {FN}\")\n",
    "print(f\"{VP}\\t{VN}\\t{FP}\\t{FN}\")\n",
    "print(f\"Test: Accuracy: {str(accuracy).replace('.',',')} | Precision:{str(precision).replace('.',',')} | Recall:{str(recall).replace('.',',')} | F1-score:{str(f1).replace('.',',')}\")\n",
    "print(f\"{str(accuracy).replace('.',',')[1:-2]}\\t{str(precision).replace('.',',')}\\t{str(recall).replace('.',',')}\\t{str(f1).replace('.',',')}\")\n",
    "\n",
    "class_labels = pipeline.classes_\n",
    "class_index = np.where(class_labels == \"Sim\")[0][0]\n",
    "\n",
    "y_probs = pipeline.predict_proba(X_test.copy())[:, class_index]\n",
    "\n",
    "y_true  = (y_test.copy() == 'Sim').astype(int)\n",
    "\n",
    "precision, recall, _ = precision_recall_curve(y_true, y_probs)\n",
    "\n",
    "plt.figure(figsize=(8, 6))\n",
    "plt.plot(recall, precision, marker='.')\n",
    "plt.xlabel('Recall')\n",
    "plt.ylabel('Precisão')\n",
    "plt.grid(True)\n",
    "plt.show()"
   ]
  },
  {
   "cell_type": "code",
   "execution_count": 23,
   "metadata": {},
   "outputs": [
    {
     "name": "stdout",
     "output_type": "stream",
     "text": [
      "256311\n",
      "240452\n"
     ]
    },
    {
     "name": "stderr",
     "output_type": "stream",
     "text": [
      "[I 2024-08-06 12:44:44,188] A new study created in memory with name: no-name-6443eb80-9255-4433-b16c-3e762f331ff6\n",
      "[I 2024-08-06 12:45:16,185] Trial 0 finished with value: 0.5591821561338289 and parameters: {'solver': 'sag', 'tol': 0.00018349121905260687, 'C': 3.4709787079963625, 'intercept_scaling': 0}. Best is trial 0 with value: 0.5591821561338289.\n"
     ]
    },
    {
     "name": "stdout",
     "output_type": "stream",
     "text": [
      "Accuracy: 0,6905693857314337 | Precision:0,4640014806588932 | Recall:0,7034889159105789 | F1-score:0,5591821561338289\n"
     ]
    },
    {
     "name": "stderr",
     "output_type": "stream",
     "text": [
      "[I 2024-08-06 12:45:23,318] Trial 1 finished with value: 0.5593901078467832 and parameters: {'solver': 'newton-cg', 'tol': 0.000927717693242996, 'C': 3.47961440831626, 'intercept_scaling': 3}. Best is trial 1 with value: 0.5593901078467832.\n"
     ]
    },
    {
     "name": "stdout",
     "output_type": "stream",
     "text": [
      "Accuracy: 0,6908303324461145 | Precision:0,4642879190073461 | Recall:0,7034889159105789 | F1-score:0,5593901078467832\n"
     ]
    },
    {
     "name": "stderr",
     "output_type": "stream",
     "text": [
      "[I 2024-08-06 12:45:30,100] Trial 2 finished with value: 0.5590662404282208 and parameters: {'solver': 'newton-cg', 'tol': 2.2816254932788516e-05, 'C': 3.1421721451772804, 'intercept_scaling': 4}. Best is trial 1 with value: 0.5593901078467832.\n"
     ]
    },
    {
     "name": "stdout",
     "output_type": "stream",
     "text": [
      "Accuracy: 0,6904650070455612 | Precision:0,4638825488865585 | Recall:0,7033953792909924 | F1-score:0,5590662404282208\n"
     ]
    },
    {
     "name": "stderr",
     "output_type": "stream",
     "text": [
      "[I 2024-08-06 12:46:28,368] Trial 3 finished with value: 0.5590782382456793 and parameters: {'solver': 'saga', 'tol': 0.00017429403957264808, 'C': 3.5060500356656443, 'intercept_scaling': 3}. Best is trial 1 with value: 0.5593901078467832.\n"
     ]
    },
    {
     "name": "stdout",
     "output_type": "stream",
     "text": [
      "Accuracy: 0,6904389123740932 | Precision:0,46385839398051065 | Recall:0,7034889159105789 | F1-score:0,5590782382456793\n"
     ]
    },
    {
     "name": "stderr",
     "output_type": "stream",
     "text": [
      "[I 2024-08-06 12:46:45,367] Trial 4 finished with value: 0.5579513824457228 and parameters: {'solver': 'sag', 'tol': 0.000959814752053622, 'C': 1.0477465527528302, 'intercept_scaling': 4}. Best is trial 1 with value: 0.5593901078467832.\n"
     ]
    },
    {
     "name": "stdout",
     "output_type": "stream",
     "text": [
      "Accuracy: 0,6891863681436251 | Precision:0,4624707764242648 | Recall:0,7031147694322327 | F1-score:0,5579513824457228\n"
     ]
    },
    {
     "name": "stderr",
     "output_type": "stream",
     "text": [
      "[I 2024-08-06 12:46:52,043] Trial 5 finished with value: 0.557990935433539 and parameters: {'solver': 'newton-cg', 'tol': 0.0006849472334549505, 'C': 1.050020284496643, 'intercept_scaling': 3}. Best is trial 1 with value: 0.5593901078467832.\n"
     ]
    },
    {
     "name": "stdout",
     "output_type": "stream",
     "text": [
      "Accuracy: 0,6895255988727101 | Precision:0,4628088987489986 | Recall:0,7024600130951267 | F1-score:0,557990935433539\n"
     ]
    },
    {
     "name": "stderr",
     "output_type": "stream",
     "text": [
      "[I 2024-08-06 12:47:00,028] Trial 6 finished with value: 0.5573272026105014 and parameters: {'solver': 'lbfgs', 'tol': 5.9335211123796255e-05, 'C': 0.4883782642115002, 'intercept_scaling': 0}. Best is trial 1 with value: 0.5593901078467832.\n"
     ]
    },
    {
     "name": "stdout",
     "output_type": "stream",
     "text": [
      "Accuracy: 0,6884818120139867 | Precision:0,4616944154328193 | Recall:0,7029276961930596 | F1-score:0,5573272026105014\n"
     ]
    },
    {
     "name": "stderr",
     "output_type": "stream",
     "text": [
      "[I 2024-08-06 12:47:06,740] Trial 7 finished with value: 0.5579169912095249 and parameters: {'solver': 'newton-cg', 'tol': 0.0006565883505690585, 'C': 0.7611356251900885, 'intercept_scaling': 1}. Best is trial 1 with value: 0.5593901078467832.\n"
     ]
    },
    {
     "name": "stdout",
     "output_type": "stream",
     "text": [
      "Accuracy: 0,6889776107718804 | Precision:0,4622618315918869 | Recall:0,7034889159105789 | F1-score:0,5579169912095249\n"
     ]
    },
    {
     "name": "stderr",
     "output_type": "stream",
     "text": [
      "[I 2024-08-06 12:47:12,491] Trial 8 finished with value: 0.5587896360730085 and parameters: {'solver': 'newton-cg', 'tol': 0.000722631449572416, 'C': 2.697228367034069, 'intercept_scaling': 0}. Best is trial 1 with value: 0.5593901078467832.\n"
     ]
    },
    {
     "name": "stdout",
     "output_type": "stream",
     "text": [
      "Accuracy: 0,6902823443452847 | Precision:0,4636644046884639 | Recall:0,7030212328126462 | F1-score:0,5587896360730085\n"
     ]
    },
    {
     "name": "stderr",
     "output_type": "stream",
     "text": [
      "[I 2024-08-06 12:47:50,848] Trial 9 finished with value: 0.5583677110045713 and parameters: {'solver': 'saga', 'tol': 0.0005457124190197167, 'C': 1.955841389746151, 'intercept_scaling': 3}. Best is trial 1 with value: 0.5593901078467832.\n"
     ]
    },
    {
     "name": "stdout",
     "output_type": "stream",
     "text": [
      "Accuracy: 0,6899170189447315 | Precision:0,46324617661568823 | Recall:0,7026470863342998 | F1-score:0,5583677110045713\n"
     ]
    },
    {
     "name": "stderr",
     "output_type": "stream",
     "text": [
      "[I 2024-08-06 12:47:59,251] Trial 10 finished with value: 0.5585043116265239 and parameters: {'solver': 'lbfgs', 'tol': 0.0009953303937728355, 'C': 2.1021795436111925, 'intercept_scaling': 2}. Best is trial 1 with value: 0.5593901078467832.\n"
     ]
    },
    {
     "name": "stdout",
     "output_type": "stream",
     "text": [
      "Accuracy: 0,690047492302072 | Precision:0,46339357305865664 | Recall:0,7027406229538864 | F1-score:0,5585043116265239\n"
     ]
    },
    {
     "name": "stderr",
     "output_type": "stream",
     "text": [
      "[I 2024-08-06 12:48:24,716] Trial 11 finished with value: 0.5594228766919529 and parameters: {'solver': 'sag', 'tol': 0.0003063734779484168, 'C': 3.8205829190286122, 'intercept_scaling': 1}. Best is trial 11 with value: 0.5594228766919529.\n"
     ]
    },
    {
     "name": "stdout",
     "output_type": "stream",
     "text": [
      "Accuracy: 0,6908303324461145 | Precision:0,46429232763409667 | Recall:0,7035824525301656 | F1-score:0,5594228766919529\n"
     ]
    },
    {
     "name": "stderr",
     "output_type": "stream",
     "text": [
      "[I 2024-08-06 12:48:49,030] Trial 12 finished with value: 0.5594228766919529 and parameters: {'solver': 'sag', 'tol': 0.0003799687262916069, 'C': 3.9809106968607106, 'intercept_scaling': 2}. Best is trial 11 with value: 0.5594228766919529.\n"
     ]
    },
    {
     "name": "stdout",
     "output_type": "stream",
     "text": [
      "Accuracy: 0,6908303324461145 | Precision:0,46429232763409667 | Recall:0,7035824525301656 | F1-score:0,5594228766919529\n"
     ]
    },
    {
     "name": "stderr",
     "output_type": "stream",
     "text": [
      "[I 2024-08-06 12:49:15,846] Trial 13 finished with value: 0.5594228766919529 and parameters: {'solver': 'sag', 'tol': 0.0003406851830005486, 'C': 3.977430023114389, 'intercept_scaling': 1}. Best is trial 11 with value: 0.5594228766919529.\n"
     ]
    },
    {
     "name": "stdout",
     "output_type": "stream",
     "text": [
      "Accuracy: 0,6908303324461145 | Precision:0,46429232763409667 | Recall:0,7035824525301656 | F1-score:0,5594228766919529\n"
     ]
    },
    {
     "name": "stderr",
     "output_type": "stream",
     "text": [
      "[I 2024-08-06 12:49:40,068] Trial 14 finished with value: 0.5594228766919529 and parameters: {'solver': 'sag', 'tol': 0.0003926010849743067, 'C': 3.979619678378826, 'intercept_scaling': 1}. Best is trial 11 with value: 0.5594228766919529.\n"
     ]
    },
    {
     "name": "stdout",
     "output_type": "stream",
     "text": [
      "Accuracy: 0,6908303324461145 | Precision:0,46429232763409667 | Recall:0,7035824525301656 | F1-score:0,5594228766919529\n"
     ]
    },
    {
     "name": "stderr",
     "output_type": "stream",
     "text": [
      "[I 2024-08-06 12:50:06,279] Trial 15 finished with value: 0.5586409427158843 and parameters: {'solver': 'sag', 'tol': 0.00035252064500342333, 'C': 2.732684764984845, 'intercept_scaling': 2}. Best is trial 11 with value: 0.5594228766919529.\n"
     ]
    },
    {
     "name": "stdout",
     "output_type": "stream",
     "text": [
      "Accuracy: 0,6901779656594124 | Precision:0,4635410240592227 | Recall:0,7028341595734731 | F1-score:0,5586409427158843\n"
     ]
    },
    {
     "name": "stderr",
     "output_type": "stream",
     "text": [
      "[I 2024-08-06 12:50:27,957] Trial 16 finished with value: 0.5582103972353313 and parameters: {'solver': 'sag', 'tol': 0.00047909824873778803, 'C': 1.5579940676996982, 'intercept_scaling': 1}. Best is trial 11 with value: 0.5594228766919529.\n"
     ]
    },
    {
     "name": "stdout",
     "output_type": "stream",
     "text": [
      "Accuracy: 0,689760450915923 | Precision:0,46307028360049324 | Recall:0,7025535497147133 | F1-score:0,5582103972353313\n"
     ]
    },
    {
     "name": "stderr",
     "output_type": "stream",
     "text": [
      "[I 2024-08-06 12:50:52,675] Trial 17 finished with value: 0.5587480950079917 and parameters: {'solver': 'sag', 'tol': 0.00027525493771801717, 'C': 2.7538616495830777, 'intercept_scaling': 2}. Best is trial 11 with value: 0.5594228766919529.\n"
     ]
    },
    {
     "name": "stdout",
     "output_type": "stream",
     "text": [
      "Accuracy: 0,6902301550023485 | Precision:0,46360720453984705 | Recall:0,7030212328126462 | F1-score:0,5587480950079917\n"
     ]
    },
    {
     "name": "stderr",
     "output_type": "stream",
     "text": [
      "[I 2024-08-06 12:51:13,371] Trial 18 finished with value: 0.5587480950079917 and parameters: {'solver': 'sag', 'tol': 0.0005230259906469659, 'C': 3.1506127234338157, 'intercept_scaling': 1}. Best is trial 11 with value: 0.5594228766919529.\n"
     ]
    },
    {
     "name": "stdout",
     "output_type": "stream",
     "text": [
      "Accuracy: 0,6902301550023485 | Precision:0,46360720453984705 | Recall:0,7030212328126462 | F1-score:0,5587480950079917\n"
     ]
    },
    {
     "name": "stderr",
     "output_type": "stream",
     "text": [
      "[I 2024-08-06 12:52:11,523] Trial 19 finished with value: 0.559087022787257 and parameters: {'solver': 'saga', 'tol': 0.00019707726026333777, 'C': 3.731252356820868, 'intercept_scaling': 2}. Best is trial 11 with value: 0.5594228766919529.\n"
     ]
    },
    {
     "name": "stdout",
     "output_type": "stream",
     "text": [
      "Accuracy: 0,6904911017170294 | Precision:0,4639111659469463 | Recall:0,7033953792909924 | F1-score:0,559087022787257\n"
     ]
    },
    {
     "name": "stderr",
     "output_type": "stream",
     "text": [
      "[I 2024-08-06 12:52:22,625] Trial 20 finished with value: 0.5585873605947955 and parameters: {'solver': 'lbfgs', 'tol': 0.000807171965523628, 'C': 2.4683248199548666, 'intercept_scaling': 2}. Best is trial 11 with value: 0.5594228766919529.\n"
     ]
    },
    {
     "name": "stdout",
     "output_type": "stream",
     "text": [
      "Accuracy: 0,6901518709879443 | Precision:0,46350792769449073 | Recall:0,7027406229538864 | F1-score:0,5585873605947955\n"
     ]
    },
    {
     "name": "stderr",
     "output_type": "stream",
     "text": [
      "[I 2024-08-06 12:52:53,294] Trial 21 finished with value: 0.5594020748893764 and parameters: {'solver': 'sag', 'tol': 0.0003850491343451721, 'C': 3.9271082303080886, 'intercept_scaling': 1}. Best is trial 11 with value: 0.5594228766919529.\n"
     ]
    },
    {
     "name": "stdout",
     "output_type": "stream",
     "text": [
      "Accuracy: 0,6908042377746464 | Precision:0,4642636711517097 | Recall:0,7035824525301656 | F1-score:0,5594020748893764\n"
     ]
    },
    {
     "name": "stderr",
     "output_type": "stream",
     "text": [
      "[I 2024-08-06 12:53:29,140] Trial 22 finished with value: 0.5588847583643123 and parameters: {'solver': 'sag', 'tol': 0.00029297946998024647, 'C': 3.136909310518237, 'intercept_scaling': 1}. Best is trial 11 with value: 0.5594228766919529.\n"
     ]
    },
    {
     "name": "stdout",
     "output_type": "stream",
     "text": [
      "Accuracy: 0,6903606283596889 | Precision:0,46375470417669196 | Recall:0,7031147694322327 | F1-score:0,5588847583643123\n"
     ]
    },
    {
     "name": "stderr",
     "output_type": "stream",
     "text": [
      "[I 2024-08-06 12:53:56,769] Trial 23 finished with value: 0.5591405843431715 and parameters: {'solver': 'sag', 'tol': 0.00044241750828678513, 'C': 3.685913185497798, 'intercept_scaling': 0}. Best is trial 11 with value: 0.5594228766919529.\n"
     ]
    },
    {
     "name": "stdout",
     "output_type": "stream",
     "text": [
      "Accuracy: 0,6905171963884975 | Precision:0,46394423539571894 | Recall:0,7034889159105789 | F1-score:0,5591405843431715\n"
     ]
    },
    {
     "name": "stderr",
     "output_type": "stream",
     "text": [
      "[I 2024-08-06 12:54:25,568] Trial 24 finished with value: 0.5593901078467832 and parameters: {'solver': 'sag', 'tol': 0.00026885507045000854, 'C': 3.9908601431223234, 'intercept_scaling': 1}. Best is trial 11 with value: 0.5594228766919529.\n"
     ]
    },
    {
     "name": "stdout",
     "output_type": "stream",
     "text": [
      "Accuracy: 0,6908303324461145 | Precision:0,4642879190073461 | Recall:0,7034889159105789 | F1-score:0,5593901078467832\n"
     ]
    },
    {
     "name": "stderr",
     "output_type": "stream",
     "text": [
      "[I 2024-08-06 12:54:50,528] Trial 25 finished with value: 0.5587688647684187 and parameters: {'solver': 'sag', 'tol': 0.0005808149261173838, 'C': 3.2373458678631346, 'intercept_scaling': 2}. Best is trial 11 with value: 0.5594228766919529.\n"
     ]
    },
    {
     "name": "stdout",
     "output_type": "stream",
     "text": [
      "Accuracy: 0,6902562496738166 | Precision:0,46363580284991673 | Recall:0,7030212328126462 | F1-score:0,5587688647684187\n"
     ]
    },
    {
     "name": "stderr",
     "output_type": "stream",
     "text": [
      "[I 2024-08-06 12:55:23,841] Trial 26 finished with value: 0.5593693057156669 and parameters: {'solver': 'sag', 'tol': 0.0001066926022671845, 'C': 3.6333796533724687, 'intercept_scaling': 1}. Best is trial 11 with value: 0.5594228766919529.\n"
     ]
    },
    {
     "name": "stdout",
     "output_type": "stream",
     "text": [
      "Accuracy: 0,6908042377746464 | Precision:0,46425925925925926 | Recall:0,7034889159105789 | F1-score:0,5593693057156669\n"
     ]
    },
    {
     "name": "stderr",
     "output_type": "stream",
     "text": [
      "[I 2024-08-06 12:55:51,978] Trial 27 finished with value: 0.558971118462625 and parameters: {'solver': 'sag', 'tol': 0.0003376607367599031, 'C': 3.341864136654177, 'intercept_scaling': 0}. Best is trial 11 with value: 0.5594228766919529.\n"
     ]
    },
    {
     "name": "stdout",
     "output_type": "stream",
     "text": [
      "Accuracy: 0,690386723031157 | Precision:0,4637922526523563 | Recall:0,7033018426714058 | F1-score:0,558971118462625\n"
     ]
    },
    {
     "name": "stderr",
     "output_type": "stream",
     "text": [
      "[I 2024-08-06 12:55:58,563] Trial 28 finished with value: 0.5589591078066914 and parameters: {'solver': 'lbfgs', 'tol': 0.00045743343340892543, 'C': 2.9111052860470252, 'intercept_scaling': 1}. Best is trial 11 with value: 0.5594228766919529.\n"
     ]
    },
    {
     "name": "stdout",
     "output_type": "stream",
     "text": [
      "Accuracy: 0,6904128177026251 | Precision:0,46381639829724225 | Recall:0,7032083060518193 | F1-score:0,5589591078066914\n"
     ]
    },
    {
     "name": "stderr",
     "output_type": "stream",
     "text": [
      "[I 2024-08-06 12:56:30,032] Trial 29 finished with value: 0.5594228766919529 and parameters: {'solver': 'sag', 'tol': 0.00017856625320157932, 'C': 3.7024448655442472, 'intercept_scaling': 0}. Best is trial 11 with value: 0.5594228766919529.\n"
     ]
    },
    {
     "name": "stdout",
     "output_type": "stream",
     "text": [
      "Accuracy: 0,6908303324461145 | Precision:0,46429232763409667 | Recall:0,7035824525301656 | F1-score:0,5594228766919529\n"
     ]
    },
    {
     "name": "stderr",
     "output_type": "stream",
     "text": [
      "[I 2024-08-06 12:57:18,919] Trial 30 finished with value: 0.5585786500148677 and parameters: {'solver': 'saga', 'tol': 0.00024310809017748963, 'C': 2.473354069709207, 'intercept_scaling': 2}. Best is trial 11 with value: 0.5594228766919529.\n"
     ]
    },
    {
     "name": "stdout",
     "output_type": "stream",
     "text": [
      "Accuracy: 0,6900996816450081 | Precision:0,46345525195830506 | Recall:0,7028341595734731 | F1-score:0,5585786500148677\n"
     ]
    },
    {
     "name": "stderr",
     "output_type": "stream",
     "text": [
      "[I 2024-08-06 12:57:55,933] Trial 31 finished with value: 0.5592029443473734 and parameters: {'solver': 'sag', 'tol': 0.00040918205936561937, 'C': 3.815777021803408, 'intercept_scaling': 1}. Best is trial 11 with value: 0.5594228766919529.\n"
     ]
    },
    {
     "name": "stdout",
     "output_type": "stream",
     "text": [
      "Accuracy: 0,6905954804029018 | Precision:0,4640301085883514 | Recall:0,7034889159105789 | F1-score:0,5592029443473734\n"
     ]
    },
    {
     "name": "stderr",
     "output_type": "stream",
     "text": [
      "[I 2024-08-06 12:58:26,125] Trial 32 finished with value: 0.5594228766919529 and parameters: {'solver': 'sag', 'tol': 0.00034315553125227583, 'C': 3.987755627794791, 'intercept_scaling': 1}. Best is trial 11 with value: 0.5594228766919529.\n"
     ]
    },
    {
     "name": "stdout",
     "output_type": "stream",
     "text": [
      "Accuracy: 0,6908303324461145 | Precision:0,46429232763409667 | Recall:0,7035824525301656 | F1-score:0,5594228766919529\n"
     ]
    },
    {
     "name": "stderr",
     "output_type": "stream",
     "text": [
      "[I 2024-08-06 12:58:55,110] Trial 33 finished with value: 0.5590782382456793 and parameters: {'solver': 'sag', 'tol': 0.0003932518895198183, 'C': 3.4596892481798927, 'intercept_scaling': 0}. Best is trial 11 with value: 0.5594228766919529.\n"
     ]
    },
    {
     "name": "stdout",
     "output_type": "stream",
     "text": [
      "Accuracy: 0,6904389123740932 | Precision:0,46385839398051065 | Recall:0,7034889159105789 | F1-score:0,5590782382456793\n"
     ]
    },
    {
     "name": "stderr",
     "output_type": "stream",
     "text": [
      "[I 2024-08-06 12:59:30,478] Trial 34 finished with value: 0.5594228766919529 and parameters: {'solver': 'sag', 'tol': 0.0001205212424856178, 'C': 3.4890584318987297, 'intercept_scaling': 1}. Best is trial 11 with value: 0.5594228766919529.\n"
     ]
    },
    {
     "name": "stdout",
     "output_type": "stream",
     "text": [
      "Accuracy: 0,6908303324461145 | Precision:0,46429232763409667 | Recall:0,7035824525301656 | F1-score:0,5594228766919529\n"
     ]
    },
    {
     "name": "stderr",
     "output_type": "stream",
     "text": [
      "[I 2024-08-06 13:00:00,520] Trial 35 finished with value: 0.559087022787257 and parameters: {'solver': 'sag', 'tol': 0.0006022050571064933, 'C': 3.997158889640567, 'intercept_scaling': 3}. Best is trial 11 with value: 0.5594228766919529.\n"
     ]
    },
    {
     "name": "stdout",
     "output_type": "stream",
     "text": [
      "Accuracy: 0,6904911017170294 | Precision:0,4639111659469463 | Recall:0,7033953792909924 | F1-score:0,559087022787257\n"
     ]
    },
    {
     "name": "stderr",
     "output_type": "stream",
     "text": [
      "[I 2024-08-06 13:00:32,262] Trial 36 finished with value: 0.5592029443473734 and parameters: {'solver': 'sag', 'tol': 0.00022586133581490385, 'C': 3.5683710056746354, 'intercept_scaling': 3}. Best is trial 11 with value: 0.5594228766919529.\n"
     ]
    },
    {
     "name": "stdout",
     "output_type": "stream",
     "text": [
      "Accuracy: 0,6905954804029018 | Precision:0,4640301085883514 | Recall:0,7034889159105789 | F1-score:0,5592029443473734\n"
     ]
    },
    {
     "name": "stderr",
     "output_type": "stream",
     "text": [
      "[I 2024-08-06 13:00:40,833] Trial 37 finished with value: 0.5594228766919529 and parameters: {'solver': 'newton-cg', 'tol': 0.0003046300909511771, 'C': 3.3210531218566235, 'intercept_scaling': 4}. Best is trial 11 with value: 0.5594228766919529.\n"
     ]
    },
    {
     "name": "stdout",
     "output_type": "stream",
     "text": [
      "Accuracy: 0,6908303324461145 | Precision:0,46429232763409667 | Recall:0,7035824525301656 | F1-score:0,5594228766919529\n"
     ]
    },
    {
     "name": "stderr",
     "output_type": "stream",
     "text": [
      "[I 2024-08-06 13:01:34,485] Trial 38 finished with value: 0.5587896360730085 and parameters: {'solver': 'saga', 'tol': 0.00043666988606395766, 'C': 3.802142683101827, 'intercept_scaling': 2}. Best is trial 11 with value: 0.5594228766919529.\n"
     ]
    },
    {
     "name": "stdout",
     "output_type": "stream",
     "text": [
      "Accuracy: 0,6902823443452847 | Precision:0,4636644046884639 | Recall:0,7030212328126462 | F1-score:0,5587896360730085\n"
     ]
    },
    {
     "name": "stderr",
     "output_type": "stream",
     "text": [
      "[I 2024-08-06 13:02:06,886] Trial 39 finished with value: 0.5587480950079917 and parameters: {'solver': 'sag', 'tol': 0.0003579629126107744, 'C': 2.9553521897931443, 'intercept_scaling': 0}. Best is trial 11 with value: 0.5594228766919529.\n"
     ]
    },
    {
     "name": "stdout",
     "output_type": "stream",
     "text": [
      "Accuracy: 0,6902301550023485 | Precision:0,46360720453984705 | Recall:0,7030212328126462 | F1-score:0,5587480950079917\n"
     ]
    },
    {
     "name": "stderr",
     "output_type": "stream",
     "text": [
      "[I 2024-08-06 13:02:16,218] Trial 40 finished with value: 0.5594436800416497 and parameters: {'solver': 'newton-cg', 'tol': 0.0001432961878651273, 'C': 3.457843066825297, 'intercept_scaling': 3}. Best is trial 40 with value: 0.5594436800416497.\n"
     ]
    },
    {
     "name": "stdout",
     "output_type": "stream",
     "text": [
      "Accuracy: 0,6908564271175825 | Precision:0,464320987654321 | Recall:0,7035824525301656 | F1-score:0,5594436800416497\n"
     ]
    },
    {
     "name": "stderr",
     "output_type": "stream",
     "text": [
      "[I 2024-08-06 13:02:24,277] Trial 41 finished with value: 0.559431716750967 and parameters: {'solver': 'newton-cg', 'tol': 0.00013032012833535798, 'C': 3.79689967756346, 'intercept_scaling': 3}. Best is trial 40 with value: 0.5594436800416497.\n"
     ]
    },
    {
     "name": "stdout",
     "output_type": "stream",
     "text": [
      "Accuracy: 0,6908825217890506 | Precision:0,46434524912020747 | Recall:0,7034889159105789 | F1-score:0,559431716750967\n"
     ]
    },
    {
     "name": "stderr",
     "output_type": "stream",
     "text": [
      "[I 2024-08-06 13:02:31,707] Trial 42 finished with value: 0.5593693057156669 and parameters: {'solver': 'newton-cg', 'tol': 2.557677273612815e-05, 'C': 3.4728881809539773, 'intercept_scaling': 3}. Best is trial 40 with value: 0.5594436800416497.\n"
     ]
    },
    {
     "name": "stdout",
     "output_type": "stream",
     "text": [
      "Accuracy: 0,6908042377746464 | Precision:0,46425925925925926 | Recall:0,7034889159105789 | F1-score:0,5593693057156669\n"
     ]
    },
    {
     "name": "stderr",
     "output_type": "stream",
     "text": [
      "[I 2024-08-06 13:02:40,285] Trial 43 finished with value: 0.559410911525159 and parameters: {'solver': 'newton-cg', 'tol': 0.00011504257792647869, 'C': 3.7608980582736424, 'intercept_scaling': 4}. Best is trial 40 with value: 0.5594436800416497.\n"
     ]
    },
    {
     "name": "stdout",
     "output_type": "stream",
     "text": [
      "Accuracy: 0,6908564271175825 | Precision:0,4643165822941104 | Recall:0,7034889159105789 | F1-score:0,559410911525159\n"
     ]
    },
    {
     "name": "stderr",
     "output_type": "stream",
     "text": [
      "[I 2024-08-06 13:02:48,012] Trial 44 finished with value: 0.5593365316672245 and parameters: {'solver': 'newton-cg', 'tol': 0.0001629007305125354, 'C': 3.589226033857874, 'intercept_scaling': 3}. Best is trial 40 with value: 0.5594436800416497.\n"
     ]
    },
    {
     "name": "stdout",
     "output_type": "stream",
     "text": [
      "Accuracy: 0,6908042377746464 | Precision:0,46425484627731817 | Recall:0,7033953792909924 | F1-score:0,5593365316672245\n"
     ]
    },
    {
     "name": "stderr",
     "output_type": "stream",
     "text": [
      "[I 2024-08-06 13:02:56,684] Trial 45 finished with value: 0.5582933809045973 and parameters: {'solver': 'newton-cg', 'tol': 1.405714519507213e-05, 'C': 1.566100521139095, 'intercept_scaling': 3}. Best is trial 40 with value: 0.5594436800416497.\n"
     ]
    },
    {
     "name": "stdout",
     "output_type": "stream",
     "text": [
      "Accuracy: 0,6898648296017953 | Precision:0,4631845091267884 | Recall:0,7025535497147133 | F1-score:0,5582933809045973\n"
     ]
    },
    {
     "name": "stderr",
     "output_type": "stream",
     "text": [
      "[I 2024-08-06 13:03:06,266] Trial 46 finished with value: 0.5590662404282208 and parameters: {'solver': 'newton-cg', 'tol': 0.00022076223116599886, 'C': 2.9876518939159245, 'intercept_scaling': 4}. Best is trial 40 with value: 0.5594436800416497.\n"
     ]
    },
    {
     "name": "stdout",
     "output_type": "stream",
     "text": [
      "Accuracy: 0,6904650070455612 | Precision:0,4638825488865585 | Recall:0,7033953792909924 | F1-score:0,5590662404282208\n"
     ]
    },
    {
     "name": "stderr",
     "output_type": "stream",
     "text": [
      "[I 2024-08-06 13:03:14,553] Trial 47 finished with value: 0.556514651946801 and parameters: {'solver': 'newton-cg', 'tol': 6.764503142252996e-05, 'C': 0.3340033609594424, 'intercept_scaling': 3}. Best is trial 40 with value: 0.5594436800416497.\n"
     ]
    },
    {
     "name": "stdout",
     "output_type": "stream",
     "text": [
      "Accuracy: 0,6876206878555399 | Precision:0,4607410133725923 | Recall:0,7025535497147133 | F1-score:0,556514651946801\n"
     ]
    },
    {
     "name": "stderr",
     "output_type": "stream",
     "text": [
      "[I 2024-08-06 13:03:22,304] Trial 48 finished with value: 0.559431716750967 and parameters: {'solver': 'newton-cg', 'tol': 0.00031318133685014993, 'C': 3.7980292106485396, 'intercept_scaling': 2}. Best is trial 40 with value: 0.5594436800416497.\n"
     ]
    },
    {
     "name": "stdout",
     "output_type": "stream",
     "text": [
      "Accuracy: 0,6908825217890506 | Precision:0,46434524912020747 | Recall:0,7034889159105789 | F1-score:0,559431716750967\n"
     ]
    },
    {
     "name": "stderr",
     "output_type": "stream",
     "text": [
      "[I 2024-08-06 13:03:31,257] Trial 49 finished with value: 0.5594228766919529 and parameters: {'solver': 'newton-cg', 'tol': 0.0001410727898525988, 'C': 3.3753456214532225, 'intercept_scaling': 2}. Best is trial 40 with value: 0.5594436800416497.\n"
     ]
    },
    {
     "name": "stdout",
     "output_type": "stream",
     "text": [
      "Accuracy: 0,6908303324461145 | Precision:0,46429232763409667 | Recall:0,7035824525301656 | F1-score:0,5594228766919529\n",
      "Trial 0:\n",
      "  Value: 0.5591821561338289\n",
      "  Params:\n",
      "    solver: sag\n",
      "    tol: 0.00018349121905260687\n",
      "    C: 3.4709787079963625\n",
      "    intercept_scaling: 0\n",
      "\n",
      "Trial 1:\n",
      "  Value: 0.5593901078467832\n",
      "  Params:\n",
      "    solver: newton-cg\n",
      "    tol: 0.000927717693242996\n",
      "    C: 3.47961440831626\n",
      "    intercept_scaling: 3\n",
      "\n",
      "Trial 2:\n",
      "  Value: 0.5590662404282208\n",
      "  Params:\n",
      "    solver: newton-cg\n",
      "    tol: 2.2816254932788516e-05\n",
      "    C: 3.1421721451772804\n",
      "    intercept_scaling: 4\n",
      "\n",
      "Trial 3:\n",
      "  Value: 0.5590782382456793\n",
      "  Params:\n",
      "    solver: saga\n",
      "    tol: 0.00017429403957264808\n",
      "    C: 3.5060500356656443\n",
      "    intercept_scaling: 3\n",
      "\n",
      "Trial 4:\n",
      "  Value: 0.5579513824457228\n",
      "  Params:\n",
      "    solver: sag\n",
      "    tol: 0.000959814752053622\n",
      "    C: 1.0477465527528302\n",
      "    intercept_scaling: 4\n",
      "\n",
      "Trial 5:\n",
      "  Value: 0.557990935433539\n",
      "  Params:\n",
      "    solver: newton-cg\n",
      "    tol: 0.0006849472334549505\n",
      "    C: 1.050020284496643\n",
      "    intercept_scaling: 3\n",
      "\n",
      "Trial 6:\n",
      "  Value: 0.5573272026105014\n",
      "  Params:\n",
      "    solver: lbfgs\n",
      "    tol: 5.9335211123796255e-05\n",
      "    C: 0.4883782642115002\n",
      "    intercept_scaling: 0\n",
      "\n",
      "Trial 7:\n",
      "  Value: 0.5579169912095249\n",
      "  Params:\n",
      "    solver: newton-cg\n",
      "    tol: 0.0006565883505690585\n",
      "    C: 0.7611356251900885\n",
      "    intercept_scaling: 1\n",
      "\n",
      "Trial 8:\n",
      "  Value: 0.5587896360730085\n",
      "  Params:\n",
      "    solver: newton-cg\n",
      "    tol: 0.000722631449572416\n",
      "    C: 2.697228367034069\n",
      "    intercept_scaling: 0\n",
      "\n",
      "Trial 9:\n",
      "  Value: 0.5583677110045713\n",
      "  Params:\n",
      "    solver: saga\n",
      "    tol: 0.0005457124190197167\n",
      "    C: 1.955841389746151\n",
      "    intercept_scaling: 3\n",
      "\n",
      "Trial 10:\n",
      "  Value: 0.5585043116265239\n",
      "  Params:\n",
      "    solver: lbfgs\n",
      "    tol: 0.0009953303937728355\n",
      "    C: 2.1021795436111925\n",
      "    intercept_scaling: 2\n",
      "\n",
      "Trial 11:\n",
      "  Value: 0.5594228766919529\n",
      "  Params:\n",
      "    solver: sag\n",
      "    tol: 0.0003063734779484168\n",
      "    C: 3.8205829190286122\n",
      "    intercept_scaling: 1\n",
      "\n",
      "Trial 12:\n",
      "  Value: 0.5594228766919529\n",
      "  Params:\n",
      "    solver: sag\n",
      "    tol: 0.0003799687262916069\n",
      "    C: 3.9809106968607106\n",
      "    intercept_scaling: 2\n",
      "\n",
      "Trial 13:\n",
      "  Value: 0.5594228766919529\n",
      "  Params:\n",
      "    solver: sag\n",
      "    tol: 0.0003406851830005486\n",
      "    C: 3.977430023114389\n",
      "    intercept_scaling: 1\n",
      "\n",
      "Trial 14:\n",
      "  Value: 0.5594228766919529\n",
      "  Params:\n",
      "    solver: sag\n",
      "    tol: 0.0003926010849743067\n",
      "    C: 3.979619678378826\n",
      "    intercept_scaling: 1\n",
      "\n",
      "Trial 15:\n",
      "  Value: 0.5586409427158843\n",
      "  Params:\n",
      "    solver: sag\n",
      "    tol: 0.00035252064500342333\n",
      "    C: 2.732684764984845\n",
      "    intercept_scaling: 2\n",
      "\n",
      "Trial 16:\n",
      "  Value: 0.5582103972353313\n",
      "  Params:\n",
      "    solver: sag\n",
      "    tol: 0.00047909824873778803\n",
      "    C: 1.5579940676996982\n",
      "    intercept_scaling: 1\n",
      "\n",
      "Trial 17:\n",
      "  Value: 0.5587480950079917\n",
      "  Params:\n",
      "    solver: sag\n",
      "    tol: 0.00027525493771801717\n",
      "    C: 2.7538616495830777\n",
      "    intercept_scaling: 2\n",
      "\n",
      "Trial 18:\n",
      "  Value: 0.5587480950079917\n",
      "  Params:\n",
      "    solver: sag\n",
      "    tol: 0.0005230259906469659\n",
      "    C: 3.1506127234338157\n",
      "    intercept_scaling: 1\n",
      "\n",
      "Trial 19:\n",
      "  Value: 0.559087022787257\n",
      "  Params:\n",
      "    solver: saga\n",
      "    tol: 0.00019707726026333777\n",
      "    C: 3.731252356820868\n",
      "    intercept_scaling: 2\n",
      "\n",
      "Trial 20:\n",
      "  Value: 0.5585873605947955\n",
      "  Params:\n",
      "    solver: lbfgs\n",
      "    tol: 0.000807171965523628\n",
      "    C: 2.4683248199548666\n",
      "    intercept_scaling: 2\n",
      "\n",
      "Trial 21:\n",
      "  Value: 0.5594020748893764\n",
      "  Params:\n",
      "    solver: sag\n",
      "    tol: 0.0003850491343451721\n",
      "    C: 3.9271082303080886\n",
      "    intercept_scaling: 1\n",
      "\n",
      "Trial 22:\n",
      "  Value: 0.5588847583643123\n",
      "  Params:\n",
      "    solver: sag\n",
      "    tol: 0.00029297946998024647\n",
      "    C: 3.136909310518237\n",
      "    intercept_scaling: 1\n",
      "\n",
      "Trial 23:\n",
      "  Value: 0.5591405843431715\n",
      "  Params:\n",
      "    solver: sag\n",
      "    tol: 0.00044241750828678513\n",
      "    C: 3.685913185497798\n",
      "    intercept_scaling: 0\n",
      "\n",
      "Trial 24:\n",
      "  Value: 0.5593901078467832\n",
      "  Params:\n",
      "    solver: sag\n",
      "    tol: 0.00026885507045000854\n",
      "    C: 3.9908601431223234\n",
      "    intercept_scaling: 1\n",
      "\n",
      "Trial 25:\n",
      "  Value: 0.5587688647684187\n",
      "  Params:\n",
      "    solver: sag\n",
      "    tol: 0.0005808149261173838\n",
      "    C: 3.2373458678631346\n",
      "    intercept_scaling: 2\n",
      "\n",
      "Trial 26:\n",
      "  Value: 0.5593693057156669\n",
      "  Params:\n",
      "    solver: sag\n",
      "    tol: 0.0001066926022671845\n",
      "    C: 3.6333796533724687\n",
      "    intercept_scaling: 1\n",
      "\n",
      "Trial 27:\n",
      "  Value: 0.558971118462625\n",
      "  Params:\n",
      "    solver: sag\n",
      "    tol: 0.0003376607367599031\n",
      "    C: 3.341864136654177\n",
      "    intercept_scaling: 0\n",
      "\n",
      "Trial 28:\n",
      "  Value: 0.5589591078066914\n",
      "  Params:\n",
      "    solver: lbfgs\n",
      "    tol: 0.00045743343340892543\n",
      "    C: 2.9111052860470252\n",
      "    intercept_scaling: 1\n",
      "\n",
      "Trial 29:\n",
      "  Value: 0.5594228766919529\n",
      "  Params:\n",
      "    solver: sag\n",
      "    tol: 0.00017856625320157932\n",
      "    C: 3.7024448655442472\n",
      "    intercept_scaling: 0\n",
      "\n",
      "Trial 30:\n",
      "  Value: 0.5585786500148677\n",
      "  Params:\n",
      "    solver: saga\n",
      "    tol: 0.00024310809017748963\n",
      "    C: 2.473354069709207\n",
      "    intercept_scaling: 2\n",
      "\n",
      "Trial 31:\n",
      "  Value: 0.5592029443473734\n",
      "  Params:\n",
      "    solver: sag\n",
      "    tol: 0.00040918205936561937\n",
      "    C: 3.815777021803408\n",
      "    intercept_scaling: 1\n",
      "\n",
      "Trial 32:\n",
      "  Value: 0.5594228766919529\n",
      "  Params:\n",
      "    solver: sag\n",
      "    tol: 0.00034315553125227583\n",
      "    C: 3.987755627794791\n",
      "    intercept_scaling: 1\n",
      "\n",
      "Trial 33:\n",
      "  Value: 0.5590782382456793\n",
      "  Params:\n",
      "    solver: sag\n",
      "    tol: 0.0003932518895198183\n",
      "    C: 3.4596892481798927\n",
      "    intercept_scaling: 0\n",
      "\n",
      "Trial 34:\n",
      "  Value: 0.5594228766919529\n",
      "  Params:\n",
      "    solver: sag\n",
      "    tol: 0.0001205212424856178\n",
      "    C: 3.4890584318987297\n",
      "    intercept_scaling: 1\n",
      "\n",
      "Trial 35:\n",
      "  Value: 0.559087022787257\n",
      "  Params:\n",
      "    solver: sag\n",
      "    tol: 0.0006022050571064933\n",
      "    C: 3.997158889640567\n",
      "    intercept_scaling: 3\n",
      "\n",
      "Trial 36:\n",
      "  Value: 0.5592029443473734\n",
      "  Params:\n",
      "    solver: sag\n",
      "    tol: 0.00022586133581490385\n",
      "    C: 3.5683710056746354\n",
      "    intercept_scaling: 3\n",
      "\n",
      "Trial 37:\n",
      "  Value: 0.5594228766919529\n",
      "  Params:\n",
      "    solver: newton-cg\n",
      "    tol: 0.0003046300909511771\n",
      "    C: 3.3210531218566235\n",
      "    intercept_scaling: 4\n",
      "\n",
      "Trial 38:\n",
      "  Value: 0.5587896360730085\n",
      "  Params:\n",
      "    solver: saga\n",
      "    tol: 0.00043666988606395766\n",
      "    C: 3.802142683101827\n",
      "    intercept_scaling: 2\n",
      "\n",
      "Trial 39:\n",
      "  Value: 0.5587480950079917\n",
      "  Params:\n",
      "    solver: sag\n",
      "    tol: 0.0003579629126107744\n",
      "    C: 2.9553521897931443\n",
      "    intercept_scaling: 0\n",
      "\n",
      "Trial 40:\n",
      "  Value: 0.5594436800416497\n",
      "  Params:\n",
      "    solver: newton-cg\n",
      "    tol: 0.0001432961878651273\n",
      "    C: 3.457843066825297\n",
      "    intercept_scaling: 3\n",
      "\n",
      "Trial 41:\n",
      "  Value: 0.559431716750967\n",
      "  Params:\n",
      "    solver: newton-cg\n",
      "    tol: 0.00013032012833535798\n",
      "    C: 3.79689967756346\n",
      "    intercept_scaling: 3\n",
      "\n",
      "Trial 42:\n",
      "  Value: 0.5593693057156669\n",
      "  Params:\n",
      "    solver: newton-cg\n",
      "    tol: 2.557677273612815e-05\n",
      "    C: 3.4728881809539773\n",
      "    intercept_scaling: 3\n",
      "\n",
      "Trial 43:\n",
      "  Value: 0.559410911525159\n",
      "  Params:\n",
      "    solver: newton-cg\n",
      "    tol: 0.00011504257792647869\n",
      "    C: 3.7608980582736424\n",
      "    intercept_scaling: 4\n",
      "\n",
      "Trial 44:\n",
      "  Value: 0.5593365316672245\n",
      "  Params:\n",
      "    solver: newton-cg\n",
      "    tol: 0.0001629007305125354\n",
      "    C: 3.589226033857874\n",
      "    intercept_scaling: 3\n",
      "\n",
      "Trial 45:\n",
      "  Value: 0.5582933809045973\n",
      "  Params:\n",
      "    solver: newton-cg\n",
      "    tol: 1.405714519507213e-05\n",
      "    C: 1.566100521139095\n",
      "    intercept_scaling: 3\n",
      "\n",
      "Trial 46:\n",
      "  Value: 0.5590662404282208\n",
      "  Params:\n",
      "    solver: newton-cg\n",
      "    tol: 0.00022076223116599886\n",
      "    C: 2.9876518939159245\n",
      "    intercept_scaling: 4\n",
      "\n",
      "Trial 47:\n",
      "  Value: 0.556514651946801\n",
      "  Params:\n",
      "    solver: newton-cg\n",
      "    tol: 6.764503142252996e-05\n",
      "    C: 0.3340033609594424\n",
      "    intercept_scaling: 3\n",
      "\n",
      "Trial 48:\n",
      "  Value: 0.559431716750967\n",
      "  Params:\n",
      "    solver: newton-cg\n",
      "    tol: 0.00031318133685014993\n",
      "    C: 3.7980292106485396\n",
      "    intercept_scaling: 2\n",
      "\n",
      "Trial 49:\n",
      "  Value: 0.5594228766919529\n",
      "  Params:\n",
      "    solver: newton-cg\n",
      "    tol: 0.0001410727898525988\n",
      "    C: 3.3753456214532225\n",
      "    intercept_scaling: 2\n",
      "\n",
      "\n",
      "\n",
      "\n",
      "Best trial:\n",
      " Val Value: 0.5594436800416497\n",
      " Val Params:\n",
      "    solver: newton-cg\n",
      "    tol: 0.0001432961878651273\n",
      "    C: 3.457843066825297\n",
      "    intercept_scaling: 3\n",
      "Test: Accuracy: 0,6897526893645337 | Precision:0,46348096348096346 | Recall:0,7113893858079905 | F1-score:0,5612796988943778\n"
     ]
    }
   ],
   "source": [
    "data = pd.read_csv('data.csv', delimiter=';')\n",
    "\n",
    "print(data.shape[0])\n",
    "data = data.dropna(subset=['Vai Chover Amanha'])#Removendo linhas com valores faltantes na coluna de outliers\n",
    "\n",
    "data.reset_index(drop=True, inplace=True)\n",
    "print(data.shape[0])\n",
    "\n",
    "X = data.drop('Vai Chover Amanha', axis=1)\n",
    "y = data['Vai Chover Amanha']\n",
    "\n",
    "X_train, X_test, y_train, y_test = train_test_split(X, y, test_size=0.15, stratify=y, random_state=42)\n",
    "\n",
    "    \n",
    "\n",
    "def objective(trial):\n",
    "    solver = trial.suggest_categorical('solver', ['lbfgs', 'newton-cg', 'sag', 'saga'])\n",
    "    tol = trial.suggest_float('tol', 1e-5, 1e-3)\n",
    "    c = trial.suggest_float('C', 0.25, 4)\n",
    "    intercept_scaling = trial.suggest_int('intercept_scaling', 0.25, 4)\n",
    "\n",
    "    pipeline = Pipeline(steps=[\n",
    "        ('manual',ManualFeatureSelectorTransformer()),\n",
    "        ('imputer',ImputerTransformer()),\n",
    "        ('date', DateTransformer()),\n",
    "        ('scaler', RobustScalerTransformer()),\n",
    "        ('os', RandomOverSampler(random_state=42)),\n",
    "        ('model', LogisticRegression(class_weight='balanced', max_iter=6000, random_state=42, solver=solver, tol=tol, C=c, intercept_scaling=intercept_scaling)),\n",
    "        ])\n",
    "\n",
    "    X_train_2, X_val, y_train_2, y_val = train_test_split(X_train.copy(), y_train.copy(), stratify=y_train, test_size=0.1875, random_state=42)\n",
    "    pipeline.fit(X_train_2, y_train_2)\n",
    "\n",
    "    y_pred = pipeline.predict(X_val)\n",
    "    accuracy = accuracy_score(y_val, y_pred)\n",
    "\n",
    "    y_true  = (y_val == 'Sim').astype(int)\n",
    "    y_pred  = (y_pred == 'Sim').astype(int)\n",
    "\n",
    "    precision = precision_score(y_true, y_pred)\n",
    "    recall = recall_score(y_true, y_pred)\n",
    "    f1 = f1_score(y_true, y_pred)\n",
    "\n",
    "    print(f\"Accuracy: {str(accuracy).replace('.',',')} | Precision:{str(precision).replace('.',',')} | Recall:{str(recall).replace('.',',')} | F1-score:{str(f1).replace('.',',')}\")\n",
    "    #score = cross_val_score(pipeline, X.copy(), y.copy(), n_jobs=-1, cv=5).mean()\n",
    "    return f1\n",
    "\n",
    "study = optuna.create_study(direction='maximize')\n",
    "study.optimize(objective, n_trials=50)\n",
    "\n",
    "for trial in study.trials:\n",
    "    print(f\"Trial {trial.number}:\")\n",
    "    print(f\"  Value: {trial.value}\")\n",
    "    print(\"  Params:\")\n",
    "    for key, value in trial.params.items():\n",
    "        print(f\"    {key}: {value}\")\n",
    "    print()\n",
    "\n",
    "print(\"\\n\\n\\nBest trial:\")\n",
    "trial = study.best_trial\n",
    "\n",
    "print(f\" Val Value: {trial.value}\")\n",
    "print(\" Val Params:\")\n",
    "for key, value in trial.params.items():\n",
    "    print(f\"    {key}: {value}\")\n",
    "\n",
    "pipeline = Pipeline(steps=[\n",
    "    ('manual',ManualFeatureSelectorTransformer()),\n",
    "    ('imputer',ImputerTransformer()),\n",
    "    ('date', DateTransformer()),\n",
    "    ('scaler', RobustScalerTransformer()),\n",
    "    ('os', RandomOverSampler(random_state=42)),\n",
    "    ('model', LogisticRegression(class_weight='balanced', max_iter=6000, random_state=42, solver=trial.params['solver'], tol=trial.params['tol'], C=trial.params['C'], intercept_scaling=trial.params['intercept_scaling'])),\n",
    "    ])\n",
    "\n",
    "pipeline.fit(X_train, y_train)\n",
    "\n",
    "y_pred = pipeline.predict(X_test)\n",
    "accuracy = accuracy_score(y_test, y_pred)\n",
    "\n",
    "y_true  = (y_test == 'Sim').astype(int)\n",
    "y_pred  = (y_pred == 'Sim').astype(int)\n",
    "\n",
    "precision = precision_score(y_true, y_pred)\n",
    "recall = recall_score(y_true, y_pred)\n",
    "f1 = f1_score(y_true, y_pred)\n",
    "\n",
    "print(f\"Test: Accuracy: {str(accuracy).replace('.',',')} | Precision:{str(precision).replace('.',',')} | Recall:{str(recall).replace('.',',')} | F1-score:{str(f1).replace('.',',')}\")\n"
   ]
  },
  {
   "cell_type": "code",
   "execution_count": 27,
   "metadata": {},
   "outputs": [
    {
     "name": "stdout",
     "output_type": "stream",
     "text": [
      "2001\n",
      "Test: Accuracy: 0,4666666666666667 | Precision:0,15384615384615385 | Recall:0,46153846153846156 | F1-score:0,23076923076923075\n",
      ",46666666666666\t0,15384615384615385\t0,46153846153846156\t0,23076923076923075\n",
      "2002\n",
      "Test: Accuracy: 0,6058091286307054 | Precision:0,376 | Recall:0,734375 | F1-score:0,49735449735449744\n",
      ",60580912863070\t0,376\t0,734375\t0,49735449735449744\n",
      "2003\n",
      "Test: Accuracy: 0,6571428571428571 | Precision:0,3564356435643564 | Recall:0,6545454545454545 | F1-score:0,4615384615384615\n",
      ",65714285714285\t0,3564356435643564\t0,6545454545454545\t0,4615384615384615\n",
      "2004\n",
      "Test: Accuracy: 0,7004830917874396 | Precision:0,34210526315789475 | Recall:0,6842105263157895 | F1-score:0,45614035087719296\n",
      ",70048309178743\t0,34210526315789475\t0,6842105263157895\t0,45614035087719296\n",
      "2005\n",
      "Test: Accuracy: 0,6325581395348837 | Precision:0,3564356435643564 | Recall:0,72 | F1-score:0,4768211920529801\n",
      ",63255813953488\t0,3564356435643564\t0,72\t0,4768211920529801\n",
      "2006\n",
      "Test: Accuracy: 0,6757425742574258 | Precision:0,42857142857142855 | Recall:0,7788461538461539 | F1-score:0,552901023890785\n",
      ",67574257425742\t0,42857142857142855\t0,7788461538461539\t0,552901023890785\n",
      "2007\n",
      "Test: Accuracy: 0,6554054054054054 | Precision:0,4732142857142857 | Recall:0,701058201058201 | F1-score:0,5650319829424307\n",
      ",65540540540540\t0,4732142857142857\t0,701058201058201\t0,5650319829424307\n",
      "2008\n",
      "Test: Accuracy: 0,7142857142857143 | Precision:0,47527910685805425 | Recall:0,654945054945055 | F1-score:0,5508317929759704\n",
      ",71428571428571\t0,47527910685805425\t0,654945054945055\t0,5508317929759704\n",
      "2009\n",
      "Test: Accuracy: 0,6946399566865187 | Precision:0,4747225647348952 | Recall:0,7361376673040153 | F1-score:0,5772113943028486\n",
      ",69463995668651\t0,4747225647348952\t0,7361376673040153\t0,5772113943028486\n",
      "2010\n",
      "Test: Accuracy: 0,6830985915492958 | Precision:0,4473007712082262 | Recall:0,6918489065606361 | F1-score:0,5433255269320844\n",
      ",68309859154929\t0,4473007712082262\t0,6918489065606361\t0,5433255269320844\n",
      "2011\n",
      "Test: Accuracy: 0,7156916347731 | Precision:0,5092348284960422 | Recall:0,7228464419475655 | F1-score:0,5975232198142415\n",
      ",71569163477\t0,5092348284960422\t0,7228464419475655\t0,5975232198142415\n",
      "2012\n",
      "Test: Accuracy: 0,6903190319031903 | Precision:0,3991655076495132 | Recall:0,6866028708133971 | F1-score:0,5048372911169746\n",
      ",69031903190319\t0,3991655076495132\t0,6866028708133971\t0,5048372911169746\n",
      "2013\n",
      "Test: Accuracy: 0,7141419224962254 | Precision:0,4831932773109244 | Recall:0,6341911764705882 | F1-score:0,548489666136725\n",
      ",71414192249622\t0,4831932773109244\t0,6341911764705882\t0,548489666136725\n",
      "2014\n",
      "Test: Accuracy: 0,6998922413793104 | Precision:0,5283474065138721 | Recall:0,7251655629139073 | F1-score:0,6113049546406141\n",
      ",69989224137931\t0,5283474065138721\t0,7251655629139073\t0,6113049546406141\n",
      "2015\n",
      "Test: Accuracy: 0,6638388123011665 | Precision:0,49182115594329334 | Recall:0,72859450726979 | F1-score:0,5872395833333333\n",
      ",66383881230116\t0,49182115594329334\t0,72859450726979\t0,5872395833333333\n",
      "2016\n",
      "Test: Accuracy: 0,7193675889328063 | Precision:0,47878787878787876 | Recall:0,7410881801125704 | F1-score:0,5817378497790869\n",
      ",71936758893280\t0,47878787878787876\t0,7410881801125704\t0,5817378497790869\n",
      "2017\n",
      "Test: Accuracy: 0,6776556776556777 | Precision:0,47692307692307695 | Recall:0,7560975609756098 | F1-score:0,5849056603773585\n",
      ",67765567765567\t0,47692307692307695\t0,7560975609756098\t0,5849056603773585\n",
      "2018\n",
      "Test: Accuracy: 0,6918604651162791 | Precision:0,4789473684210526 | Recall:0,7010785824345146 | F1-score:0,5691056910569104\n",
      ",69186046511627\t0,4789473684210526\t0,7010785824345146\t0,5691056910569104\n",
      "2019\n",
      "Test: Accuracy: 0,6831858407079646 | Precision:0,4868913857677903 | Recall:0,7558139534883721 | F1-score:0,592255125284738\n",
      ",68318584070796\t0,4868913857677903\t0,7558139534883721\t0,592255125284738\n",
      "2020\n",
      "Test: Accuracy: 0,7193129451193967 | Precision:0,4225352112676056 | Recall:0,6691449814126395 | F1-score:0,5179856115107914\n",
      ",71931294511939\t0,4225352112676056\t0,6691449814126395\t0,5179856115107914\n",
      "2021\n",
      "Test: Accuracy: 0,7113453815261044 | Precision:0,4179523141654979 | Recall:0,6506550218340611 | F1-score:0,5089666951323656\n",
      ",71134538152610\t0,4179523141654979\t0,6506550218340611\t0,5089666951323656\n",
      "2022\n",
      "Test: Accuracy: 0,6962083142987665 | Precision:0,44758539458186103 | Recall:0,6597222222222222 | F1-score:0,5333333333333333\n",
      ",69620831429876\t0,44758539458186103\t0,6597222222222222\t0,5333333333333333\n",
      "2023\n",
      "Test: Accuracy: 0,6695427092320967 | Precision:0,45549738219895286 | Recall:0,786144578313253 | F1-score:0,5767955801104973\n",
      ",66954270923209\t0,45549738219895286\t0,786144578313253\t0,5767955801104973\n",
      "2024\n",
      "Test: Accuracy: 0,594547053649956 | Precision:0,4520547945205479 | Recall:0,7462311557788944 | F1-score:0,5630331753554502\n",
      ",5945470536499\t0,4520547945205479\t0,7462311557788944\t0,5630331753554502\n",
      "PORTO ALEGRE - JARDIM BOTANICO\n",
      "Test: Accuracy: 0,6748466257668712 | Precision:0,43636363636363634 | Recall:0,760806916426513 | F1-score:0,5546218487394958\n",
      ",67484662576687\t0,43636363636363634\t0,760806916426513\t0,5546218487394958\n",
      "RIO GRANDE\n",
      "Test: Accuracy: 0,7027729636048526 | Precision:0,43034825870646765 | Recall:0,6027874564459931 | F1-score:0,5021770682148041\n",
      ",70277296360485\t0,43034825870646765\t0,6027874564459931\t0,5021770682148041\n",
      "SANTA MARIA\n",
      "Test: Accuracy: 0,6957955482275351 | Precision:0,4268041237113402 | Recall:0,6946308724832215 | F1-score:0,5287356321839081\n",
      ",69579554822753\t0,4268041237113402\t0,6946308724832215\t0,5287356321839081\n",
      "SANTANA DO LIVRAMENTO\n",
      "Test: Accuracy: 0,6689320388349514 | Precision:0,3986636971046771 | Recall:0,716 | F1-score:0,5121602288984263\n",
      ",66893203883495\t0,3986636971046771\t0,716\t0,5121602288984263\n",
      "SANTO AUGUSTO\n",
      "Test: Accuracy: 0,6527900797165633 | Precision:0,416015625 | Recall:0,696078431372549 | F1-score:0,5207823960880196\n",
      ",65279007971656\t0,416015625\t0,696078431372549\t0,5207823960880196\n",
      "TORRES\n",
      "Test: Accuracy: 0,6126840317100792 | Precision:0,45850622406639 | Recall:0,7317880794701986 | F1-score:0,5637755102040816\n",
      ",61268403171007\t0,45850622406639\t0,7317880794701986\t0,5637755102040816\n",
      "URUGUAIANA\n",
      "Test: Accuracy: 0,7543478260869565 | Precision:0,4180327868852459 | Recall:0,5483870967741935 | F1-score:0,4744186046511628\n",
      ",75434782608695\t0,4180327868852459\t0,5483870967741935\t0,4744186046511628\n",
      "SANTA ROSA\n",
      "Test: Accuracy: 0,7468982630272953 | Precision:0,5169811320754717 | Recall:0,6431924882629108 | F1-score:0,5732217573221758\n",
      ",74689826302729\t0,5169811320754717\t0,6431924882629108\t0,5732217573221758\n",
      "CACAPAVA DO SUL\n",
      "Test: Accuracy: 0,7182817182817183 | Precision:0,4910941475826972 | Recall:0,7018181818181818 | F1-score:0,5778443113772455\n",
      ",71828171828171\t0,4910941475826972\t0,7018181818181818\t0,5778443113772455\n",
      "RIO PARDO\n",
      "Test: Accuracy: 0,7072402938090241 | Precision:0,4889975550122249 | Recall:0,7407407407407407 | F1-score:0,589101620029455\n",
      ",70724029380902\t0,4889975550122249\t0,7407407407407407\t0,589101620029455\n",
      "ALEGRETE\n",
      "Test: Accuracy: 0,7133182844243793 | Precision:0,4305555555555556 | Recall:0,5794392523364486 | F1-score:0,49402390438247007\n",
      ",71331828442437\t0,4305555555555556\t0,5794392523364486\t0,49402390438247007\n",
      "ERECHIM\n",
      "Test: Accuracy: 0,6721311475409836 | Precision:0,48951048951048953 | Recall:0,7749077490774908 | F1-score:0,6000000000000001\n",
      ",67213114754098\t0,48951048951048953\t0,7749077490774908\t0,6000000000000001\n",
      "SAO JOSE DOS AUSENTES\n",
      "Test: Accuracy: 0,639018691588785 | Precision:0,4860557768924303 | Recall:0,8271186440677966 | F1-score:0,6122961104140527\n",
      ",6390186915887\t0,4860557768924303\t0,8271186440677966\t0,6122961104140527\n",
      "CAMAQUA\n",
      "Test: Accuracy: 0,6829004329004329 | Precision:0,4921052631578947 | Recall:0,6515679442508711 | F1-score:0,5607196401799099\n",
      ",68290043290043\t0,4921052631578947\t0,6515679442508711\t0,5607196401799099\n",
      "PASSO FUNDO\n",
      "Test: Accuracy: 0,6551362683438156 | Precision:0,49250936329588013 | Recall:0,8193146417445483 | F1-score:0,6152046783625731\n",
      ",65513626834381\t0,49250936329588013\t0,8193146417445483\t0,6152046783625731\n",
      "BENTO GONCALVES\n",
      "Test: Accuracy: 0,6497297297297298 | Precision:0,4751908396946565 | Recall:0,8355704697986577 | F1-score:0,6058394160583941\n",
      ",64972972972972\t0,4751908396946565\t0,8355704697986577\t0,6058394160583941\n",
      "CANGUCU\n",
      "Test: Accuracy: 0,6995249406175772 | Precision:0,49206349206349204 | Recall:0,7530364372469636 | F1-score:0,5952\n",
      ",69952494061757\t0,49206349206349204\t0,7530364372469636\t0,5952\n",
      "BAGE\n",
      "Test: Accuracy: 0,7436159346271706 | Precision:0,5 | Recall:0,6095617529880478 | F1-score:0,5493716337522442\n",
      ",74361593462717\t0,5\t0,6095617529880478\t0,5493716337522442\n",
      "SAO BORJA\n",
      "Test: Accuracy: 0,7179775280898877 | Precision:0,4024390243902439 | Recall:0,4876847290640394 | F1-score:0,44097995545657015\n",
      ",71797752808988\t0,4024390243902439\t0,4876847290640394\t0,44097995545657015\n",
      "QUARAI\n",
      "Test: Accuracy: 0,7914183551847438 | Precision:0,5124378109452736 | Recall:0,5722222222222222 | F1-score:0,5406824146981627\n",
      ",79141835518474\t0,5124378109452736\t0,5722222222222222\t0,5406824146981627\n",
      "SAO GABRIEL\n",
      "Test: Accuracy: 0,6919642857142857 | Precision:0,44321329639889195 | Recall:0,6808510638297872 | F1-score:0,5369127516778525\n",
      ",69196428571428\t0,44321329639889195\t0,6808510638297872\t0,5369127516778525\n",
      "JAGUARAO\n",
      "Test: Accuracy: 0,7435064935064936 | Precision:0,4666666666666667 | Recall:0,6451612903225806 | F1-score:0,5415860735009671\n",
      ",74350649350649\t0,4666666666666667\t0,6451612903225806\t0,5415860735009671\n",
      "LAGOA VERMELHA\n",
      "Test: Accuracy: 0,652127659574468 | Precision:0,49122807017543857 | Recall:0,7924528301886793 | F1-score:0,6064981949458483\n",
      ",6521276595744\t0,49122807017543857\t0,7924528301886793\t0,6064981949458483\n",
      "SAO LUIZ GONZAGA\n",
      "Test: Accuracy: 0,6909294512877939 | Precision:0,4444444444444444 | Recall:0,6582278481012658 | F1-score:0,5306122448979591\n",
      ",69092945128779\t0,4444444444444444\t0,6582278481012658\t0,5306122448979591\n",
      "CRUZ ALTA\n",
      "Test: Accuracy: 0,6823144104803494 | Precision:0,46612466124661245 | Recall:0,6466165413533834 | F1-score:0,5417322834645669\n",
      ",68231441048034\t0,46612466124661245\t0,6466165413533834\t0,5417322834645669\n",
      "FREDERICO WESTPHALEN\n",
      "Test: Accuracy: 0,707514450867052 | Precision:0,5150684931506849 | Recall:0,7121212121212122 | F1-score:0,5977742448330684\n",
      ",7075144508670\t0,5150684931506849\t0,7121212121212122\t0,5977742448330684\n",
      "TRAMANDAI\n",
      "Test: Accuracy: 0,633419689119171 | Precision:0,44148936170212766 | Recall:0,694560669456067 | F1-score:0,5398373983739837\n",
      ",6334196891191\t0,44148936170212766\t0,694560669456067\t0,5398373983739837\n",
      "SOLEDADE\n",
      "Test: Accuracy: 0,6874292185730464 | Precision:0,46867749419953597 | Recall:0,8112449799196787 | F1-score:0,5941176470588235\n",
      ",68742921857304\t0,46867749419953597\t0,8112449799196787\t0,5941176470588235\n",
      "PALMEIRA DAS MISSOES\n",
      "Test: Accuracy: 0,6780104712041884 | Precision:0,4301994301994302 | Recall:0,766497461928934 | F1-score:0,5510948905109488\n",
      ",67801047120418\t0,4301994301994302\t0,766497461928934\t0,5510948905109488\n",
      "MOSTARDAS\n",
      "Test: Accuracy: 0,6338797814207651 | Precision:0,3667621776504298 | Recall:0,7314285714285714 | F1-score:0,4885496183206106\n",
      ",63387978142076\t0,3667621776504298\t0,7314285714285714\t0,4885496183206106\n",
      "CANELA\n",
      "Test: Accuracy: 0,6812796208530806 | Precision:0,5373134328358209 | Recall:0,8289473684210527 | F1-score:0,6520051746442432\n",
      ",68127962085308\t0,5373134328358209\t0,8289473684210527\t0,6520051746442432\n",
      "VACARIA\n",
      "Test: Accuracy: 0,6372997711670481 | Precision:0,4876660341555977 | Recall:0,8453947368421053 | F1-score:0,618531889290012\n",
      ",63729977116704\t0,4876660341555977\t0,8453947368421053\t0,618531889290012\n",
      "Santa Vitoria do Palmar - Barra do Chui\n",
      "Test: Accuracy: 0,715 | Precision:0,376 | Recall:0,5662650602409639 | F1-score:0,451923076923077\n",
      ",7\t0,376\t0,5662650602409639\t0,451923076923077\n",
      "SANTIAGO\n",
      "Test: Accuracy: 0,7024691358024692 | Precision:0,45674740484429066 | Recall:0,6111111111111112 | F1-score:0,5227722772277228\n",
      ",70246913580246\t0,45674740484429066\t0,6111111111111112\t0,5227722772277228\n",
      "DOM PEDRITO\n",
      "Test: Accuracy: 0,7543307086614173 | Precision:0,43010752688172044 | Recall:0,6153846153846154 | F1-score:0,5063291139240506\n",
      ",75433070866141\t0,43010752688172044\t0,6153846153846154\t0,5063291139240506\n",
      "TEUTONIA\n",
      "Test: Accuracy: 0,6755793226381461 | Precision:0,5112781954887218 | Recall:0,723404255319149 | F1-score:0,5991189427312774\n",
      ",67557932263814\t0,5112781954887218\t0,723404255319149\t0,5991189427312774\n",
      "IBIRUBA\n",
      "Test: Accuracy: 0,7017001545595054 | Precision:0,5015673981191222 | Recall:0,8247422680412371 | F1-score:0,6237816764132553\n",
      ",70170015455950\t0,5015673981191222\t0,8247422680412371\t0,6237816764132553\n",
      "CAMPO BOM\n",
      "Test: Accuracy: 0,6262135922330098 | Precision:0,4386503067484663 | Recall:0,7486910994764397 | F1-score:0,553191489361702\n",
      ",62621359223300\t0,4386503067484663\t0,7486910994764397\t0,553191489361702\n",
      "TUPANCIRETA\n",
      "Test: Accuracy: 0,7139423076923077 | Precision:0,5240963855421686 | Recall:0,6850393700787402 | F1-score:0,5938566552901025\n",
      ",71394230769230\t0,5240963855421686\t0,6850393700787402\t0,5938566552901025\n",
      "SAO VICENTE DO SUL\n",
      "Test: Accuracy: 0,7283950617283951 | Precision:0,44366197183098594 | Recall:0,6702127659574468 | F1-score:0,5338983050847457\n",
      ",72839506172839\t0,44366197183098594\t0,6702127659574468\t0,5338983050847457\n",
      "SERAFINA CORREA\n",
      "Test: Accuracy: 0,7062937062937062 | Precision:0,49746192893401014 | Recall:0,784 | F1-score:0,6086956521739131\n",
      ",70629370629370\t0,49746192893401014\t0,784\t0,6086956521739131\n",
      "CAMBARA DO SUL\n",
      "Test: Accuracy: 0,6466165413533834 | Precision:0,4926829268292683 | Recall:0,7318840579710145 | F1-score:0,5889212827988338\n",
      ",64661654135338\t0,4926829268292683\t0,7318840579710145\t0,5889212827988338\n",
      "ENCRUZILHADA DO SUL\n",
      "Test: Accuracy: 0,7151335311572701 | Precision:0,45384615384615384 | Recall:0,7023809523809523 | F1-score:0,5514018691588786\n",
      ",71513353115727\t0,45384615384615384\t0,7023809523809523\t0,5514018691588786\n",
      "CAPAO DO LEAO (PELOTAS)\n",
      "Test: Accuracy: 0,7169117647058824 | Precision:0,4782608695652174 | Recall:0,6027397260273972 | F1-score:0,5333333333333333\n",
      ",71691176470588\t0,4782608695652174\t0,6027397260273972\t0,5333333333333333\n",
      "PORTO ALEGRE- BELEM NOVO\n",
      "Test: Accuracy: 0,46808510638297873 | Precision:0,375 | Recall:1,0 | F1-score:0,5454545454545454\n",
      ",468085106382978\t0,375\t1,0\t0,5454545454545454\n",
      "VP: 7158 - VN: 17720 - FP: 8286 - FN: 2904\n",
      "7158\t17720\t8286\t2904\n",
      "Test: Accuracy: 0,6897526893645337 | Precision:0,46348096348096346 | Recall:0,7113893858079905 | F1-score:0,5612796988943778\n",
      ",68975268936453\t0,46348096348096346\t0,7113893858079905\t0,5612796988943778\n"
     ]
    },
    {
     "data": {
      "image/png": "[encoded data removed]",
      "text/plain": [
       "<Figure size 800x600 with 1 Axes>"
      ]
     },
     "metadata": {},
     "output_type": "display_data"
    }
   ],
   "source": [
    "data = pd.read_csv('data.csv', delimiter=';')\n",
    "data = data.dropna(subset=['Vai Chover Amanha'])#Removendo linhas com valores faltantes na coluna de outliers\n",
    "data.reset_index(drop=True, inplace=True)\n",
    "\n",
    "X = data.drop('Vai Chover Amanha', axis=1)\n",
    "y = data['Vai Chover Amanha']\n",
    "\n",
    "X_train, X_test, y_train, y_test = train_test_split(X, y, test_size=0.15, stratify=y, random_state=42)\n",
    "\n",
    "pipeline = Pipeline(steps=[\n",
    "    ('manual',ManualFeatureSelectorTransformer()),\n",
    "    ('imputer',ImputerTransformer()),\n",
    "    ('date', DateTransformer()),\n",
    "    ('scaler', RobustScalerTransformer()),\n",
    "    ('os', RandomOverSampler(random_state=42)),\n",
    "    ('model', LogisticRegression(class_weight='balanced', max_iter=6000, random_state=42, solver='newton-cg', tol=0.0001432961878651273, C=3.457843066825297, intercept_scaling=3)),\n",
    "    ])\n",
    "\n",
    "pipeline.fit(X_train, y_train)\n",
    "\n",
    "for i in range(2001,2025):\n",
    "    print(i)\n",
    "    f_X_test = X_test.copy().loc[pd.to_datetime(X_test['Data']).dt.year == i]\n",
    "    f_X_test.reset_index(drop=True, inplace=True)\n",
    "\n",
    "    f_y_test = y_test.copy().loc[pd.to_datetime(X_test['Data']).dt.year == i]\n",
    "    f_y_test.reset_index(drop=True, inplace=True)\n",
    "    \n",
    "\n",
    "    y_pred = pipeline.predict(f_X_test)\n",
    "    accuracy = accuracy_score(f_y_test, y_pred)\n",
    "\n",
    "    y_true  = (f_y_test == 'Sim').astype(int)\n",
    "    y_pred  = (y_pred == 'Sim').astype(int)\n",
    "\n",
    "    precision = precision_score(y_true, y_pred)\n",
    "    recall = recall_score(y_true, y_pred)\n",
    "    f1 = f1_score(y_true, y_pred)\n",
    "\n",
    "\n",
    "    print(f\"Test: Accuracy: {str(accuracy).replace('.',',')} | Precision:{str(precision).replace('.',',')} | Recall:{str(recall).replace('.',',')} | F1-score:{str(f1).replace('.',',')}\")\n",
    "    print(f\"{str(accuracy).replace('.',',')[1:-2]}\\t{str(precision).replace('.',',')}\\t{str(recall).replace('.',',')}\\t{str(f1).replace('.',',')}\")\n",
    "\n",
    "for cidade in data['Cidade'].unique():\n",
    "    print(cidade)\n",
    "    f_X_test = X_test.copy().loc[X_test['Cidade'] == cidade]\n",
    "    f_X_test.reset_index(drop=True, inplace=True)\n",
    "\n",
    "    f_y_test = y_test.copy().loc[X_test['Cidade'] == cidade]\n",
    "    f_y_test.reset_index(drop=True, inplace=True)\n",
    "\n",
    "    y_pred = pipeline.predict(f_X_test)\n",
    "    accuracy = accuracy_score(f_y_test, y_pred)\n",
    "\n",
    "    y_true  = (f_y_test == 'Sim').astype(int)\n",
    "    y_pred  = (y_pred == 'Sim').astype(int)\n",
    "\n",
    "    precision = precision_score(y_true, y_pred)\n",
    "    recall = recall_score(y_true, y_pred)\n",
    "    f1 = f1_score(y_true, y_pred)\n",
    "\n",
    "\n",
    "    print(f\"Test: Accuracy: {str(accuracy).replace('.',',')} | Precision:{str(precision).replace('.',',')} | Recall:{str(recall).replace('.',',')} | F1-score:{str(f1).replace('.',',')}\")\n",
    "    print(f\"{str(accuracy).replace('.',',')[1:-2]}\\t{str(precision).replace('.',',')}\\t{str(recall).replace('.',',')}\\t{str(f1).replace('.',',')}\")\n",
    "\n",
    "y_pred = pipeline.predict(X_test.copy())\n",
    "accuracy = accuracy_score(y_test, y_pred)\n",
    "\n",
    "y_true  = (y_test == 'Sim').astype(int)\n",
    "y_pred  = (y_pred == 'Sim').astype(int)\n",
    "\n",
    "precision = precision_score(y_true, y_pred)\n",
    "recall = recall_score(y_true, y_pred)\n",
    "f1 = f1_score(y_true, y_pred)\n",
    "\n",
    "FP = np.sum((y_pred == 1) & (y_true == 0))\n",
    "VP = np.sum((y_pred == 1) & (y_true == 1))\n",
    "FN = np.sum((y_pred == 0) & (y_true == 1))\n",
    "VN = np.sum((y_pred == 0) & (y_true == 0))\n",
    "\n",
    "print(f\"VP: {VP} - VN: {VN} - FP: {FP} - FN: {FN}\")\n",
    "print(f\"{VP}\\t{VN}\\t{FP}\\t{FN}\")\n",
    "print(f\"Test: Accuracy: {str(accuracy).replace('.',',')} | Precision:{str(precision).replace('.',',')} | Recall:{str(recall).replace('.',',')} | F1-score:{str(f1).replace('.',',')}\")\n",
    "print(f\"{str(accuracy).replace('.',',')[1:-2]}\\t{str(precision).replace('.',',')}\\t{str(recall).replace('.',',')}\\t{str(f1).replace('.',',')}\")\n",
    "\n",
    "class_labels = pipeline.classes_\n",
    "class_index = np.where(class_labels == \"Sim\")[0][0]\n",
    "\n",
    "y_probs = pipeline.predict_proba(X_test.copy())[:, class_index]\n",
    "\n",
    "y_true  = (y_test.copy() == 'Sim').astype(int)\n",
    "\n",
    "precision, recall, _ = precision_recall_curve(y_true, y_probs)\n",
    "\n",
    "plt.figure(figsize=(8, 6))\n",
    "plt.plot(recall, precision, marker='.')\n",
    "plt.xlabel('Recall')\n",
    "plt.ylabel('Precisão')\n",
    "plt.grid(True)\n",
    "plt.show()"
   ]
  },
  {
   "cell_type": "code",
   "execution_count": 29,
   "metadata": {},
   "outputs": [
    {
     "name": "stdout",
     "output_type": "stream",
     "text": [
      "256311\n",
      "240452\n"
     ]
    },
    {
     "name": "stderr",
     "output_type": "stream",
     "text": [
      "[I 2024-08-06 16:03:28,735] A new study created in memory with name: no-name-2d2750fc-7d89-4cbf-8381-7c9cd3b143c7\n",
      "[I 2024-08-06 16:04:52,267] Trial 0 finished with value: 0.5232132268303743 and parameters: {'criterion': 'entropy', 'max_depth': 19, 'min_samples_split': 45, 'min_samples_leaf': 29, 'min_weight_fraction_leaf': 0.06188600191648569, 'ccp_alpha': 0.00946936465453477, 'n_estimators': 9}. Best is trial 0 with value: 0.5232132268303743.\n"
     ]
    },
    {
     "name": "stdout",
     "output_type": "stream",
     "text": [
      "Accuracy: 0,6433119357027295 | Precision:0,4171765491155857 | Recall:0,7015246468992611 | F1-score:0,5232132268303743\n"
     ]
    },
    {
     "name": "stderr",
     "output_type": "stream",
     "text": [
      "[I 2024-08-06 16:05:25,072] Trial 1 finished with value: 0.5433542600896861 and parameters: {'criterion': 'entropy', 'max_depth': 30, 'min_samples_split': 26, 'min_samples_leaf': 13, 'min_weight_fraction_leaf': 0.011272618479276254, 'ccp_alpha': 0.0009876284197887742, 'n_estimators': 2}. Best is trial 1 with value: 0.5433542600896861.\n"
     ]
    },
    {
     "name": "stdout",
     "output_type": "stream",
     "text": [
      "Accuracy: 0,6678409268827306 | Precision:0,4407006517690875 | Recall:0,7083528201290805 | F1-score:0,5433542600896861\n"
     ]
    },
    {
     "name": "stderr",
     "output_type": "stream",
     "text": [
      "[I 2024-08-06 16:05:45,955] Trial 2 finished with value: 0.5321315780135553 and parameters: {'criterion': 'gini', 'max_depth': 29, 'min_samples_split': 13, 'min_samples_leaf': 18, 'min_weight_fraction_leaf': 0.0631352532456998, 'ccp_alpha': 0.00046941348769256267, 'n_estimators': 2}. Best is trial 1 with value: 0.5433542600896861.\n"
     ]
    },
    {
     "name": "stdout",
     "output_type": "stream",
     "text": [
      "Accuracy: 0,6559417566932833 | Precision:0,4287021154945683 | Recall:0,701337573660088 | F1-score:0,5321315780135553\n"
     ]
    },
    {
     "name": "stderr",
     "output_type": "stream",
     "text": [
      "[I 2024-08-06 16:08:07,529] Trial 3 finished with value: 0.5326438722386381 and parameters: {'criterion': 'entropy', 'max_depth': 24, 'min_samples_split': 45, 'min_samples_leaf': 44, 'min_weight_fraction_leaf': 0.051156826135296596, 'ccp_alpha': 0.0027597520563905488, 'n_estimators': 15}. Best is trial 1 with value: 0.5433542600896861.\n"
     ]
    },
    {
     "name": "stdout",
     "output_type": "stream",
     "text": [
      "Accuracy: 0,6533061948750065 | Precision:0,4268478322151435 | Recall:0,7081657468899074 | F1-score:0,5326438722386381\n"
     ]
    },
    {
     "name": "stderr",
     "output_type": "stream",
     "text": [
      "[I 2024-08-06 16:08:30,813] Trial 4 finished with value: 0.5261454783297187 and parameters: {'criterion': 'entropy', 'max_depth': 18, 'min_samples_split': 47, 'min_samples_leaf': 29, 'min_weight_fraction_leaf': 0.032693170947939325, 'ccp_alpha': 0.005252560374058651, 'n_estimators': 2}. Best is trial 1 with value: 0.5433542600896861.\n"
     ]
    },
    {
     "name": "stdout",
     "output_type": "stream",
     "text": [
      "Accuracy: 0,6408068472417933 | Precision:0,41627628281947926 | Recall:0,7148068468805537 | F1-score:0,5261454783297187\n"
     ]
    },
    {
     "name": "stderr",
     "output_type": "stream",
     "text": [
      "[I 2024-08-06 16:10:56,497] Trial 5 finished with value: 0.5223657186618861 and parameters: {'criterion': 'entropy', 'max_depth': 30, 'min_samples_split': 28, 'min_samples_leaf': 27, 'min_weight_fraction_leaf': 0.04887198615701105, 'ccp_alpha': 0.009424595416172904, 'n_estimators': 15}. Best is trial 1 with value: 0.5433542600896861.\n"
     ]
    },
    {
     "name": "stdout",
     "output_type": "stream",
     "text": [
      "Accuracy: 0,641955012786389 | Precision:0,41600133067198936 | Recall:0,7018052567580207 | F1-score:0,5223657186618861\n"
     ]
    },
    {
     "name": "stderr",
     "output_type": "stream",
     "text": [
      "[I 2024-08-06 16:12:21,571] Trial 6 finished with value: 0.5212541658165 and parameters: {'criterion': 'gini', 'max_depth': 15, 'min_samples_split': 38, 'min_samples_leaf': 39, 'min_weight_fraction_leaf': 0.04645370331308251, 'ccp_alpha': 0.006213641535554566, 'n_estimators': 9}. Best is trial 1 with value: 0.5433542600896861.\n"
     ]
    },
    {
     "name": "stdout",
     "output_type": "stream",
     "text": [
      "Accuracy: 0,6326392150722823 | Precision:0,40951108736307773 | Recall:0,7168646525114583 | F1-score:0,5212541658165\n"
     ]
    },
    {
     "name": "stderr",
     "output_type": "stream",
     "text": [
      "[I 2024-08-06 16:13:04,323] Trial 7 finished with value: 0.5230660792951543 and parameters: {'criterion': 'gini', 'max_depth': 30, 'min_samples_split': 18, 'min_samples_leaf': 22, 'min_weight_fraction_leaf': 0.06473737786814122, 'ccp_alpha': 0.00821309660310172, 'n_estimators': 5}. Best is trial 1 with value: 0.5433542600896861.\n"
     ]
    },
    {
     "name": "stdout",
     "output_type": "stream",
     "text": [
      "Accuracy: 0,6468608110223892 | Precision:0,4196448767247229 | Recall:0,6941352539519222 | F1-score:0,5230660792951543\n"
     ]
    },
    {
     "name": "stderr",
     "output_type": "stream",
     "text": [
      "[I 2024-08-06 16:15:29,593] Trial 8 finished with value: 0.5219915312115831 and parameters: {'criterion': 'gini', 'max_depth': 17, 'min_samples_split': 27, 'min_samples_leaf': 11, 'min_weight_fraction_leaf': 0.07368739139944926, 'ccp_alpha': 0.008407602624127463, 'n_estimators': 18}. Best is trial 1 with value: 0.5433542600896861.\n"
     ]
    },
    {
     "name": "stdout",
     "output_type": "stream",
     "text": [
      "Accuracy: 0,6347267887897291 | Precision:0,41106868176195344 | Recall:0,7149003835001403 | F1-score:0,5219915312115831\n"
     ]
    },
    {
     "name": "stderr",
     "output_type": "stream",
     "text": [
      "[I 2024-08-06 16:17:46,537] Trial 9 finished with value: 0.5264398087185529 and parameters: {'criterion': 'entropy', 'max_depth': 28, 'min_samples_split': 27, 'min_samples_leaf': 19, 'min_weight_fraction_leaf': 0.04873496970938565, 'ccp_alpha': 0.006091475106908496, 'n_estimators': 14}. Best is trial 1 with value: 0.5433542600896861.\n"
     ]
    },
    {
     "name": "stdout",
     "output_type": "stream",
     "text": [
      "Accuracy: 0,6433902197171337 | Precision:0,4181207684262674 | Recall:0,7105041623795716 | F1-score:0,5264398087185529\n"
     ]
    },
    {
     "name": "stderr",
     "output_type": "stream",
     "text": [
      "[I 2024-08-06 16:20:39,110] Trial 10 finished with value: 0.5772167440432798 and parameters: {'criterion': 'entropy', 'max_depth': 25, 'min_samples_split': 4, 'min_samples_leaf': 2, 'min_weight_fraction_leaf': 0.0005104397784947787, 'ccp_alpha': 9.513843024125824e-06, 'n_estimators': 6}. Best is trial 10 with value: 0.5772167440432798.\n"
     ]
    },
    {
     "name": "stdout",
     "output_type": "stream",
     "text": [
      "Accuracy: 0,712462815093158 | Precision:0,4893312516263336 | Recall:0,7035824525301656 | F1-score:0,5772167440432798\n"
     ]
    },
    {
     "name": "stderr",
     "output_type": "stream",
     "text": [
      "[I 2024-08-06 16:22:50,577] Trial 11 finished with value: 0.5655263836211658 and parameters: {'criterion': 'entropy', 'max_depth': 25, 'min_samples_split': 8, 'min_samples_leaf': 6, 'min_weight_fraction_leaf': 0.0007647394354612109, 'ccp_alpha': 0.0001302078590544965, 'n_estimators': 5}. Best is trial 10 with value: 0.5772167440432798.\n"
     ]
    },
    {
     "name": "stdout",
     "output_type": "stream",
     "text": [
      "Accuracy: 0,6921089713480507 | Precision:0,4663549131543787 | Recall:0,7182677018052568 | F1-score:0,5655263836211658\n"
     ]
    },
    {
     "name": "stderr",
     "output_type": "stream",
     "text": [
      "[I 2024-08-06 16:27:53,399] Trial 12 finished with value: 0.5351267386853068 and parameters: {'criterion': 'entropy', 'max_depth': 24, 'min_samples_split': 3, 'min_samples_leaf': 2, 'min_weight_fraction_leaf': 0.00010241788937819451, 'ccp_alpha': 0.002446289334657578, 'n_estimators': 6}. Best is trial 10 with value: 0.5772167440432798.\n"
     ]
    },
    {
     "name": "stdout",
     "output_type": "stream",
     "text": [
      "Accuracy: 0,6563853661082407 | Precision:0,42977034306776296 | Recall:0,7089140398466 | F1-score:0,5351267386853068\n"
     ]
    },
    {
     "name": "stderr",
     "output_type": "stream",
     "text": [
      "[I 2024-08-06 16:28:45,324] Trial 13 finished with value: 0.5294532627865961 and parameters: {'criterion': 'entropy', 'max_depth': 22, 'min_samples_split': 3, 'min_samples_leaf': 2, 'min_weight_fraction_leaf': 0.09867405398250124, 'ccp_alpha': 0.002421360518668081, 'n_estimators': 6}. Best is trial 10 with value: 0.5772167440432798.\n"
     ]
    },
    {
     "name": "stdout",
     "output_type": "stream",
     "text": [
      "Accuracy: 0,6518970826157299 | Precision:0,4249957528738887 | Recall:0,7019923299971939 | F1-score:0,5294532627865961\n"
     ]
    },
    {
     "name": "stderr",
     "output_type": "stream",
     "text": [
      "[I 2024-08-06 16:31:01,394] Trial 14 finished with value: 0.5442476279808074 and parameters: {'criterion': 'entropy', 'max_depth': 26, 'min_samples_split': 11, 'min_samples_leaf': 9, 'min_weight_fraction_leaf': 0.02137624893064797, 'ccp_alpha': 0.00027487145736847116, 'n_estimators': 10}. Best is trial 10 with value: 0.5772167440432798.\n"
     ]
    },
    {
     "name": "stdout",
     "output_type": "stream",
     "text": [
      "Accuracy: 0,6703460153436668 | Precision:0,44297627437162324 | Recall:0,7055467215414835 | F1-score:0,5442476279808074\n"
     ]
    },
    {
     "name": "stderr",
     "output_type": "stream",
     "text": [
      "[I 2024-08-06 16:32:45,317] Trial 15 finished with value: 0.5322006415453489 and parameters: {'criterion': 'entropy', 'max_depth': 21, 'min_samples_split': 9, 'min_samples_leaf': 7, 'min_weight_fraction_leaf': 0.0037571302010664907, 'ccp_alpha': 0.003745916299690892, 'n_estimators': 5}. Best is trial 10 with value: 0.5772167440432798.\n"
     ]
    },
    {
     "name": "stdout",
     "output_type": "stream",
     "text": [
      "Accuracy: 0,6536976149470278 | Precision:0,4270279443375948 | Recall:0,7061079412590029 | F1-score:0,5322006415453489\n"
     ]
    },
    {
     "name": "stderr",
     "output_type": "stream",
     "text": [
      "[I 2024-08-06 16:35:23,171] Trial 16 finished with value: 0.5379280913261496 and parameters: {'criterion': 'entropy', 'max_depth': 26, 'min_samples_split': 18, 'min_samples_leaf': 2, 'min_weight_fraction_leaf': 0.024111858167188735, 'ccp_alpha': 0.0015027499252763092, 'n_estimators': 12}. Best is trial 10 with value: 0.5772167440432798.\n"
     ]
    },
    {
     "name": "stdout",
     "output_type": "stream",
     "text": [
      "Accuracy: 0,6609519336151558 | Precision:0,43395685104429654 | Recall:0,7074174539332149 | F1-score:0,5379280913261496\n"
     ]
    },
    {
     "name": "stderr",
     "output_type": "stream",
     "text": [
      "[I 2024-08-06 16:37:10,538] Trial 17 finished with value: 0.5480250692318904 and parameters: {'criterion': 'entropy', 'max_depth': 26, 'min_samples_split': 6, 'min_samples_leaf': 15, 'min_weight_fraction_leaf': 0.014549729488113615, 'ccp_alpha': 4.9100089886727795e-05, 'n_estimators': 7}. Best is trial 10 with value: 0.5772167440432798.\n"
     ]
    },
    {
     "name": "stdout",
     "output_type": "stream",
     "text": [
      "Accuracy: 0,6763216951098585 | Precision:0,44887482838894527 | Recall:0,7033953792909924 | F1-score:0,5480250692318904\n"
     ]
    },
    {
     "name": "stderr",
     "output_type": "stream",
     "text": [
      "[I 2024-08-06 16:38:00,018] Trial 18 finished with value: 0.5277364432294009 and parameters: {'criterion': 'gini', 'max_depth': 21, 'min_samples_split': 19, 'min_samples_leaf': 35, 'min_weight_fraction_leaf': 0.03217964237551895, 'ccp_alpha': 0.0038916464610290243, 'n_estimators': 4}. Best is trial 10 with value: 0.5772167440432798.\n"
     ]
    },
    {
     "name": "stdout",
     "output_type": "stream",
     "text": [
      "Accuracy: 0,6438860184750274 | Precision:0,41881797209711086 | Recall:0,7132167243475821 | F1-score:0,5277364432294009\n"
     ]
    },
    {
     "name": "stderr",
     "output_type": "stream",
     "text": [
      "[I 2024-08-06 16:39:49,003] Trial 19 finished with value: 0.5404284232736115 and parameters: {'criterion': 'entropy', 'max_depth': 27, 'min_samples_split': 33, 'min_samples_leaf': 7, 'min_weight_fraction_leaf': 0.010479991635268002, 'ccp_alpha': 0.0015502640500995733, 'n_estimators': 7}. Best is trial 10 with value: 0.5772167440432798.\n"
     ]
    },
    {
     "name": "stdout",
     "output_type": "stream",
     "text": [
      "Accuracy: 0,664657376963624 | Precision:0,43747105141269105 | Recall:0,7067626975961089 | F1-score:0,5404284232736115\n"
     ]
    },
    {
     "name": "stderr",
     "output_type": "stream",
     "text": [
      "[I 2024-08-06 16:42:27,503] Trial 20 finished with value: 0.5281114012184509 and parameters: {'criterion': 'entropy', 'max_depth': 24, 'min_samples_split': 14, 'min_samples_leaf': 48, 'min_weight_fraction_leaf': 0.08649566909410623, 'ccp_alpha': 0.00348026751263222, 'n_estimators': 20}. Best is trial 10 with value: 0.5772167440432798.\n"
     ]
    },
    {
     "name": "stdout",
     "output_type": "stream",
     "text": [
      "Accuracy: 0,6462867282500914 | Precision:0,4205944327381613 | Recall:0,7094752595641194 | F1-score:0,5281114012184509\n"
     ]
    },
    {
     "name": "stderr",
     "output_type": "stream",
     "text": [
      "[I 2024-08-06 16:44:14,534] Trial 21 finished with value: 0.5475022706630335 and parameters: {'criterion': 'entropy', 'max_depth': 26, 'min_samples_split': 7, 'min_samples_leaf': 15, 'min_weight_fraction_leaf': 0.016026526033556934, 'ccp_alpha': 9.300089701374994e-05, 'n_estimators': 8}. Best is trial 10 with value: 0.5772167440432798.\n"
     ]
    },
    {
     "name": "stdout",
     "output_type": "stream",
     "text": [
      "Accuracy: 0,6749908668649862 | Precision:0,4476060354045384 | Recall:0,7047984285847909 | F1-score:0,5475022706630335\n"
     ]
    },
    {
     "name": "stderr",
     "output_type": "stream",
     "text": [
      "[I 2024-08-06 16:45:26,743] Trial 22 finished with value: 0.5381805157593124 and parameters: {'criterion': 'entropy', 'max_depth': 25, 'min_samples_split': 2, 'min_samples_leaf': 7, 'min_weight_fraction_leaf': 0.005360404877069907, 'ccp_alpha': 0.0018043169100403823, 'n_estimators': 4}. Best is trial 10 with value: 0.5772167440432798.\n"
     ]
    },
    {
     "name": "stdout",
     "output_type": "stream",
     "text": [
      "Accuracy: 0,6635353060904963 | Precision:0,4360670961750537 | Recall:0,7027406229538864 | F1-score:0,5381805157593124\n"
     ]
    },
    {
     "name": "stderr",
     "output_type": "stream",
     "text": [
      "[I 2024-08-06 16:48:01,319] Trial 23 finished with value: 0.5417295665300841 and parameters: {'criterion': 'entropy', 'max_depth': 28, 'min_samples_split': 7, 'min_samples_leaf': 15, 'min_weight_fraction_leaf': 0.029464005085331806, 'ccp_alpha': 2.3721877347146226e-05, 'n_estimators': 12}. Best is trial 10 with value: 0.5772167440432798.\n"
     ]
    },
    {
     "name": "stdout",
     "output_type": "stream",
     "text": [
      "Accuracy: 0,6672929387819008 | Precision:0,43990426711809 | Recall:0,7048919652043775 | F1-score:0,5417295665300841\n"
     ]
    },
    {
     "name": "stderr",
     "output_type": "stream",
     "text": [
      "[I 2024-08-06 16:49:40,082] Trial 24 finished with value: 0.543498529728179 and parameters: {'criterion': 'entropy', 'max_depth': 23, 'min_samples_split': 6, 'min_samples_leaf': 23, 'min_weight_fraction_leaf': 0.017256230452258436, 'ccp_alpha': 0.000935694038586203, 'n_estimators': 7}. Best is trial 10 with value: 0.5772167440432798.\n"
     ]
    },
    {
     "name": "stdout",
     "output_type": "stream",
     "text": [
      "Accuracy: 0,6678148322112625 | Precision:0,440709508578075 | Recall:0,7088205032270134 | F1-score:0,543498529728179\n"
     ]
    },
    {
     "name": "stderr",
     "output_type": "stream",
     "text": [
      "[I 2024-08-06 16:50:50,611] Trial 25 finished with value: 0.5432045625739803 and parameters: {'criterion': 'entropy', 'max_depth': 22, 'min_samples_split': 21, 'min_samples_leaf': 7, 'min_weight_fraction_leaf': 0.007423553979541829, 'ccp_alpha': 0.001150486289246275, 'n_estimators': 4}. Best is trial 10 with value: 0.5772167440432798.\n"
     ]
    },
    {
     "name": "stdout",
     "output_type": "stream",
     "text": [
      "Accuracy: 0,6676843588539221 | Precision:0,440539911566209 | Recall:0,708259283509494 | F1-score:0,5432045625739803\n"
     ]
    },
    {
     "name": "stderr",
     "output_type": "stream",
     "text": [
      "[I 2024-08-06 16:56:29,058] Trial 26 finished with value: 0.5343215104993824 and parameters: {'criterion': 'gini', 'max_depth': 27, 'min_samples_split': 14, 'min_samples_leaf': 12, 'min_weight_fraction_leaf': 0.000179924120186968, 'ccp_alpha': 0.0019795280623371657, 'n_estimators': 11}. Best is trial 10 with value: 0.5772167440432798.\n"
     ]
    },
    {
     "name": "stdout",
     "output_type": "stream",
     "text": [
      "Accuracy: 0,6556808099786023 | Precision:0,4290410337791884 | Recall:0,7080722102703209 | F1-score:0,5343215104993824\n"
     ]
    },
    {
     "name": "stderr",
     "output_type": "stream",
     "text": [
      "[I 2024-08-06 16:57:58,825] Trial 27 finished with value: 0.5293335200224026 and parameters: {'criterion': 'entropy', 'max_depth': 25, 'min_samples_split': 10, 'min_samples_leaf': 5, 'min_weight_fraction_leaf': 0.03927546278683412, 'ccp_alpha': 0.004556984069762689, 'n_estimators': 8}. Best is trial 10 with value: 0.5772167440432798.\n"
     ]
    },
    {
     "name": "stdout",
     "output_type": "stream",
     "text": [
      "Accuracy: 0,6491310474401127 | Precision:0,42294568439894836 | Recall:0,7072303806940418 | F1-score:0,5293335200224026\n"
     ]
    },
    {
     "name": "stderr",
     "output_type": "stream",
     "text": [
      "[I 2024-08-06 16:59:30,553] Trial 28 finished with value: 0.5453232735280316 and parameters: {'criterion': 'entropy', 'max_depth': 31, 'min_samples_split': 22, 'min_samples_leaf': 17, 'min_weight_fraction_leaf': 0.013673704233597208, 'ccp_alpha': 0.0007593639783752009, 'n_estimators': 6}. Best is trial 10 with value: 0.5772167440432798.\n"
     ]
    },
    {
     "name": "stdout",
     "output_type": "stream",
     "text": [
      "Accuracy: 0,6713376128594541 | Precision:0,4440329218106996 | Recall:0,7064820877373492 | F1-score:0,5453232735280316\n"
     ]
    },
    {
     "name": "stderr",
     "output_type": "stream",
     "text": [
      "[I 2024-08-06 17:01:30,884] Trial 29 finished with value: 0.5332957110609481 and parameters: {'criterion': 'entropy', 'max_depth': 20, 'min_samples_split': 5, 'min_samples_leaf': 22, 'min_weight_fraction_leaf': 0.023777250915785857, 'ccp_alpha': 0.003094176931439847, 'n_estimators': 10}. Best is trial 10 with value: 0.5772167440432798.\n"
     ]
    },
    {
     "name": "stdout",
     "output_type": "stream",
     "text": [
      "Accuracy: 0,6547153071342832 | Precision:0,4280618311533888 | Recall:0,7071368440744551 | F1-score:0,5332957110609481\n"
     ]
    },
    {
     "name": "stderr",
     "output_type": "stream",
     "text": [
      "[I 2024-08-06 17:02:18,889] Trial 30 finished with value: 0.5368664414013872 and parameters: {'criterion': 'entropy', 'max_depth': 23, 'min_samples_split': 16, 'min_samples_leaf': 10, 'min_weight_fraction_leaf': 0.00875865679162365, 'ccp_alpha': 0.0021475355786384274, 'n_estimators': 3}. Best is trial 10 with value: 0.5772167440432798.\n"
     ]
    },
    {
     "name": "stdout",
     "output_type": "stream",
     "text": [
      "Accuracy: 0,6602212828140493 | Precision:0,43313820018365473 | Recall:0,7059208680198298 | F1-score:0,5368664414013872\n"
     ]
    },
    {
     "name": "stderr",
     "output_type": "stream",
     "text": [
      "[I 2024-08-06 17:04:12,156] Trial 31 finished with value: 0.5473233093629695 and parameters: {'criterion': 'entropy', 'max_depth': 26, 'min_samples_split': 8, 'min_samples_leaf': 15, 'min_weight_fraction_leaf': 0.016807338903668506, 'ccp_alpha': 3.71085836608489e-05, 'n_estimators': 8}. Best is trial 10 with value: 0.5772167440432798.\n"
     ]
    },
    {
     "name": "stdout",
     "output_type": "stream",
     "text": [
      "Accuracy: 0,6747560148217734 | Precision:0,44736685863563497 | Recall:0,7047984285847909 | F1-score:0,5473233093629695\n"
     ]
    },
    {
     "name": "stderr",
     "output_type": "stream",
     "text": [
      "[I 2024-08-06 17:06:07,104] Trial 32 finished with value: 0.5441409058231489 and parameters: {'criterion': 'entropy', 'max_depth': 25, 'min_samples_split': 6, 'min_samples_leaf': 14, 'min_weight_fraction_leaf': 0.015876786386427196, 'ccp_alpha': 0.0007860946774179562, 'n_estimators': 8}. Best is trial 10 with value: 0.5772167440432798.\n"
     ]
    },
    {
     "name": "stdout",
     "output_type": "stream",
     "text": [
      "Accuracy: 0,6690673764417306 | Precision:0,44188218810204916 | Recall:0,7079786736507343 | F1-score:0,5441409058231489\n"
     ]
    },
    {
     "name": "stderr",
     "output_type": "stream",
     "text": [
      "[I 2024-08-06 17:08:03,840] Trial 33 finished with value: 0.554185927067283 and parameters: {'criterion': 'entropy', 'max_depth': 27, 'min_samples_split': 12, 'min_samples_leaf': 5, 'min_weight_fraction_leaf': 0.007756855904647806, 'ccp_alpha': 3.1314101639982054e-06, 'n_estimators': 7}. Best is trial 10 with value: 0.5772167440432798.\n"
     ]
    },
    {
     "name": "stdout",
     "output_type": "stream",
     "text": [
      "Accuracy: 0,6828975523198163 | Precision:0,4559063197923583 | Recall:0,7064820877373492 | F1-score:0,554185927067283\n"
     ]
    },
    {
     "name": "stderr",
     "output_type": "stream",
     "text": [
      "[I 2024-08-06 17:09:31,312] Trial 34 finished with value: 0.5422273117663899 and parameters: {'criterion': 'entropy', 'max_depth': 28, 'min_samples_split': 12, 'min_samples_leaf': 4, 'min_weight_fraction_leaf': 0.006696477953716414, 'ccp_alpha': 0.0012213563119752794, 'n_estimators': 5}. Best is trial 10 with value: 0.5772167440432798.\n"
     ]
    },
    {
     "name": "stdout",
     "output_type": "stream",
     "text": [
      "Accuracy: 0,6661969625802411 | Precision:0,4391120384860604 | Recall:0,7086334299878403 | F1-score:0,5422273117663899\n"
     ]
    },
    {
     "name": "stderr",
     "output_type": "stream",
     "text": [
      "[I 2024-08-06 17:12:57,051] Trial 35 finished with value: 0.5481556634538735 and parameters: {'criterion': 'entropy', 'max_depth': 27, 'min_samples_split': 2, 'min_samples_leaf': 5, 'min_weight_fraction_leaf': 0.00041739483123800667, 'ccp_alpha': 0.0006091893285899925, 'n_estimators': 7}. Best is trial 10 with value: 0.5772167440432798.\n"
     ]
    },
    {
     "name": "stdout",
     "output_type": "stream",
     "text": [
      "Accuracy: 0,6745994467929649 | Precision:0,4473886555864435 | Recall:0,7075109905528014 | F1-score:0,5481556634538735\n"
     ]
    },
    {
     "name": "stderr",
     "output_type": "stream",
     "text": [
      "[I 2024-08-06 17:14:03,655] Trial 36 finished with value: 0.5445890880242328 and parameters: {'criterion': 'entropy', 'max_depth': 29, 'min_samples_split': 2, 'min_samples_leaf': 5, 'min_weight_fraction_leaf': 0.0023046319608048082, 'ccp_alpha': 0.0008164506494546161, 'n_estimators': 3}. Best is trial 10 with value: 0.5772167440432798.\n"
     ]
    },
    {
     "name": "stdout",
     "output_type": "stream",
     "text": [
      "Accuracy: 0,6704503940295392 | Precision:0,4431338028169014 | Recall:0,706295014498176 | F1-score:0,5445890880242328\n"
     ]
    },
    {
     "name": "stderr",
     "output_type": "stream",
     "text": [
      "[I 2024-08-06 17:14:26,765] Trial 37 finished with value: 0.5368620037807182 and parameters: {'criterion': 'gini', 'max_depth': 27, 'min_samples_split': 41, 'min_samples_leaf': 10, 'min_weight_fraction_leaf': 0.03981443181903498, 'ccp_alpha': 0.0006287174609787399, 'n_estimators': 2}. Best is trial 10 with value: 0.5772167440432798.\n"
     ]
    },
    {
     "name": "stdout",
     "output_type": "stream",
     "text": [
      "Accuracy: 0,6611606909869004 | Precision:0,4338752450132595 | Recall:0,7039565990085118 | F1-score:0,5368620037807182\n"
     ]
    },
    {
     "name": "stderr",
     "output_type": "stream",
     "text": [
      "[I 2024-08-06 17:16:39,534] Trial 38 finished with value: 0.5404730476971924 and parameters: {'criterion': 'entropy', 'max_depth': 29, 'min_samples_split': 11, 'min_samples_leaf': 4, 'min_weight_fraction_leaf': 0.010418958465933202, 'ccp_alpha': 0.0014882625527558079, 'n_estimators': 9}. Best is trial 10 with value: 0.5772167440432798.\n"
     ]
    },
    {
     "name": "stdout",
     "output_type": "stream",
     "text": [
      "Accuracy: 0,6638745368195814 | Precision:0,43685121107266434 | Recall:0,7085398933682536 | F1-score:0,5404730476971924\n"
     ]
    },
    {
     "name": "stderr",
     "output_type": "stream",
     "text": [
      "[I 2024-08-06 17:17:31,971] Trial 39 finished with value: 0.527448869752422 and parameters: {'criterion': 'gini', 'max_depth': 24, 'min_samples_split': 24, 'min_samples_leaf': 32, 'min_weight_fraction_leaf': 0.056188900642480215, 'ccp_alpha': 0.0027695061228975968, 'n_estimators': 6}. Best is trial 10 with value: 0.5772167440432798.\n"
     ]
    },
    {
     "name": "stdout",
     "output_type": "stream",
     "text": [
      "Accuracy: 0,6448776159908147 | Precision:0,4194278771813563 | Recall:0,710410625759985 | F1-score:0,527448869752422\n"
     ]
    },
    {
     "name": "stderr",
     "output_type": "stream",
     "text": [
      "[I 2024-08-06 17:19:12,707] Trial 40 finished with value: 0.5235372659111917 and parameters: {'criterion': 'entropy', 'max_depth': 31, 'min_samples_split': 31, 'min_samples_leaf': 9, 'min_weight_fraction_leaf': 0.0001774396700932741, 'ccp_alpha': 0.0074569775425428605, 'n_estimators': 3}. Best is trial 10 with value: 0.5772167440432798.\n"
     ]
    },
    {
     "name": "stdout",
     "output_type": "stream",
     "text": [
      "Accuracy: 0,6368404571786441 | Precision:0,4128955610757101 | Recall:0,7151809933589001 | F1-score:0,5235372659111917\n"
     ]
    },
    {
     "name": "stderr",
     "output_type": "stream",
     "text": [
      "[I 2024-08-06 17:20:48,634] Trial 41 finished with value: 0.5488913122500909 and parameters: {'criterion': 'entropy', 'max_depth': 27, 'min_samples_split': 9, 'min_samples_leaf': 12, 'min_weight_fraction_leaf': 0.010413456274515733, 'ccp_alpha': 0.00048255821981794175, 'n_estimators': 7}. Best is trial 10 with value: 0.5772167440432798.\n"
     ]
    },
    {
     "name": "stdout",
     "output_type": "stream",
     "text": [
      "Accuracy: 0,67616512708105 | Precision:0,4488970806825614 | Recall:0,7062014778785894 | F1-score:0,5488913122500909\n"
     ]
    },
    {
     "name": "stderr",
     "output_type": "stream",
     "text": [
      "[I 2024-08-06 17:23:09,495] Trial 42 finished with value: 0.547551891227309 and parameters: {'criterion': 'entropy', 'max_depth': 28, 'min_samples_split': 4, 'min_samples_leaf': 5, 'min_weight_fraction_leaf': 0.005832644662910838, 'ccp_alpha': 0.0006496993829057015, 'n_estimators': 9}. Best is trial 10 with value: 0.5772167440432798.\n"
     ]
    },
    {
     "name": "stdout",
     "output_type": "stream",
     "text": [
      "Accuracy: 0,6735034705913052 | Precision:0,4463243530035961 | Recall:0,7081657468899074 | F1-score:0,547551891227309\n"
     ]
    },
    {
     "name": "stderr",
     "output_type": "stream",
     "text": [
      "[I 2024-08-06 17:24:45,482] Trial 43 finished with value: 0.5488297601281258 and parameters: {'criterion': 'entropy', 'max_depth': 25, 'min_samples_split': 9, 'min_samples_leaf': 8, 'min_weight_fraction_leaf': 0.01026563357124412, 'ccp_alpha': 0.00041738459026025016, 'n_estimators': 7}. Best is trial 10 with value: 0.5772167440432798.\n"
     ]
    },
    {
     "name": "stdout",
     "output_type": "stream",
     "text": [
      "Accuracy: 0,6765565471530713 | Precision:0,44923131927064713 | Recall:0,7051725750631372 | F1-score:0,5488297601281258\n"
     ]
    },
    {
     "name": "stderr",
     "output_type": "stream",
     "text": [
      "[I 2024-08-06 17:25:49,620] Trial 44 finished with value: 0.5390274537950834 and parameters: {'criterion': 'entropy', 'max_depth': 25, 'min_samples_split': 16, 'min_samples_leaf': 12, 'min_weight_fraction_leaf': 0.026832440871308018, 'ccp_alpha': 0.001300817008982648, 'n_estimators': 6}. Best is trial 10 with value: 0.5772167440432798.\n"
     ]
    },
    {
     "name": "stdout",
     "output_type": "stream",
     "text": [
      "Accuracy: 0,6648139449924325 | Precision:0,4372889251193665 | Recall:0,7024600130951267 | F1-score:0,5390274537950834\n"
     ]
    },
    {
     "name": "stderr",
     "output_type": "stream",
     "text": [
      "[I 2024-08-06 17:26:47,426] Trial 45 finished with value: 0.5243708187320804 and parameters: {'criterion': 'entropy', 'max_depth': 24, 'min_samples_split': 9, 'min_samples_leaf': 19, 'min_weight_fraction_leaf': 0.0205010737152639, 'ccp_alpha': 0.009892439784749843, 'n_estimators': 5}. Best is trial 10 with value: 0.5772167440432798.\n"
     ]
    },
    {
     "name": "stdout",
     "output_type": "stream",
     "text": [
      "Accuracy: 0,6493658994833255 | Precision:0,4218109339407745 | Recall:0,6928257412777102 | F1-score:0,5243708187320804\n"
     ]
    },
    {
     "name": "stderr",
     "output_type": "stream",
     "text": [
      "[I 2024-08-06 17:29:06,537] Trial 46 finished with value: 0.5493381686310064 and parameters: {'criterion': 'entropy', 'max_depth': 23, 'min_samples_split': 13, 'min_samples_leaf': 8, 'min_weight_fraction_leaf': 0.009646828516659156, 'ccp_alpha': 0.0003838623862834137, 'n_estimators': 10}. Best is trial 10 with value: 0.5772167440432798.\n"
     ]
    },
    {
     "name": "stdout",
     "output_type": "stream",
     "text": [
      "Accuracy: 0,6757215176660926 | Precision:0,44859038142620233 | Recall:0,7084463567486671 | F1-score:0,5493381686310064\n"
     ]
    },
    {
     "name": "stderr",
     "output_type": "stream",
     "text": [
      "[I 2024-08-06 17:31:04,514] Trial 47 finished with value: 0.5334460530487161 and parameters: {'criterion': 'gini', 'max_depth': 22, 'min_samples_split': 15, 'min_samples_leaf': 2, 'min_weight_fraction_leaf': 0.03853866743525268, 'ccp_alpha': 0.001874197448286357, 'n_estimators': 13}. Best is trial 10 with value: 0.5772167440432798.\n"
     ]
    },
    {
     "name": "stdout",
     "output_type": "stream",
     "text": [
      "Accuracy: 0,654376076405198 | Precision:0,4278449542321166 | Recall:0,708259283509494 | F1-score:0,5334460530487161\n"
     ]
    },
    {
     "name": "stderr",
     "output_type": "stream",
     "text": [
      "[I 2024-08-06 17:32:58,799] Trial 48 finished with value: 0.5278441972485012 and parameters: {'criterion': 'entropy', 'max_depth': 15, 'min_samples_split': 50, 'min_samples_leaf': 12, 'min_weight_fraction_leaf': 0.01986430309642839, 'ccp_alpha': 0.005691587471166684, 'n_estimators': 10}. Best is trial 10 with value: 0.5772167440432798.\n"
     ]
    },
    {
     "name": "stdout",
     "output_type": "stream",
     "text": [
      "Accuracy: 0,6444601012473253 | Precision:0,41924474292634595 | Recall:0,712374894771303 | F1-score:0,5278441972485012\n"
     ]
    },
    {
     "name": "stderr",
     "output_type": "stream",
     "text": [
      "[I 2024-08-06 17:36:11,877] Trial 49 finished with value: 0.5256717931384148 and parameters: {'criterion': 'entropy', 'max_depth': 19, 'min_samples_split': 12, 'min_samples_leaf': 3, 'min_weight_fraction_leaf': 0.012535417313004907, 'ccp_alpha': 0.007130049519267672, 'n_estimators': 15}. Best is trial 10 with value: 0.5772167440432798.\n"
     ]
    },
    {
     "name": "stdout",
     "output_type": "stream",
     "text": [
      "Accuracy: 0,6338134752883461 | Precision:0,41155922515084153 | Recall:0,7273407539051538 | F1-score:0,5256717931384148\n"
     ]
    },
    {
     "name": "stderr",
     "output_type": "stream",
     "text": [
      "[I 2024-08-06 17:38:57,810] Trial 50 finished with value: 0.55019452423372 and parameters: {'criterion': 'entropy', 'max_depth': 23, 'min_samples_split': 13, 'min_samples_leaf': 41, 'min_weight_fraction_leaf': 0.006885109012493784, 'ccp_alpha': 0.0003776014355048999, 'n_estimators': 11}. Best is trial 10 with value: 0.5772167440432798.\n"
     ]
    },
    {
     "name": "stdout",
     "output_type": "stream",
     "text": [
      "Accuracy: 0,6771828192683054 | Precision:0,45003568879371875 | Recall:0,7076980637919745 | F1-score:0,55019452423372\n"
     ]
    },
    {
     "name": "stderr",
     "output_type": "stream",
     "text": [
      "[I 2024-08-06 17:42:01,747] Trial 51 finished with value: 0.550088958280382 and parameters: {'criterion': 'entropy', 'max_depth': 23, 'min_samples_split': 13, 'min_samples_leaf': 45, 'min_weight_fraction_leaf': 0.004614649395738293, 'ccp_alpha': 0.0004622400790416859, 'n_estimators': 11}. Best is trial 10 with value: 0.5772167440432798.\n"
     ]
    },
    {
     "name": "stdout",
     "output_type": "stream",
     "text": [
      "Accuracy: 0,6766609258389437 | Precision:0,4495548961424332 | Recall:0,7085398933682536 | F1-score:0,550088958280382\n"
     ]
    },
    {
     "name": "stderr",
     "output_type": "stream",
     "text": [
      "[I 2024-08-06 17:45:14,165] Trial 52 finished with value: 0.5455395683453238 and parameters: {'criterion': 'entropy', 'max_depth': 23, 'min_samples_split': 17, 'min_samples_leaf': 42, 'min_weight_fraction_leaf': 0.0050054754734172, 'ccp_alpha': 0.0010779834860425823, 'n_estimators': 11}. Best is trial 10 with value: 0.5772167440432798.\n"
     ]
    },
    {
     "name": "stdout",
     "output_type": "stream",
     "text": [
      "Accuracy: 0,6703199206721987 | Precision:0,44321702028172305 | Recall:0,7092881863249462 | F1-score:0,5455395683453238\n"
     ]
    },
    {
     "name": "stderr",
     "output_type": "stream",
     "text": [
      "[I 2024-08-06 17:48:49,551] Trial 53 finished with value: 0.5515835456862032 and parameters: {'criterion': 'entropy', 'max_depth': 22, 'min_samples_split': 13, 'min_samples_leaf': 50, 'min_weight_fraction_leaf': 0.0053568203936254395, 'ccp_alpha': 0.00039368061514364765, 'n_estimators': 12}. Best is trial 10 with value: 0.5772167440432798.\n"
     ]
    },
    {
     "name": "stdout",
     "output_type": "stream",
     "text": [
      "Accuracy: 0,6785658368561139 | Precision:0,45151677692353537 | Recall:0,7086334299878403 | F1-score:0,5515835456862032\n"
     ]
    },
    {
     "name": "stderr",
     "output_type": "stream",
     "text": [
      "[I 2024-08-06 17:53:44,371] Trial 54 finished with value: 0.5624445758202778 and parameters: {'criterion': 'entropy', 'max_depth': 21, 'min_samples_split': 20, 'min_samples_leaf': 50, 'min_weight_fraction_leaf': 0.002970518872321179, 'ccp_alpha': 7.040532008498548e-06, 'n_estimators': 16}. Best is trial 10 with value: 0.5772167440432798.\n"
     ]
    },
    {
     "name": "stdout",
     "output_type": "stream",
     "text": [
      "Accuracy: 0,6909869004749231 | Precision:0,46485066878397363 | Recall:0,7119072116733701 | F1-score:0,5624445758202778\n"
     ]
    },
    {
     "name": "stderr",
     "output_type": "stream",
     "text": [
      "[I 2024-08-06 17:56:03,521] Trial 55 finished with value: 0.5325326036743541 and parameters: {'criterion': 'entropy', 'max_depth': 20, 'min_samples_split': 19, 'min_samples_leaf': 50, 'min_weight_fraction_leaf': 0.06785843427158884, 'ccp_alpha': 0.00011197660998729891, 'n_estimators': 18}. Best is trial 10 with value: 0.5772167440432798.\n"
     ]
    },
    {
     "name": "stdout",
     "output_type": "stream",
     "text": [
      "Accuracy: 0,6567245968373259 | Precision:0,42939828080229225 | Recall:0,7008698905621551 | F1-score:0,5325326036743541\n"
     ]
    },
    {
     "name": "stderr",
     "output_type": "stream",
     "text": [
      "[I 2024-08-06 18:01:07,224] Trial 56 finished with value: 0.5401652186298248 and parameters: {'criterion': 'entropy', 'max_depth': 22, 'min_samples_split': 22, 'min_samples_leaf': 47, 'min_weight_fraction_leaf': 0.0030956363642848264, 'ccp_alpha': 0.00160341349406098, 'n_estimators': 17}. Best is trial 10 with value: 0.5772167440432798.\n"
     ]
    },
    {
     "name": "stdout",
     "output_type": "stream",
     "text": [
      "Accuracy: 0,6630134126611346 | Precision:0,4360949807393779 | Recall:0,7094752595641194 | F1-score:0,5401652186298248\n"
     ]
    },
    {
     "name": "stderr",
     "output_type": "stream",
     "text": [
      "[I 2024-08-06 18:03:01,712] Trial 57 finished with value: 0.5304289402029775 and parameters: {'criterion': 'entropy', 'max_depth': 21, 'min_samples_split': 20, 'min_samples_leaf': 40, 'min_weight_fraction_leaf': 0.08300588587169595, 'ccp_alpha': 0.0011222471423333017, 'n_estimators': 16}. Best is trial 10 with value: 0.5772167440432798.\n"
     ]
    },
    {
     "name": "stdout",
     "output_type": "stream",
     "text": [
      "Accuracy: 0,6534888575752831 | Precision:0,4264271093927678 | Recall:0,7015246468992611 | F1-score:0,5304289402029775\n"
     ]
    },
    {
     "name": "stderr",
     "output_type": "stream",
     "text": [
      "[I 2024-08-06 18:06:09,392] Trial 58 finished with value: 0.5326643744298645 and parameters: {'criterion': 'gini', 'max_depth': 18, 'min_samples_split': 25, 'min_samples_leaf': 37, 'min_weight_fraction_leaf': 0.006521749040289856, 'ccp_alpha': 0.0022818311406811983, 'n_estimators': 13}. Best is trial 10 with value: 0.5772167440432798.\n"
     ]
    },
    {
     "name": "stdout",
     "output_type": "stream",
     "text": [
      "Accuracy: 0,6524189760450916 | Precision:0,4261972938071978 | Recall:0,7100364792816387 | F1-score:0,5326643744298645\n"
     ]
    },
    {
     "name": "stderr",
     "output_type": "stream",
     "text": [
      "[I 2024-08-06 18:09:09,728] Trial 59 finished with value: 0.5479392309369776 and parameters: {'criterion': 'entropy', 'max_depth': 20, 'min_samples_split': 29, 'min_samples_leaf': 50, 'min_weight_fraction_leaf': 0.013151465213443066, 'ccp_alpha': 0.0003072070888470731, 'n_estimators': 14}. Best is trial 10 with value: 0.5772167440432798.\n"
     ]
    },
    {
     "name": "stdout",
     "output_type": "stream",
     "text": [
      "Accuracy: 0,6754344762799437 | Precision:0,4480770373892885 | Recall:0,7050790384435507 | F1-score:0,5479392309369776\n"
     ]
    },
    {
     "name": "stderr",
     "output_type": "stream",
     "text": [
      "[I 2024-08-06 18:14:57,233] Trial 60 finished with value: 0.5445206709529112 and parameters: {'criterion': 'entropy', 'max_depth': 21, 'min_samples_split': 4, 'min_samples_leaf': 44, 'min_weight_fraction_leaf': 0.0027903653427028105, 'ccp_alpha': 0.001002751982903362, 'n_estimators': 19}. Best is trial 10 with value: 0.5772167440432798.\n"
     ]
    },
    {
     "name": "stdout",
     "output_type": "stream",
     "text": [
      "Accuracy: 0,6690934711131987 | Precision:0,44198250728862976 | Recall:0,7090075764661865 | F1-score:0,5445206709529112\n"
     ]
    },
    {
     "name": "stderr",
     "output_type": "stream",
     "text": [
      "[I 2024-08-06 18:18:18,781] Trial 61 finished with value: 0.5537775829314628 and parameters: {'criterion': 'entropy', 'max_depth': 24, 'min_samples_split': 14, 'min_samples_leaf': 46, 'min_weight_fraction_leaf': 0.004233000042280482, 'ccp_alpha': 0.00030867071334433465, 'n_estimators': 12}. Best is trial 10 with value: 0.5772167440432798.\n"
     ]
    },
    {
     "name": "stdout",
     "output_type": "stream",
     "text": [
      "Accuracy: 0,6812796826887949 | Precision:0,4543492596367124 | Recall:0,7089140398466 | F1-score:0,5537775829314628\n"
     ]
    },
    {
     "name": "stderr",
     "output_type": "stream",
     "text": [
      "[I 2024-08-06 18:20:39,389] Trial 62 finished with value: 0.546589259796807 and parameters: {'criterion': 'entropy', 'max_depth': 24, 'min_samples_split': 11, 'min_samples_leaf': 45, 'min_weight_fraction_leaf': 0.018705086366798927, 'ccp_alpha': 0.0001032287089819842, 'n_estimators': 12}. Best is trial 10 with value: 0.5772167440432798.\n"
     ]
    },
    {
     "name": "stdout",
     "output_type": "stream",
     "text": [
      "Accuracy: 0,6739209853347946 | Precision:0,44649949611713796 | Recall:0,7045178187260313 | F1-score:0,546589259796807\n"
     ]
    },
    {
     "name": "stderr",
     "output_type": "stream",
     "text": [
      "[I 2024-08-06 18:24:48,816] Trial 63 finished with value: 0.5615267966120502 and parameters: {'criterion': 'entropy', 'max_depth': 22, 'min_samples_split': 15, 'min_samples_leaf': 47, 'min_weight_fraction_leaf': 0.00324294015360134, 'ccp_alpha': 1.801606415638684e-07, 'n_estimators': 14}. Best is trial 10 with value: 0.5772167440432798.\n"
     ]
    },
    {
     "name": "stdout",
     "output_type": "stream",
     "text": [
      "Accuracy: 0,6906476697458379 | Precision:0,46439495901137895 | Recall:0,7100364792816387 | F1-score:0,5615267966120502\n"
     ]
    },
    {
     "name": "stderr",
     "output_type": "stream",
     "text": [
      "[I 2024-08-06 18:32:18,349] Trial 64 finished with value: 0.5459051724137931 and parameters: {'criterion': 'entropy', 'max_depth': 22, 'min_samples_split': 17, 'min_samples_leaf': 48, 'min_weight_fraction_leaf': 0.00028638780632001546, 'ccp_alpha': 0.0008472670013717038, 'n_estimators': 16}. Best is trial 10 with value: 0.5772167440432798.\n"
     ]
    },
    {
     "name": "stdout",
     "output_type": "stream",
     "text": [
      "Accuracy: 0,6701111633004541 | Precision:0,4431162166890198 | Recall:0,7107847722383313 | F1-score:0,5459051724137931\n"
     ]
    },
    {
     "name": "stderr",
     "output_type": "stream",
     "text": [
      "[I 2024-08-06 18:35:14,513] Trial 65 finished with value: 0.5482990722212115 and parameters: {'criterion': 'entropy', 'max_depth': 24, 'min_samples_split': 15, 'min_samples_leaf': 47, 'min_weight_fraction_leaf': 0.014421695484291773, 'ccp_alpha': 3.8257193716798055e-06, 'n_estimators': 14}. Best is trial 10 with value: 0.5772167440432798.\n"
     ]
    },
    {
     "name": "stdout",
     "output_type": "stream",
     "text": [
      "Accuracy: 0,6760346537237096 | Precision:0,44867214481362394 | Recall:0,7047984285847909 | F1-score:0,5482990722212115\n"
     ]
    },
    {
     "name": "stderr",
     "output_type": "stream",
     "text": [
      "[I 2024-08-06 18:38:57,511] Trial 66 finished with value: 0.5412520064205457 and parameters: {'criterion': 'entropy', 'max_depth': 26, 'min_samples_split': 7, 'min_samples_leaf': 26, 'min_weight_fraction_leaf': 0.003826110614802918, 'ccp_alpha': 0.0014508659512685739, 'n_estimators': 13}. Best is trial 10 with value: 0.5772167440432798.\n"
     ]
    },
    {
     "name": "stdout",
     "output_type": "stream",
     "text": [
      "Accuracy: 0,6643964302489431 | Precision:0,4374423431734317 | Recall:0,7096623328032925 | F1-score:0,5412520064205457\n"
     ]
    },
    {
     "name": "stderr",
     "output_type": "stream",
     "text": [
      "[I 2024-08-06 18:42:21,077] Trial 67 finished with value: 0.5383169615943828 and parameters: {'criterion': 'entropy', 'max_depth': 22, 'min_samples_split': 19, 'min_samples_leaf': 43, 'min_weight_fraction_leaf': 0.007867097404636997, 'ccp_alpha': 0.0018032231702823837, 'n_estimators': 14}. Best is trial 10 with value: 0.5772167440432798.\n"
     ]
    },
    {
     "name": "stdout",
     "output_type": "stream",
     "text": [
      "Accuracy: 0,6602734721569855 | Precision:0,4335161069225497 | Recall:0,7099429426620522 | F1-score:0,5383169615943828\n"
     ]
    },
    {
     "name": "stderr",
     "output_type": "stream",
     "text": [
      "[I 2024-08-06 18:45:58,041] Trial 68 finished with value: 0.5459242250287025 and parameters: {'criterion': 'entropy', 'max_depth': 21, 'min_samples_split': 15, 'min_samples_leaf': 48, 'min_weight_fraction_leaf': 0.002918981535162799, 'ccp_alpha': 0.0008830245393170033, 'n_estimators': 12}. Best is trial 10 with value: 0.5772167440432798.\n"
     ]
    },
    {
     "name": "stdout",
     "output_type": "stream",
     "text": [
      "Accuracy: 0,6697458378999008 | Precision:0,4428147372097084 | Recall:0,7116266018146105 | F1-score:0,5459242250287025\n"
     ]
    },
    {
     "name": "stderr",
     "output_type": "stream",
     "text": [
      "[I 2024-08-06 18:48:56,079] Trial 69 finished with value: 0.544481798792611 and parameters: {'criterion': 'entropy', 'max_depth': 16, 'min_samples_split': 10, 'min_samples_leaf': 50, 'min_weight_fraction_leaf': 0.022581602381199033, 'ccp_alpha': 4.640021733530635e-07, 'n_estimators': 16}. Best is trial 10 with value: 0.5772167440432798.\n"
     ]
    },
    {
     "name": "stdout",
     "output_type": "stream",
     "text": [
      "Accuracy: 0,6711810448306456 | Precision:0,4437308508131039 | Recall:0,7044242821064447 | F1-score:0,544481798792611\n"
     ]
    },
    {
     "name": "stderr",
     "output_type": "stream",
     "text": [
      "[I 2024-08-06 18:52:03,674] Trial 70 finished with value: 0.5212723392904774 and parameters: {'criterion': 'gini', 'max_depth': 25, 'min_samples_split': 17, 'min_samples_leaf': 46, 'min_weight_fraction_leaf': 0.012330868256112838, 'ccp_alpha': 0.008985146444674418, 'n_estimators': 15}. Best is trial 10 with value: 0.5772167440432798.\n"
     ]
    },
    {
     "name": "stdout",
     "output_type": "stream",
     "text": [
      "Accuracy: 0,6253327070612181 | Precision:0,40500492202476557 | Recall:0,7311757553082031 | F1-score:0,5212723392904774\n"
     ]
    },
    {
     "name": "stderr",
     "output_type": "stream",
     "text": [
      "[I 2024-08-06 18:55:13,222] Trial 71 finished with value: 0.5503974447388479 and parameters: {'criterion': 'entropy', 'max_depth': 23, 'min_samples_split': 13, 'min_samples_leaf': 41, 'min_weight_fraction_leaf': 0.007892590301777792, 'ccp_alpha': 0.00038561705000492754, 'n_estimators': 13}. Best is trial 10 with value: 0.5772167440432798.\n"
     ]
    },
    {
     "name": "stdout",
     "output_type": "stream",
     "text": [
      "Accuracy: 0,676765304524816 | Precision:0,44970344009489915 | Recall:0,7091946497053596 | F1-score:0,5503974447388479\n"
     ]
    },
    {
     "name": "stderr",
     "output_type": "stream",
     "text": [
      "[I 2024-08-06 18:58:19,635] Trial 72 finished with value: 0.5484244001156404 and parameters: {'criterion': 'entropy', 'max_depth': 22, 'min_samples_split': 14, 'min_samples_leaf': 49, 'min_weight_fraction_leaf': 0.008536408982152861, 'ccp_alpha': 0.0005963485813445558, 'n_estimators': 13}. Best is trial 10 with value: 0.5772167440432798.\n"
     ]
    },
    {
     "name": "stdout",
     "output_type": "stream",
     "text": [
      "Accuracy: 0,6739209853347946 | Precision:0,4468523644072787 | Recall:0,709755869422879 | F1-score:0,5484244001156404\n"
     ]
    },
    {
     "name": "stderr",
     "output_type": "stream",
     "text": [
      "[I 2024-08-06 19:04:06,402] Trial 73 finished with value: 0.5552761071623837 and parameters: {'criterion': 'entropy', 'max_depth': 21, 'min_samples_split': 11, 'min_samples_leaf': 43, 'min_weight_fraction_leaf': 1.871987101761377e-05, 'ccp_alpha': 0.0003308860372709735, 'n_estimators': 12}. Best is trial 10 with value: 0.5772167440432798.\n"
     ]
    },
    {
     "name": "stdout",
     "output_type": "stream",
     "text": [
      "Accuracy: 0,6816189134178801 | Precision:0,454909221213569 | Recall:0,7124684313908896 | F1-score:0,5552761071623837\n"
     ]
    },
    {
     "name": "stderr",
     "output_type": "stream",
     "text": [
      "[I 2024-08-06 19:08:00,197] Trial 74 finished with value: 0.5556162786461181 and parameters: {'criterion': 'entropy', 'max_depth': 19, 'min_samples_split': 5, 'min_samples_leaf': 32, 'min_weight_fraction_leaf': 0.0020760346246023642, 'ccp_alpha': 0.0003101477413716765, 'n_estimators': 12}. Best is trial 10 with value: 0.5772167440432798.\n"
     ]
    },
    {
     "name": "stdout",
     "output_type": "stream",
     "text": [
      "Accuracy: 0,6817232921037524 | Precision:0,45506087371687753 | Recall:0,7132167243475821 | F1-score:0,5556162786461181\n"
     ]
    },
    {
     "name": "stderr",
     "output_type": "stream",
     "text": [
      "[I 2024-08-06 19:09:40,585] Trial 75 finished with value: 0.546833249079223 and parameters: {'criterion': 'entropy', 'max_depth': 19, 'min_samples_split': 4, 'min_samples_leaf': 33, 'min_weight_fraction_leaf': 0.0019048231153740362, 'ccp_alpha': 0.0007535387926374023, 'n_estimators': 5}. Best is trial 10 with value: 0.5772167440432798.\n"
     ]
    },
    {
     "name": "stdout",
     "output_type": "stream",
     "text": [
      "Accuracy: 0,672511873075518 | Precision:0,44533317649826504 | Recall:0,708259283509494 | F1-score:0,546833249079223\n"
     ]
    },
    {
     "name": "stderr",
     "output_type": "stream",
     "text": [
      "[I 2024-08-06 19:11:47,072] Trial 76 finished with value: 0.5429535986208878 and parameters: {'criterion': 'entropy', 'max_depth': 19, 'min_samples_split': 7, 'min_samples_leaf': 29, 'min_weight_fraction_leaf': 4.202268774459138e-05, 'ccp_alpha': 0.0012620121493262335, 'n_estimators': 4}. Best is trial 10 with value: 0.5772167440432798.\n"
     ]
    },
    {
     "name": "stdout",
     "output_type": "stream",
     "text": [
      "Accuracy: 0,6679192108971348 | Precision:0,44068093044948403 | Recall:0,7070433074548685 | F1-score:0,5429535986208878\n"
     ]
    },
    {
     "name": "stderr",
     "output_type": "stream",
     "text": [
      "[I 2024-08-06 19:14:51,915] Trial 77 finished with value: 0.5283945493532545 and parameters: {'criterion': 'entropy', 'max_depth': 18, 'min_samples_split': 5, 'min_samples_leaf': 38, 'min_weight_fraction_leaf': 0.011682401916893858, 'ccp_alpha': 0.004701993243055857, 'n_estimators': 14}. Best is trial 10 with value: 0.5772167440432798.\n"
     ]
    },
    {
     "name": "stdout",
     "output_type": "stream",
     "text": [
      "Accuracy: 0,6441730598611763 | Precision:0,41919552214234757 | Recall:0,7145262370217941 | F1-score:0,5283945493532545\n"
     ]
    },
    {
     "name": "stderr",
     "output_type": "stream",
     "text": [
      "[I 2024-08-06 19:16:12,385] Trial 78 finished with value: 0.5309540636042401 and parameters: {'criterion': 'entropy', 'max_depth': 20, 'min_samples_split': 8, 'min_samples_leaf': 31, 'min_weight_fraction_leaf': 0.09783659506819557, 'ccp_alpha': 0.00028511964616060345, 'n_estimators': 12}. Best is trial 10 with value: 0.5772167440432798.\n"
     ]
    },
    {
     "name": "stdout",
     "output_type": "stream",
     "text": [
      "Accuracy: 0,6536193309326236 | Precision:0,4266568232154012 | Recall:0,7027406229538864 | F1-score:0,5309540636042401\n"
     ]
    },
    {
     "name": "stderr",
     "output_type": "stream",
     "text": [
      "[I 2024-08-06 19:18:13,833] Trial 79 finished with value: 0.5428581654199921 and parameters: {'criterion': 'entropy', 'max_depth': 26, 'min_samples_split': 10, 'min_samples_leaf': 43, 'min_weight_fraction_leaf': 0.016447760157381735, 'ccp_alpha': 0.0010275300279152264, 'n_estimators': 10}. Best is trial 10 with value: 0.5772167440432798.\n"
     ]
    },
    {
     "name": "stdout",
     "output_type": "stream",
     "text": [
      "Accuracy: 0,6666927613381347 | Precision:0,43965217391304345 | Recall:0,7093817229445328 | F1-score:0,5428581654199921\n"
     ]
    },
    {
     "name": "stderr",
     "output_type": "stream",
     "text": [
      "[I 2024-08-06 19:22:39,919] Trial 80 finished with value: 0.5486163726232998 and parameters: {'criterion': 'entropy', 'max_depth': 17, 'min_samples_split': 5, 'min_samples_leaf': 36, 'min_weight_fraction_leaf': 0.003286062827596908, 'ccp_alpha': 0.0006467817880948794, 'n_estimators': 15}. Best is trial 10 with value: 0.5772167440432798.\n"
     ]
    },
    {
     "name": "stdout",
     "output_type": "stream",
     "text": [
      "Accuracy: 0,6735295652627733 | Precision:0,4465523317279455 | Recall:0,7111589187166776 | F1-score:0,5486163726232998\n"
     ]
    },
    {
     "name": "stderr",
     "output_type": "stream",
     "text": [
      "[I 2024-08-06 19:25:48,053] Trial 81 finished with value: 0.5544684579439253 and parameters: {'criterion': 'entropy', 'max_depth': 21, 'min_samples_split': 11, 'min_samples_leaf': 46, 'min_weight_fraction_leaf': 0.005841394644179688, 'ccp_alpha': 0.00024261970416544748, 'n_estimators': 12}. Best is trial 10 with value: 0.5772167440432798.\n"
     ]
    },
    {
     "name": "stdout",
     "output_type": "stream",
     "text": [
      "Accuracy: 0,6815406294034758 | Precision:0,45470331117897134 | Recall:0,7103170891403985 | F1-score:0,5544684579439253\n"
     ]
    },
    {
     "name": "stderr",
     "output_type": "stream",
     "text": [
      "[I 2024-08-06 19:28:58,466] Trial 82 finished with value: 0.5551932588386151 and parameters: {'criterion': 'entropy', 'max_depth': 21, 'min_samples_split': 11, 'min_samples_leaf': 45, 'min_weight_fraction_leaf': 0.005569012692489146, 'ccp_alpha': 0.0001843610309044899, 'n_estimators': 12}. Best is trial 10 with value: 0.5772167440432798.\n"
     ]
    },
    {
     "name": "stdout",
     "output_type": "stream",
     "text": [
      "Accuracy: 0,6831845937059653 | Precision:0,4563358226933269 | Recall:0,7087269666074268 | F1-score:0,5551932588386151\n"
     ]
    },
    {
     "name": "stderr",
     "output_type": "stream",
     "text": [
      "[I 2024-08-06 19:33:08,176] Trial 83 finished with value: 0.5523070730725603 and parameters: {'criterion': 'entropy', 'max_depth': 21, 'min_samples_split': 11, 'min_samples_leaf': 44, 'min_weight_fraction_leaf': 0.00908001697707348, 'ccp_alpha': 4.770795660057415e-06, 'n_estimators': 17}. Best is trial 10 with value: 0.5772167440432798.\n"
     ]
    },
    {
     "name": "stdout",
     "output_type": "stream",
     "text": [
      "Accuracy: 0,6807316945879651 | Precision:0,453600192330809 | Recall:0,7059208680198298 | F1-score:0,5523070730725603\n"
     ]
    },
    {
     "name": "stderr",
     "output_type": "stream",
     "text": [
      "[I 2024-08-06 19:35:16,559] Trial 84 finished with value: 0.5351089588377723 and parameters: {'criterion': 'entropy', 'max_depth': 20, 'min_samples_split': 7, 'min_samples_leaf': 24, 'min_weight_fraction_leaf': 0.054510063500886594, 'ccp_alpha': 0.0007260685412235618, 'n_estimators': 13}. Best is trial 10 with value: 0.5772167440432798.\n"
     ]
    },
    {
     "name": "stdout",
     "output_type": "stream",
     "text": [
      "Accuracy: 0,6593079693126663 | Precision:0,4320128787443224 | Recall:0,7028341595734731 | F1-score:0,5351089588377723\n"
     ]
    },
    {
     "name": "stderr",
     "output_type": "stream",
     "text": [
      "[I 2024-08-06 19:38:16,324] Trial 85 finished with value: 0.5542124675893804 and parameters: {'criterion': 'entropy', 'max_depth': 21, 'min_samples_split': 8, 'min_samples_leaf': 6, 'min_weight_fraction_leaf': 0.006189359282317506, 'ccp_alpha': 0.00022131845928245958, 'n_estimators': 9}. Best is trial 10 with value: 0.5772167440432798.\n"
     ]
    },
    {
     "name": "stdout",
     "output_type": "stream",
     "text": [
      "Accuracy: 0,6814623453890716 | Precision:0,45458902468248263 | Recall:0,709755869422879 | F1-score:0,5542124675893804\n"
     ]
    },
    {
     "name": "stderr",
     "output_type": "stream",
     "text": [
      "[I 2024-08-06 19:42:06,678] Trial 86 finished with value: 0.5578266115762917 and parameters: {'criterion': 'entropy', 'max_depth': 21, 'min_samples_split': 8, 'min_samples_leaf': 46, 'min_weight_fraction_leaf': 0.0018567612223915869, 'ccp_alpha': 0.0002349802344907548, 'n_estimators': 9}. Best is trial 10 with value: 0.5772167440432798.\n"
     ]
    },
    {
     "name": "stdout",
     "output_type": "stream",
     "text": [
      "Accuracy: 0,6844371379364333 | Precision:0,4579181174210589 | Recall:0,7134973342063418 | F1-score:0,5578266115762917\n"
     ]
    },
    {
     "name": "stderr",
     "output_type": "stream",
     "text": [
      "[I 2024-08-06 19:45:43,002] Trial 87 finished with value: 0.5371380018409686 and parameters: {'criterion': 'gini', 'max_depth': 20, 'min_samples_split': 3, 'min_samples_leaf': 46, 'min_weight_fraction_leaf': 0.0020026763910683657, 'ccp_alpha': 0.0013973248008168698, 'n_estimators': 10}. Best is trial 10 with value: 0.5772167440432798.\n"
     ]
    },
    {
     "name": "stdout",
     "output_type": "stream",
     "text": [
      "Accuracy: 0,6588382652262408 | Precision:0,4321275989746511 | Recall:0,7095687961837059 | F1-score:0,5371380018409686\n"
     ]
    },
    {
     "name": "stderr",
     "output_type": "stream",
     "text": [
      "[I 2024-08-06 19:52:05,033] Trial 88 finished with value: 0.5490323983474668 and parameters: {'criterion': 'entropy', 'max_depth': 20, 'min_samples_split': 6, 'min_samples_leaf': 48, 'min_weight_fraction_leaf': 0.0002742982344364148, 'ccp_alpha': 0.000569376407378806, 'n_estimators': 11}. Best is trial 10 with value: 0.5772167440432798.\n"
     ]
    },
    {
     "name": "stdout",
     "output_type": "stream",
     "text": [
      "Accuracy: 0,6752779082511351 | Precision:0,4481452996509495 | Recall:0,7085398933682536 | F1-score:0,5490323983474668\n"
     ]
    },
    {
     "name": "stderr",
     "output_type": "stream",
     "text": [
      "[I 2024-08-06 19:55:26,417] Trial 89 finished with value: 0.5389631213254944 and parameters: {'criterion': 'entropy', 'max_depth': 21, 'min_samples_split': 9, 'min_samples_leaf': 39, 'min_weight_fraction_leaf': 0.011003842015701848, 'ccp_alpha': 0.0016537240750106605, 'n_estimators': 11}. Best is trial 10 with value: 0.5772167440432798.\n"
     ]
    },
    {
     "name": "stdout",
     "output_type": "stream",
     "text": [
      "Accuracy: 0,6623610458744325 | Precision:0,43530562910095544 | Recall:0,7074174539332149 | F1-score:0,5389631213254944\n"
     ]
    },
    {
     "name": "stderr",
     "output_type": "stream",
     "text": [
      "[I 2024-08-06 19:57:52,753] Trial 90 finished with value: 0.5328972817104477 and parameters: {'criterion': 'entropy', 'max_depth': 18, 'min_samples_split': 10, 'min_samples_leaf': 42, 'min_weight_fraction_leaf': 0.04489824765247588, 'ccp_alpha': 0.0026883626670855696, 'n_estimators': 12}. Best is trial 10 with value: 0.5772167440432798.\n"
     ]
    },
    {
     "name": "stdout",
     "output_type": "stream",
     "text": [
      "Accuracy: 0,6533844788894108 | Precision:0,426969457906007 | Recall:0,7087269666074268 | F1-score:0,5328972817104477\n"
     ]
    },
    {
     "name": "stderr",
     "output_type": "stream",
     "text": [
      "[I 2024-08-06 20:00:57,646] Trial 91 finished with value: 0.5542062911485004 and parameters: {'criterion': 'entropy', 'max_depth': 21, 'min_samples_split': 8, 'min_samples_leaf': 45, 'min_weight_fraction_leaf': 0.005714014803723968, 'ccp_alpha': 0.00023569421445027725, 'n_estimators': 9}. Best is trial 10 with value: 0.5772167440432798.\n"
     ]
    },
    {
     "name": "stdout",
     "output_type": "stream",
     "text": [
      "Accuracy: 0,6819581441469652 | Precision:0,4550423448855787 | Recall:0,7086334299878403 | F1-score:0,5542062911485004\n"
     ]
    },
    {
     "name": "stderr",
     "output_type": "stream",
     "text": [
      "[I 2024-08-06 20:03:25,545] Trial 92 finished with value: 0.5540866262508217 and parameters: {'criterion': 'entropy', 'max_depth': 21, 'min_samples_split': 5, 'min_samples_leaf': 47, 'min_weight_fraction_leaf': 0.005332609495886296, 'ccp_alpha': 0.00026339348553965227, 'n_estimators': 8}. Best is trial 10 with value: 0.5772167440432798.\n"
     ]
    },
    {
     "name": "stdout",
     "output_type": "stream",
     "text": [
      "Accuracy: 0,6813840613746673 | Precision:0,45449643520460126 | Recall:0,7095687961837059 | F1-score:0,5540866262508217\n"
     ]
    },
    {
     "name": "stderr",
     "output_type": "stream",
     "text": [
      "[I 2024-08-06 20:05:29,273] Trial 93 finished with value: 0.5446918360761537 and parameters: {'criterion': 'entropy', 'max_depth': 19, 'min_samples_split': 8, 'min_samples_leaf': 49, 'min_weight_fraction_leaf': 0.0019951915904978168, 'ccp_alpha': 0.0010268908236058783, 'n_estimators': 5}. Best is trial 10 with value: 0.5772167440432798.\n"
     ]
    },
    {
     "name": "stdout",
     "output_type": "stream",
     "text": [
      "Accuracy: 0,6686237670267732 | Precision:0,4416279069767442 | Recall:0,7105041623795716 | F1-score:0,5446918360761537\n"
     ]
    },
    {
     "name": "stderr",
     "output_type": "stream",
     "text": [
      "[I 2024-08-06 20:08:25,249] Trial 94 finished with value: 0.5459141299245296 and parameters: {'criterion': 'entropy', 'max_depth': 22, 'min_samples_split': 11, 'min_samples_leaf': 3, 'min_weight_fraction_leaf': 0.014301509633616065, 'ccp_alpha': 0.000524856000526968, 'n_estimators': 11}. Best is trial 10 with value: 0.5772167440432798.\n"
     ]
    },
    {
     "name": "stdout",
     "output_type": "stream",
     "text": [
      "Accuracy: 0,6718595062888159 | Precision:0,4445947535584049 | Recall:0,7070433074548685 | F1-score:0,5459141299245296\n"
     ]
    },
    {
     "name": "stderr",
     "output_type": "stream",
     "text": [
      "[I 2024-08-06 20:11:13,776] Trial 95 finished with value: 0.5448838216192813 and parameters: {'criterion': 'entropy', 'max_depth': 21, 'min_samples_split': 6, 'min_samples_leaf': 6, 'min_weight_fraction_leaf': 0.007100856230081838, 'ccp_alpha': 0.0008510166264135823, 'n_estimators': 9}. Best is trial 10 with value: 0.5772167440432798.\n"
     ]
    },
    {
     "name": "stdout",
     "output_type": "stream",
     "text": [
      "Accuracy: 0,6708418141015604 | Precision:0,44352422907488986 | Recall:0,706295014498176 | F1-score:0,5448838216192813\n"
     ]
    },
    {
     "name": "stderr",
     "output_type": "stream",
     "text": [
      "[I 2024-08-06 20:15:20,185] Trial 96 finished with value: 0.5499089916272297 and parameters: {'criterion': 'entropy', 'max_depth': 20, 'min_samples_split': 2, 'min_samples_leaf': 20, 'min_weight_fraction_leaf': 0.009710751211077236, 'ccp_alpha': 0.00025233604826305905, 'n_estimators': 14}. Best is trial 10 with value: 0.5772167440432798.\n"
     ]
    },
    {
     "name": "stdout",
     "output_type": "stream",
     "text": [
      "Accuracy: 0,677365481968582 | Precision:0,4501460158531498 | Recall:0,7064820877373492 | F1-score:0,5499089916272297\n"
     ]
    },
    {
     "name": "stderr",
     "output_type": "stream",
     "text": [
      "[I 2024-08-06 20:17:29,424] Trial 97 finished with value: 0.5496127695160528 and parameters: {'criterion': 'entropy', 'max_depth': 22, 'min_samples_split': 12, 'min_samples_leaf': 34, 'min_weight_fraction_leaf': 0.004211505044446574, 'ccp_alpha': 0.0005279812330067514, 'n_estimators': 6}. Best is trial 10 with value: 0.5772167440432798.\n"
     ]
    },
    {
     "name": "stdout",
     "output_type": "stream",
     "text": [
      "Accuracy: 0,676765304524816 | Precision:0,4495598382108018 | Recall:0,706949770835282 | F1-score:0,5496127695160528\n"
     ]
    },
    {
     "name": "stderr",
     "output_type": "stream",
     "text": [
      "[I 2024-08-06 20:20:53,256] Trial 98 finished with value: 0.5609452736318408 and parameters: {'criterion': 'entropy', 'max_depth': 23, 'min_samples_split': 35, 'min_samples_leaf': 44, 'min_weight_fraction_leaf': 0.0016149542551349167, 'ccp_alpha': 0.00019516104786740019, 'n_estimators': 8}. Best is trial 10 with value: 0.5772167440432798.\n"
     ]
    },
    {
     "name": "stdout",
     "output_type": "stream",
     "text": [
      "Accuracy: 0,6868117530400292 | Precision:0,4606188044457795 | Recall:0,7171452623702179 | F1-score:0,5609452736318408\n"
     ]
    },
    {
     "name": "stderr",
     "output_type": "stream",
     "text": [
      "[I 2024-08-06 20:24:07,686] Trial 99 finished with value: 0.5437533608173507 and parameters: {'criterion': 'entropy', 'max_depth': 23, 'min_samples_split': 39, 'min_samples_leaf': 44, 'min_weight_fraction_leaf': 0.0021167953395185676, 'ccp_alpha': 0.0011602393209604463, 'n_estimators': 8}. Best is trial 10 with value: 0.5772167440432798.\n"
     ]
    },
    {
     "name": "stdout",
     "output_type": "stream",
     "text": [
      "Accuracy: 0,6678931162256667 | Precision:0,44082771448500346 | Recall:0,7093817229445328 | F1-score:0,5437533608173507\n"
     ]
    },
    {
     "name": "stderr",
     "output_type": "stream",
     "text": [
      "[I 2024-08-06 20:29:30,054] Trial 100 finished with value: 0.52776334476428 and parameters: {'criterion': 'gini', 'max_depth': 19, 'min_samples_split': 33, 'min_samples_leaf': 43, 'min_weight_fraction_leaf': 0.001015706052419222, 'ccp_alpha': 0.0039978667607828535, 'n_estimators': 13}. Best is trial 10 with value: 0.5772167440432798.\n"
     ]
    },
    {
     "name": "stdout",
     "output_type": "stream",
     "text": [
      "Accuracy: 0,6442513438755806 | Precision:0,4190780063813401 | Recall:0,7125619680104761 | F1-score:0,52776334476428\n"
     ]
    },
    {
     "name": "stderr",
     "output_type": "stream",
     "text": [
      "[I 2024-08-06 20:32:06,873] Trial 101 finished with value: 0.5556980109161507 and parameters: {'criterion': 'entropy', 'max_depth': 21, 'min_samples_split': 37, 'min_samples_leaf': 46, 'min_weight_fraction_leaf': 0.005383266735482084, 'ccp_alpha': 0.00019373628837014733, 'n_estimators': 8}. Best is trial 10 with value: 0.5772167440432798.\n"
     ]
    },
    {
     "name": "stdout",
     "output_type": "stream",
     "text": [
      "Accuracy: 0,6834977297635823 | Precision:0,45670761078998073 | Recall:0,7094752595641194 | F1-score:0,5556980109161507\n"
     ]
    },
    {
     "name": "stderr",
     "output_type": "stream",
     "text": [
      "[I 2024-08-06 20:34:56,565] Trial 102 finished with value: 0.5562632696390658 and parameters: {'criterion': 'entropy', 'max_depth': 22, 'min_samples_split': 42, 'min_samples_leaf': 46, 'min_weight_fraction_leaf': 0.004100125203473796, 'ccp_alpha': 0.00023325823133566806, 'n_estimators': 8}. Best is trial 10 with value: 0.5772167440432798.\n"
     ]
    },
    {
     "name": "stdout",
     "output_type": "stream",
     "text": [
      "Accuracy: 0,6836803924638589 | Precision:0,45696758284717626 | Recall:0,7106912356187447 | F1-score:0,5562632696390658\n"
     ]
    },
    {
     "name": "stderr",
     "output_type": "stream",
     "text": [
      "[I 2024-08-06 20:37:48,085] Trial 103 finished with value: 0.5468005200057778 and parameters: {'criterion': 'entropy', 'max_depth': 23, 'min_samples_split': 44, 'min_samples_leaf': 49, 'min_weight_fraction_leaf': 0.003858234475548304, 'ccp_alpha': 0.000789986939443516, 'n_estimators': 8}. Best is trial 10 with value: 0.5772167440432798.\n"
     ]
    },
    {
     "name": "stdout",
     "output_type": "stream",
     "text": [
      "Accuracy: 0,672511873075518 | Precision:0,44532674548555967 | Recall:0,7081657468899074 | F1-score:0,5468005200057778\n"
     ]
    },
    {
     "name": "stderr",
     "output_type": "stream",
     "text": [
      "[I 2024-08-06 20:39:56,108] Trial 104 finished with value: 0.5545171339563864 and parameters: {'criterion': 'entropy', 'max_depth': 22, 'min_samples_split': 39, 'min_samples_leaf': 42, 'min_weight_fraction_leaf': 0.008117604121661997, 'ccp_alpha': 1.9471280484447504e-06, 'n_estimators': 7}. Best is trial 10 with value: 0.5772167440432798.\n"
     ]
    },
    {
     "name": "stdout",
     "output_type": "stream",
     "text": [
      "Accuracy: 0,6828192683054121 | Precision:0,45588767024225624 | Recall:0,707604527172388 | F1-score:0,5545171339563864\n"
     ]
    },
    {
     "name": "stderr",
     "output_type": "stream",
     "text": [
      "[I 2024-08-06 20:43:20,781] Trial 105 finished with value: 0.54910227520535 and parameters: {'criterion': 'entropy', 'max_depth': 24, 'min_samples_split': 36, 'min_samples_leaf': 47, 'min_weight_fraction_leaf': 0.00010266908878036425, 'ccp_alpha': 0.0005463542784947673, 'n_estimators': 6}. Best is trial 10 with value: 0.5772167440432798.\n"
     ]
    },
    {
     "name": "stdout",
     "output_type": "stream",
     "text": [
      "Accuracy: 0,6762695057669224 | Precision:0,4490281162693931 | Recall:0,7065756243569358 | F1-score:0,54910227520535\n"
     ]
    },
    {
     "name": "stderr",
     "output_type": "stream",
     "text": [
      "[I 2024-08-06 20:45:57,368] Trial 106 finished with value: 0.5510174418604651 and parameters: {'criterion': 'entropy', 'max_depth': 22, 'min_samples_split': 43, 'min_samples_leaf': 45, 'min_weight_fraction_leaf': 0.004040878201802196, 'ccp_alpha': 0.00045652351699836244, 'n_estimators': 7}. Best is trial 10 with value: 0.5772167440432798.\n"
     ]
    },
    {
     "name": "stdout",
     "output_type": "stream",
     "text": [
      "Accuracy: 0,6775742393403267 | Precision:0,4505318200724939 | Recall:0,7091946497053596 | F1-score:0,5510174418604651\n"
     ]
    },
    {
     "name": "stderr",
     "output_type": "stream",
     "text": [
      "[I 2024-08-06 20:47:41,861] Trial 107 finished with value: 0.5492644106158509 and parameters: {'criterion': 'entropy', 'max_depth': 23, 'min_samples_split': 36, 'min_samples_leaf': 40, 'min_weight_fraction_leaf': 0.010844289080481826, 'ccp_alpha': 0.00019542427207034637, 'n_estimators': 6}. Best is trial 10 with value: 0.5772167440432798.\n"
     ]
    },
    {
     "name": "stdout",
     "output_type": "stream",
     "text": [
      "Accuracy: 0,6778090913835395 | Precision:0,450425098790564 | Recall:0,7036759891497522 | F1-score:0,5492644106158509\n"
     ]
    },
    {
     "name": "stderr",
     "output_type": "stream",
     "text": [
      "[I 2024-08-06 20:50:57,826] Trial 108 finished with value: 0.5277126151045132 and parameters: {'criterion': 'entropy', 'max_depth': 23, 'min_samples_split': 42, 'min_samples_leaf': 48, 'min_weight_fraction_leaf': 0.0018270254850846618, 'ccp_alpha': 0.006571073751078371, 'n_estimators': 8}. Best is trial 10 with value: 0.5772167440432798.\n"
     ]
    },
    {
     "name": "stdout",
     "output_type": "stream",
     "text": [
      "Accuracy: 0,648008976566985 | Precision:0,4217123670956911 | Recall:0,7048919652043775 | F1-score:0,5277126151045132\n"
     ]
    },
    {
     "name": "stderr",
     "output_type": "stream",
     "text": [
      "[I 2024-08-06 20:53:28,930] Trial 109 finished with value: 0.5427506629398695 and parameters: {'criterion': 'entropy', 'max_depth': 22, 'min_samples_split': 46, 'min_samples_leaf': 44, 'min_weight_fraction_leaf': 0.018072675316879172, 'ccp_alpha': 0.00090533166660193, 'n_estimators': 10}. Best is trial 10 with value: 0.5772167440432798.\n"
     ]
    },
    {
     "name": "stdout",
     "output_type": "stream",
     "text": [
      "Accuracy: 0,6670319920672199 | Precision:0,4399070577984316 | Recall:0,7083528201290805 | F1-score:0,5427506629398695\n"
     ]
    },
    {
     "name": "stderr",
     "output_type": "stream",
     "text": [
      "[I 2024-08-06 20:54:41,973] Trial 110 finished with value: 0.5469967738427521 and parameters: {'criterion': 'entropy', 'max_depth': 25, 'min_samples_split': 35, 'min_samples_leaf': 29, 'min_weight_fraction_leaf': 0.008957577421727234, 'ccp_alpha': 0.0006592570059565326, 'n_estimators': 4}. Best is trial 10 with value: 0.5772167440432798.\n"
     ]
    },
    {
     "name": "stdout",
     "output_type": "stream",
     "text": [
      "Accuracy: 0,6738948906633265 | Precision:0,4465553977272727 | Recall:0,7057337947806567 | F1-score:0,5469967738427521\n"
     ]
    },
    {
     "name": "stderr",
     "output_type": "stream",
     "text": [
      "[I 2024-08-06 20:56:51,489] Trial 111 finished with value: 0.5523009495982469 and parameters: {'criterion': 'entropy', 'max_depth': 22, 'min_samples_split': 40, 'min_samples_leaf': 41, 'min_weight_fraction_leaf': 0.007345845854803768, 'ccp_alpha': 0.00024650466327487126, 'n_estimators': 7}. Best is trial 10 with value: 0.5772167440432798.\n"
     ]
    },
    {
     "name": "stdout",
     "output_type": "stream",
     "text": [
      "Accuracy: 0,6801315171441992 | Precision:0,45305290910180357 | Recall:0,7072303806940418 | F1-score:0,5523009495982469\n"
     ]
    },
    {
     "name": "stderr",
     "output_type": "stream",
     "text": [
      "[I 2024-08-06 20:59:36,782] Trial 112 finished with value: 0.5590171773273992 and parameters: {'criterion': 'entropy', 'max_depth': 21, 'min_samples_split': 37, 'min_samples_leaf': 42, 'min_weight_fraction_leaf': 0.004170862172038783, 'ccp_alpha': 9.964931089758138e-05, 'n_estimators': 8}. Best is trial 10 with value: 0.5772167440432798.\n"
     ]
    },
    {
     "name": "stdout",
     "output_type": "stream",
     "text": [
      "Accuracy: 0,6871509837691143 | Precision:0,46065712900096994 | Recall:0,7107847722383313 | F1-score:0,5590171773273992\n"
     ]
    },
    {
     "name": "stderr",
     "output_type": "stream",
     "text": [
      "[I 2024-08-06 21:02:54,178] Trial 113 finished with value: 0.5523088679451257 and parameters: {'criterion': 'entropy', 'max_depth': 21, 'min_samples_split': 37, 'min_samples_leaf': 45, 'min_weight_fraction_leaf': 0.003343651587907022, 'ccp_alpha': 0.0004164873522062384, 'n_estimators': 9}. Best is trial 10 with value: 0.5772167440432798.\n"
     ]
    },
    {
     "name": "stdout",
     "output_type": "stream",
     "text": [
      "Accuracy: 0,6789572569281352 | Precision:0,4519952352590828 | Recall:0,7098494060424656 | F1-score:0,5523088679451257\n"
     ]
    },
    {
     "name": "stderr",
     "output_type": "stream",
     "text": [
      "[I 2024-08-06 21:05:31,425] Trial 114 finished with value: 0.5562811857939535 and parameters: {'criterion': 'entropy', 'max_depth': 21, 'min_samples_split': 30, 'min_samples_leaf': 43, 'min_weight_fraction_leaf': 0.005394036841388857, 'ccp_alpha': 0.00014789085830064862, 'n_estimators': 8}. Best is trial 10 with value: 0.5772167440432798.\n"
     ]
    },
    {
     "name": "stdout",
     "output_type": "stream",
     "text": [
      "Accuracy: 0,6844110432649653 | Precision:0,4576516752188349 | Recall:0,7091011130857731 | F1-score:0,5562811857939535\n"
     ]
    },
    {
     "name": "stderr",
     "output_type": "stream",
     "text": [
      "[I 2024-08-06 21:08:42,276] Trial 115 finished with value: 0.56459828233632 and parameters: {'criterion': 'entropy', 'max_depth': 20, 'min_samples_split': 30, 'min_samples_leaf': 39, 'min_weight_fraction_leaf': 0.0021013168719253164, 'ccp_alpha': 2.104608911458511e-05, 'n_estimators': 8}. Best is trial 10 with value: 0.5772167440432798.\n"
     ]
    },
    {
     "name": "stdout",
     "output_type": "stream",
     "text": [
      "Accuracy: 0,6944053024372423 | Precision:0,46853017400962604 | Recall:0,7102235525208119 | F1-score:0,56459828233632\n"
     ]
    },
    {
     "name": "stderr",
     "output_type": "stream",
     "text": [
      "[I 2024-08-06 21:11:47,371] Trial 116 finished with value: 0.5613351468588023 and parameters: {'criterion': 'entropy', 'max_depth': 20, 'min_samples_split': 29, 'min_samples_leaf': 40, 'min_weight_fraction_leaf': 0.002386347262146543, 'ccp_alpha': 0.00013262115204299026, 'n_estimators': 8}. Best is trial 10 with value: 0.5772167440432798.\n"
     ]
    },
    {
     "name": "stdout",
     "output_type": "stream",
     "text": [
      "Accuracy: 0,6886122853713271 | Precision:0,462390988372093 | Recall:0,7141520905434477 | F1-score:0,5613351468588023\n"
     ]
    },
    {
     "name": "stderr",
     "output_type": "stream",
     "text": [
      "[I 2024-08-06 21:13:43,862] Trial 117 finished with value: 0.5489795918367347 and parameters: {'criterion': 'entropy', 'max_depth': 20, 'min_samples_split': 30, 'min_samples_leaf': 40, 'min_weight_fraction_leaf': 0.013462538879768745, 'ccp_alpha': 7.86373874477366e-06, 'n_estimators': 8}. Best is trial 10 with value: 0.5772167440432798.\n"
     ]
    },
    {
     "name": "stdout",
     "output_type": "stream",
     "text": [
      "Accuracy: 0,677052345910965 | Precision:0,4496984894620574 | Recall:0,7045178187260313 | F1-score:0,5489795918367347\n"
     ]
    },
    {
     "name": "stderr",
     "output_type": "stream",
     "text": [
      "[I 2024-08-06 21:15:38,743] Trial 118 finished with value: 0.5454087325870199 and parameters: {'criterion': 'entropy', 'max_depth': 20, 'min_samples_split': 32, 'min_samples_leaf': 37, 'min_weight_fraction_leaf': 0.011973445066845247, 'ccp_alpha': 0.000657753729355865, 'n_estimators': 8}. Best is trial 10 with value: 0.5772167440432798.\n"
     ]
    },
    {
     "name": "stdout",
     "output_type": "stream",
     "text": [
      "Accuracy: 0,6704503940295392 | Precision:0,4433001755412522 | Recall:0,7086334299878403 | F1-score:0,5454087325870199\n"
     ]
    },
    {
     "name": "stderr",
     "output_type": "stream",
     "text": [
      "[I 2024-08-06 21:18:25,876] Trial 119 finished with value: 0.5449971247843588 and parameters: {'criterion': 'entropy', 'max_depth': 20, 'min_samples_split': 34, 'min_samples_leaf': 39, 'min_weight_fraction_leaf': 0.003820705609709255, 'ccp_alpha': 0.0009616305979228044, 'n_estimators': 9}. Best is trial 10 with value: 0.5772167440432798.\n"
     ]
    },
    {
     "name": "stdout",
     "output_type": "stream",
     "text": [
      "Accuracy: 0,6696414592140285 | Precision:0,4425377925640577 | Recall:0,7091946497053596 | F1-score:0,5449971247843588\n"
     ]
    },
    {
     "name": "stderr",
     "output_type": "stream",
     "text": [
      "[I 2024-08-06 21:20:12,031] Trial 120 finished with value: 0.5549937715248773 and parameters: {'criterion': 'gini', 'max_depth': 20, 'min_samples_split': 28, 'min_samples_leaf': 42, 'min_weight_fraction_leaf': 0.007863949649068024, 'ccp_alpha': 4.301492361645591e-06, 'n_estimators': 7}. Best is trial 10 with value: 0.5772167440432798.\n"
     ]
    },
    {
     "name": "stdout",
     "output_type": "stream",
     "text": [
      "Accuracy: 0,6830541203486248 | Precision:0,45618261759922907 | Recall:0,7084463567486671 | F1-score:0,5549937715248773\n"
     ]
    },
    {
     "name": "stderr",
     "output_type": "stream",
     "text": [
      "[I 2024-08-06 21:23:10,613] Trial 121 finished with value: 0.5497950150564163 and parameters: {'criterion': 'entropy', 'max_depth': 19, 'min_samples_split': 25, 'min_samples_leaf': 47, 'min_weight_fraction_leaf': 0.001896006067729486, 'ccp_alpha': 0.0004738146220652681, 'n_estimators': 8}. Best is trial 10 with value: 0.5772167440432798.\n"
     ]
    },
    {
     "name": "stdout",
     "output_type": "stream",
     "text": [
      "Accuracy: 0,6761912217525181 | Precision:0,44908724513987675 | Recall:0,7087269666074268 | F1-score:0,5497950150564163\n"
     ]
    },
    {
     "name": "stderr",
     "output_type": "stream",
     "text": [
      "[I 2024-08-06 21:25:42,803] Trial 122 finished with value: 0.5547290116896918 and parameters: {'criterion': 'entropy', 'max_depth': 19, 'min_samples_split': 30, 'min_samples_leaf': 35, 'min_weight_fraction_leaf': 0.005996077159569924, 'ccp_alpha': 0.00014467563428044935, 'n_estimators': 9}. Best is trial 10 with value: 0.5772167440432798.\n"
     ]
    },
    {
     "name": "stdout",
     "output_type": "stream",
     "text": [
      "Accuracy: 0,6829236469912844 | Precision:0,45601879744547535 | Recall:0,7079786736507343 | F1-score:0,5547290116896918\n"
     ]
    },
    {
     "name": "stderr",
     "output_type": "stream",
     "text": [
      "[I 2024-08-06 21:28:50,742] Trial 123 finished with value: 0.5515191066637662 and parameters: {'criterion': 'entropy', 'max_depth': 21, 'min_samples_split': 28, 'min_samples_leaf': 38, 'min_weight_fraction_leaf': 0.002904751315814167, 'ccp_alpha': 0.0004210988891764924, 'n_estimators': 9}. Best is trial 10 with value: 0.5772167440432798.\n"
     ]
    },
    {
     "name": "stdout",
     "output_type": "stream",
     "text": [
      "Accuracy: 0,6772089139397734 | Precision:0,4502989757859215 | Recall:0,7114395285754372 | F1-score:0,5515191066637662\n"
     ]
    },
    {
     "name": "stderr",
     "output_type": "stream",
     "text": [
      "[I 2024-08-06 21:31:00,270] Trial 124 finished with value: 0.5469213515664568 and parameters: {'criterion': 'entropy', 'max_depth': 20, 'min_samples_split': 27, 'min_samples_leaf': 31, 'min_weight_fraction_leaf': 0.00478643201125516, 'ccp_alpha': 0.0006777053911014634, 'n_estimators': 7}. Best is trial 10 with value: 0.5772167440432798.\n"
     ]
    },
    {
     "name": "stdout",
     "output_type": "stream",
     "text": [
      "Accuracy: 0,6731903345336883 | Precision:0,44593239336912277 | Recall:0,7070433074548685 | F1-score:0,5469213515664568\n"
     ]
    },
    {
     "name": "stderr",
     "output_type": "stream",
     "text": [
      "[I 2024-08-06 21:35:24,821] Trial 125 finished with value: 0.5618002195389681 and parameters: {'criterion': 'entropy', 'max_depth': 22, 'min_samples_split': 23, 'min_samples_leaf': 41, 'min_weight_fraction_leaf': 3.1774195951173295e-05, 'ccp_alpha': 0.00018419869324161881, 'n_estimators': 8}. Best is trial 10 with value: 0.5772167440432798.\n"
     ]
    },
    {
     "name": "stdout",
     "output_type": "stream",
     "text": [
      "Accuracy: 0,6874902144981995 | Precision:0,4613859005949877 | Recall:0,7180806285660836 | F1-score:0,5618002195389681\n"
     ]
    },
    {
     "name": "stderr",
     "output_type": "stream",
     "text": [
      "[I 2024-08-06 21:37:28,805] Trial 126 finished with value: 0.5522611779329506 and parameters: {'criterion': 'entropy', 'max_depth': 22, 'min_samples_split': 23, 'min_samples_leaf': 43, 'min_weight_fraction_leaf': 0.00941072256943885, 'ccp_alpha': 0.00014935094751718784, 'n_estimators': 8}. Best is trial 10 with value: 0.5772167440432798.\n"
     ]
    },
    {
     "name": "stdout",
     "output_type": "stream",
     "text": [
      "Accuracy: 0,680418558530348 | Precision:0,453306925939263 | Recall:0,7064820877373492 | F1-score:0,5522611779329506\n"
     ]
    },
    {
     "name": "stderr",
     "output_type": "stream",
     "text": [
      "[I 2024-08-06 21:39:09,138] Trial 127 finished with value: 0.5413533834586466 and parameters: {'criterion': 'entropy', 'max_depth': 23, 'min_samples_split': 32, 'min_samples_leaf': 41, 'min_weight_fraction_leaf': 0.006901965757707506, 'ccp_alpha': 0.0012954173797413192, 'n_estimators': 6}. Best is trial 10 with value: 0.5772167440432798.\n"
     ]
    },
    {
     "name": "stdout",
     "output_type": "stream",
     "text": [
      "Accuracy: 0,6657272584938155 | Precision:0,4385405185915656 | Recall:0,7071368440744551 | F1-score:0,5413533834586466\n"
     ]
    },
    {
     "name": "stderr",
     "output_type": "stream",
     "text": [
      "[I 2024-08-06 21:43:08,570] Trial 128 finished with value: 0.5246063687071948 and parameters: {'criterion': 'entropy', 'max_depth': 22, 'min_samples_split': 26, 'min_samples_leaf': 49, 'min_weight_fraction_leaf': 7.291305462749087e-05, 'ccp_alpha': 0.008015760437992653, 'n_estimators': 8}. Best is trial 10 with value: 0.5772167440432798.\n"
     ]
    },
    {
     "name": "stdout",
     "output_type": "stream",
     "text": [
      "Accuracy: 0,648609154010751 | Precision:0,421321236178055 | Recall:0,6949770835282013 | F1-score:0,5246063687071948\n"
     ]
    },
    {
     "name": "stderr",
     "output_type": "stream",
     "text": [
      "[I 2024-08-06 21:44:05,441] Trial 129 finished with value: 0.5323965651834504 and parameters: {'criterion': 'entropy', 'max_depth': 21, 'min_samples_split': 23, 'min_samples_leaf': 46, 'min_weight_fraction_leaf': 0.07262603083054354, 'ccp_alpha': 0.0007517509694214976, 'n_estimators': 7}. Best is trial 10 with value: 0.5772167440432798.\n"
     ]
    },
    {
     "name": "stdout",
     "output_type": "stream",
     "text": [
      "Accuracy: 0,6561244193935598 | Precision:0,42890629466582814 | Recall:0,7017117201384342 | F1-score:0,5323965651834504\n"
     ]
    },
    {
     "name": "stderr",
     "output_type": "stream",
     "text": [
      "[I 2024-08-06 21:46:37,060] Trial 130 finished with value: 0.5499344882806813 and parameters: {'criterion': 'entropy', 'max_depth': 21, 'min_samples_split': 21, 'min_samples_leaf': 40, 'min_weight_fraction_leaf': 0.005032119805868332, 'ccp_alpha': 0.0004456374017526438, 'n_estimators': 7}. Best is trial 10 with value: 0.5772167440432798.\n"
     ]
    },
    {
     "name": "stdout",
     "output_type": "stream",
     "text": [
      "Accuracy: 0,6773132926256459 | Precision:0,45010425975573426 | Recall:0,7066691609765223 | F1-score:0,5499344882806813\n"
     ]
    },
    {
     "name": "stderr",
     "output_type": "stream",
     "text": [
      "[I 2024-08-06 21:51:28,781] Trial 131 finished with value: 0.5586383601756955 and parameters: {'criterion': 'entropy', 'max_depth': 20, 'min_samples_split': 38, 'min_samples_leaf': 44, 'min_weight_fraction_leaf': 0.0020129357337373855, 'ccp_alpha': 0.00022028149776463123, 'n_estimators': 9}. Best is trial 10 with value: 0.5772167440432798.\n"
     ]
    },
    {
     "name": "stdout",
     "output_type": "stream",
     "text": [
      "Accuracy: 0,6853504514378164 | Precision:0,45889710746286605 | Recall:0,7137779440651015 | F1-score:0,5586383601756955\n"
     ]
    },
    {
     "name": "stderr",
     "output_type": "stream",
     "text": [
      "[I 2024-08-06 21:56:13,482] Trial 132 finished with value: 0.5596538828188018 and parameters: {'criterion': 'entropy', 'max_depth': 22, 'min_samples_split': 37, 'min_samples_leaf': 44, 'min_weight_fraction_leaf': 0.0020657704501976, 'ccp_alpha': 0.00017641462783449024, 'n_estimators': 9}. Best is trial 10 with value: 0.5772167440432798.\n"
     ]
    },
    {
     "name": "stdout",
     "output_type": "stream",
     "text": [
      "Accuracy: 0,6866029956682845 | Precision:0,46023035638907317 | Recall:0,7138714806846881 | F1-score:0,5596538828188018\n"
     ]
    },
    {
     "name": "stderr",
     "output_type": "stream",
     "text": [
      "[I 2024-08-06 22:00:29,883] Trial 133 finished with value: 0.528483422163771 and parameters: {'criterion': 'entropy', 'max_depth': 22, 'min_samples_split': 38, 'min_samples_leaf': 44, 'min_weight_fraction_leaf': 0.0023546274211061822, 'ccp_alpha': 0.005323460248613226, 'n_estimators': 9}. Best is trial 10 with value: 0.5772167440432798.\n"
     ]
    },
    {
     "name": "stdout",
     "output_type": "stream",
     "text": [
      "Accuracy: 0,6444861959187934 | Precision:0,4194363566445091 | Recall:0,7141520905434477 | F1-score:0,528483422163771\n"
     ]
    },
    {
     "name": "stderr",
     "output_type": "stream",
     "text": [
      "[I 2024-08-06 22:02:40,405] Trial 134 finished with value: 0.5401176977178126 and parameters: {'criterion': 'entropy', 'max_depth': 22, 'min_samples_split': 30, 'min_samples_leaf': 42, 'min_weight_fraction_leaf': 0.033462621353764356, 'ccp_alpha': 0.00017779867327997909, 'n_estimators': 10}. Best is trial 10 with value: 0.5772167440432798.\n"
     ]
    },
    {
     "name": "stdout",
     "output_type": "stream",
     "text": [
      "Accuracy: 0,665570690465007 | Precision:0,43814402980730044 | Recall:0,7039565990085118 | F1-score:0,5401176977178126\n"
     ]
    },
    {
     "name": "stderr",
     "output_type": "stream",
     "text": [
      "[I 2024-08-06 22:06:28,947] Trial 135 finished with value: 0.5650264274547755 and parameters: {'criterion': 'entropy', 'max_depth': 24, 'min_samples_split': 35, 'min_samples_leaf': 43, 'min_weight_fraction_leaf': 0.0020656687577283233, 'ccp_alpha': 6.856674945104245e-06, 'n_estimators': 9}. Best is trial 10 with value: 0.5772167440432798.\n"
     ]
    },
    {
     "name": "stdout",
     "output_type": "stream",
     "text": [
      "Accuracy: 0,6950576692239445 | Precision:0,46924265842349305 | Recall:0,7099429426620522 | F1-score:0,5650264274547755\n"
     ]
    },
    {
     "name": "stderr",
     "output_type": "stream",
     "text": [
      "[I 2024-08-06 22:11:30,954] Trial 136 finished with value: 0.575907465185298 and parameters: {'criterion': 'entropy', 'max_depth': 25, 'min_samples_split': 34, 'min_samples_leaf': 39, 'min_weight_fraction_leaf': 0.0006226011950996436, 'ccp_alpha': 1.08321342655768e-06, 'n_estimators': 9}. Best is trial 10 with value: 0.5772167440432798.\n"
     ]
    },
    {
     "name": "stdout",
     "output_type": "stream",
     "text": [
      "Accuracy: 0,709148791816711 | Precision:0,4854082483484061 | Recall:0,7078851370311477 | F1-score:0,575907465185298\n"
     ]
    },
    {
     "name": "stderr",
     "output_type": "stream",
     "text": [
      "[I 2024-08-06 22:17:23,884] Trial 137 finished with value: 0.581103480937722 and parameters: {'criterion': 'entropy', 'max_depth': 25, 'min_samples_split': 35, 'min_samples_leaf': 38, 'min_weight_fraction_leaf': 4.046953591801657e-05, 'ccp_alpha': 5.57416789723443e-07, 'n_estimators': 9}. Best is trial 137 with value: 0.581103480937722.\n"
     ]
    },
    {
     "name": "stdout",
     "output_type": "stream",
     "text": [
      "Accuracy: 0,7230311570377329 | Precision:0,5026285246125487 | Recall:0,6886165933963146 | F1-score:0,581103480937722\n"
     ]
    },
    {
     "name": "stderr",
     "output_type": "stream",
     "text": [
      "[I 2024-08-06 22:22:30,766] Trial 138 finished with value: 0.5502484314365503 and parameters: {'criterion': 'entropy', 'max_depth': 25, 'min_samples_split': 34, 'min_samples_leaf': 38, 'min_weight_fraction_leaf': 0.0010419121157222782, 'ccp_alpha': 0.0004995139778958166, 'n_estimators': 10}. Best is trial 137 with value: 0.581103480937722.\n"
     ]
    },
    {
     "name": "stdout",
     "output_type": "stream",
     "text": [
      "Accuracy: 0,6763999791242629 | Precision:0,4493543419026182 | Recall:0,7095687961837059 | F1-score:0,5502484314365503\n"
     ]
    },
    {
     "name": "stderr",
     "output_type": "stream",
     "text": [
      "[I 2024-08-06 22:28:20,251] Trial 139 finished with value: 0.5804441288999329 and parameters: {'criterion': 'entropy', 'max_depth': 24, 'min_samples_split': 33, 'min_samples_leaf': 37, 'min_weight_fraction_leaf': 0.0002279267710293153, 'ccp_alpha': 2.0270341490224506e-05, 'n_estimators': 9}. Best is trial 137 with value: 0.581103480937722.\n"
     ]
    },
    {
     "name": "stdout",
     "output_type": "stream",
     "text": [
      "Accuracy: 0,722430979593967 | Precision:0,5018414950211431 | Recall:0,6882424469179684 | F1-score:0,5804441288999329\n"
     ]
    },
    {
     "name": "stderr",
     "output_type": "stream",
     "text": [
      "[I 2024-08-06 22:32:03,303] Trial 140 finished with value: 0.5803811528118789 and parameters: {'criterion': 'entropy', 'max_depth': 24, 'min_samples_split': 35, 'min_samples_leaf': 36, 'min_weight_fraction_leaf': 0.0003154325518434954, 'ccp_alpha': 1.4310850679095859e-05, 'n_estimators': 5}. Best is trial 137 with value: 0.581103480937722.\n"
     ]
    },
    {
     "name": "stdout",
     "output_type": "stream",
     "text": [
      "Accuracy: 0,7190386723031157 | Precision:0,49746125066809194 | Recall:0,6964736694415864 | F1-score:0,5803811528118789\n"
     ]
    },
    {
     "name": "stderr",
     "output_type": "stream",
     "text": [
      "[I 2024-08-06 22:35:40,670] Trial 141 finished with value: 0.5781574694066035 and parameters: {'criterion': 'entropy', 'max_depth': 24, 'min_samples_split': 35, 'min_samples_leaf': 36, 'min_weight_fraction_leaf': 0.00035186194043730526, 'ccp_alpha': 3.830129488532998e-05, 'n_estimators': 5}. Best is trial 137 with value: 0.581103480937722.\n"
     ]
    },
    {
     "name": "stdout",
     "output_type": "stream",
     "text": [
      "Accuracy: 0,7139502113668389 | Precision:0,49114089571755476 | Recall:0,7026470863342998 | F1-score:0,5781574694066035\n"
     ]
    },
    {
     "name": "stderr",
     "output_type": "stream",
     "text": [
      "[I 2024-08-06 22:39:42,185] Trial 142 finished with value: 0.5815395552746949 and parameters: {'criterion': 'entropy', 'max_depth': 24, 'min_samples_split': 34, 'min_samples_leaf': 36, 'min_weight_fraction_leaf': 0.00018775656434644747, 'ccp_alpha': 2.0533349194068356e-05, 'n_estimators': 5}. Best is trial 142 with value: 0.5815395552746949.\n"
     ]
    },
    {
     "name": "stdout",
     "output_type": "stream",
     "text": [
      "Accuracy: 0,7235269557956265 | Precision:0,5032813781788351 | Recall:0,6886165933963146 | F1-score:0,5815395552746949\n"
     ]
    },
    {
     "name": "stderr",
     "output_type": "stream",
     "text": [
      "[I 2024-08-06 22:43:35,553] Trial 143 finished with value: 0.5814744502452144 and parameters: {'criterion': 'entropy', 'max_depth': 24, 'min_samples_split': 34, 'min_samples_leaf': 36, 'min_weight_fraction_leaf': 0.0001467316778508907, 'ccp_alpha': 9.568636660338314e-06, 'n_estimators': 5}. Best is trial 142 with value: 0.5815395552746949.\n"
     ]
    },
    {
     "name": "stdout",
     "output_type": "stream",
     "text": [
      "Accuracy: 0,7238661865247117 | Precision:0,5037346673062427 | Recall:0,6875876905808624 | F1-score:0,5814744502452144\n"
     ]
    },
    {
     "name": "stderr",
     "output_type": "stream",
     "text": [
      "[I 2024-08-06 22:47:45,133] Trial 144 finished with value: 0.5789148722698155 and parameters: {'criterion': 'entropy', 'max_depth': 24, 'min_samples_split': 33, 'min_samples_leaf': 36, 'min_weight_fraction_leaf': 9.121803275907985e-08, 'ccp_alpha': 5.089836748522911e-05, 'n_estimators': 5}. Best is trial 142 with value: 0.5815395552746949.\n"
     ]
    },
    {
     "name": "stdout",
     "output_type": "stream",
     "text": [
      "Accuracy: 0,7152549449402432 | Precision:0,4927412467976089 | Recall:0,7016181835188476 | F1-score:0,5789148722698155\n"
     ]
    },
    {
     "name": "stderr",
     "output_type": "stream",
     "text": [
      "[I 2024-08-06 22:52:11,155] Trial 145 finished with value: 0.5514938105782845 and parameters: {'criterion': 'entropy', 'max_depth': 24, 'min_samples_split': 33, 'min_samples_leaf': 36, 'min_weight_fraction_leaf': 2.7337297960109384e-05, 'ccp_alpha': 0.00042360185039469673, 'n_estimators': 5}. Best is trial 142 with value: 0.5815395552746949.\n"
     ]
    },
    {
     "name": "stdout",
     "output_type": "stream",
     "text": [
      "Accuracy: 0,6776003340117948 | Precision:0,450640721404841 | Recall:0,7105041623795716 | F1-score:0,5514938105782845\n"
     ]
    },
    {
     "name": "stderr",
     "output_type": "stream",
     "text": [
      "[I 2024-08-06 22:55:45,121] Trial 146 finished with value: 0.5781365206255579 and parameters: {'criterion': 'entropy', 'max_depth': 25, 'min_samples_split': 34, 'min_samples_leaf': 35, 'min_weight_fraction_leaf': 2.643876247773692e-05, 'ccp_alpha': 4.943374318599252e-05, 'n_estimators': 4}. Best is trial 142 with value: 0.5815395552746949.\n"
     ]
    },
    {
     "name": "stdout",
     "output_type": "stream",
     "text": [
      "Accuracy: 0,7163248264704347 | Precision:0,4940310385992837 | Recall:0,6967542793003461 | F1-score:0,5781365206255579\n"
     ]
    },
    {
     "name": "stderr",
     "output_type": "stream",
     "text": [
      "[I 2024-08-06 22:59:02,156] Trial 147 finished with value: 0.5810966638832558 and parameters: {'criterion': 'entropy', 'max_depth': 25, 'min_samples_split': 34, 'min_samples_leaf': 35, 'min_weight_fraction_leaf': 0.00011776537634736672, 'ccp_alpha': 2.249761711462102e-06, 'n_estimators': 4}. Best is trial 142 with value: 0.5815395552746949.\n"
     ]
    },
    {
     "name": "stdout",
     "output_type": "stream",
     "text": [
      "Accuracy: 0,7250926360837117 | Precision:0,5053949370590677 | Recall:0,6834720793190534 | F1-score:0,5810966638832558\n"
     ]
    },
    {
     "name": "stderr",
     "output_type": "stream",
     "text": [
      "[I 2024-08-06 23:01:57,371] Trial 148 finished with value: 0.5803670305331436 and parameters: {'criterion': 'gini', 'max_depth': 25, 'min_samples_split': 34, 'min_samples_leaf': 35, 'min_weight_fraction_leaf': 8.721309448865517e-05, 'ccp_alpha': 2.705011765786519e-06, 'n_estimators': 4}. Best is trial 142 with value: 0.5815395552746949.\n"
     ]
    },
    {
     "name": "stdout",
     "output_type": "stream",
     "text": [
      "Accuracy: 0,7231355357236052 | Precision:0,5027753032275749 | Recall:0,6862781779066505 | F1-score:0,5803670305331436\n"
     ]
    },
    {
     "name": "stderr",
     "output_type": "stream",
     "text": [
      "[I 2024-08-06 23:05:01,311] Trial 149 finished with value: 0.5451267443118307 and parameters: {'criterion': 'gini', 'max_depth': 25, 'min_samples_split': 34, 'min_samples_leaf': 34, 'min_weight_fraction_leaf': 0.00021512828236072793, 'ccp_alpha': 0.0005912023849184607, 'n_estimators': 4}. Best is trial 142 with value: 0.5815395552746949.\n"
     ]
    },
    {
     "name": "stdout",
     "output_type": "stream",
     "text": [
      "Accuracy: 0,6708157194300923 | Precision:0,44355122638188005 | Recall:0,7070433074548685 | F1-score:0,5451267443118307\n"
     ]
    },
    {
     "name": "stderr",
     "output_type": "stream",
     "text": [
      "[I 2024-08-06 23:07:44,227] Trial 150 finished with value: 0.5809945450233219 and parameters: {'criterion': 'entropy', 'max_depth': 26, 'min_samples_split': 32, 'min_samples_leaf': 36, 'min_weight_fraction_leaf': 5.684702380981269e-05, 'ccp_alpha': 1.2161101343153437e-05, 'n_estimators': 3}. Best is trial 142 with value: 0.5815395552746949.\n"
     ]
    },
    {
     "name": "stdout",
     "output_type": "stream",
     "text": [
      "Accuracy: 0,7233964824382861 | Precision:0,5031149448894365 | Recall:0,6874006173416892 | F1-score:0,5809945450233219\n"
     ]
    },
    {
     "name": "stderr",
     "output_type": "stream",
     "text": [
      "[I 2024-08-06 23:09:20,807] Trial 151 finished with value: 0.5487393433702159 and parameters: {'criterion': 'gini', 'max_depth': 26, 'min_samples_split': 32, 'min_samples_leaf': 35, 'min_weight_fraction_leaf': 0.003752522903797499, 'ccp_alpha': 0.00037533485889155625, 'n_estimators': 3}. Best is trial 142 with value: 0.5815395552746949.\n"
     ]
    },
    {
     "name": "stdout",
     "output_type": "stream",
     "text": [
      "Accuracy: 0,6754083816084755 | Precision:0,4482043380348465 | Recall:0,7074174539332149 | F1-score:0,5487393433702159\n"
     ]
    },
    {
     "name": "stderr",
     "output_type": "stream",
     "text": [
      "[I 2024-08-06 23:11:33,419] Trial 152 finished with value: 0.5732512758931252 and parameters: {'criterion': 'gini', 'max_depth': 24, 'min_samples_split': 35, 'min_samples_leaf': 36, 'min_weight_fraction_leaf': 0.0005031799742532535, 'ccp_alpha': 4.3765540496608914e-05, 'n_estimators': 3}. Best is trial 142 with value: 0.5815395552746949.\n"
     ]
    },
    {
     "name": "stdout",
     "output_type": "stream",
     "text": [
      "Accuracy: 0,7032513960649236 | Precision:0,47866140251927053 | Recall:0,7144327004022074 | F1-score:0,5732512758931252\n"
     ]
    },
    {
     "name": "stderr",
     "output_type": "stream",
     "text": [
      "[I 2024-08-06 23:13:57,031] Trial 153 finished with value: 0.5785959783510449 and parameters: {'criterion': 'gini', 'max_depth': 24, 'min_samples_split': 35, 'min_samples_leaf': 36, 'min_weight_fraction_leaf': 0.00021057081753212775, 'ccp_alpha': 1.8305826142624791e-06, 'n_estimators': 3}. Best is trial 142 with value: 0.5815395552746949.\n"
     ]
    },
    {
     "name": "stdout",
     "output_type": "stream",
     "text": [
      "Accuracy: 0,7216481394499243 | Precision:0,5008206811653673 | Recall:0,6849686652324385 | F1-score:0,5785959783510449\n"
     ]
    },
    {
     "name": "stderr",
     "output_type": "stream",
     "text": [
      "[I 2024-08-06 23:14:59,108] Trial 154 finished with value: 0.5473830004373815 and parameters: {'criterion': 'gini', 'max_depth': 25, 'min_samples_split': 33, 'min_samples_leaf': 37, 'min_weight_fraction_leaf': 0.006639204445284139, 'ccp_alpha': 0.00038355806129410216, 'n_estimators': 2}. Best is trial 142 with value: 0.5815395552746949.\n"
     ]
    },
    {
     "name": "stdout",
     "output_type": "stream",
     "text": [
      "Accuracy: 0,6759563697093054 | Precision:0,44843236787100627 | Recall:0,7023664764755402 | F1-score:0,5473830004373815\n"
     ]
    },
    {
     "name": "stderr",
     "output_type": "stream",
     "text": [
      "[I 2024-08-06 23:17:12,816] Trial 155 finished with value: 0.5461648745519713 and parameters: {'criterion': 'gini', 'max_depth': 24, 'min_samples_split': 36, 'min_samples_leaf': 36, 'min_weight_fraction_leaf': 1.7725574706502776e-05, 'ccp_alpha': 0.0006084462498538152, 'n_estimators': 3}. Best is trial 142 with value: 0.5815395552746949.\n"
     ]
    },
    {
     "name": "stdout",
     "output_type": "stream",
     "text": [
      "Accuracy: 0,6695892698710924 | Precision:0,44273345342553316 | Recall:0,7126555046300627 | F1-score:0,5461648745519713\n"
     ]
    },
    {
     "name": "stderr",
     "output_type": "stream",
     "text": [
      "[I 2024-08-06 23:20:18,290] Trial 156 finished with value: 0.579679228885202 and parameters: {'criterion': 'gini', 'max_depth': 25, 'min_samples_split': 34, 'min_samples_leaf': 34, 'min_weight_fraction_leaf': 0.00019796530769497565, 'ccp_alpha': 1.3346359373492174e-05, 'n_estimators': 4}. Best is trial 142 with value: 0.5815395552746949.\n"
     ]
    },
    {
     "name": "stdout",
     "output_type": "stream",
     "text": [
      "Accuracy: 0,7223526955795626 | Precision:0,5017438282158244 | Recall:0,6862781779066505 | F1-score:0,579679228885202\n"
     ]
    },
    {
     "name": "stderr",
     "output_type": "stream",
     "text": [
      "[I 2024-08-06 23:22:49,854] Trial 157 finished with value: 0.579793521948144 and parameters: {'criterion': 'gini', 'max_depth': 25, 'min_samples_split': 34, 'min_samples_leaf': 34, 'min_weight_fraction_leaf': 0.00015947128557244767, 'ccp_alpha': 1.420232609241227e-05, 'n_estimators': 4}. Best is trial 142 with value: 0.5815395552746949.\n"
     ]
    },
    {
     "name": "stdout",
     "output_type": "stream",
     "text": [
      "Accuracy: 0,7217264234643286 | Precision:0,500919180227412 | Recall:0,6881489102983818 | F1-score:0,579793521948144\n"
     ]
    },
    {
     "name": "stderr",
     "output_type": "stream",
     "text": [
      "[I 2024-08-06 23:24:21,841] Trial 158 finished with value: 0.5481894958135488 and parameters: {'criterion': 'gini', 'max_depth': 26, 'min_samples_split': 34, 'min_samples_leaf': 34, 'min_weight_fraction_leaf': 0.003935618181725833, 'ccp_alpha': 0.00039114466981061795, 'n_estimators': 4}. Best is trial 142 with value: 0.5815395552746949.\n"
     ]
    },
    {
     "name": "stdout",
     "output_type": "stream",
     "text": [
      "Accuracy: 0,6747299201503053 | Precision:0,44750858089714757 | Recall:0,7073239173136283 | F1-score:0,5481894958135488\n"
     ]
    },
    {
     "name": "stderr",
     "output_type": "stream",
     "text": [
      "[I 2024-08-06 23:27:27,606] Trial 159 finished with value: 0.5283320586803866 and parameters: {'criterion': 'gini', 'max_depth': 25, 'min_samples_split': 32, 'min_samples_leaf': 32, 'min_weight_fraction_leaf': 0.00014907526402009466, 'ccp_alpha': 0.0032913594814592425, 'n_estimators': 5}. Best is trial 142 with value: 0.5815395552746949.\n"
     ]
    },
    {
     "name": "stdout",
     "output_type": "stream",
     "text": [
      "Accuracy: 0,6459474975210062 | Precision:0,4204149377593361 | Recall:0,7107847722383313 | F1-score:0,5283320586803866\n"
     ]
    },
    {
     "name": "stderr",
     "output_type": "stream",
     "text": [
      "[I 2024-08-06 23:28:59,568] Trial 160 finished with value: 0.560818044224593 and parameters: {'criterion': 'gini', 'max_depth': 25, 'min_samples_split': 31, 'min_samples_leaf': 35, 'min_weight_fraction_leaf': 0.003461223060983876, 'ccp_alpha': 5.251730466960514e-06, 'n_estimators': 4}. Best is trial 142 with value: 0.5815395552746949.\n"
     ]
    },
    {
     "name": "stdout",
     "output_type": "stream",
     "text": [
      "Accuracy: 0,6895516935441782 | Precision:0,4632272228320527 | Recall:0,7105041623795716 | F1-score:0,560818044224593\n"
     ]
    },
    {
     "name": "stderr",
     "output_type": "stream",
     "text": [
      "[I 2024-08-06 23:30:19,137] Trial 161 finished with value: 0.5485121960059439 and parameters: {'criterion': 'gini', 'max_depth': 24, 'min_samples_split': 35, 'min_samples_leaf': 33, 'min_weight_fraction_leaf': 0.0017287366237052372, 'ccp_alpha': 0.0003939003468883583, 'n_estimators': 3}. Best is trial 142 with value: 0.5815395552746949.\n"
     ]
    },
    {
     "name": "stdout",
     "output_type": "stream",
     "text": [
      "Accuracy: 0,67493867752205 | Precision:0,4477514792899408 | Recall:0,7077916004115611 | F1-score:0,5485121960059439\n"
     ]
    },
    {
     "name": "stderr",
     "output_type": "stream",
     "text": [
      "[I 2024-08-06 23:33:19,378] Trial 162 finished with value: 0.5519721072129005 and parameters: {'criterion': 'gini', 'max_depth': 24, 'min_samples_split': 34, 'min_samples_leaf': 37, 'min_weight_fraction_leaf': 8.570583750704629e-05, 'ccp_alpha': 0.0003034850927994539, 'n_estimators': 5}. Best is trial 142 with value: 0.5815395552746949.\n"
     ]
    },
    {
     "name": "stdout",
     "output_type": "stream",
     "text": [
      "Accuracy: 0,6780961327696884 | Precision:0,45116665677135903 | Recall:0,7107847722383313 | F1-score:0,5519721072129005\n"
     ]
    },
    {
     "name": "stderr",
     "output_type": "stream",
     "text": [
      "[I 2024-08-06 23:34:50,704] Trial 163 finished with value: 0.5583928177202149 and parameters: {'criterion': 'gini', 'max_depth': 26, 'min_samples_split': 36, 'min_samples_leaf': 36, 'min_weight_fraction_leaf': 0.004933996780732274, 'ccp_alpha': 8.206898020698638e-07, 'n_estimators': 4}. Best is trial 142 with value: 0.5815395552746949.\n"
     ]
    },
    {
     "name": "stdout",
     "output_type": "stream",
     "text": [
      "Accuracy: 0,6868117530400292 | Precision:0,460241402316977 | Recall:0,709755869422879 | F1-score:0,5583928177202149\n"
     ]
    },
    {
     "name": "stderr",
     "output_type": "stream",
     "text": [
      "[I 2024-08-06 23:36:44,552] Trial 164 finished with value: 0.5421250671922594 and parameters: {'criterion': 'gini', 'max_depth': 25, 'min_samples_split': 33, 'min_samples_leaf': 34, 'min_weight_fraction_leaf': 6.395424023264232e-05, 'ccp_alpha': 0.0008140936575372358, 'n_estimators': 3}. Best is trial 142 with value: 0.5815395552746949.\n"
     ]
    },
    {
     "name": "stdout",
     "output_type": "stream",
     "text": [
      "Accuracy: 0,6665883826522624 | Precision:0,43940978273498316 | Recall:0,7075109905528014 | F1-score:0,5421250671922594\n"
     ]
    },
    {
     "name": "stderr",
     "output_type": "stream",
     "text": [
      "[I 2024-08-06 23:37:58,632] Trial 165 finished with value: 0.5622481050101683 and parameters: {'criterion': 'gini', 'max_depth': 25, 'min_samples_split': 35, 'min_samples_leaf': 33, 'min_weight_fraction_leaf': 0.003238385857493975, 'ccp_alpha': 1.811781473250982e-06, 'n_estimators': 3}. Best is trial 142 with value: 0.5815395552746949.\n"
     ]
    },
    {
     "name": "stdout",
     "output_type": "stream",
     "text": [
      "Accuracy: 0,6910651844893273 | Precision:0,4649015531368473 | Recall:0,7111589187166776 | F1-score:0,5622481050101683\n"
     ]
    },
    {
     "name": "stderr",
     "output_type": "stream",
     "text": [
      "[I 2024-08-06 23:39:46,603] Trial 166 finished with value: 0.5467272858483077 and parameters: {'criterion': 'gini', 'max_depth': 24, 'min_samples_split': 33, 'min_samples_leaf': 37, 'min_weight_fraction_leaf': 0.005875835173722432, 'ccp_alpha': 0.0005724540529817274, 'n_estimators': 5}. Best is trial 142 with value: 0.5815395552746949.\n"
     ]
    },
    {
     "name": "stdout",
     "output_type": "stream",
     "text": [
      "Accuracy: 0,6721987370179009 | Precision:0,445044939199906 | Recall:0,7086334299878403 | F1-score:0,5467272858483077\n"
     ]
    },
    {
     "name": "stderr",
     "output_type": "stream",
     "text": [
      "[I 2024-08-06 23:40:41,124] Trial 167 finished with value: 0.5510560815731973 and parameters: {'criterion': 'gini', 'max_depth': 24, 'min_samples_split': 31, 'min_samples_leaf': 35, 'min_weight_fraction_leaf': 0.0021182218018395834, 'ccp_alpha': 0.0003393833486307228, 'n_estimators': 2}. Best is trial 142 with value: 0.5815395552746949.\n"
     ]
    },
    {
     "name": "stdout",
     "output_type": "stream",
     "text": [
      "Accuracy: 0,6783048901414331 | Precision:0,45118969527103586 | Recall:0,7076980637919745 | F1-score:0,5510560815731973\n"
     ]
    },
    {
     "name": "stderr",
     "output_type": "stream",
     "text": [
      "[I 2024-08-06 23:42:15,269] Trial 168 finished with value: 0.5494138569302799 and parameters: {'criterion': 'gini', 'max_depth': 26, 'min_samples_split': 36, 'min_samples_leaf': 36, 'min_weight_fraction_leaf': 0.004206055646862965, 'ccp_alpha': 0.00030041517740055074, 'n_estimators': 4}. Best is trial 142 with value: 0.5815395552746949.\n"
     ]
    },
    {
     "name": "stdout",
     "output_type": "stream",
     "text": [
      "Accuracy: 0,6760346537237096 | Precision:0,4488791365199858 | Recall:0,7079786736507343 | F1-score:0,5494138569302799\n"
     ]
    },
    {
     "name": "stderr",
     "output_type": "stream",
     "text": [
      "[I 2024-08-06 23:43:43,430] Trial 169 finished with value: 0.5444669756662804 and parameters: {'criterion': 'gini', 'max_depth': 25, 'min_samples_split': 35, 'min_samples_leaf': 38, 'min_weight_fraction_leaf': 0.007042717220875723, 'ccp_alpha': 0.0005780467536780586, 'n_estimators': 4}. Best is trial 142 with value: 0.5815395552746949.\n"
     ]
    },
    {
     "name": "stdout",
     "output_type": "stream",
     "text": [
      "Accuracy: 0,6717290329314753 | Precision:0,4441949778434269 | Recall:0,7032083060518193 | F1-score:0,5444669756662804\n"
     ]
    },
    {
     "name": "stderr",
     "output_type": "stream",
     "text": [
      "[I 2024-08-06 23:44:49,563] Trial 170 finished with value: 0.5343435421335325 and parameters: {'criterion': 'gini', 'max_depth': 25, 'min_samples_split': 32, 'min_samples_leaf': 38, 'min_weight_fraction_leaf': 0.05853953942432668, 'ccp_alpha': 1.1428398157509173e-05, 'n_estimators': 5}. Best is trial 142 with value: 0.5815395552746949.\n"
     ]
    },
    {
     "name": "stdout",
     "output_type": "stream",
     "text": [
      "Accuracy: 0,6583946558112833 | Precision:0,4311215704281942 | Recall:0,7025535497147133 | F1-score:0,5343435421335325\n"
     ]
    },
    {
     "name": "stderr",
     "output_type": "stream",
     "text": [
      "[I 2024-08-06 23:47:18,733] Trial 171 finished with value: 0.5545746388443017 and parameters: {'criterion': 'gini', 'max_depth': 24, 'min_samples_split': 34, 'min_samples_leaf': 35, 'min_weight_fraction_leaf': 6.590118709697592e-05, 'ccp_alpha': 0.00022965287473831678, 'n_estimators': 4}. Best is trial 142 with value: 0.5815395552746949.\n"
     ]
    },
    {
     "name": "stdout",
     "output_type": "stream",
     "text": [
      "Accuracy: 0,6813840613746673 | Precision:0,4545780754739549 | Recall:0,7109718454775045 | F1-score:0,5545746388443017\n"
     ]
    },
    {
     "name": "stderr",
     "output_type": "stream",
     "text": [
      "[I 2024-08-06 23:49:16,614] Trial 172 finished with value: 0.5489897341023687 and parameters: {'criterion': 'gini', 'max_depth': 25, 'min_samples_split': 33, 'min_samples_leaf': 37, 'min_weight_fraction_leaf': 0.002150812727149229, 'ccp_alpha': 0.0003509826659809607, 'n_estimators': 5}. Best is trial 142 with value: 0.5815395552746949.\n"
     ]
    },
    {
     "name": "stdout",
     "output_type": "stream",
     "text": [
      "Accuracy: 0,6755649496372841 | Precision:0,448388243659635 | Recall:0,7077916004115611 | F1-score:0,5489897341023687\n"
     ]
    },
    {
     "name": "stderr",
     "output_type": "stream",
     "text": [
      "[I 2024-08-06 23:50:20,609] Trial 173 finished with value: 0.5604217356042174 and parameters: {'criterion': 'gini', 'max_depth': 25, 'min_samples_split': 35, 'min_samples_leaf': 34, 'min_weight_fraction_leaf': 0.0037993686257835964, 'ccp_alpha': 2.1993567030316904e-05, 'n_estimators': 3}. Best is trial 142 with value: 0.5815395552746949.\n"
     ]
    },
    {
     "name": "stdout",
     "output_type": "stream",
     "text": [
      "Accuracy: 0,68884713741454 | Precision:0,4624885914207484 | Recall:0,7109718454775045 | F1-score:0,5604217356042174\n"
     ]
    },
    {
     "name": "stderr",
     "output_type": "stream",
     "text": [
      "[I 2024-08-06 23:52:35,421] Trial 174 finished with value: 0.5561278538812785 and parameters: {'criterion': 'gini', 'max_depth': 26, 'min_samples_split': 36, 'min_samples_leaf': 36, 'min_weight_fraction_leaf': 0.0017381230129403535, 'ccp_alpha': 0.00020170056654052952, 'n_estimators': 6}. Best is trial 142 with value: 0.5815395552746949.\n"
     ]
    },
    {
     "name": "stdout",
     "output_type": "stream",
     "text": [
      "Accuracy: 0,6829236469912844 | Precision:0,45624550467513786 | Recall:0,7120007482929567 | F1-score:0,5561278538812785\n"
     ]
    },
    {
     "name": "stderr",
     "output_type": "stream",
     "text": [
      "[I 2024-08-06 23:53:54,193] Trial 175 finished with value: 0.545356293681101 and parameters: {'criterion': 'gini', 'max_depth': 24, 'min_samples_split': 34, 'min_samples_leaf': 33, 'min_weight_fraction_leaf': 0.005227890112290532, 'ccp_alpha': 0.0004916013003195102, 'n_estimators': 5}. Best is trial 142 with value: 0.5815395552746949.\n"
     ]
    },
    {
     "name": "stdout",
     "output_type": "stream",
     "text": [
      "Accuracy: 0,6706852460727519 | Precision:0,44348743188609596 | Recall:0,7079786736507343 | F1-score:0,545356293681101\n"
     ]
    },
    {
     "name": "stderr",
     "output_type": "stream",
     "text": [
      "[I 2024-08-06 23:55:13,498] Trial 176 finished with value: 0.5662273844092025 and parameters: {'criterion': 'gini', 'max_depth': 24, 'min_samples_split': 37, 'min_samples_leaf': 35, 'min_weight_fraction_leaf': 0.001710355182455386, 'ccp_alpha': 7.630865957513073e-06, 'n_estimators': 4}. Best is trial 142 with value: 0.5815395552746949.\n"
     ]
    },
    {
     "name": "stdout",
     "output_type": "stream",
     "text": [
      "Accuracy: 0,6959448880538595 | Precision:0,4702863150083483 | Recall:0,7113459919558507 | F1-score:0,5662273844092025\n"
     ]
    },
    {
     "name": "stderr",
     "output_type": "stream",
     "text": [
      "[I 2024-08-06 23:56:27,099] Trial 177 finished with value: 0.5554380719728735 and parameters: {'criterion': 'gini', 'max_depth': 24, 'min_samples_split': 37, 'min_samples_leaf': 36, 'min_weight_fraction_leaf': 0.001850977756719902, 'ccp_alpha': 0.00019574960071770762, 'n_estimators': 4}. Best is trial 142 with value: 0.5815395552746949.\n"
     ]
    },
    {
     "name": "stdout",
     "output_type": "stream",
     "text": [
      "Accuracy: 0,6818276707896248 | Precision:0,455126673040153 | Recall:0,7124684313908896 | F1-score:0,5554380719728735\n"
     ]
    },
    {
     "name": "stderr",
     "output_type": "stream",
     "text": [
      "[I 2024-08-06 23:57:16,952] Trial 178 finished with value: 0.5429235999284309 and parameters: {'criterion': 'gini', 'max_depth': 24, 'min_samples_split': 33, 'min_samples_leaf': 31, 'min_weight_fraction_leaf': 0.0032007674105556136, 'ccp_alpha': 0.0007785030291318131, 'n_estimators': 3}. Best is trial 142 with value: 0.5815395552746949.\n"
     ]
    },
    {
     "name": "stdout",
     "output_type": "stream",
     "text": [
      "Accuracy: 0,6666927613381347 | Precision:0,43966616436768285 | Recall:0,7095687961837059 | F1-score:0,5429235999284309\n"
     ]
    },
    {
     "name": "stderr",
     "output_type": "stream",
     "text": [
      "[I 2024-08-06 23:58:09,447] Trial 179 finished with value: 0.5504248779605858 and parameters: {'criterion': 'gini', 'max_depth': 24, 'min_samples_split': 39, 'min_samples_leaf': 39, 'min_weight_fraction_leaf': 1.9994721694492157e-06, 'ccp_alpha': 0.00033648315641766473, 'n_estimators': 2}. Best is trial 142 with value: 0.5815395552746949.\n"
     ]
    },
    {
     "name": "stdout",
     "output_type": "stream",
     "text": [
      "Accuracy: 0,6755649496372841 | Precision:0,4486559773638293 | Recall:0,7119072116733701 | F1-score:0,5504248779605858\n"
     ]
    },
    {
     "name": "stderr",
     "output_type": "stream",
     "text": [
      "[I 2024-08-06 23:59:05,093] Trial 180 finished with value: 0.5457826542029091 and parameters: {'criterion': 'gini', 'max_depth': 25, 'min_samples_split': 38, 'min_samples_leaf': 32, 'min_weight_fraction_leaf': 0.007243358670837398, 'ccp_alpha': 0.0005826500302229271, 'n_estimators': 4}. Best is trial 142 with value: 0.5815395552746949.\n"
     ]
    },
    {
     "name": "stdout",
     "output_type": "stream",
     "text": [
      "Accuracy: 0,671598559574135 | Precision:0,4443464974141984 | Recall:0,7072303806940418 | F1-score:0,5457826542029091\n"
     ]
    },
    {
     "name": "stderr",
     "output_type": "stream",
     "text": [
      "[I 2024-08-07 00:00:38,944] Trial 181 finished with value: 0.5645965042766827 and parameters: {'criterion': 'gini', 'max_depth': 25, 'min_samples_split': 35, 'min_samples_leaf': 35, 'min_weight_fraction_leaf': 0.001960096717339079, 'ccp_alpha': 1.2180261675238874e-05, 'n_estimators': 5}. Best is trial 142 with value: 0.5815395552746949.\n"
     ]
    },
    {
     "name": "stdout",
     "output_type": "stream",
     "text": [
      "Accuracy: 0,6944835864516465 | Precision:0,4686091734057658 | Recall:0,7100364792816387 | F1-score:0,5645965042766827\n"
     ]
    },
    {
     "name": "stderr",
     "output_type": "stream",
     "text": [
      "[I 2024-08-07 00:01:13,554] Trial 182 finished with value: 0.5315216234434313 and parameters: {'criterion': 'gini', 'max_depth': 26, 'min_samples_split': 31, 'min_samples_leaf': 37, 'min_weight_fraction_leaf': 0.08290889192120726, 'ccp_alpha': 0.0001741898358989659, 'n_estimators': 5}. Best is trial 142 with value: 0.5815395552746949.\n"
     ]
    },
    {
     "name": "stdout",
     "output_type": "stream",
     "text": [
      "Accuracy: 0,6554198632639215 | Precision:0,42815500685871055 | Recall:0,700682817322982 | F1-score:0,5315216234434313\n"
     ]
    },
    {
     "name": "stderr",
     "output_type": "stream",
     "text": [
      "[I 2024-08-07 00:02:41,699] Trial 183 finished with value: 0.580624677540977 and parameters: {'criterion': 'entropy', 'max_depth': 24, 'min_samples_split': 34, 'min_samples_leaf': 34, 'min_weight_fraction_leaf': 7.125729531541353e-05, 'ccp_alpha': 1.5407972215045377e-05, 'n_estimators': 3}. Best is trial 142 with value: 0.5815395552746949.\n"
     ]
    },
    {
     "name": "stdout",
     "output_type": "stream",
     "text": [
      "Accuracy: 0,724257606596733 | Precision:0,5042740934785606 | Recall:0,684220372275746 | F1-score:0,580624677540977\n"
     ]
    },
    {
     "name": "stderr",
     "output_type": "stream",
     "text": [
      "[I 2024-08-07 00:04:11,386] Trial 184 finished with value: 0.5629190020881416 and parameters: {'criterion': 'entropy', 'max_depth': 24, 'min_samples_split': 34, 'min_samples_leaf': 35, 'min_weight_fraction_leaf': 3.87566296971187e-05, 'ccp_alpha': 0.0001783631777058204, 'n_estimators': 3}. Best is trial 142 with value: 0.5815395552746949.\n"
     ]
    },
    {
     "name": "stdout",
     "output_type": "stream",
     "text": [
      "Accuracy: 0,6886644747142634 | Precision:0,46266409731422375 | Recall:0,718641848283603 | F1-score:0,5629190020881416\n"
     ]
    },
    {
     "name": "stderr",
     "output_type": "stream",
     "text": [
      "[I 2024-08-07 00:05:19,600] Trial 185 finished with value: 0.5612774155305276 and parameters: {'criterion': 'entropy', 'max_depth': 25, 'min_samples_split': 36, 'min_samples_leaf': 34, 'min_weight_fraction_leaf': 0.0036472308984507366, 'ccp_alpha': 1.2665229882278603e-05, 'n_estimators': 4}. Best is trial 142 with value: 0.5815395552746949.\n"
     ]
    },
    {
     "name": "stdout",
     "output_type": "stream",
     "text": [
      "Accuracy: 0,6909869004749231 | Precision:0,4646954174590516 | Recall:0,7085398933682536 | F1-score:0,5612774155305276\n"
     ]
    },
    {
     "name": "stderr",
     "output_type": "stream",
     "text": [
      "[I 2024-08-07 00:06:14,764] Trial 186 finished with value: 0.5496842563693112 and parameters: {'criterion': 'gini', 'max_depth': 24, 'min_samples_split': 32, 'min_samples_leaf': 38, 'min_weight_fraction_leaf': 0.0019130216183467809, 'ccp_alpha': 0.0003728607497452246, 'n_estimators': 3}. Best is trial 142 with value: 0.5815395552746949.\n"
     ]
    },
    {
     "name": "stdout",
     "output_type": "stream",
     "text": [
      "Accuracy: 0,6762173164239862 | Precision:0,4490897230623258 | Recall:0,7083528201290805 | F1-score:0,5496842563693112\n"
     ]
    },
    {
     "name": "stderr",
     "output_type": "stream",
     "text": [
      "[I 2024-08-07 00:07:18,302] Trial 187 finished with value: 0.5580092165898617 and parameters: {'criterion': 'entropy', 'max_depth': 27, 'min_samples_split': 34, 'min_samples_leaf': 36, 'min_weight_fraction_leaf': 0.0050959740667447665, 'ccp_alpha': 1.2251343537796494e-05, 'n_estimators': 4}. Best is trial 142 with value: 0.5815395552746949.\n"
     ]
    },
    {
     "name": "stdout",
     "output_type": "stream",
     "text": [
      "Accuracy: 0,6871509837691143 | Precision:0,4605087014725569 | Recall:0,7078851370311477 | F1-score:0,5580092165898617\n"
     ]
    },
    {
     "name": "stderr",
     "output_type": "stream",
     "text": [
      "[I 2024-08-07 00:08:19,188] Trial 188 finished with value: 0.5550089282460552 and parameters: {'criterion': 'entropy', 'max_depth': 23, 'min_samples_split': 35, 'min_samples_leaf': 34, 'min_weight_fraction_leaf': 7.259725950214027e-05, 'ccp_alpha': 0.0003091618610979083, 'n_estimators': 2}. Best is trial 142 with value: 0.5815395552746949.\n"
     ]
    },
    {
     "name": "stdout",
     "output_type": "stream",
     "text": [
      "Accuracy: 0,6813579667031993 | Precision:0,4546268656716418 | Recall:0,7122813581517164 | F1-score:0,5550089282460552\n"
     ]
    },
    {
     "name": "stderr",
     "output_type": "stream",
     "text": [
      "[I 2024-08-07 00:09:28,368] Trial 189 finished with value: 0.5492947506180021 and parameters: {'criterion': 'entropy', 'max_depth': 24, 'min_samples_split': 33, 'min_samples_leaf': 37, 'min_weight_fraction_leaf': 0.0033379770991288065, 'ccp_alpha': 0.0005085929509803375, 'n_estimators': 4}. Best is trial 142 with value: 0.5815395552746949.\n"
     ]
    },
    {
     "name": "stdout",
     "output_type": "stream",
     "text": [
      "Accuracy: 0,6764782631386671 | Precision:0,44924778497948503 | Recall:0,7066691609765223 | F1-score:0,5492947506180021\n"
     ]
    },
    {
     "name": "stderr",
     "output_type": "stream",
     "text": [
      "[I 2024-08-07 00:10:21,702] Trial 190 finished with value: 0.55440243499945 and parameters: {'criterion': 'gini', 'max_depth': 25, 'min_samples_split': 37, 'min_samples_leaf': 33, 'min_weight_fraction_leaf': 0.002305521208867991, 'ccp_alpha': 0.0002037228855799913, 'n_estimators': 3}. Best is trial 142 with value: 0.5815395552746949.\n"
     ]
    },
    {
     "name": "stdout",
     "output_type": "stream",
     "text": [
      "Accuracy: 0,6829236469912844 | Precision:0,4559657377246954 | Recall:0,7070433074548685 | F1-score:0,55440243499945\n"
     ]
    },
    {
     "name": "stderr",
     "output_type": "stream",
     "text": [
      "[I 2024-08-07 00:11:58,169] Trial 191 finished with value: 0.5599472024638851 and parameters: {'criterion': 'entropy', 'max_depth': 26, 'min_samples_split': 36, 'min_samples_leaf': 36, 'min_weight_fraction_leaf': 0.0018960325357668514, 'ccp_alpha': 0.0001778587225960543, 'n_estimators': 5}. Best is trial 142 with value: 0.5815395552746949.\n"
     ]
    },
    {
     "name": "stdout",
     "output_type": "stream",
     "text": [
      "Accuracy: 0,6868117530400292 | Precision:0,4604715672676838 | Recall:0,7142456271630343 | F1-score:0,5599472024638851\n"
     ]
    },
    {
     "name": "stderr",
     "output_type": "stream",
     "text": [
      "[I 2024-08-07 00:13:50,945] Trial 192 finished with value: 0.5813352419579307 and parameters: {'criterion': 'entropy', 'max_depth': 25, 'min_samples_split': 34, 'min_samples_leaf': 35, 'min_weight_fraction_leaf': 0.00017208764909037766, 'ccp_alpha': 6.353920076691371e-06, 'n_estimators': 4}. Best is trial 142 with value: 0.5815395552746949.\n"
     ]
    },
    {
     "name": "stdout",
     "output_type": "stream",
     "text": [
      "Accuracy: 0,7252492041125203 | Precision:0,5056024346382626 | Recall:0,6837526891778131 | F1-score:0,5813352419579307\n"
     ]
    },
    {
     "name": "stderr",
     "output_type": "stream",
     "text": [
      "[I 2024-08-07 00:16:52,060] Trial 193 finished with value: 0.5539426654022904 and parameters: {'criterion': 'entropy', 'max_depth': 25, 'min_samples_split': 32, 'min_samples_leaf': 38, 'min_weight_fraction_leaf': 0.0002202414337150679, 'ccp_alpha': 0.00035587354195802445, 'n_estimators': 6}. Best is trial 142 with value: 0.5815395552746949.\n"
     ]
    },
    {
     "name": "stdout",
     "output_type": "stream",
     "text": [
      "Accuracy: 0,6808621679453055 | Precision:0,45399653255216116 | Recall:0,7103170891403985 | F1-score:0,5539426654022904\n"
     ]
    },
    {
     "name": "stderr",
     "output_type": "stream",
     "text": [
      "[I 2024-08-07 00:17:59,543] Trial 194 finished with value: 0.5584908441103864 and parameters: {'criterion': 'entropy', 'max_depth': 24, 'min_samples_split': 34, 'min_samples_leaf': 35, 'min_weight_fraction_leaf': 0.004883942739453898, 'ccp_alpha': 2.1532745196810912e-05, 'n_estimators': 4}. Best is trial 142 with value: 0.5815395552746949.\n"
     ]
    },
    {
     "name": "stdout",
     "output_type": "stream",
     "text": [
      "Accuracy: 0,6873075517979229 | Precision:0,46072948328267477 | Recall:0,7089140398466 | F1-score:0,5584908441103864\n"
     ]
    },
    {
     "name": "stderr",
     "output_type": "stream",
     "text": [
      "[I 2024-08-07 00:19:01,541] Trial 195 finished with value: 0.5651720542231492 and parameters: {'criterion': 'entropy', 'max_depth': 24, 'min_samples_split': 35, 'min_samples_leaf': 35, 'min_weight_fraction_leaf': 0.0019989081328178992, 'ccp_alpha': 1.2440455541860093e-05, 'n_estimators': 3}. Best is trial 142 with value: 0.5815395552746949.\n"
     ]
    },
    {
     "name": "stdout",
     "output_type": "stream",
     "text": [
      "Accuracy: 0,6953186159386253 | Precision:0,4695254006559 | Recall:0,709755869422879 | F1-score:0,5651720542231492\n"
     ]
    },
    {
     "name": "stderr",
     "output_type": "stream",
     "text": [
      "[I 2024-08-07 00:20:13,063] Trial 196 finished with value: 0.550371774311124 and parameters: {'criterion': 'entropy', 'max_depth': 25, 'min_samples_split': 33, 'min_samples_leaf': 33, 'min_weight_fraction_leaf': 0.0037293089347711964, 'ccp_alpha': 0.00046514451213087847, 'n_estimators': 4}. Best is trial 142 with value: 0.5815395552746949.\n"
     ]
    },
    {
     "name": "stdout",
     "output_type": "stream",
     "text": [
      "Accuracy: 0,6780961327696884 | Precision:0,4508808599581965 | Recall:0,7062014778785894 | F1-score:0,550371774311124\n"
     ]
    },
    {
     "name": "stderr",
     "output_type": "stream",
     "text": [
      "[I 2024-08-07 00:22:44,057] Trial 197 finished with value: 0.5588375242487463 and parameters: {'criterion': 'entropy', 'max_depth': 24, 'min_samples_split': 31, 'min_samples_leaf': 37, 'min_weight_fraction_leaf': 0.0001445277648504131, 'ccp_alpha': 0.00022731266574272982, 'n_estimators': 5}. Best is trial 142 with value: 0.5815395552746949.\n"
     ]
    },
    {
     "name": "stdout",
     "output_type": "stream",
     "text": [
      "Accuracy: 0,6854809247951569 | Precision:0,45904990980156346 | Recall:0,7140585539238612 | F1-score:0,5588375242487463\n"
     ]
    },
    {
     "name": "stderr",
     "output_type": "stream",
     "text": [
      "[I 2024-08-07 00:23:47,398] Trial 198 finished with value: 0.5577512650980683 and parameters: {'criterion': 'entropy', 'max_depth': 23, 'min_samples_split': 36, 'min_samples_leaf': 39, 'min_weight_fraction_leaf': 0.005261615736906744, 'ccp_alpha': 1.5014739399595278e-06, 'n_estimators': 4}. Best is trial 142 with value: 0.5815395552746949.\n"
     ]
    },
    {
     "name": "stdout",
     "output_type": "stream",
     "text": [
      "Accuracy: 0,6875684985126037 | Precision:0,4608716884385301 | Recall:0,7062014778785894 | F1-score:0,5577512650980683\n"
     ]
    },
    {
     "name": "stderr",
     "output_type": "stream",
     "text": [
      "[I 2024-08-07 00:25:17,700] Trial 199 finished with value: 0.5469116638388506 and parameters: {'criterion': 'entropy', 'max_depth': 26, 'min_samples_split': 34, 'min_samples_leaf': 34, 'min_weight_fraction_leaf': 3.9556056211014845e-05, 'ccp_alpha': 0.0007003265977117965, 'n_estimators': 3}. Best is trial 142 with value: 0.5815395552746949.\n"
     ]
    },
    {
     "name": "stdout",
     "output_type": "stream",
     "text": [
      "Accuracy: 0,6724857784040499 | Precision:0,445326278659612 | Recall:0,7085398933682536 | F1-score:0,5469116638388506\n",
      "Trial 0:\n",
      "  Value: 0.5232132268303743\n",
      "  Params:\n",
      "    criterion: entropy\n",
      "    max_depth: 19\n",
      "    min_samples_split: 45\n",
      "    min_samples_leaf: 29\n",
      "    min_weight_fraction_leaf: 0.06188600191648569\n",
      "    ccp_alpha: 0.00946936465453477\n",
      "    n_estimators: 9\n",
      "\n",
      "Trial 1:\n",
      "  Value: 0.5433542600896861\n",
      "  Params:\n",
      "    criterion: entropy\n",
      "    max_depth: 30\n",
      "    min_samples_split: 26\n",
      "    min_samples_leaf: 13\n",
      "    min_weight_fraction_leaf: 0.011272618479276254\n",
      "    ccp_alpha: 0.0009876284197887742\n",
      "    n_estimators: 2\n",
      "\n",
      "Trial 2:\n",
      "  Value: 0.5321315780135553\n",
      "  Params:\n",
      "    criterion: gini\n",
      "    max_depth: 29\n",
      "    min_samples_split: 13\n",
      "    min_samples_leaf: 18\n",
      "    min_weight_fraction_leaf: 0.0631352532456998\n",
      "    ccp_alpha: 0.00046941348769256267\n",
      "    n_estimators: 2\n",
      "\n",
      "Trial 3:\n",
      "  Value: 0.5326438722386381\n",
      "  Params:\n",
      "    criterion: entropy\n",
      "    max_depth: 24\n",
      "    min_samples_split: 45\n",
      "    min_samples_leaf: 44\n",
      "    min_weight_fraction_leaf: 0.051156826135296596\n",
      "    ccp_alpha: 0.0027597520563905488\n",
      "    n_estimators: 15\n",
      "\n",
      "Trial 4:\n",
      "  Value: 0.5261454783297187\n",
      "  Params:\n",
      "    criterion: entropy\n",
      "    max_depth: 18\n",
      "    min_samples_split: 47\n",
      "    min_samples_leaf: 29\n",
      "    min_weight_fraction_leaf: 0.032693170947939325\n",
      "    ccp_alpha: 0.005252560374058651\n",
      "    n_estimators: 2\n",
      "\n",
      "Trial 5:\n",
      "  Value: 0.5223657186618861\n",
      "  Params:\n",
      "    criterion: entropy\n",
      "    max_depth: 30\n",
      "    min_samples_split: 28\n",
      "    min_samples_leaf: 27\n",
      "    min_weight_fraction_leaf: 0.04887198615701105\n",
      "    ccp_alpha: 0.009424595416172904\n",
      "    n_estimators: 15\n",
      "\n",
      "Trial 6:\n",
      "  Value: 0.5212541658165\n",
      "  Params:\n",
      "    criterion: gini\n",
      "    max_depth: 15\n",
      "    min_samples_split: 38\n",
      "    min_samples_leaf: 39\n",
      "    min_weight_fraction_leaf: 0.04645370331308251\n",
      "    ccp_alpha: 0.006213641535554566\n",
      "    n_estimators: 9\n",
      "\n",
      "Trial 7:\n",
      "  Value: 0.5230660792951543\n",
      "  Params:\n",
      "    criterion: gini\n",
      "    max_depth: 30\n",
      "    min_samples_split: 18\n",
      "    min_samples_leaf: 22\n",
      "    min_weight_fraction_leaf: 0.06473737786814122\n",
      "    ccp_alpha: 0.00821309660310172\n",
      "    n_estimators: 5\n",
      "\n",
      "Trial 8:\n",
      "  Value: 0.5219915312115831\n",
      "  Params:\n",
      "    criterion: gini\n",
      "    max_depth: 17\n",
      "    min_samples_split: 27\n",
      "    min_samples_leaf: 11\n",
      "    min_weight_fraction_leaf: 0.07368739139944926\n",
      "    ccp_alpha: 0.008407602624127463\n",
      "    n_estimators: 18\n",
      "\n",
      "Trial 9:\n",
      "  Value: 0.5264398087185529\n",
      "  Params:\n",
      "    criterion: entropy\n",
      "    max_depth: 28\n",
      "    min_samples_split: 27\n",
      "    min_samples_leaf: 19\n",
      "    min_weight_fraction_leaf: 0.04873496970938565\n",
      "    ccp_alpha: 0.006091475106908496\n",
      "    n_estimators: 14\n",
      "\n",
      "Trial 10:\n",
      "  Value: 0.5772167440432798\n",
      "  Params:\n",
      "    criterion: entropy\n",
      "    max_depth: 25\n",
      "    min_samples_split: 4\n",
      "    min_samples_leaf: 2\n",
      "    min_weight_fraction_leaf: 0.0005104397784947787\n",
      "    ccp_alpha: 9.513843024125824e-06\n",
      "    n_estimators: 6\n",
      "\n",
      "Trial 11:\n",
      "  Value: 0.5655263836211658\n",
      "  Params:\n",
      "    criterion: entropy\n",
      "    max_depth: 25\n",
      "    min_samples_split: 8\n",
      "    min_samples_leaf: 6\n",
      "    min_weight_fraction_leaf: 0.0007647394354612109\n",
      "    ccp_alpha: 0.0001302078590544965\n",
      "    n_estimators: 5\n",
      "\n",
      "Trial 12:\n",
      "  Value: 0.5351267386853068\n",
      "  Params:\n",
      "    criterion: entropy\n",
      "    max_depth: 24\n",
      "    min_samples_split: 3\n",
      "    min_samples_leaf: 2\n",
      "    min_weight_fraction_leaf: 0.00010241788937819451\n",
      "    ccp_alpha: 0.002446289334657578\n",
      "    n_estimators: 6\n",
      "\n",
      "Trial 13:\n",
      "  Value: 0.5294532627865961\n",
      "  Params:\n",
      "    criterion: entropy\n",
      "    max_depth: 22\n",
      "    min_samples_split: 3\n",
      "    min_samples_leaf: 2\n",
      "    min_weight_fraction_leaf: 0.09867405398250124\n",
      "    ccp_alpha: 0.002421360518668081\n",
      "    n_estimators: 6\n",
      "\n",
      "Trial 14:\n",
      "  Value: 0.5442476279808074\n",
      "  Params:\n",
      "    criterion: entropy\n",
      "    max_depth: 26\n",
      "    min_samples_split: 11\n",
      "    min_samples_leaf: 9\n",
      "    min_weight_fraction_leaf: 0.02137624893064797\n",
      "    ccp_alpha: 0.00027487145736847116\n",
      "    n_estimators: 10\n",
      "\n",
      "Trial 15:\n",
      "  Value: 0.5322006415453489\n",
      "  Params:\n",
      "    criterion: entropy\n",
      "    max_depth: 21\n",
      "    min_samples_split: 9\n",
      "    min_samples_leaf: 7\n",
      "    min_weight_fraction_leaf: 0.0037571302010664907\n",
      "    ccp_alpha: 0.003745916299690892\n",
      "    n_estimators: 5\n",
      "\n",
      "Trial 16:\n",
      "  Value: 0.5379280913261496\n",
      "  Params:\n",
      "    criterion: entropy\n",
      "    max_depth: 26\n",
      "    min_samples_split: 18\n",
      "    min_samples_leaf: 2\n",
      "    min_weight_fraction_leaf: 0.024111858167188735\n",
      "    ccp_alpha: 0.0015027499252763092\n",
      "    n_estimators: 12\n",
      "\n",
      "Trial 17:\n",
      "  Value: 0.5480250692318904\n",
      "  Params:\n",
      "    criterion: entropy\n",
      "    max_depth: 26\n",
      "    min_samples_split: 6\n",
      "    min_samples_leaf: 15\n",
      "    min_weight_fraction_leaf: 0.014549729488113615\n",
      "    ccp_alpha: 4.9100089886727795e-05\n",
      "    n_estimators: 7\n",
      "\n",
      "Trial 18:\n",
      "  Value: 0.5277364432294009\n",
      "  Params:\n",
      "    criterion: gini\n",
      "    max_depth: 21\n",
      "    min_samples_split: 19\n",
      "    min_samples_leaf: 35\n",
      "    min_weight_fraction_leaf: 0.03217964237551895\n",
      "    ccp_alpha: 0.0038916464610290243\n",
      "    n_estimators: 4\n",
      "\n",
      "Trial 19:\n",
      "  Value: 0.5404284232736115\n",
      "  Params:\n",
      "    criterion: entropy\n",
      "    max_depth: 27\n",
      "    min_samples_split: 33\n",
      "    min_samples_leaf: 7\n",
      "    min_weight_fraction_leaf: 0.010479991635268002\n",
      "    ccp_alpha: 0.0015502640500995733\n",
      "    n_estimators: 7\n",
      "\n",
      "Trial 20:\n",
      "  Value: 0.5281114012184509\n",
      "  Params:\n",
      "    criterion: entropy\n",
      "    max_depth: 24\n",
      "    min_samples_split: 14\n",
      "    min_samples_leaf: 48\n",
      "    min_weight_fraction_leaf: 0.08649566909410623\n",
      "    ccp_alpha: 0.00348026751263222\n",
      "    n_estimators: 20\n",
      "\n",
      "Trial 21:\n",
      "  Value: 0.5475022706630335\n",
      "  Params:\n",
      "    criterion: entropy\n",
      "    max_depth: 26\n",
      "    min_samples_split: 7\n",
      "    min_samples_leaf: 15\n",
      "    min_weight_fraction_leaf: 0.016026526033556934\n",
      "    ccp_alpha: 9.300089701374994e-05\n",
      "    n_estimators: 8\n",
      "\n",
      "Trial 22:\n",
      "  Value: 0.5381805157593124\n",
      "  Params:\n",
      "    criterion: entropy\n",
      "    max_depth: 25\n",
      "    min_samples_split: 2\n",
      "    min_samples_leaf: 7\n",
      "    min_weight_fraction_leaf: 0.005360404877069907\n",
      "    ccp_alpha: 0.0018043169100403823\n",
      "    n_estimators: 4\n",
      "\n",
      "Trial 23:\n",
      "  Value: 0.5417295665300841\n",
      "  Params:\n",
      "    criterion: entropy\n",
      "    max_depth: 28\n",
      "    min_samples_split: 7\n",
      "    min_samples_leaf: 15\n",
      "    min_weight_fraction_leaf: 0.029464005085331806\n",
      "    ccp_alpha: 2.3721877347146226e-05\n",
      "    n_estimators: 12\n",
      "\n",
      "Trial 24:\n",
      "  Value: 0.543498529728179\n",
      "  Params:\n",
      "    criterion: entropy\n",
      "    max_depth: 23\n",
      "    min_samples_split: 6\n",
      "    min_samples_leaf: 23\n",
      "    min_weight_fraction_leaf: 0.017256230452258436\n",
      "    ccp_alpha: 0.000935694038586203\n",
      "    n_estimators: 7\n",
      "\n",
      "Trial 25:\n",
      "  Value: 0.5432045625739803\n",
      "  Params:\n",
      "    criterion: entropy\n",
      "    max_depth: 22\n",
      "    min_samples_split: 21\n",
      "    min_samples_leaf: 7\n",
      "    min_weight_fraction_leaf: 0.007423553979541829\n",
      "    ccp_alpha: 0.001150486289246275\n",
      "    n_estimators: 4\n",
      "\n",
      "Trial 26:\n",
      "  Value: 0.5343215104993824\n",
      "  Params:\n",
      "    criterion: gini\n",
      "    max_depth: 27\n",
      "    min_samples_split: 14\n",
      "    min_samples_leaf: 12\n",
      "    min_weight_fraction_leaf: 0.000179924120186968\n",
      "    ccp_alpha: 0.0019795280623371657\n",
      "    n_estimators: 11\n",
      "\n",
      "Trial 27:\n",
      "  Value: 0.5293335200224026\n",
      "  Params:\n",
      "    criterion: entropy\n",
      "    max_depth: 25\n",
      "    min_samples_split: 10\n",
      "    min_samples_leaf: 5\n",
      "    min_weight_fraction_leaf: 0.03927546278683412\n",
      "    ccp_alpha: 0.004556984069762689\n",
      "    n_estimators: 8\n",
      "\n",
      "Trial 28:\n",
      "  Value: 0.5453232735280316\n",
      "  Params:\n",
      "    criterion: entropy\n",
      "    max_depth: 31\n",
      "    min_samples_split: 22\n",
      "    min_samples_leaf: 17\n",
      "    min_weight_fraction_leaf: 0.013673704233597208\n",
      "    ccp_alpha: 0.0007593639783752009\n",
      "    n_estimators: 6\n",
      "\n",
      "Trial 29:\n",
      "  Value: 0.5332957110609481\n",
      "  Params:\n",
      "    criterion: entropy\n",
      "    max_depth: 20\n",
      "    min_samples_split: 5\n",
      "    min_samples_leaf: 22\n",
      "    min_weight_fraction_leaf: 0.023777250915785857\n",
      "    ccp_alpha: 0.003094176931439847\n",
      "    n_estimators: 10\n",
      "\n",
      "Trial 30:\n",
      "  Value: 0.5368664414013872\n",
      "  Params:\n",
      "    criterion: entropy\n",
      "    max_depth: 23\n",
      "    min_samples_split: 16\n",
      "    min_samples_leaf: 10\n",
      "    min_weight_fraction_leaf: 0.00875865679162365\n",
      "    ccp_alpha: 0.0021475355786384274\n",
      "    n_estimators: 3\n",
      "\n",
      "Trial 31:\n",
      "  Value: 0.5473233093629695\n",
      "  Params:\n",
      "    criterion: entropy\n",
      "    max_depth: 26\n",
      "    min_samples_split: 8\n",
      "    min_samples_leaf: 15\n",
      "    min_weight_fraction_leaf: 0.016807338903668506\n",
      "    ccp_alpha: 3.71085836608489e-05\n",
      "    n_estimators: 8\n",
      "\n",
      "Trial 32:\n",
      "  Value: 0.5441409058231489\n",
      "  Params:\n",
      "    criterion: entropy\n",
      "    max_depth: 25\n",
      "    min_samples_split: 6\n",
      "    min_samples_leaf: 14\n",
      "    min_weight_fraction_leaf: 0.015876786386427196\n",
      "    ccp_alpha: 0.0007860946774179562\n",
      "    n_estimators: 8\n",
      "\n",
      "Trial 33:\n",
      "  Value: 0.554185927067283\n",
      "  Params:\n",
      "    criterion: entropy\n",
      "    max_depth: 27\n",
      "    min_samples_split: 12\n",
      "    min_samples_leaf: 5\n",
      "    min_weight_fraction_leaf: 0.007756855904647806\n",
      "    ccp_alpha: 3.1314101639982054e-06\n",
      "    n_estimators: 7\n",
      "\n",
      "Trial 34:\n",
      "  Value: 0.5422273117663899\n",
      "  Params:\n",
      "    criterion: entropy\n",
      "    max_depth: 28\n",
      "    min_samples_split: 12\n",
      "    min_samples_leaf: 4\n",
      "    min_weight_fraction_leaf: 0.006696477953716414\n",
      "    ccp_alpha: 0.0012213563119752794\n",
      "    n_estimators: 5\n",
      "\n",
      "Trial 35:\n",
      "  Value: 0.5481556634538735\n",
      "  Params:\n",
      "    criterion: entropy\n",
      "    max_depth: 27\n",
      "    min_samples_split: 2\n",
      "    min_samples_leaf: 5\n",
      "    min_weight_fraction_leaf: 0.00041739483123800667\n",
      "    ccp_alpha: 0.0006091893285899925\n",
      "    n_estimators: 7\n",
      "\n",
      "Trial 36:\n",
      "  Value: 0.5445890880242328\n",
      "  Params:\n",
      "    criterion: entropy\n",
      "    max_depth: 29\n",
      "    min_samples_split: 2\n",
      "    min_samples_leaf: 5\n",
      "    min_weight_fraction_leaf: 0.0023046319608048082\n",
      "    ccp_alpha: 0.0008164506494546161\n",
      "    n_estimators: 3\n",
      "\n",
      "Trial 37:\n",
      "  Value: 0.5368620037807182\n",
      "  Params:\n",
      "    criterion: gini\n",
      "    max_depth: 27\n",
      "    min_samples_split: 41\n",
      "    min_samples_leaf: 10\n",
      "    min_weight_fraction_leaf: 0.03981443181903498\n",
      "    ccp_alpha: 0.0006287174609787399\n",
      "    n_estimators: 2\n",
      "\n",
      "Trial 38:\n",
      "  Value: 0.5404730476971924\n",
      "  Params:\n",
      "    criterion: entropy\n",
      "    max_depth: 29\n",
      "    min_samples_split: 11\n",
      "    min_samples_leaf: 4\n",
      "    min_weight_fraction_leaf: 0.010418958465933202\n",
      "    ccp_alpha: 0.0014882625527558079\n",
      "    n_estimators: 9\n",
      "\n",
      "Trial 39:\n",
      "  Value: 0.527448869752422\n",
      "  Params:\n",
      "    criterion: gini\n",
      "    max_depth: 24\n",
      "    min_samples_split: 24\n",
      "    min_samples_leaf: 32\n",
      "    min_weight_fraction_leaf: 0.056188900642480215\n",
      "    ccp_alpha: 0.0027695061228975968\n",
      "    n_estimators: 6\n",
      "\n",
      "Trial 40:\n",
      "  Value: 0.5235372659111917\n",
      "  Params:\n",
      "    criterion: entropy\n",
      "    max_depth: 31\n",
      "    min_samples_split: 31\n",
      "    min_samples_leaf: 9\n",
      "    min_weight_fraction_leaf: 0.0001774396700932741\n",
      "    ccp_alpha: 0.0074569775425428605\n",
      "    n_estimators: 3\n",
      "\n",
      "Trial 41:\n",
      "  Value: 0.5488913122500909\n",
      "  Params:\n",
      "    criterion: entropy\n",
      "    max_depth: 27\n",
      "    min_samples_split: 9\n",
      "    min_samples_leaf: 12\n",
      "    min_weight_fraction_leaf: 0.010413456274515733\n",
      "    ccp_alpha: 0.00048255821981794175\n",
      "    n_estimators: 7\n",
      "\n",
      "Trial 42:\n",
      "  Value: 0.547551891227309\n",
      "  Params:\n",
      "    criterion: entropy\n",
      "    max_depth: 28\n",
      "    min_samples_split: 4\n",
      "    min_samples_leaf: 5\n",
      "    min_weight_fraction_leaf: 0.005832644662910838\n",
      "    ccp_alpha: 0.0006496993829057015\n",
      "    n_estimators: 9\n",
      "\n",
      "Trial 43:\n",
      "  Value: 0.5488297601281258\n",
      "  Params:\n",
      "    criterion: entropy\n",
      "    max_depth: 25\n",
      "    min_samples_split: 9\n",
      "    min_samples_leaf: 8\n",
      "    min_weight_fraction_leaf: 0.01026563357124412\n",
      "    ccp_alpha: 0.00041738459026025016\n",
      "    n_estimators: 7\n",
      "\n",
      "Trial 44:\n",
      "  Value: 0.5390274537950834\n",
      "  Params:\n",
      "    criterion: entropy\n",
      "    max_depth: 25\n",
      "    min_samples_split: 16\n",
      "    min_samples_leaf: 12\n",
      "    min_weight_fraction_leaf: 0.026832440871308018\n",
      "    ccp_alpha: 0.001300817008982648\n",
      "    n_estimators: 6\n",
      "\n",
      "Trial 45:\n",
      "  Value: 0.5243708187320804\n",
      "  Params:\n",
      "    criterion: entropy\n",
      "    max_depth: 24\n",
      "    min_samples_split: 9\n",
      "    min_samples_leaf: 19\n",
      "    min_weight_fraction_leaf: 0.0205010737152639\n",
      "    ccp_alpha: 0.009892439784749843\n",
      "    n_estimators: 5\n",
      "\n",
      "Trial 46:\n",
      "  Value: 0.5493381686310064\n",
      "  Params:\n",
      "    criterion: entropy\n",
      "    max_depth: 23\n",
      "    min_samples_split: 13\n",
      "    min_samples_leaf: 8\n",
      "    min_weight_fraction_leaf: 0.009646828516659156\n",
      "    ccp_alpha: 0.0003838623862834137\n",
      "    n_estimators: 10\n",
      "\n",
      "Trial 47:\n",
      "  Value: 0.5334460530487161\n",
      "  Params:\n",
      "    criterion: gini\n",
      "    max_depth: 22\n",
      "    min_samples_split: 15\n",
      "    min_samples_leaf: 2\n",
      "    min_weight_fraction_leaf: 0.03853866743525268\n",
      "    ccp_alpha: 0.001874197448286357\n",
      "    n_estimators: 13\n",
      "\n",
      "Trial 48:\n",
      "  Value: 0.5278441972485012\n",
      "  Params:\n",
      "    criterion: entropy\n",
      "    max_depth: 15\n",
      "    min_samples_split: 50\n",
      "    min_samples_leaf: 12\n",
      "    min_weight_fraction_leaf: 0.01986430309642839\n",
      "    ccp_alpha: 0.005691587471166684\n",
      "    n_estimators: 10\n",
      "\n",
      "Trial 49:\n",
      "  Value: 0.5256717931384148\n",
      "  Params:\n",
      "    criterion: entropy\n",
      "    max_depth: 19\n",
      "    min_samples_split: 12\n",
      "    min_samples_leaf: 3\n",
      "    min_weight_fraction_leaf: 0.012535417313004907\n",
      "    ccp_alpha: 0.007130049519267672\n",
      "    n_estimators: 15\n",
      "\n",
      "Trial 50:\n",
      "  Value: 0.55019452423372\n",
      "  Params:\n",
      "    criterion: entropy\n",
      "    max_depth: 23\n",
      "    min_samples_split: 13\n",
      "    min_samples_leaf: 41\n",
      "    min_weight_fraction_leaf: 0.006885109012493784\n",
      "    ccp_alpha: 0.0003776014355048999\n",
      "    n_estimators: 11\n",
      "\n",
      "Trial 51:\n",
      "  Value: 0.550088958280382\n",
      "  Params:\n",
      "    criterion: entropy\n",
      "    max_depth: 23\n",
      "    min_samples_split: 13\n",
      "    min_samples_leaf: 45\n",
      "    min_weight_fraction_leaf: 0.004614649395738293\n",
      "    ccp_alpha: 0.0004622400790416859\n",
      "    n_estimators: 11\n",
      "\n",
      "Trial 52:\n",
      "  Value: 0.5455395683453238\n",
      "  Params:\n",
      "    criterion: entropy\n",
      "    max_depth: 23\n",
      "    min_samples_split: 17\n",
      "    min_samples_leaf: 42\n",
      "    min_weight_fraction_leaf: 0.0050054754734172\n",
      "    ccp_alpha: 0.0010779834860425823\n",
      "    n_estimators: 11\n",
      "\n",
      "Trial 53:\n",
      "  Value: 0.5515835456862032\n",
      "  Params:\n",
      "    criterion: entropy\n",
      "    max_depth: 22\n",
      "    min_samples_split: 13\n",
      "    min_samples_leaf: 50\n",
      "    min_weight_fraction_leaf: 0.0053568203936254395\n",
      "    ccp_alpha: 0.00039368061514364765\n",
      "    n_estimators: 12\n",
      "\n",
      "Trial 54:\n",
      "  Value: 0.5624445758202778\n",
      "  Params:\n",
      "    criterion: entropy\n",
      "    max_depth: 21\n",
      "    min_samples_split: 20\n",
      "    min_samples_leaf: 50\n",
      "    min_weight_fraction_leaf: 0.002970518872321179\n",
      "    ccp_alpha: 7.040532008498548e-06\n",
      "    n_estimators: 16\n",
      "\n",
      "Trial 55:\n",
      "  Value: 0.5325326036743541\n",
      "  Params:\n",
      "    criterion: entropy\n",
      "    max_depth: 20\n",
      "    min_samples_split: 19\n",
      "    min_samples_leaf: 50\n",
      "    min_weight_fraction_leaf: 0.06785843427158884\n",
      "    ccp_alpha: 0.00011197660998729891\n",
      "    n_estimators: 18\n",
      "\n",
      "Trial 56:\n",
      "  Value: 0.5401652186298248\n",
      "  Params:\n",
      "    criterion: entropy\n",
      "    max_depth: 22\n",
      "    min_samples_split: 22\n",
      "    min_samples_leaf: 47\n",
      "    min_weight_fraction_leaf: 0.0030956363642848264\n",
      "    ccp_alpha: 0.00160341349406098\n",
      "    n_estimators: 17\n",
      "\n",
      "Trial 57:\n",
      "  Value: 0.5304289402029775\n",
      "  Params:\n",
      "    criterion: entropy\n",
      "    max_depth: 21\n",
      "    min_samples_split: 20\n",
      "    min_samples_leaf: 40\n",
      "    min_weight_fraction_leaf: 0.08300588587169595\n",
      "    ccp_alpha: 0.0011222471423333017\n",
      "    n_estimators: 16\n",
      "\n",
      "Trial 58:\n",
      "  Value: 0.5326643744298645\n",
      "  Params:\n",
      "    criterion: gini\n",
      "    max_depth: 18\n",
      "    min_samples_split: 25\n",
      "    min_samples_leaf: 37\n",
      "    min_weight_fraction_leaf: 0.006521749040289856\n",
      "    ccp_alpha: 0.0022818311406811983\n",
      "    n_estimators: 13\n",
      "\n",
      "Trial 59:\n",
      "  Value: 0.5479392309369776\n",
      "  Params:\n",
      "    criterion: entropy\n",
      "    max_depth: 20\n",
      "    min_samples_split: 29\n",
      "    min_samples_leaf: 50\n",
      "    min_weight_fraction_leaf: 0.013151465213443066\n",
      "    ccp_alpha: 0.0003072070888470731\n",
      "    n_estimators: 14\n",
      "\n",
      "Trial 60:\n",
      "  Value: 0.5445206709529112\n",
      "  Params:\n",
      "    criterion: entropy\n",
      "    max_depth: 21\n",
      "    min_samples_split: 4\n",
      "    min_samples_leaf: 44\n",
      "    min_weight_fraction_leaf: 0.0027903653427028105\n",
      "    ccp_alpha: 0.001002751982903362\n",
      "    n_estimators: 19\n",
      "\n",
      "Trial 61:\n",
      "  Value: 0.5537775829314628\n",
      "  Params:\n",
      "    criterion: entropy\n",
      "    max_depth: 24\n",
      "    min_samples_split: 14\n",
      "    min_samples_leaf: 46\n",
      "    min_weight_fraction_leaf: 0.004233000042280482\n",
      "    ccp_alpha: 0.00030867071334433465\n",
      "    n_estimators: 12\n",
      "\n",
      "Trial 62:\n",
      "  Value: 0.546589259796807\n",
      "  Params:\n",
      "    criterion: entropy\n",
      "    max_depth: 24\n",
      "    min_samples_split: 11\n",
      "    min_samples_leaf: 45\n",
      "    min_weight_fraction_leaf: 0.018705086366798927\n",
      "    ccp_alpha: 0.0001032287089819842\n",
      "    n_estimators: 12\n",
      "\n",
      "Trial 63:\n",
      "  Value: 0.5615267966120502\n",
      "  Params:\n",
      "    criterion: entropy\n",
      "    max_depth: 22\n",
      "    min_samples_split: 15\n",
      "    min_samples_leaf: 47\n",
      "    min_weight_fraction_leaf: 0.00324294015360134\n",
      "    ccp_alpha: 1.801606415638684e-07\n",
      "    n_estimators: 14\n",
      "\n",
      "Trial 64:\n",
      "  Value: 0.5459051724137931\n",
      "  Params:\n",
      "    criterion: entropy\n",
      "    max_depth: 22\n",
      "    min_samples_split: 17\n",
      "    min_samples_leaf: 48\n",
      "    min_weight_fraction_leaf: 0.00028638780632001546\n",
      "    ccp_alpha: 0.0008472670013717038\n",
      "    n_estimators: 16\n",
      "\n",
      "Trial 65:\n",
      "  Value: 0.5482990722212115\n",
      "  Params:\n",
      "    criterion: entropy\n",
      "    max_depth: 24\n",
      "    min_samples_split: 15\n",
      "    min_samples_leaf: 47\n",
      "    min_weight_fraction_leaf: 0.014421695484291773\n",
      "    ccp_alpha: 3.8257193716798055e-06\n",
      "    n_estimators: 14\n",
      "\n",
      "Trial 66:\n",
      "  Value: 0.5412520064205457\n",
      "  Params:\n",
      "    criterion: entropy\n",
      "    max_depth: 26\n",
      "    min_samples_split: 7\n",
      "    min_samples_leaf: 26\n",
      "    min_weight_fraction_leaf: 0.003826110614802918\n",
      "    ccp_alpha: 0.0014508659512685739\n",
      "    n_estimators: 13\n",
      "\n",
      "Trial 67:\n",
      "  Value: 0.5383169615943828\n",
      "  Params:\n",
      "    criterion: entropy\n",
      "    max_depth: 22\n",
      "    min_samples_split: 19\n",
      "    min_samples_leaf: 43\n",
      "    min_weight_fraction_leaf: 0.007867097404636997\n",
      "    ccp_alpha: 0.0018032231702823837\n",
      "    n_estimators: 14\n",
      "\n",
      "Trial 68:\n",
      "  Value: 0.5459242250287025\n",
      "  Params:\n",
      "    criterion: entropy\n",
      "    max_depth: 21\n",
      "    min_samples_split: 15\n",
      "    min_samples_leaf: 48\n",
      "    min_weight_fraction_leaf: 0.002918981535162799\n",
      "    ccp_alpha: 0.0008830245393170033\n",
      "    n_estimators: 12\n",
      "\n",
      "Trial 69:\n",
      "  Value: 0.544481798792611\n",
      "  Params:\n",
      "    criterion: entropy\n",
      "    max_depth: 16\n",
      "    min_samples_split: 10\n",
      "    min_samples_leaf: 50\n",
      "    min_weight_fraction_leaf: 0.022581602381199033\n",
      "    ccp_alpha: 4.640021733530635e-07\n",
      "    n_estimators: 16\n",
      "\n",
      "Trial 70:\n",
      "  Value: 0.5212723392904774\n",
      "  Params:\n",
      "    criterion: gini\n",
      "    max_depth: 25\n",
      "    min_samples_split: 17\n",
      "    min_samples_leaf: 46\n",
      "    min_weight_fraction_leaf: 0.012330868256112838\n",
      "    ccp_alpha: 0.008985146444674418\n",
      "    n_estimators: 15\n",
      "\n",
      "Trial 71:\n",
      "  Value: 0.5503974447388479\n",
      "  Params:\n",
      "    criterion: entropy\n",
      "    max_depth: 23\n",
      "    min_samples_split: 13\n",
      "    min_samples_leaf: 41\n",
      "    min_weight_fraction_leaf: 0.007892590301777792\n",
      "    ccp_alpha: 0.00038561705000492754\n",
      "    n_estimators: 13\n",
      "\n",
      "Trial 72:\n",
      "  Value: 0.5484244001156404\n",
      "  Params:\n",
      "    criterion: entropy\n",
      "    max_depth: 22\n",
      "    min_samples_split: 14\n",
      "    min_samples_leaf: 49\n",
      "    min_weight_fraction_leaf: 0.008536408982152861\n",
      "    ccp_alpha: 0.0005963485813445558\n",
      "    n_estimators: 13\n",
      "\n",
      "Trial 73:\n",
      "  Value: 0.5552761071623837\n",
      "  Params:\n",
      "    criterion: entropy\n",
      "    max_depth: 21\n",
      "    min_samples_split: 11\n",
      "    min_samples_leaf: 43\n",
      "    min_weight_fraction_leaf: 1.871987101761377e-05\n",
      "    ccp_alpha: 0.0003308860372709735\n",
      "    n_estimators: 12\n",
      "\n",
      "Trial 74:\n",
      "  Value: 0.5556162786461181\n",
      "  Params:\n",
      "    criterion: entropy\n",
      "    max_depth: 19\n",
      "    min_samples_split: 5\n",
      "    min_samples_leaf: 32\n",
      "    min_weight_fraction_leaf: 0.0020760346246023642\n",
      "    ccp_alpha: 0.0003101477413716765\n",
      "    n_estimators: 12\n",
      "\n",
      "Trial 75:\n",
      "  Value: 0.546833249079223\n",
      "  Params:\n",
      "    criterion: entropy\n",
      "    max_depth: 19\n",
      "    min_samples_split: 4\n",
      "    min_samples_leaf: 33\n",
      "    min_weight_fraction_leaf: 0.0019048231153740362\n",
      "    ccp_alpha: 0.0007535387926374023\n",
      "    n_estimators: 5\n",
      "\n",
      "Trial 76:\n",
      "  Value: 0.5429535986208878\n",
      "  Params:\n",
      "    criterion: entropy\n",
      "    max_depth: 19\n",
      "    min_samples_split: 7\n",
      "    min_samples_leaf: 29\n",
      "    min_weight_fraction_leaf: 4.202268774459138e-05\n",
      "    ccp_alpha: 0.0012620121493262335\n",
      "    n_estimators: 4\n",
      "\n",
      "Trial 77:\n",
      "  Value: 0.5283945493532545\n",
      "  Params:\n",
      "    criterion: entropy\n",
      "    max_depth: 18\n",
      "    min_samples_split: 5\n",
      "    min_samples_leaf: 38\n",
      "    min_weight_fraction_leaf: 0.011682401916893858\n",
      "    ccp_alpha: 0.004701993243055857\n",
      "    n_estimators: 14\n",
      "\n",
      "Trial 78:\n",
      "  Value: 0.5309540636042401\n",
      "  Params:\n",
      "    criterion: entropy\n",
      "    max_depth: 20\n",
      "    min_samples_split: 8\n",
      "    min_samples_leaf: 31\n",
      "    min_weight_fraction_leaf: 0.09783659506819557\n",
      "    ccp_alpha: 0.00028511964616060345\n",
      "    n_estimators: 12\n",
      "\n",
      "Trial 79:\n",
      "  Value: 0.5428581654199921\n",
      "  Params:\n",
      "    criterion: entropy\n",
      "    max_depth: 26\n",
      "    min_samples_split: 10\n",
      "    min_samples_leaf: 43\n",
      "    min_weight_fraction_leaf: 0.016447760157381735\n",
      "    ccp_alpha: 0.0010275300279152264\n",
      "    n_estimators: 10\n",
      "\n",
      "Trial 80:\n",
      "  Value: 0.5486163726232998\n",
      "  Params:\n",
      "    criterion: entropy\n",
      "    max_depth: 17\n",
      "    min_samples_split: 5\n",
      "    min_samples_leaf: 36\n",
      "    min_weight_fraction_leaf: 0.003286062827596908\n",
      "    ccp_alpha: 0.0006467817880948794\n",
      "    n_estimators: 15\n",
      "\n",
      "Trial 81:\n",
      "  Value: 0.5544684579439253\n",
      "  Params:\n",
      "    criterion: entropy\n",
      "    max_depth: 21\n",
      "    min_samples_split: 11\n",
      "    min_samples_leaf: 46\n",
      "    min_weight_fraction_leaf: 0.005841394644179688\n",
      "    ccp_alpha: 0.00024261970416544748\n",
      "    n_estimators: 12\n",
      "\n",
      "Trial 82:\n",
      "  Value: 0.5551932588386151\n",
      "  Params:\n",
      "    criterion: entropy\n",
      "    max_depth: 21\n",
      "    min_samples_split: 11\n",
      "    min_samples_leaf: 45\n",
      "    min_weight_fraction_leaf: 0.005569012692489146\n",
      "    ccp_alpha: 0.0001843610309044899\n",
      "    n_estimators: 12\n",
      "\n",
      "Trial 83:\n",
      "  Value: 0.5523070730725603\n",
      "  Params:\n",
      "    criterion: entropy\n",
      "    max_depth: 21\n",
      "    min_samples_split: 11\n",
      "    min_samples_leaf: 44\n",
      "    min_weight_fraction_leaf: 0.00908001697707348\n",
      "    ccp_alpha: 4.770795660057415e-06\n",
      "    n_estimators: 17\n",
      "\n",
      "Trial 84:\n",
      "  Value: 0.5351089588377723\n",
      "  Params:\n",
      "    criterion: entropy\n",
      "    max_depth: 20\n",
      "    min_samples_split: 7\n",
      "    min_samples_leaf: 24\n",
      "    min_weight_fraction_leaf: 0.054510063500886594\n",
      "    ccp_alpha: 0.0007260685412235618\n",
      "    n_estimators: 13\n",
      "\n",
      "Trial 85:\n",
      "  Value: 0.5542124675893804\n",
      "  Params:\n",
      "    criterion: entropy\n",
      "    max_depth: 21\n",
      "    min_samples_split: 8\n",
      "    min_samples_leaf: 6\n",
      "    min_weight_fraction_leaf: 0.006189359282317506\n",
      "    ccp_alpha: 0.00022131845928245958\n",
      "    n_estimators: 9\n",
      "\n",
      "Trial 86:\n",
      "  Value: 0.5578266115762917\n",
      "  Params:\n",
      "    criterion: entropy\n",
      "    max_depth: 21\n",
      "    min_samples_split: 8\n",
      "    min_samples_leaf: 46\n",
      "    min_weight_fraction_leaf: 0.0018567612223915869\n",
      "    ccp_alpha: 0.0002349802344907548\n",
      "    n_estimators: 9\n",
      "\n",
      "Trial 87:\n",
      "  Value: 0.5371380018409686\n",
      "  Params:\n",
      "    criterion: gini\n",
      "    max_depth: 20\n",
      "    min_samples_split: 3\n",
      "    min_samples_leaf: 46\n",
      "    min_weight_fraction_leaf: 0.0020026763910683657\n",
      "    ccp_alpha: 0.0013973248008168698\n",
      "    n_estimators: 10\n",
      "\n",
      "Trial 88:\n",
      "  Value: 0.5490323983474668\n",
      "  Params:\n",
      "    criterion: entropy\n",
      "    max_depth: 20\n",
      "    min_samples_split: 6\n",
      "    min_samples_leaf: 48\n",
      "    min_weight_fraction_leaf: 0.0002742982344364148\n",
      "    ccp_alpha: 0.000569376407378806\n",
      "    n_estimators: 11\n",
      "\n",
      "Trial 89:\n",
      "  Value: 0.5389631213254944\n",
      "  Params:\n",
      "    criterion: entropy\n",
      "    max_depth: 21\n",
      "    min_samples_split: 9\n",
      "    min_samples_leaf: 39\n",
      "    min_weight_fraction_leaf: 0.011003842015701848\n",
      "    ccp_alpha: 0.0016537240750106605\n",
      "    n_estimators: 11\n",
      "\n",
      "Trial 90:\n",
      "  Value: 0.5328972817104477\n",
      "  Params:\n",
      "    criterion: entropy\n",
      "    max_depth: 18\n",
      "    min_samples_split: 10\n",
      "    min_samples_leaf: 42\n",
      "    min_weight_fraction_leaf: 0.04489824765247588\n",
      "    ccp_alpha: 0.0026883626670855696\n",
      "    n_estimators: 12\n",
      "\n",
      "Trial 91:\n",
      "  Value: 0.5542062911485004\n",
      "  Params:\n",
      "    criterion: entropy\n",
      "    max_depth: 21\n",
      "    min_samples_split: 8\n",
      "    min_samples_leaf: 45\n",
      "    min_weight_fraction_leaf: 0.005714014803723968\n",
      "    ccp_alpha: 0.00023569421445027725\n",
      "    n_estimators: 9\n",
      "\n",
      "Trial 92:\n",
      "  Value: 0.5540866262508217\n",
      "  Params:\n",
      "    criterion: entropy\n",
      "    max_depth: 21\n",
      "    min_samples_split: 5\n",
      "    min_samples_leaf: 47\n",
      "    min_weight_fraction_leaf: 0.005332609495886296\n",
      "    ccp_alpha: 0.00026339348553965227\n",
      "    n_estimators: 8\n",
      "\n",
      "Trial 93:\n",
      "  Value: 0.5446918360761537\n",
      "  Params:\n",
      "    criterion: entropy\n",
      "    max_depth: 19\n",
      "    min_samples_split: 8\n",
      "    min_samples_leaf: 49\n",
      "    min_weight_fraction_leaf: 0.0019951915904978168\n",
      "    ccp_alpha: 0.0010268908236058783\n",
      "    n_estimators: 5\n",
      "\n",
      "Trial 94:\n",
      "  Value: 0.5459141299245296\n",
      "  Params:\n",
      "    criterion: entropy\n",
      "    max_depth: 22\n",
      "    min_samples_split: 11\n",
      "    min_samples_leaf: 3\n",
      "    min_weight_fraction_leaf: 0.014301509633616065\n",
      "    ccp_alpha: 0.000524856000526968\n",
      "    n_estimators: 11\n",
      "\n",
      "Trial 95:\n",
      "  Value: 0.5448838216192813\n",
      "  Params:\n",
      "    criterion: entropy\n",
      "    max_depth: 21\n",
      "    min_samples_split: 6\n",
      "    min_samples_leaf: 6\n",
      "    min_weight_fraction_leaf: 0.007100856230081838\n",
      "    ccp_alpha: 0.0008510166264135823\n",
      "    n_estimators: 9\n",
      "\n",
      "Trial 96:\n",
      "  Value: 0.5499089916272297\n",
      "  Params:\n",
      "    criterion: entropy\n",
      "    max_depth: 20\n",
      "    min_samples_split: 2\n",
      "    min_samples_leaf: 20\n",
      "    min_weight_fraction_leaf: 0.009710751211077236\n",
      "    ccp_alpha: 0.00025233604826305905\n",
      "    n_estimators: 14\n",
      "\n",
      "Trial 97:\n",
      "  Value: 0.5496127695160528\n",
      "  Params:\n",
      "    criterion: entropy\n",
      "    max_depth: 22\n",
      "    min_samples_split: 12\n",
      "    min_samples_leaf: 34\n",
      "    min_weight_fraction_leaf: 0.004211505044446574\n",
      "    ccp_alpha: 0.0005279812330067514\n",
      "    n_estimators: 6\n",
      "\n",
      "Trial 98:\n",
      "  Value: 0.5609452736318408\n",
      "  Params:\n",
      "    criterion: entropy\n",
      "    max_depth: 23\n",
      "    min_samples_split: 35\n",
      "    min_samples_leaf: 44\n",
      "    min_weight_fraction_leaf: 0.0016149542551349167\n",
      "    ccp_alpha: 0.00019516104786740019\n",
      "    n_estimators: 8\n",
      "\n",
      "Trial 99:\n",
      "  Value: 0.5437533608173507\n",
      "  Params:\n",
      "    criterion: entropy\n",
      "    max_depth: 23\n",
      "    min_samples_split: 39\n",
      "    min_samples_leaf: 44\n",
      "    min_weight_fraction_leaf: 0.0021167953395185676\n",
      "    ccp_alpha: 0.0011602393209604463\n",
      "    n_estimators: 8\n",
      "\n",
      "Trial 100:\n",
      "  Value: 0.52776334476428\n",
      "  Params:\n",
      "    criterion: gini\n",
      "    max_depth: 19\n",
      "    min_samples_split: 33\n",
      "    min_samples_leaf: 43\n",
      "    min_weight_fraction_leaf: 0.001015706052419222\n",
      "    ccp_alpha: 0.0039978667607828535\n",
      "    n_estimators: 13\n",
      "\n",
      "Trial 101:\n",
      "  Value: 0.5556980109161507\n",
      "  Params:\n",
      "    criterion: entropy\n",
      "    max_depth: 21\n",
      "    min_samples_split: 37\n",
      "    min_samples_leaf: 46\n",
      "    min_weight_fraction_leaf: 0.005383266735482084\n",
      "    ccp_alpha: 0.00019373628837014733\n",
      "    n_estimators: 8\n",
      "\n",
      "Trial 102:\n",
      "  Value: 0.5562632696390658\n",
      "  Params:\n",
      "    criterion: entropy\n",
      "    max_depth: 22\n",
      "    min_samples_split: 42\n",
      "    min_samples_leaf: 46\n",
      "    min_weight_fraction_leaf: 0.004100125203473796\n",
      "    ccp_alpha: 0.00023325823133566806\n",
      "    n_estimators: 8\n",
      "\n",
      "Trial 103:\n",
      "  Value: 0.5468005200057778\n",
      "  Params:\n",
      "    criterion: entropy\n",
      "    max_depth: 23\n",
      "    min_samples_split: 44\n",
      "    min_samples_leaf: 49\n",
      "    min_weight_fraction_leaf: 0.003858234475548304\n",
      "    ccp_alpha: 0.000789986939443516\n",
      "    n_estimators: 8\n",
      "\n",
      "Trial 104:\n",
      "  Value: 0.5545171339563864\n",
      "  Params:\n",
      "    criterion: entropy\n",
      "    max_depth: 22\n",
      "    min_samples_split: 39\n",
      "    min_samples_leaf: 42\n",
      "    min_weight_fraction_leaf: 0.008117604121661997\n",
      "    ccp_alpha: 1.9471280484447504e-06\n",
      "    n_estimators: 7\n",
      "\n",
      "Trial 105:\n",
      "  Value: 0.54910227520535\n",
      "  Params:\n",
      "    criterion: entropy\n",
      "    max_depth: 24\n",
      "    min_samples_split: 36\n",
      "    min_samples_leaf: 47\n",
      "    min_weight_fraction_leaf: 0.00010266908878036425\n",
      "    ccp_alpha: 0.0005463542784947673\n",
      "    n_estimators: 6\n",
      "\n",
      "Trial 106:\n",
      "  Value: 0.5510174418604651\n",
      "  Params:\n",
      "    criterion: entropy\n",
      "    max_depth: 22\n",
      "    min_samples_split: 43\n",
      "    min_samples_leaf: 45\n",
      "    min_weight_fraction_leaf: 0.004040878201802196\n",
      "    ccp_alpha: 0.00045652351699836244\n",
      "    n_estimators: 7\n",
      "\n",
      "Trial 107:\n",
      "  Value: 0.5492644106158509\n",
      "  Params:\n",
      "    criterion: entropy\n",
      "    max_depth: 23\n",
      "    min_samples_split: 36\n",
      "    min_samples_leaf: 40\n",
      "    min_weight_fraction_leaf: 0.010844289080481826\n",
      "    ccp_alpha: 0.00019542427207034637\n",
      "    n_estimators: 6\n",
      "\n",
      "Trial 108:\n",
      "  Value: 0.5277126151045132\n",
      "  Params:\n",
      "    criterion: entropy\n",
      "    max_depth: 23\n",
      "    min_samples_split: 42\n",
      "    min_samples_leaf: 48\n",
      "    min_weight_fraction_leaf: 0.0018270254850846618\n",
      "    ccp_alpha: 0.006571073751078371\n",
      "    n_estimators: 8\n",
      "\n",
      "Trial 109:\n",
      "  Value: 0.5427506629398695\n",
      "  Params:\n",
      "    criterion: entropy\n",
      "    max_depth: 22\n",
      "    min_samples_split: 46\n",
      "    min_samples_leaf: 44\n",
      "    min_weight_fraction_leaf: 0.018072675316879172\n",
      "    ccp_alpha: 0.00090533166660193\n",
      "    n_estimators: 10\n",
      "\n",
      "Trial 110:\n",
      "  Value: 0.5469967738427521\n",
      "  Params:\n",
      "    criterion: entropy\n",
      "    max_depth: 25\n",
      "    min_samples_split: 35\n",
      "    min_samples_leaf: 29\n",
      "    min_weight_fraction_leaf: 0.008957577421727234\n",
      "    ccp_alpha: 0.0006592570059565326\n",
      "    n_estimators: 4\n",
      "\n",
      "Trial 111:\n",
      "  Value: 0.5523009495982469\n",
      "  Params:\n",
      "    criterion: entropy\n",
      "    max_depth: 22\n",
      "    min_samples_split: 40\n",
      "    min_samples_leaf: 41\n",
      "    min_weight_fraction_leaf: 0.007345845854803768\n",
      "    ccp_alpha: 0.00024650466327487126\n",
      "    n_estimators: 7\n",
      "\n",
      "Trial 112:\n",
      "  Value: 0.5590171773273992\n",
      "  Params:\n",
      "    criterion: entropy\n",
      "    max_depth: 21\n",
      "    min_samples_split: 37\n",
      "    min_samples_leaf: 42\n",
      "    min_weight_fraction_leaf: 0.004170862172038783\n",
      "    ccp_alpha: 9.964931089758138e-05\n",
      "    n_estimators: 8\n",
      "\n",
      "Trial 113:\n",
      "  Value: 0.5523088679451257\n",
      "  Params:\n",
      "    criterion: entropy\n",
      "    max_depth: 21\n",
      "    min_samples_split: 37\n",
      "    min_samples_leaf: 45\n",
      "    min_weight_fraction_leaf: 0.003343651587907022\n",
      "    ccp_alpha: 0.0004164873522062384\n",
      "    n_estimators: 9\n",
      "\n",
      "Trial 114:\n",
      "  Value: 0.5562811857939535\n",
      "  Params:\n",
      "    criterion: entropy\n",
      "    max_depth: 21\n",
      "    min_samples_split: 30\n",
      "    min_samples_leaf: 43\n",
      "    min_weight_fraction_leaf: 0.005394036841388857\n",
      "    ccp_alpha: 0.00014789085830064862\n",
      "    n_estimators: 8\n",
      "\n",
      "Trial 115:\n",
      "  Value: 0.56459828233632\n",
      "  Params:\n",
      "    criterion: entropy\n",
      "    max_depth: 20\n",
      "    min_samples_split: 30\n",
      "    min_samples_leaf: 39\n",
      "    min_weight_fraction_leaf: 0.0021013168719253164\n",
      "    ccp_alpha: 2.104608911458511e-05\n",
      "    n_estimators: 8\n",
      "\n",
      "Trial 116:\n",
      "  Value: 0.5613351468588023\n",
      "  Params:\n",
      "    criterion: entropy\n",
      "    max_depth: 20\n",
      "    min_samples_split: 29\n",
      "    min_samples_leaf: 40\n",
      "    min_weight_fraction_leaf: 0.002386347262146543\n",
      "    ccp_alpha: 0.00013262115204299026\n",
      "    n_estimators: 8\n",
      "\n",
      "Trial 117:\n",
      "  Value: 0.5489795918367347\n",
      "  Params:\n",
      "    criterion: entropy\n",
      "    max_depth: 20\n",
      "    min_samples_split: 30\n",
      "    min_samples_leaf: 40\n",
      "    min_weight_fraction_leaf: 0.013462538879768745\n",
      "    ccp_alpha: 7.86373874477366e-06\n",
      "    n_estimators: 8\n",
      "\n",
      "Trial 118:\n",
      "  Value: 0.5454087325870199\n",
      "  Params:\n",
      "    criterion: entropy\n",
      "    max_depth: 20\n",
      "    min_samples_split: 32\n",
      "    min_samples_leaf: 37\n",
      "    min_weight_fraction_leaf: 0.011973445066845247\n",
      "    ccp_alpha: 0.000657753729355865\n",
      "    n_estimators: 8\n",
      "\n",
      "Trial 119:\n",
      "  Value: 0.5449971247843588\n",
      "  Params:\n",
      "    criterion: entropy\n",
      "    max_depth: 20\n",
      "    min_samples_split: 34\n",
      "    min_samples_leaf: 39\n",
      "    min_weight_fraction_leaf: 0.003820705609709255\n",
      "    ccp_alpha: 0.0009616305979228044\n",
      "    n_estimators: 9\n",
      "\n",
      "Trial 120:\n",
      "  Value: 0.5549937715248773\n",
      "  Params:\n",
      "    criterion: gini\n",
      "    max_depth: 20\n",
      "    min_samples_split: 28\n",
      "    min_samples_leaf: 42\n",
      "    min_weight_fraction_leaf: 0.007863949649068024\n",
      "    ccp_alpha: 4.301492361645591e-06\n",
      "    n_estimators: 7\n",
      "\n",
      "Trial 121:\n",
      "  Value: 0.5497950150564163\n",
      "  Params:\n",
      "    criterion: entropy\n",
      "    max_depth: 19\n",
      "    min_samples_split: 25\n",
      "    min_samples_leaf: 47\n",
      "    min_weight_fraction_leaf: 0.001896006067729486\n",
      "    ccp_alpha: 0.0004738146220652681\n",
      "    n_estimators: 8\n",
      "\n",
      "Trial 122:\n",
      "  Value: 0.5547290116896918\n",
      "  Params:\n",
      "    criterion: entropy\n",
      "    max_depth: 19\n",
      "    min_samples_split: 30\n",
      "    min_samples_leaf: 35\n",
      "    min_weight_fraction_leaf: 0.005996077159569924\n",
      "    ccp_alpha: 0.00014467563428044935\n",
      "    n_estimators: 9\n",
      "\n",
      "Trial 123:\n",
      "  Value: 0.5515191066637662\n",
      "  Params:\n",
      "    criterion: entropy\n",
      "    max_depth: 21\n",
      "    min_samples_split: 28\n",
      "    min_samples_leaf: 38\n",
      "    min_weight_fraction_leaf: 0.002904751315814167\n",
      "    ccp_alpha: 0.0004210988891764924\n",
      "    n_estimators: 9\n",
      "\n",
      "Trial 124:\n",
      "  Value: 0.5469213515664568\n",
      "  Params:\n",
      "    criterion: entropy\n",
      "    max_depth: 20\n",
      "    min_samples_split: 27\n",
      "    min_samples_leaf: 31\n",
      "    min_weight_fraction_leaf: 0.00478643201125516\n",
      "    ccp_alpha: 0.0006777053911014634\n",
      "    n_estimators: 7\n",
      "\n",
      "Trial 125:\n",
      "  Value: 0.5618002195389681\n",
      "  Params:\n",
      "    criterion: entropy\n",
      "    max_depth: 22\n",
      "    min_samples_split: 23\n",
      "    min_samples_leaf: 41\n",
      "    min_weight_fraction_leaf: 3.1774195951173295e-05\n",
      "    ccp_alpha: 0.00018419869324161881\n",
      "    n_estimators: 8\n",
      "\n",
      "Trial 126:\n",
      "  Value: 0.5522611779329506\n",
      "  Params:\n",
      "    criterion: entropy\n",
      "    max_depth: 22\n",
      "    min_samples_split: 23\n",
      "    min_samples_leaf: 43\n",
      "    min_weight_fraction_leaf: 0.00941072256943885\n",
      "    ccp_alpha: 0.00014935094751718784\n",
      "    n_estimators: 8\n",
      "\n",
      "Trial 127:\n",
      "  Value: 0.5413533834586466\n",
      "  Params:\n",
      "    criterion: entropy\n",
      "    max_depth: 23\n",
      "    min_samples_split: 32\n",
      "    min_samples_leaf: 41\n",
      "    min_weight_fraction_leaf: 0.006901965757707506\n",
      "    ccp_alpha: 0.0012954173797413192\n",
      "    n_estimators: 6\n",
      "\n",
      "Trial 128:\n",
      "  Value: 0.5246063687071948\n",
      "  Params:\n",
      "    criterion: entropy\n",
      "    max_depth: 22\n",
      "    min_samples_split: 26\n",
      "    min_samples_leaf: 49\n",
      "    min_weight_fraction_leaf: 7.291305462749087e-05\n",
      "    ccp_alpha: 0.008015760437992653\n",
      "    n_estimators: 8\n",
      "\n",
      "Trial 129:\n",
      "  Value: 0.5323965651834504\n",
      "  Params:\n",
      "    criterion: entropy\n",
      "    max_depth: 21\n",
      "    min_samples_split: 23\n",
      "    min_samples_leaf: 46\n",
      "    min_weight_fraction_leaf: 0.07262603083054354\n",
      "    ccp_alpha: 0.0007517509694214976\n",
      "    n_estimators: 7\n",
      "\n",
      "Trial 130:\n",
      "  Value: 0.5499344882806813\n",
      "  Params:\n",
      "    criterion: entropy\n",
      "    max_depth: 21\n",
      "    min_samples_split: 21\n",
      "    min_samples_leaf: 40\n",
      "    min_weight_fraction_leaf: 0.005032119805868332\n",
      "    ccp_alpha: 0.0004456374017526438\n",
      "    n_estimators: 7\n",
      "\n",
      "Trial 131:\n",
      "  Value: 0.5586383601756955\n",
      "  Params:\n",
      "    criterion: entropy\n",
      "    max_depth: 20\n",
      "    min_samples_split: 38\n",
      "    min_samples_leaf: 44\n",
      "    min_weight_fraction_leaf: 0.0020129357337373855\n",
      "    ccp_alpha: 0.00022028149776463123\n",
      "    n_estimators: 9\n",
      "\n",
      "Trial 132:\n",
      "  Value: 0.5596538828188018\n",
      "  Params:\n",
      "    criterion: entropy\n",
      "    max_depth: 22\n",
      "    min_samples_split: 37\n",
      "    min_samples_leaf: 44\n",
      "    min_weight_fraction_leaf: 0.0020657704501976\n",
      "    ccp_alpha: 0.00017641462783449024\n",
      "    n_estimators: 9\n",
      "\n",
      "Trial 133:\n",
      "  Value: 0.528483422163771\n",
      "  Params:\n",
      "    criterion: entropy\n",
      "    max_depth: 22\n",
      "    min_samples_split: 38\n",
      "    min_samples_leaf: 44\n",
      "    min_weight_fraction_leaf: 0.0023546274211061822\n",
      "    ccp_alpha: 0.005323460248613226\n",
      "    n_estimators: 9\n",
      "\n",
      "Trial 134:\n",
      "  Value: 0.5401176977178126\n",
      "  Params:\n",
      "    criterion: entropy\n",
      "    max_depth: 22\n",
      "    min_samples_split: 30\n",
      "    min_samples_leaf: 42\n",
      "    min_weight_fraction_leaf: 0.033462621353764356\n",
      "    ccp_alpha: 0.00017779867327997909\n",
      "    n_estimators: 10\n",
      "\n",
      "Trial 135:\n",
      "  Value: 0.5650264274547755\n",
      "  Params:\n",
      "    criterion: entropy\n",
      "    max_depth: 24\n",
      "    min_samples_split: 35\n",
      "    min_samples_leaf: 43\n",
      "    min_weight_fraction_leaf: 0.0020656687577283233\n",
      "    ccp_alpha: 6.856674945104245e-06\n",
      "    n_estimators: 9\n",
      "\n",
      "Trial 136:\n",
      "  Value: 0.575907465185298\n",
      "  Params:\n",
      "    criterion: entropy\n",
      "    max_depth: 25\n",
      "    min_samples_split: 34\n",
      "    min_samples_leaf: 39\n",
      "    min_weight_fraction_leaf: 0.0006226011950996436\n",
      "    ccp_alpha: 1.08321342655768e-06\n",
      "    n_estimators: 9\n",
      "\n",
      "Trial 137:\n",
      "  Value: 0.581103480937722\n",
      "  Params:\n",
      "    criterion: entropy\n",
      "    max_depth: 25\n",
      "    min_samples_split: 35\n",
      "    min_samples_leaf: 38\n",
      "    min_weight_fraction_leaf: 4.046953591801657e-05\n",
      "    ccp_alpha: 5.57416789723443e-07\n",
      "    n_estimators: 9\n",
      "\n",
      "Trial 138:\n",
      "  Value: 0.5502484314365503\n",
      "  Params:\n",
      "    criterion: entropy\n",
      "    max_depth: 25\n",
      "    min_samples_split: 34\n",
      "    min_samples_leaf: 38\n",
      "    min_weight_fraction_leaf: 0.0010419121157222782\n",
      "    ccp_alpha: 0.0004995139778958166\n",
      "    n_estimators: 10\n",
      "\n",
      "Trial 139:\n",
      "  Value: 0.5804441288999329\n",
      "  Params:\n",
      "    criterion: entropy\n",
      "    max_depth: 24\n",
      "    min_samples_split: 33\n",
      "    min_samples_leaf: 37\n",
      "    min_weight_fraction_leaf: 0.0002279267710293153\n",
      "    ccp_alpha: 2.0270341490224506e-05\n",
      "    n_estimators: 9\n",
      "\n",
      "Trial 140:\n",
      "  Value: 0.5803811528118789\n",
      "  Params:\n",
      "    criterion: entropy\n",
      "    max_depth: 24\n",
      "    min_samples_split: 35\n",
      "    min_samples_leaf: 36\n",
      "    min_weight_fraction_leaf: 0.0003154325518434954\n",
      "    ccp_alpha: 1.4310850679095859e-05\n",
      "    n_estimators: 5\n",
      "\n",
      "Trial 141:\n",
      "  Value: 0.5781574694066035\n",
      "  Params:\n",
      "    criterion: entropy\n",
      "    max_depth: 24\n",
      "    min_samples_split: 35\n",
      "    min_samples_leaf: 36\n",
      "    min_weight_fraction_leaf: 0.00035186194043730526\n",
      "    ccp_alpha: 3.830129488532998e-05\n",
      "    n_estimators: 5\n",
      "\n",
      "Trial 142:\n",
      "  Value: 0.5815395552746949\n",
      "  Params:\n",
      "    criterion: entropy\n",
      "    max_depth: 24\n",
      "    min_samples_split: 34\n",
      "    min_samples_leaf: 36\n",
      "    min_weight_fraction_leaf: 0.00018775656434644747\n",
      "    ccp_alpha: 2.0533349194068356e-05\n",
      "    n_estimators: 5\n",
      "\n",
      "Trial 143:\n",
      "  Value: 0.5814744502452144\n",
      "  Params:\n",
      "    criterion: entropy\n",
      "    max_depth: 24\n",
      "    min_samples_split: 34\n",
      "    min_samples_leaf: 36\n",
      "    min_weight_fraction_leaf: 0.0001467316778508907\n",
      "    ccp_alpha: 9.568636660338314e-06\n",
      "    n_estimators: 5\n",
      "\n",
      "Trial 144:\n",
      "  Value: 0.5789148722698155\n",
      "  Params:\n",
      "    criterion: entropy\n",
      "    max_depth: 24\n",
      "    min_samples_split: 33\n",
      "    min_samples_leaf: 36\n",
      "    min_weight_fraction_leaf: 9.121803275907985e-08\n",
      "    ccp_alpha: 5.089836748522911e-05\n",
      "    n_estimators: 5\n",
      "\n",
      "Trial 145:\n",
      "  Value: 0.5514938105782845\n",
      "  Params:\n",
      "    criterion: entropy\n",
      "    max_depth: 24\n",
      "    min_samples_split: 33\n",
      "    min_samples_leaf: 36\n",
      "    min_weight_fraction_leaf: 2.7337297960109384e-05\n",
      "    ccp_alpha: 0.00042360185039469673\n",
      "    n_estimators: 5\n",
      "\n",
      "Trial 146:\n",
      "  Value: 0.5781365206255579\n",
      "  Params:\n",
      "    criterion: entropy\n",
      "    max_depth: 25\n",
      "    min_samples_split: 34\n",
      "    min_samples_leaf: 35\n",
      "    min_weight_fraction_leaf: 2.643876247773692e-05\n",
      "    ccp_alpha: 4.943374318599252e-05\n",
      "    n_estimators: 4\n",
      "\n",
      "Trial 147:\n",
      "  Value: 0.5810966638832558\n",
      "  Params:\n",
      "    criterion: entropy\n",
      "    max_depth: 25\n",
      "    min_samples_split: 34\n",
      "    min_samples_leaf: 35\n",
      "    min_weight_fraction_leaf: 0.00011776537634736672\n",
      "    ccp_alpha: 2.249761711462102e-06\n",
      "    n_estimators: 4\n",
      "\n",
      "Trial 148:\n",
      "  Value: 0.5803670305331436\n",
      "  Params:\n",
      "    criterion: gini\n",
      "    max_depth: 25\n",
      "    min_samples_split: 34\n",
      "    min_samples_leaf: 35\n",
      "    min_weight_fraction_leaf: 8.721309448865517e-05\n",
      "    ccp_alpha: 2.705011765786519e-06\n",
      "    n_estimators: 4\n",
      "\n",
      "Trial 149:\n",
      "  Value: 0.5451267443118307\n",
      "  Params:\n",
      "    criterion: gini\n",
      "    max_depth: 25\n",
      "    min_samples_split: 34\n",
      "    min_samples_leaf: 34\n",
      "    min_weight_fraction_leaf: 0.00021512828236072793\n",
      "    ccp_alpha: 0.0005912023849184607\n",
      "    n_estimators: 4\n",
      "\n",
      "Trial 150:\n",
      "  Value: 0.5809945450233219\n",
      "  Params:\n",
      "    criterion: entropy\n",
      "    max_depth: 26\n",
      "    min_samples_split: 32\n",
      "    min_samples_leaf: 36\n",
      "    min_weight_fraction_leaf: 5.684702380981269e-05\n",
      "    ccp_alpha: 1.2161101343153437e-05\n",
      "    n_estimators: 3\n",
      "\n",
      "Trial 151:\n",
      "  Value: 0.5487393433702159\n",
      "  Params:\n",
      "    criterion: gini\n",
      "    max_depth: 26\n",
      "    min_samples_split: 32\n",
      "    min_samples_leaf: 35\n",
      "    min_weight_fraction_leaf: 0.003752522903797499\n",
      "    ccp_alpha: 0.00037533485889155625\n",
      "    n_estimators: 3\n",
      "\n",
      "Trial 152:\n",
      "  Value: 0.5732512758931252\n",
      "  Params:\n",
      "    criterion: gini\n",
      "    max_depth: 24\n",
      "    min_samples_split: 35\n",
      "    min_samples_leaf: 36\n",
      "    min_weight_fraction_leaf: 0.0005031799742532535\n",
      "    ccp_alpha: 4.3765540496608914e-05\n",
      "    n_estimators: 3\n",
      "\n",
      "Trial 153:\n",
      "  Value: 0.5785959783510449\n",
      "  Params:\n",
      "    criterion: gini\n",
      "    max_depth: 24\n",
      "    min_samples_split: 35\n",
      "    min_samples_leaf: 36\n",
      "    min_weight_fraction_leaf: 0.00021057081753212775\n",
      "    ccp_alpha: 1.8305826142624791e-06\n",
      "    n_estimators: 3\n",
      "\n",
      "Trial 154:\n",
      "  Value: 0.5473830004373815\n",
      "  Params:\n",
      "    criterion: gini\n",
      "    max_depth: 25\n",
      "    min_samples_split: 33\n",
      "    min_samples_leaf: 37\n",
      "    min_weight_fraction_leaf: 0.006639204445284139\n",
      "    ccp_alpha: 0.00038355806129410216\n",
      "    n_estimators: 2\n",
      "\n",
      "Trial 155:\n",
      "  Value: 0.5461648745519713\n",
      "  Params:\n",
      "    criterion: gini\n",
      "    max_depth: 24\n",
      "    min_samples_split: 36\n",
      "    min_samples_leaf: 36\n",
      "    min_weight_fraction_leaf: 1.7725574706502776e-05\n",
      "    ccp_alpha: 0.0006084462498538152\n",
      "    n_estimators: 3\n",
      "\n",
      "Trial 156:\n",
      "  Value: 0.579679228885202\n",
      "  Params:\n",
      "    criterion: gini\n",
      "    max_depth: 25\n",
      "    min_samples_split: 34\n",
      "    min_samples_leaf: 34\n",
      "    min_weight_fraction_leaf: 0.00019796530769497565\n",
      "    ccp_alpha: 1.3346359373492174e-05\n",
      "    n_estimators: 4\n",
      "\n",
      "Trial 157:\n",
      "  Value: 0.579793521948144\n",
      "  Params:\n",
      "    criterion: gini\n",
      "    max_depth: 25\n",
      "    min_samples_split: 34\n",
      "    min_samples_leaf: 34\n",
      "    min_weight_fraction_leaf: 0.00015947128557244767\n",
      "    ccp_alpha: 1.420232609241227e-05\n",
      "    n_estimators: 4\n",
      "\n",
      "Trial 158:\n",
      "  Value: 0.5481894958135488\n",
      "  Params:\n",
      "    criterion: gini\n",
      "    max_depth: 26\n",
      "    min_samples_split: 34\n",
      "    min_samples_leaf: 34\n",
      "    min_weight_fraction_leaf: 0.003935618181725833\n",
      "    ccp_alpha: 0.00039114466981061795\n",
      "    n_estimators: 4\n",
      "\n",
      "Trial 159:\n",
      "  Value: 0.5283320586803866\n",
      "  Params:\n",
      "    criterion: gini\n",
      "    max_depth: 25\n",
      "    min_samples_split: 32\n",
      "    min_samples_leaf: 32\n",
      "    min_weight_fraction_leaf: 0.00014907526402009466\n",
      "    ccp_alpha: 0.0032913594814592425\n",
      "    n_estimators: 5\n",
      "\n",
      "Trial 160:\n",
      "  Value: 0.560818044224593\n",
      "  Params:\n",
      "    criterion: gini\n",
      "    max_depth: 25\n",
      "    min_samples_split: 31\n",
      "    min_samples_leaf: 35\n",
      "    min_weight_fraction_leaf: 0.003461223060983876\n",
      "    ccp_alpha: 5.251730466960514e-06\n",
      "    n_estimators: 4\n",
      "\n",
      "Trial 161:\n",
      "  Value: 0.5485121960059439\n",
      "  Params:\n",
      "    criterion: gini\n",
      "    max_depth: 24\n",
      "    min_samples_split: 35\n",
      "    min_samples_leaf: 33\n",
      "    min_weight_fraction_leaf: 0.0017287366237052372\n",
      "    ccp_alpha: 0.0003939003468883583\n",
      "    n_estimators: 3\n",
      "\n",
      "Trial 162:\n",
      "  Value: 0.5519721072129005\n",
      "  Params:\n",
      "    criterion: gini\n",
      "    max_depth: 24\n",
      "    min_samples_split: 34\n",
      "    min_samples_leaf: 37\n",
      "    min_weight_fraction_leaf: 8.570583750704629e-05\n",
      "    ccp_alpha: 0.0003034850927994539\n",
      "    n_estimators: 5\n",
      "\n",
      "Trial 163:\n",
      "  Value: 0.5583928177202149\n",
      "  Params:\n",
      "    criterion: gini\n",
      "    max_depth: 26\n",
      "    min_samples_split: 36\n",
      "    min_samples_leaf: 36\n",
      "    min_weight_fraction_leaf: 0.004933996780732274\n",
      "    ccp_alpha: 8.206898020698638e-07\n",
      "    n_estimators: 4\n",
      "\n",
      "Trial 164:\n",
      "  Value: 0.5421250671922594\n",
      "  Params:\n",
      "    criterion: gini\n",
      "    max_depth: 25\n",
      "    min_samples_split: 33\n",
      "    min_samples_leaf: 34\n",
      "    min_weight_fraction_leaf: 6.395424023264232e-05\n",
      "    ccp_alpha: 0.0008140936575372358\n",
      "    n_estimators: 3\n",
      "\n",
      "Trial 165:\n",
      "  Value: 0.5622481050101683\n",
      "  Params:\n",
      "    criterion: gini\n",
      "    max_depth: 25\n",
      "    min_samples_split: 35\n",
      "    min_samples_leaf: 33\n",
      "    min_weight_fraction_leaf: 0.003238385857493975\n",
      "    ccp_alpha: 1.811781473250982e-06\n",
      "    n_estimators: 3\n",
      "\n",
      "Trial 166:\n",
      "  Value: 0.5467272858483077\n",
      "  Params:\n",
      "    criterion: gini\n",
      "    max_depth: 24\n",
      "    min_samples_split: 33\n",
      "    min_samples_leaf: 37\n",
      "    min_weight_fraction_leaf: 0.005875835173722432\n",
      "    ccp_alpha: 0.0005724540529817274\n",
      "    n_estimators: 5\n",
      "\n",
      "Trial 167:\n",
      "  Value: 0.5510560815731973\n",
      "  Params:\n",
      "    criterion: gini\n",
      "    max_depth: 24\n",
      "    min_samples_split: 31\n",
      "    min_samples_leaf: 35\n",
      "    min_weight_fraction_leaf: 0.0021182218018395834\n",
      "    ccp_alpha: 0.0003393833486307228\n",
      "    n_estimators: 2\n",
      "\n",
      "Trial 168:\n",
      "  Value: 0.5494138569302799\n",
      "  Params:\n",
      "    criterion: gini\n",
      "    max_depth: 26\n",
      "    min_samples_split: 36\n",
      "    min_samples_leaf: 36\n",
      "    min_weight_fraction_leaf: 0.004206055646862965\n",
      "    ccp_alpha: 0.00030041517740055074\n",
      "    n_estimators: 4\n",
      "\n",
      "Trial 169:\n",
      "  Value: 0.5444669756662804\n",
      "  Params:\n",
      "    criterion: gini\n",
      "    max_depth: 25\n",
      "    min_samples_split: 35\n",
      "    min_samples_leaf: 38\n",
      "    min_weight_fraction_leaf: 0.007042717220875723\n",
      "    ccp_alpha: 0.0005780467536780586\n",
      "    n_estimators: 4\n",
      "\n",
      "Trial 170:\n",
      "  Value: 0.5343435421335325\n",
      "  Params:\n",
      "    criterion: gini\n",
      "    max_depth: 25\n",
      "    min_samples_split: 32\n",
      "    min_samples_leaf: 38\n",
      "    min_weight_fraction_leaf: 0.05853953942432668\n",
      "    ccp_alpha: 1.1428398157509173e-05\n",
      "    n_estimators: 5\n",
      "\n",
      "Trial 171:\n",
      "  Value: 0.5545746388443017\n",
      "  Params:\n",
      "    criterion: gini\n",
      "    max_depth: 24\n",
      "    min_samples_split: 34\n",
      "    min_samples_leaf: 35\n",
      "    min_weight_fraction_leaf: 6.590118709697592e-05\n",
      "    ccp_alpha: 0.00022965287473831678\n",
      "    n_estimators: 4\n",
      "\n",
      "Trial 172:\n",
      "  Value: 0.5489897341023687\n",
      "  Params:\n",
      "    criterion: gini\n",
      "    max_depth: 25\n",
      "    min_samples_split: 33\n",
      "    min_samples_leaf: 37\n",
      "    min_weight_fraction_leaf: 0.002150812727149229\n",
      "    ccp_alpha: 0.0003509826659809607\n",
      "    n_estimators: 5\n",
      "\n",
      "Trial 173:\n",
      "  Value: 0.5604217356042174\n",
      "  Params:\n",
      "    criterion: gini\n",
      "    max_depth: 25\n",
      "    min_samples_split: 35\n",
      "    min_samples_leaf: 34\n",
      "    min_weight_fraction_leaf: 0.0037993686257835964\n",
      "    ccp_alpha: 2.1993567030316904e-05\n",
      "    n_estimators: 3\n",
      "\n",
      "Trial 174:\n",
      "  Value: 0.5561278538812785\n",
      "  Params:\n",
      "    criterion: gini\n",
      "    max_depth: 26\n",
      "    min_samples_split: 36\n",
      "    min_samples_leaf: 36\n",
      "    min_weight_fraction_leaf: 0.0017381230129403535\n",
      "    ccp_alpha: 0.00020170056654052952\n",
      "    n_estimators: 6\n",
      "\n",
      "Trial 175:\n",
      "  Value: 0.545356293681101\n",
      "  Params:\n",
      "    criterion: gini\n",
      "    max_depth: 24\n",
      "    min_samples_split: 34\n",
      "    min_samples_leaf: 33\n",
      "    min_weight_fraction_leaf: 0.005227890112290532\n",
      "    ccp_alpha: 0.0004916013003195102\n",
      "    n_estimators: 5\n",
      "\n",
      "Trial 176:\n",
      "  Value: 0.5662273844092025\n",
      "  Params:\n",
      "    criterion: gini\n",
      "    max_depth: 24\n",
      "    min_samples_split: 37\n",
      "    min_samples_leaf: 35\n",
      "    min_weight_fraction_leaf: 0.001710355182455386\n",
      "    ccp_alpha: 7.630865957513073e-06\n",
      "    n_estimators: 4\n",
      "\n",
      "Trial 177:\n",
      "  Value: 0.5554380719728735\n",
      "  Params:\n",
      "    criterion: gini\n",
      "    max_depth: 24\n",
      "    min_samples_split: 37\n",
      "    min_samples_leaf: 36\n",
      "    min_weight_fraction_leaf: 0.001850977756719902\n",
      "    ccp_alpha: 0.00019574960071770762\n",
      "    n_estimators: 4\n",
      "\n",
      "Trial 178:\n",
      "  Value: 0.5429235999284309\n",
      "  Params:\n",
      "    criterion: gini\n",
      "    max_depth: 24\n",
      "    min_samples_split: 33\n",
      "    min_samples_leaf: 31\n",
      "    min_weight_fraction_leaf: 0.0032007674105556136\n",
      "    ccp_alpha: 0.0007785030291318131\n",
      "    n_estimators: 3\n",
      "\n",
      "Trial 179:\n",
      "  Value: 0.5504248779605858\n",
      "  Params:\n",
      "    criterion: gini\n",
      "    max_depth: 24\n",
      "    min_samples_split: 39\n",
      "    min_samples_leaf: 39\n",
      "    min_weight_fraction_leaf: 1.9994721694492157e-06\n",
      "    ccp_alpha: 0.00033648315641766473\n",
      "    n_estimators: 2\n",
      "\n",
      "Trial 180:\n",
      "  Value: 0.5457826542029091\n",
      "  Params:\n",
      "    criterion: gini\n",
      "    max_depth: 25\n",
      "    min_samples_split: 38\n",
      "    min_samples_leaf: 32\n",
      "    min_weight_fraction_leaf: 0.007243358670837398\n",
      "    ccp_alpha: 0.0005826500302229271\n",
      "    n_estimators: 4\n",
      "\n",
      "Trial 181:\n",
      "  Value: 0.5645965042766827\n",
      "  Params:\n",
      "    criterion: gini\n",
      "    max_depth: 25\n",
      "    min_samples_split: 35\n",
      "    min_samples_leaf: 35\n",
      "    min_weight_fraction_leaf: 0.001960096717339079\n",
      "    ccp_alpha: 1.2180261675238874e-05\n",
      "    n_estimators: 5\n",
      "\n",
      "Trial 182:\n",
      "  Value: 0.5315216234434313\n",
      "  Params:\n",
      "    criterion: gini\n",
      "    max_depth: 26\n",
      "    min_samples_split: 31\n",
      "    min_samples_leaf: 37\n",
      "    min_weight_fraction_leaf: 0.08290889192120726\n",
      "    ccp_alpha: 0.0001741898358989659\n",
      "    n_estimators: 5\n",
      "\n",
      "Trial 183:\n",
      "  Value: 0.580624677540977\n",
      "  Params:\n",
      "    criterion: entropy\n",
      "    max_depth: 24\n",
      "    min_samples_split: 34\n",
      "    min_samples_leaf: 34\n",
      "    min_weight_fraction_leaf: 7.125729531541353e-05\n",
      "    ccp_alpha: 1.5407972215045377e-05\n",
      "    n_estimators: 3\n",
      "\n",
      "Trial 184:\n",
      "  Value: 0.5629190020881416\n",
      "  Params:\n",
      "    criterion: entropy\n",
      "    max_depth: 24\n",
      "    min_samples_split: 34\n",
      "    min_samples_leaf: 35\n",
      "    min_weight_fraction_leaf: 3.87566296971187e-05\n",
      "    ccp_alpha: 0.0001783631777058204\n",
      "    n_estimators: 3\n",
      "\n",
      "Trial 185:\n",
      "  Value: 0.5612774155305276\n",
      "  Params:\n",
      "    criterion: entropy\n",
      "    max_depth: 25\n",
      "    min_samples_split: 36\n",
      "    min_samples_leaf: 34\n",
      "    min_weight_fraction_leaf: 0.0036472308984507366\n",
      "    ccp_alpha: 1.2665229882278603e-05\n",
      "    n_estimators: 4\n",
      "\n",
      "Trial 186:\n",
      "  Value: 0.5496842563693112\n",
      "  Params:\n",
      "    criterion: gini\n",
      "    max_depth: 24\n",
      "    min_samples_split: 32\n",
      "    min_samples_leaf: 38\n",
      "    min_weight_fraction_leaf: 0.0019130216183467809\n",
      "    ccp_alpha: 0.0003728607497452246\n",
      "    n_estimators: 3\n",
      "\n",
      "Trial 187:\n",
      "  Value: 0.5580092165898617\n",
      "  Params:\n",
      "    criterion: entropy\n",
      "    max_depth: 27\n",
      "    min_samples_split: 34\n",
      "    min_samples_leaf: 36\n",
      "    min_weight_fraction_leaf: 0.0050959740667447665\n",
      "    ccp_alpha: 1.2251343537796494e-05\n",
      "    n_estimators: 4\n",
      "\n",
      "Trial 188:\n",
      "  Value: 0.5550089282460552\n",
      "  Params:\n",
      "    criterion: entropy\n",
      "    max_depth: 23\n",
      "    min_samples_split: 35\n",
      "    min_samples_leaf: 34\n",
      "    min_weight_fraction_leaf: 7.259725950214027e-05\n",
      "    ccp_alpha: 0.0003091618610979083\n",
      "    n_estimators: 2\n",
      "\n",
      "Trial 189:\n",
      "  Value: 0.5492947506180021\n",
      "  Params:\n",
      "    criterion: entropy\n",
      "    max_depth: 24\n",
      "    min_samples_split: 33\n",
      "    min_samples_leaf: 37\n",
      "    min_weight_fraction_leaf: 0.0033379770991288065\n",
      "    ccp_alpha: 0.0005085929509803375\n",
      "    n_estimators: 4\n",
      "\n",
      "Trial 190:\n",
      "  Value: 0.55440243499945\n",
      "  Params:\n",
      "    criterion: gini\n",
      "    max_depth: 25\n",
      "    min_samples_split: 37\n",
      "    min_samples_leaf: 33\n",
      "    min_weight_fraction_leaf: 0.002305521208867991\n",
      "    ccp_alpha: 0.0002037228855799913\n",
      "    n_estimators: 3\n",
      "\n",
      "Trial 191:\n",
      "  Value: 0.5599472024638851\n",
      "  Params:\n",
      "    criterion: entropy\n",
      "    max_depth: 26\n",
      "    min_samples_split: 36\n",
      "    min_samples_leaf: 36\n",
      "    min_weight_fraction_leaf: 0.0018960325357668514\n",
      "    ccp_alpha: 0.0001778587225960543\n",
      "    n_estimators: 5\n",
      "\n",
      "Trial 192:\n",
      "  Value: 0.5813352419579307\n",
      "  Params:\n",
      "    criterion: entropy\n",
      "    max_depth: 25\n",
      "    min_samples_split: 34\n",
      "    min_samples_leaf: 35\n",
      "    min_weight_fraction_leaf: 0.00017208764909037766\n",
      "    ccp_alpha: 6.353920076691371e-06\n",
      "    n_estimators: 4\n",
      "\n",
      "Trial 193:\n",
      "  Value: 0.5539426654022904\n",
      "  Params:\n",
      "    criterion: entropy\n",
      "    max_depth: 25\n",
      "    min_samples_split: 32\n",
      "    min_samples_leaf: 38\n",
      "    min_weight_fraction_leaf: 0.0002202414337150679\n",
      "    ccp_alpha: 0.00035587354195802445\n",
      "    n_estimators: 6\n",
      "\n",
      "Trial 194:\n",
      "  Value: 0.5584908441103864\n",
      "  Params:\n",
      "    criterion: entropy\n",
      "    max_depth: 24\n",
      "    min_samples_split: 34\n",
      "    min_samples_leaf: 35\n",
      "    min_weight_fraction_leaf: 0.004883942739453898\n",
      "    ccp_alpha: 2.1532745196810912e-05\n",
      "    n_estimators: 4\n",
      "\n",
      "Trial 195:\n",
      "  Value: 0.5651720542231492\n",
      "  Params:\n",
      "    criterion: entropy\n",
      "    max_depth: 24\n",
      "    min_samples_split: 35\n",
      "    min_samples_leaf: 35\n",
      "    min_weight_fraction_leaf: 0.0019989081328178992\n",
      "    ccp_alpha: 1.2440455541860093e-05\n",
      "    n_estimators: 3\n",
      "\n",
      "Trial 196:\n",
      "  Value: 0.550371774311124\n",
      "  Params:\n",
      "    criterion: entropy\n",
      "    max_depth: 25\n",
      "    min_samples_split: 33\n",
      "    min_samples_leaf: 33\n",
      "    min_weight_fraction_leaf: 0.0037293089347711964\n",
      "    ccp_alpha: 0.00046514451213087847\n",
      "    n_estimators: 4\n",
      "\n",
      "Trial 197:\n",
      "  Value: 0.5588375242487463\n",
      "  Params:\n",
      "    criterion: entropy\n",
      "    max_depth: 24\n",
      "    min_samples_split: 31\n",
      "    min_samples_leaf: 37\n",
      "    min_weight_fraction_leaf: 0.0001445277648504131\n",
      "    ccp_alpha: 0.00022731266574272982\n",
      "    n_estimators: 5\n",
      "\n",
      "Trial 198:\n",
      "  Value: 0.5577512650980683\n",
      "  Params:\n",
      "    criterion: entropy\n",
      "    max_depth: 23\n",
      "    min_samples_split: 36\n",
      "    min_samples_leaf: 39\n",
      "    min_weight_fraction_leaf: 0.005261615736906744\n",
      "    ccp_alpha: 1.5014739399595278e-06\n",
      "    n_estimators: 4\n",
      "\n",
      "Trial 199:\n",
      "  Value: 0.5469116638388506\n",
      "  Params:\n",
      "    criterion: entropy\n",
      "    max_depth: 26\n",
      "    min_samples_split: 34\n",
      "    min_samples_leaf: 34\n",
      "    min_weight_fraction_leaf: 3.9556056211014845e-05\n",
      "    ccp_alpha: 0.0007003265977117965\n",
      "    n_estimators: 3\n",
      "\n",
      "\n",
      "\n",
      "\n",
      "Best trial:\n",
      " Val Value: 0.5815395552746949\n",
      " Val Params:\n",
      "    criterion: entropy\n",
      "    max_depth: 24\n",
      "    min_samples_split: 34\n",
      "    min_samples_leaf: 36\n",
      "    min_weight_fraction_leaf: 0.00018775656434644747\n",
      "    ccp_alpha: 2.0533349194068356e-05\n",
      "    n_estimators: 5\n",
      "Test: Accuracy: 0,7219696129533104 | Precision:0,5012224938875306 | Recall:0,6927052275889485 | F1-score:0,5816088117489987\n"
     ]
    }
   ],
   "source": [
    "data = pd.read_csv('data.csv', delimiter=';')\n",
    "\n",
    "print(data.shape[0])\n",
    "data = data.dropna(subset=['Vai Chover Amanha'])#Removendo linhas com valores faltantes na coluna de outliers\n",
    "\n",
    "data.reset_index(drop=True, inplace=True)\n",
    "print(data.shape[0])\n",
    "\n",
    "X = data.drop('Vai Chover Amanha', axis=1)\n",
    "y = data['Vai Chover Amanha']\n",
    "\n",
    "X_train, X_test, y_train, y_test = train_test_split(X, y, test_size=0.15, stratify=y, random_state=42)\n",
    "\n",
    "    \n",
    "\n",
    "def objective(trial):\n",
    "    criterion = trial.suggest_categorical('criterion', ['gini', 'entropy'])\n",
    "    max_depth = trial.suggest_int('max_depth', 15, 31)\n",
    "    min_samples_split = trial.suggest_int('min_samples_split', 2, 50)\n",
    "    min_samples_leaf = trial.suggest_int('min_samples_leaf', 2, 50)\n",
    "    min_weight_fraction_leaf = trial.suggest_float('min_weight_fraction_leaf', 0, 0.1)\n",
    "    ccp_alpha = trial.suggest_float('ccp_alpha', 0, 0.01)\n",
    "    n_estimators = trial.suggest_int('n_estimators', 2, 20)\n",
    "\n",
    "    pipeline = Pipeline(steps=[\n",
    "        ('manual',ManualFeatureSelectorTransformer()),\n",
    "        ('imputer',ImputerTransformer()),\n",
    "        ('date', DateTransformer()),\n",
    "        ('scaler', RobustScalerTransformer()),\n",
    "        ('os', RandomOverSampler(random_state=42)),\n",
    "        ('model', RandomForestClassifier(random_state=42, class_weight='balanced', criterion=criterion, max_depth=max_depth, min_samples_split=min_samples_split, min_samples_leaf=min_samples_leaf, min_weight_fraction_leaf=min_weight_fraction_leaf, ccp_alpha=ccp_alpha, n_estimators=n_estimators*50)),\n",
    "        ])\n",
    "\n",
    "    X_train_2, X_val, y_train_2, y_val = train_test_split(X_train.copy(), y_train.copy(), stratify=y_train, test_size=0.1875, random_state=42)\n",
    "    pipeline.fit(X_train_2, y_train_2)\n",
    "\n",
    "    y_pred = pipeline.predict(X_val)\n",
    "    accuracy = accuracy_score(y_val, y_pred)\n",
    "\n",
    "    y_true  = (y_val == 'Sim').astype(int)\n",
    "    y_pred  = (y_pred == 'Sim').astype(int)\n",
    "\n",
    "    precision = precision_score(y_true, y_pred)\n",
    "    recall = recall_score(y_true, y_pred)\n",
    "    f1 = f1_score(y_true, y_pred)\n",
    "\n",
    "    print(f\"Accuracy: {str(accuracy).replace('.',',')} | Precision:{str(precision).replace('.',',')} | Recall:{str(recall).replace('.',',')} | F1-score:{str(f1).replace('.',',')}\")\n",
    "    #score = cross_val_score(pipeline, X.copy(), y.copy(), n_jobs=-1, cv=5).mean()\n",
    "    return f1\n",
    "\n",
    "study = optuna.create_study(direction='maximize')\n",
    "study.optimize(objective, n_trials=200)\n",
    "\n",
    "for trial in study.trials:\n",
    "    print(f\"Trial {trial.number}:\")\n",
    "    print(f\"  Value: {trial.value}\")\n",
    "    print(\"  Params:\")\n",
    "    for key, value in trial.params.items():\n",
    "        print(f\"    {key}: {value}\")\n",
    "    print()\n",
    "\n",
    "print(\"\\n\\n\\nBest trial:\")\n",
    "trial = study.best_trial\n",
    "\n",
    "print(f\" Val Value: {trial.value}\")\n",
    "print(\" Val Params:\")\n",
    "for key, value in trial.params.items():\n",
    "    print(f\"    {key}: {value}\")\n",
    "\n",
    "pipeline = Pipeline(steps=[\n",
    "    ('manual',ManualFeatureSelectorTransformer()),\n",
    "    ('imputer',ImputerTransformer()),\n",
    "    ('date', DateTransformer()),\n",
    "    ('scaler', RobustScalerTransformer()),\n",
    "    ('os', RandomOverSampler(random_state=42)),\n",
    "    ('model', RandomForestClassifier(random_state=42, class_weight='balanced', criterion=trial.params['criterion'], max_depth=trial.params['max_depth'], min_samples_split=trial.params['min_samples_split'], min_samples_leaf=trial.params['min_samples_leaf'], min_weight_fraction_leaf=trial.params['min_weight_fraction_leaf'], ccp_alpha=trial.params['ccp_alpha'], n_estimators=trial.params['n_estimators']*50)),\n",
    "    ])\n",
    "\n",
    "pipeline.fit(X_train, y_train)\n",
    "\n",
    "y_pred = pipeline.predict(X_test)\n",
    "accuracy = accuracy_score(y_test, y_pred)\n",
    "\n",
    "y_true  = (y_test == 'Sim').astype(int)\n",
    "y_pred  = (y_pred == 'Sim').astype(int)\n",
    "\n",
    "precision = precision_score(y_true, y_pred)\n",
    "recall = recall_score(y_true, y_pred)\n",
    "f1 = f1_score(y_true, y_pred)\n",
    "\n",
    "print(f\"Test: Accuracy: {str(accuracy).replace('.',',')} | Precision:{str(precision).replace('.',',')} | Recall:{str(recall).replace('.',',')} | F1-score:{str(f1).replace('.',',')}\")"
   ]
  },
  {
   "cell_type": "code",
   "execution_count": 28,
   "metadata": {},
   "outputs": [
    {
     "name": "stdout",
     "output_type": "stream",
     "text": [
      "2001\n",
      "Test: Accuracy: 0,6266666666666667 | Precision:0,2 | Recall:0,38461538461538464 | F1-score:0,2631578947368421\n",
      ",62666666666666\t0,2\t0,38461538461538464\t0,2631578947368421\n",
      "2002\n",
      "Test: Accuracy: 0,6099585062240664 | Precision:0,35 | Recall:0,546875 | F1-score:0,4268292682926829\n",
      ",60995850622406\t0,35\t0,546875\t0,4268292682926829\n",
      "2003\n",
      "Test: Accuracy: 0,7387755102040816 | Precision:0,42105263157894735 | Recall:0,43636363636363634 | F1-score:0,42857142857142855\n",
      ",73877551020408\t0,42105263157894735\t0,43636363636363634\t0,42857142857142855\n",
      "2004\n",
      "Test: Accuracy: 0,7246376811594203 | Precision:0,32727272727272727 | Recall:0,47368421052631576 | F1-score:0,3870967741935483\n",
      ",72463768115942\t0,32727272727272727\t0,47368421052631576\t0,3870967741935483\n",
      "2005\n",
      "Test: Accuracy: 0,7581395348837209 | Precision:0,4861111111111111 | Recall:0,7 | F1-score:0,5737704918032787\n",
      ",75813953488372\t0,4861111111111111\t0,7\t0,5737704918032787\n",
      "2006\n",
      "Test: Accuracy: 0,7103960396039604 | Precision:0,45751633986928103 | Recall:0,6730769230769231 | F1-score:0,5447470817120623\n",
      ",71039603960396\t0,45751633986928103\t0,6730769230769231\t0,5447470817120623\n",
      "2007\n",
      "Test: Accuracy: 0,6773648648648649 | Precision:0,49616858237547895 | Recall:0,6851851851851852 | F1-score:0,5755555555555555\n",
      ",67736486486486\t0,49616858237547895\t0,6851851851851852\t0,5755555555555555\n",
      "2008\n",
      "Test: Accuracy: 0,7260435038212816 | Precision:0,49016100178890876 | Recall:0,6021978021978022 | F1-score:0,5404339250493096\n",
      ",72604350382128\t0,49016100178890876\t0,6021978021978022\t0,5404339250493096\n",
      "2009\n",
      "Test: Accuracy: 0,7249593936112615 | Precision:0,5102880658436214 | Recall:0,7112810707456979 | F1-score:0,5942492012779552\n",
      ",72495939361126\t0,5102880658436214\t0,7112810707456979\t0,5942492012779552\n",
      "2010\n",
      "Test: Accuracy: 0,7172264355362947 | Precision:0,486090775988287 | Recall:0,6600397614314115 | F1-score:0,5598650927487353\n",
      ",71722643553629\t0,486090775988287\t0,6600397614314115\t0,5598650927487353\n",
      "2011\n",
      "Test: Accuracy: 0,7463094587206124 | Precision:0,5502873563218391 | Recall:0,7172284644194756 | F1-score:0,6227642276422765\n",
      ",74630945872061\t0,5502873563218391\t0,7172284644194756\t0,6227642276422765\n",
      "2012\n",
      "Test: Accuracy: 0,7227722772277227 | Precision:0,4365781710914454 | Recall:0,7081339712918661 | F1-score:0,5401459854014599\n",
      ",72277227722772\t0,4365781710914454\t0,7081339712918661\t0,5401459854014599\n",
      "2013\n",
      "Test: Accuracy: 0,7438349270256668 | Precision:0,5251798561151079 | Recall:0,6709558823529411 | F1-score:0,5891848264729621\n",
      ",74383492702566\t0,5251798561151079\t0,6709558823529411\t0,5891848264729621\n",
      "2014\n",
      "Test: Accuracy: 0,697198275862069 | Precision:0,5260545905707196 | Recall:0,7019867549668874 | F1-score:0,6014184397163119\n",
      ",6971982758620\t0,5260545905707196\t0,7019867549668874\t0,6014184397163119\n",
      "2015\n",
      "Test: Accuracy: 0,6972428419936373 | Precision:0,5277136258660509 | Recall:0,7382875605815832 | F1-score:0,6154882154882155\n",
      ",69724284199363\t0,5277136258660509\t0,7382875605815832\t0,6154882154882155\n",
      "2016\n",
      "Test: Accuracy: 0,7381422924901185 | Precision:0,5019659239842726 | Recall:0,7185741088180112 | F1-score:0,5910493827160495\n",
      ",73814229249011\t0,5019659239842726\t0,7185741088180112\t0,5910493827160495\n",
      "2017\n",
      "Test: Accuracy: 0,74496336996337 | Precision:0,5559322033898305 | Recall:0,75 | F1-score:0,6385463984425697\n",
      ",744963369963\t0,5559322033898305\t0,75\t0,6385463984425697\n",
      "2018\n",
      "Test: Accuracy: 0,7084078711985689 | Precision:0,49834619625137816 | Recall:0,6964560862865947 | F1-score:0,5809768637532133\n",
      ",70840787119856\t0,49834619625137816\t0,6964560862865947\t0,5809768637532133\n",
      "2019\n",
      "Test: Accuracy: 0,7123893805309734 | Precision:0,5194672131147541 | Recall:0,7369186046511628 | F1-score:0,609375\n",
      ",71238938053097\t0,5194672131147541\t0,7369186046511628\t0,609375\n",
      "2020\n",
      "Test: Accuracy: 0,7469627147046501 | Precision:0,4573643410852713 | Recall:0,6579925650557621 | F1-score:0,5396341463414634\n",
      ",74696271470465\t0,4573643410852713\t0,6579925650557621\t0,5396341463414634\n",
      "2021\n",
      "Test: Accuracy: 0,7756024096385542 | Precision:0,5098743267504489 | Recall:0,6200873362445415 | F1-score:0,5596059113300493\n",
      ",77560240963855\t0,5098743267504489\t0,6200873362445415\t0,5596059113300493\n",
      "2022\n",
      "Test: Accuracy: 0,7259022384650525 | Precision:0,48337950138504154 | Recall:0,6059027777777778 | F1-score:0,5377503852080123\n",
      ",72590223846505\t0,48337950138504154\t0,6059027777777778\t0,5377503852080123\n",
      "2023\n",
      "Test: Accuracy: 0,7066436583261432 | Precision:0,4921259842519685 | Recall:0,7530120481927711 | F1-score:0,5952380952380952\n",
      ",70664365832614\t0,4921259842519685\t0,7530120481927711\t0,5952380952380952\n",
      "2024\n",
      "Test: Accuracy: 0,6411609498680739 | Precision:0,4918032786885246 | Recall:0,7537688442211056 | F1-score:0,5952380952380952\n",
      ",64116094986807\t0,4918032786885246\t0,7537688442211056\t0,5952380952380952\n",
      "PORTO ALEGRE - JARDIM BOTANICO\n",
      "Test: Accuracy: 0,713957055214724 | Precision:0,4721030042918455 | Recall:0,6340057636887608 | F1-score:0,5412054120541205\n",
      ",7139570552147\t0,4721030042918455\t0,6340057636887608\t0,5412054120541205\n",
      "RIO GRANDE\n",
      "Test: Accuracy: 0,7538994800693241 | Precision:0,5047021943573667 | Recall:0,5609756097560976 | F1-score:0,5313531353135315\n",
      ",75389948006932\t0,5047021943573667\t0,5609756097560976\t0,5313531353135315\n",
      "SANTA MARIA\n",
      "Test: Accuracy: 0,7279472382522671 | Precision:0,4613526570048309 | Recall:0,6409395973154363 | F1-score:0,5365168539325843\n",
      ",72794723825226\t0,4613526570048309\t0,6409395973154363\t0,5365168539325843\n",
      "SANTANA DO LIVRAMENTO\n",
      "Test: Accuracy: 0,7786407766990291 | Precision:0,5371621621621622 | Recall:0,636 | F1-score:0,5824175824175825\n",
      ",77864077669902\t0,5371621621621622\t0,636\t0,5824175824175825\n",
      "SANTO AUGUSTO\n",
      "Test: Accuracy: 0,6899911426040743 | Precision:0,45067264573991034 | Recall:0,6568627450980392 | F1-score:0,5345744680851064\n",
      ",68999114260407\t0,45067264573991034\t0,6568627450980392\t0,5345744680851064\n",
      "TORRES\n",
      "Test: Accuracy: 0,6964892412231031 | Precision:0,5406698564593302 | Recall:0,7483443708609272 | F1-score:0,6277777777777778\n",
      ",69648924122310\t0,5406698564593302\t0,7483443708609272\t0,6277777777777778\n",
      "URUGUAIANA\n",
      "Test: Accuracy: 0,7380434782608696 | Precision:0,4067796610169492 | Recall:0,6451612903225806 | F1-score:0,49896049896049893\n",
      ",73804347826086\t0,4067796610169492\t0,6451612903225806\t0,49896049896049893\n",
      "SANTA ROSA\n",
      "Test: Accuracy: 0,7245657568238213 | Precision:0,4857142857142857 | Recall:0,7183098591549296 | F1-score:0,5795454545454546\n",
      ",72456575682382\t0,4857142857142857\t0,7183098591549296\t0,5795454545454546\n",
      "CACAPAVA DO SUL\n",
      "Test: Accuracy: 0,7422577422577422 | Precision:0,5246376811594203 | Recall:0,6581818181818182 | F1-score:0,5838709677419356\n",
      ",74225774225774\t0,5246376811594203\t0,6581818181818182\t0,5838709677419356\n",
      "RIO PARDO\n",
      "Test: Accuracy: 0,7618048268625394 | Precision:0,5616045845272206 | Recall:0,725925925925926 | F1-score:0,6332794830371568\n",
      ",76180482686253\t0,5616045845272206\t0,725925925925926\t0,6332794830371568\n",
      "ALEGRETE\n",
      "Test: Accuracy: 0,7494356659142212 | Precision:0,4862068965517241 | Recall:0,6588785046728972 | F1-score:0,5595238095238094\n",
      ",74943566591422\t0,4862068965517241\t0,6588785046728972\t0,5595238095238094\n",
      "ERECHIM\n",
      "Test: Accuracy: 0,7096018735362998 | Precision:0,5313351498637602 | Recall:0,7195571955719557 | F1-score:0,6112852664576802\n",
      ",70960187353629\t0,5313351498637602\t0,7195571955719557\t0,6112852664576802\n",
      "SAO JOSE DOS AUSENTES\n",
      "Test: Accuracy: 0,6577102803738317 | Precision:0,5021551724137931 | Recall:0,7898305084745763 | F1-score:0,6139657444005271\n",
      ",65771028037383\t0,5021551724137931\t0,7898305084745763\t0,6139657444005271\n",
      "CAMAQUA\n",
      "Test: Accuracy: 0,7294372294372294 | Precision:0,5579937304075235 | Recall:0,6202090592334495 | F1-score:0,5874587458745875\n",
      ",72943722943722\t0,5579937304075235\t0,6202090592334495\t0,5874587458745875\n",
      "PASSO FUNDO\n",
      "Test: Accuracy: 0,6635220125786163 | Precision:0,5 | Recall:0,7663551401869159 | F1-score:0,6051660516605166\n",
      ",66352201257861\t0,5\t0,7663551401869159\t0,6051660516605166\n",
      "BENTO GONCALVES\n",
      "Test: Accuracy: 0,7102702702702702 | Precision:0,5382653061224489 | Recall:0,7080536912751678 | F1-score:0,6115942028985507\n",
      ",71027027027027\t0,5382653061224489\t0,7080536912751678\t0,6115942028985507\n",
      "CANGUCU\n",
      "Test: Accuracy: 0,7066508313539193 | Precision:0,5 | Recall:0,7165991902834008 | F1-score:0,589018302828619\n",
      ",70665083135391\t0,5\t0,7165991902834008\t0,589018302828619\n",
      "BAGE\n",
      "Test: Accuracy: 0,7620020429009193 | Precision:0,5284810126582279 | Recall:0,6653386454183267 | F1-score:0,5890652557319225\n",
      ",76200204290091\t0,5284810126582279\t0,6653386454183267\t0,5890652557319225\n",
      "SAO BORJA\n",
      "Test: Accuracy: 0,7191011235955056 | Precision:0,4219269102990033 | Recall:0,625615763546798 | F1-score:0,503968253968254\n",
      ",71910112359550\t0,4219269102990033\t0,625615763546798\t0,503968253968254\n",
      "QUARAI\n",
      "Test: Accuracy: 0,7818831942789034 | Precision:0,49407114624505927 | Recall:0,6944444444444444 | F1-score:0,5773672055427251\n",
      ",78188319427890\t0,49407114624505927\t0,6944444444444444\t0,5773672055427251\n",
      "SAO GABRIEL\n",
      "Test: Accuracy: 0,7299107142857143 | Precision:0,4899713467048711 | Recall:0,7276595744680852 | F1-score:0,5856164383561644\n",
      ",72991071428571\t0,4899713467048711\t0,7276595744680852\t0,5856164383561644\n",
      "JAGUARAO\n",
      "Test: Accuracy: 0,7727272727272727 | Precision:0,5131086142322098 | Recall:0,631336405529954 | F1-score:0,5661157024793388\n",
      ",77272727272727\t0,5131086142322098\t0,631336405529954\t0,5661157024793388\n",
      "LAGOA VERMELHA\n",
      "Test: Accuracy: 0,6968085106382979 | Precision:0,5365853658536586 | Recall:0,7610062893081762 | F1-score:0,6293888166449935\n",
      ",69680851063829\t0,5365853658536586\t0,7610062893081762\t0,6293888166449935\n",
      "SAO LUIZ GONZAGA\n",
      "Test: Accuracy: 0,6886898096304591 | Precision:0,4450402144772118 | Recall:0,70042194092827 | F1-score:0,5442622950819672\n",
      ",68868980963045\t0,4450402144772118\t0,70042194092827\t0,5442622950819672\n",
      "CRUZ ALTA\n",
      "Test: Accuracy: 0,6965065502183406 | Precision:0,48324022346368717 | Recall:0,650375939849624 | F1-score:0,5544871794871794\n",
      ",69650655021834\t0,48324022346368717\t0,650375939849624\t0,5544871794871794\n",
      "FREDERICO WESTPHALEN\n",
      "Test: Accuracy: 0,7098265895953757 | Precision:0,5170603674540682 | Recall:0,7462121212121212 | F1-score:0,6108527131782946\n",
      ",70982658959537\t0,5170603674540682\t0,7462121212121212\t0,6108527131782946\n",
      "TRAMANDAI\n",
      "Test: Accuracy: 0,7033678756476683 | Precision:0,5164473684210527 | Recall:0,6569037656903766 | F1-score:0,578268876611418\n",
      ",70336787564766\t0,5164473684210527\t0,6569037656903766\t0,578268876611418\n",
      "SOLEDADE\n",
      "Test: Accuracy: 0,7202718006795017 | Precision:0,5025906735751295 | Recall:0,7791164658634538 | F1-score:0,6110236220472441\n",
      ",72027180067950\t0,5025906735751295\t0,7791164658634538\t0,6110236220472441\n",
      "PALMEIRA DAS MISSOES\n",
      "Test: Accuracy: 0,7068062827225131 | Precision:0,4599406528189911 | Recall:0,7868020304568528 | F1-score:0,5805243445692884\n",
      ",70680628272251\t0,4599406528189911\t0,7868020304568528\t0,5805243445692884\n",
      "MOSTARDAS\n",
      "Test: Accuracy: 0,7404371584699454 | Precision:0,4675324675324675 | Recall:0,6171428571428571 | F1-score:0,5320197044334976\n",
      ",74043715846994\t0,4675324675324675\t0,6171428571428571\t0,5320197044334976\n",
      "CANELA\n",
      "Test: Accuracy: 0,6895734597156398 | Precision:0,5472972972972973 | Recall:0,7993421052631579 | F1-score:0,6497326203208555\n",
      ",68957345971563\t0,5472972972972973\t0,7993421052631579\t0,6497326203208555\n",
      "VACARIA\n",
      "Test: Accuracy: 0,6842105263157895 | Precision:0,5311111111111111 | Recall:0,7861842105263158 | F1-score:0,6339522546419097\n",
      ",68421052631578\t0,5311111111111111\t0,7861842105263158\t0,6339522546419097\n",
      "Santa Vitoria do Palmar - Barra do Chui\n",
      "Test: Accuracy: 0,7375 | Precision:0,3888888888888889 | Recall:0,463855421686747 | F1-score:0,4230769230769231\n",
      ",73\t0,3888888888888889\t0,463855421686747\t0,4230769230769231\n",
      "SANTIAGO\n",
      "Test: Accuracy: 0,7037037037037037 | Precision:0,4597315436241611 | Recall:0,6342592592592593 | F1-score:0,5330739299610895\n",
      ",70370370370370\t0,4597315436241611\t0,6342592592592593\t0,5330739299610895\n",
      "DOM PEDRITO\n",
      "Test: Accuracy: 0,7826771653543307 | Precision:0,4789473684210526 | Recall:0,7 | F1-score:0,56875\n",
      ",78267716535433\t0,4789473684210526\t0,7\t0,56875\n",
      "TEUTONIA\n",
      "Test: Accuracy: 0,7005347593582888 | Precision:0,540650406504065 | Recall:0,7074468085106383 | F1-score:0,6129032258064516\n",
      ",70053475935828\t0,540650406504065\t0,7074468085106383\t0,6129032258064516\n",
      "IBIRUBA\n",
      "Test: Accuracy: 0,723338485316847 | Precision:0,5259515570934256 | Recall:0,7835051546391752 | F1-score:0,629399585921325\n",
      ",7233384853168\t0,5259515570934256\t0,7835051546391752\t0,629399585921325\n",
      "CAMPO BOM\n",
      "Test: Accuracy: 0,6941747572815534 | Precision:0,5043103448275862 | Recall:0,612565445026178 | F1-score:0,5531914893617021\n",
      ",69417475728155\t0,5043103448275862\t0,612565445026178\t0,5531914893617021\n",
      "TUPANCIRETA\n",
      "Test: Accuracy: 0,7139423076923077 | Precision:0,5224719101123596 | Recall:0,7322834645669292 | F1-score:0,6098360655737706\n",
      ",71394230769230\t0,5224719101123596\t0,7322834645669292\t0,6098360655737706\n",
      "SAO VICENTE DO SUL\n",
      "Test: Accuracy: 0,7308641975308642 | Precision:0,44680851063829785 | Recall:0,6702127659574468 | F1-score:0,5361702127659573\n",
      ",73086419753086\t0,44680851063829785\t0,6702127659574468\t0,5361702127659573\n",
      "SERAFINA CORREA\n",
      "Test: Accuracy: 0,7365967365967366 | Precision:0,5375 | Recall:0,688 | F1-score:0,6035087719298246\n",
      ",73659673659673\t0,5375\t0,688\t0,6035087719298246\n",
      "CAMBARA DO SUL\n",
      "Test: Accuracy: 0,7042606516290727 | Precision:0,5515463917525774 | Recall:0,7753623188405797 | F1-score:0,644578313253012\n",
      ",70426065162907\t0,5515463917525774\t0,7753623188405797\t0,644578313253012\n",
      "ENCRUZILHADA DO SUL\n",
      "Test: Accuracy: 0,744807121661721 | Precision:0,49137931034482757 | Recall:0,6785714285714286 | F1-score:0,57\n",
      ",7448071216617\t0,49137931034482757\t0,6785714285714286\t0,57\n",
      "CAPAO DO LEAO (PELOTAS)\n",
      "Test: Accuracy: 0,7683823529411765 | Precision:0,5657894736842105 | Recall:0,589041095890411 | F1-score:0,5771812080536913\n",
      ",76838235294117\t0,5657894736842105\t0,589041095890411\t0,5771812080536913\n",
      "PORTO ALEGRE- BELEM NOVO\n",
      "Test: Accuracy: 0,7021276595744681 | Precision:0,5217391304347826 | Recall:0,8 | F1-score:0,6315789473684211\n",
      ",70212765957446\t0,5217391304347826\t0,8\t0,6315789473684211\n",
      "VP: 6970 - VN: 19070 - FP: 6936 - FN: 3092\n",
      "6970\t19070\t6936\t3092\n",
      "Test: Accuracy: 0,7219696129533104 | Precision:0,5012224938875306 | Recall:0,6927052275889485 | F1-score:0,5816088117489987\n",
      ",72196961295331\t0,5012224938875306\t0,6927052275889485\t0,5816088117489987\n"
     ]
    },
    {
     "data": {
      "image/png": "[encoded data removed]",
      "text/plain": [
       "<Figure size 800x600 with 1 Axes>"
      ]
     },
     "metadata": {},
     "output_type": "display_data"
    }
   ],
   "source": [
    "data = pd.read_csv('data.csv', delimiter=';')\n",
    "data = data.dropna(subset=['Vai Chover Amanha'])#Removendo linhas com valores faltantes na coluna de outliers\n",
    "data.reset_index(drop=True, inplace=True)\n",
    "\n",
    "X = data.drop('Vai Chover Amanha', axis=1)\n",
    "y = data['Vai Chover Amanha']\n",
    "\n",
    "X_train, X_test, y_train, y_test = train_test_split(X, y, test_size=0.15, stratify=y, random_state=42)\n",
    "\n",
    "pipeline = Pipeline(steps=[\n",
    "    ('manual',ManualFeatureSelectorTransformer()),\n",
    "    ('imputer',ImputerTransformer()),\n",
    "    ('date', DateTransformer()),\n",
    "    ('scaler', RobustScalerTransformer()),\n",
    "    ('os', RandomOverSampler(random_state=42)),\n",
    "    ('model', RandomForestClassifier(random_state=42, class_weight='balanced', criterion='entropy', max_depth=24, min_samples_split=34, min_samples_leaf=36, min_weight_fraction_leaf=0.00018775656434644747, ccp_alpha=2.0533349194068356e-05, n_estimators=5*50)),\n",
    "    ])\n",
    "\n",
    "pipeline.fit(X_train, y_train)\n",
    "\n",
    "for i in range(2001,2025):\n",
    "    print(i)\n",
    "    f_X_test = X_test.copy().loc[pd.to_datetime(X_test['Data']).dt.year == i]\n",
    "    f_X_test.reset_index(drop=True, inplace=True)\n",
    "\n",
    "    f_y_test = y_test.copy().loc[pd.to_datetime(X_test['Data']).dt.year == i]\n",
    "    f_y_test.reset_index(drop=True, inplace=True)\n",
    "    \n",
    "\n",
    "    y_pred = pipeline.predict(f_X_test)\n",
    "    accuracy = accuracy_score(f_y_test, y_pred)\n",
    "\n",
    "    y_true  = (f_y_test == 'Sim').astype(int)\n",
    "    y_pred  = (y_pred == 'Sim').astype(int)\n",
    "\n",
    "    precision = precision_score(y_true, y_pred)\n",
    "    recall = recall_score(y_true, y_pred)\n",
    "    f1 = f1_score(y_true, y_pred)\n",
    "\n",
    "\n",
    "    print(f\"Test: Accuracy: {str(accuracy).replace('.',',')} | Precision:{str(precision).replace('.',',')} | Recall:{str(recall).replace('.',',')} | F1-score:{str(f1).replace('.',',')}\")\n",
    "    print(f\"{str(accuracy).replace('.',',')[1:-2]}\\t{str(precision).replace('.',',')}\\t{str(recall).replace('.',',')}\\t{str(f1).replace('.',',')}\")\n",
    "\n",
    "for cidade in data['Cidade'].unique():\n",
    "    print(cidade)\n",
    "    f_X_test = X_test.copy().loc[X_test['Cidade'] == cidade]\n",
    "    f_X_test.reset_index(drop=True, inplace=True)\n",
    "\n",
    "    f_y_test = y_test.copy().loc[X_test['Cidade'] == cidade]\n",
    "    f_y_test.reset_index(drop=True, inplace=True)\n",
    "\n",
    "    y_pred = pipeline.predict(f_X_test)\n",
    "    accuracy = accuracy_score(f_y_test, y_pred)\n",
    "\n",
    "    y_true  = (f_y_test == 'Sim').astype(int)\n",
    "    y_pred  = (y_pred == 'Sim').astype(int)\n",
    "\n",
    "    precision = precision_score(y_true, y_pred)\n",
    "    recall = recall_score(y_true, y_pred)\n",
    "    f1 = f1_score(y_true, y_pred)\n",
    "\n",
    "\n",
    "    print(f\"Test: Accuracy: {str(accuracy).replace('.',',')} | Precision:{str(precision).replace('.',',')} | Recall:{str(recall).replace('.',',')} | F1-score:{str(f1).replace('.',',')}\")\n",
    "    print(f\"{str(accuracy).replace('.',',')[1:-2]}\\t{str(precision).replace('.',',')}\\t{str(recall).replace('.',',')}\\t{str(f1).replace('.',',')}\")\n",
    "\n",
    "y_pred = pipeline.predict(X_test.copy())\n",
    "accuracy = accuracy_score(y_test, y_pred)\n",
    "\n",
    "y_true  = (y_test == 'Sim').astype(int)\n",
    "y_pred  = (y_pred == 'Sim').astype(int)\n",
    "\n",
    "precision = precision_score(y_true, y_pred)\n",
    "recall = recall_score(y_true, y_pred)\n",
    "f1 = f1_score(y_true, y_pred)\n",
    "\n",
    "FP = np.sum((y_pred == 1) & (y_true == 0))\n",
    "VP = np.sum((y_pred == 1) & (y_true == 1))\n",
    "FN = np.sum((y_pred == 0) & (y_true == 1))\n",
    "VN = np.sum((y_pred == 0) & (y_true == 0))\n",
    "\n",
    "print(f\"VP: {VP} - VN: {VN} - FP: {FP} - FN: {FN}\")\n",
    "print(f\"{VP}\\t{VN}\\t{FP}\\t{FN}\")\n",
    "print(f\"Test: Accuracy: {str(accuracy).replace('.',',')} | Precision:{str(precision).replace('.',',')} | Recall:{str(recall).replace('.',',')} | F1-score:{str(f1).replace('.',',')}\")\n",
    "print(f\"{str(accuracy).replace('.',',')[1:-2]}\\t{str(precision).replace('.',',')}\\t{str(recall).replace('.',',')}\\t{str(f1).replace('.',',')}\")\n",
    "\n",
    "class_labels = pipeline.classes_\n",
    "class_index = np.where(class_labels == \"Sim\")[0][0]\n",
    "\n",
    "y_probs = pipeline.predict_proba(X_test.copy())[:, class_index]\n",
    "\n",
    "y_true  = (y_test.copy() == 'Sim').astype(int)\n",
    "\n",
    "precision, recall, _ = precision_recall_curve(y_true, y_probs)\n",
    "\n",
    "plt.figure(figsize=(8, 6))\n",
    "plt.plot(recall, precision, marker='.')\n",
    "plt.xlabel('Recall')\n",
    "plt.ylabel('Precisão')\n",
    "plt.grid(True)\n",
    "plt.show()"
   ]
  },
  {
   "cell_type": "code",
   "execution_count": 49,
   "metadata": {},
   "outputs": [
    {
     "name": "stdout",
     "output_type": "stream",
     "text": [
      "[ 0  1  2  3  4  5  6  7  8  9 10 11 12 13 14 15 16 17 18 19 20 21 22 23\n",
      " 24 25 26 27 28 29 30 31 32]\n",
      "0 0,0\n",
      "1 0,19928256467510946\n",
      "2 0,36522053397946797\n",
      "3 0,49431040365488244\n",
      "4 0,6116265524806593\n",
      "5 0,6710443430578076\n",
      "6 0,7171901698030384\n",
      "7 0,7540841973820696\n",
      "8 0,7859258104619828\n",
      "9 0,8117712207390917\n",
      "10 0,8339834849426848\n",
      "11 0,8541347548100701\n",
      "12 0,8737876722260907\n",
      "13 0,8932942552733636\n",
      "14 0,9106860923117421\n",
      "15 0,9252535023982084\n",
      "16 0,9393737225180241\n",
      "17 0,9519313463293706\n",
      "18 0,9635343561870503\n",
      "19 0,971324415658052\n",
      "20 0,9787047973153807\n",
      "21 0,9835988026836521\n",
      "22 0,9872044007374016\n",
      "23 0,9903998350567349\n",
      "24 0,9934416863063922\n",
      "25 0,9958526480676464\n",
      "26 0,9977247058074179\n",
      "27 0,9989183323353671\n",
      "28 0,999432694894747\n",
      "29 0,9997705975869166\n",
      "30 0,9999205475662435\n",
      "31 0,9999892260451898\n",
      "32 1,0\n"
     ]
    }
   ],
   "source": [
    "#variancia explicada cumulativa\n",
    "data = pd.read_csv('data.csv', delimiter=';')\n",
    "\n",
    "data = data.dropna(subset=['Vai Chover Amanha'])\n",
    "data.reset_index(drop=True, inplace=True)\n",
    "\n",
    "X = data.drop('Vai Chover Amanha', axis=1)\n",
    "y = data['Vai Chover Amanha']\n",
    "\n",
    "pipeline = Pipeline(steps=[\n",
    "    ('manual',ManualFeatureSelectorTransformer()),\n",
    "    ('imputer',ImputerTransformer()),\n",
    "    ('date', DateTransformer()),\n",
    "    ('scaler', RobustScalerTransformer()),\n",
    "])\n",
    "\n",
    "X_train = pipeline.fit_transform(X, y)\n",
    "\n",
    "nums = np.arange(33)\n",
    "var_ratio = []\n",
    "for num in nums:\n",
    "  pca = PCA(n_components=num)\n",
    "  pca.fit(X_train)\n",
    "  var_ratio.append(np.sum(pca.explained_variance_ratio_))\n",
    "\n",
    "print(nums)\n",
    "for num in nums:\n",
    "  print(num, str(var_ratio[num]).replace('.',','))"
   ]
  },
  {
   "cell_type": "code",
   "execution_count": null,
   "metadata": {},
   "outputs": [],
   "source": [
    "#descrição do conjunto de dados após a normalização\n",
    "data = pd.read_csv('data.csv', delimiter=';')\n",
    "\n",
    "data = data.dropna(subset=['Vai Chover Amanha'])\n",
    "data.reset_index(drop=True, inplace=True)\n",
    "\n",
    "X = data.drop('Vai Chover Amanha', axis=1)\n",
    "y = data['Vai Chover Amanha']\n",
    "\n",
    "pipeline = Pipeline(steps=[\n",
    "    ('manual',ManualFeatureSelectorTransformer()),\n",
    "    ('imputer',ImputerTransformer()),\n",
    "    ('date', DateTransformer()),\n",
    "    ('scaler', RobustScalerTransformer()),\n",
    "])\n",
    "\n",
    "X_train = pipeline.fit_transform(X, y)\n",
    "print(X_train[['Precipitacao Total', 'Pressao Maxima','Pressao Minima','Temperatura Maxima','Temperatura Minima','Temperatura Orvalho Maxima','Temperatura Orvalho Minima',\n",
    "                'Umidade Minima', 'Umidade Maxima','Precipitacao Total', 'Pressao Media', 'Temperatura Media', 'Temperatura Orvalho Media']].describe())\n",
    "\n",
    "print(X_train[['Umidade Media', 'Direcao Vento 0H','Direcao Vento 6H','Direcao Vento 12H','Direcao Vento 18H', 'Rajada Maxima de Vento 0H', 'Rajada Maxima de Vento 6H',\n",
    "                'Rajada Maxima de Vento 12H', 'Rajada Maxima de Vento 18H']].describe())\n",
    "\n",
    "print(X_train[['Vento Velocidade Media 0H', 'Vento Velocidade Media 6H', 'Vento Velocidade Media 12H', 'Vento Velocidade Media 18H', 'Radiacao Global', 'Altitude']].describe())\n"
   ]
  },
  {
   "cell_type": "code",
   "execution_count": null,
   "metadata": {},
   "outputs": [],
   "source": [
    "#analise dos valores faltantes\n",
    "data = pd.read_csv('data.csv', delimiter=';')\n",
    "\n",
    "data.drop('Radiacao Global', axis=1, inplace=True)\n",
    "data.drop('Cidade', axis=1, inplace=True)\n",
    "data.drop('Codigo', axis=1, inplace=True)\n",
    "data.drop('Latitude', axis=1, inplace=True)\n",
    "data.drop('Longitude', axis=1, inplace=True)\n",
    "\n",
    "data['Data'] = pd.to_datetime(data['Data'])\n",
    "data['Ano'] = data['Data'].dt.year\n",
    "data.drop('Data', axis=1, inplace=True)\n",
    "\n",
    "print('any:')\n",
    "counter = 0\n",
    "for i in range(2001,2025):\n",
    "    filtro = data.loc[(data['Ano']  == i)].drop('Ano', axis=1)\n",
    "    counter += filtro.isna().any(axis=1).sum()\n",
    "    print(f'{i}\\t{filtro.isna().any(axis=1).sum()}')\n",
    "print(f'Total\\t{counter}')\n",
    "\n",
    "print('all:')\n",
    "counter = 0\n",
    "for i in range(2001,2025):\n",
    "    filtro = data.loc[(data['Ano']  == i)].drop('Ano', axis=1)\n",
    "    counter += filtro.isna().all(axis=1).sum()\n",
    "    print(f'{i}\\t{filtro.isna().all(axis=1).sum()}')\n",
    "print(f'Total\\t{counter}')\n",
    "\n",
    "print('i:')\n",
    "counter = 0\n",
    "for i in range(2001,2025):\n",
    "    counter += data.loc[(data['Ano']  == i)]['Vai Chover Amanha'].isna().sum()\n",
    "    value = data.loc[(data['Ano']  == i)]['Vai Chover Amanha'].isna().sum()\n",
    "    print(f'{i}\\t{value}')\n",
    "print(f'Total\\t{counter}')"
   ]
  },
  {
   "cell_type": "code",
   "execution_count": null,
   "metadata": {},
   "outputs": [],
   "source": [
    "#analise dos outliers usando o z-score\n",
    "data = pd.read_csv('data.csv', delimiter=';')\n",
    "\n",
    "data = data.dropna()\n",
    "data.reset_index(drop=True, inplace=True)\n",
    "\n",
    "columns = ['Pressao Maxima','Pressao Minima','Temperatura Maxima','Temperatura Minima','Temperatura Orvalho Maxima','Temperatura Orvalho Minima',\n",
    "                'Umidade Minima', 'Umidade Maxima','Precipitacao Total', 'Pressao Media', 'Temperatura Media', 'Temperatura Orvalho Media', 'Umidade Media', \n",
    "                'Direcao Vento 0H','Direcao Vento 6H','Direcao Vento 12H','Direcao Vento 18H', 'Rajada Maxima de Vento 0H', 'Rajada Maxima de Vento 6H',\n",
    "                'Rajada Maxima de Vento 12H', 'Rajada Maxima de Vento 18H', 'Vento Velocidade Media 0H', 'Vento Velocidade Media 6H',\n",
    "                'Vento Velocidade Media 12H', 'Vento Velocidade Media 18H', 'Radiacao Global', 'Altitude']\n",
    "\n",
    "counter = 0\n",
    "for column in columns:\n",
    "    z_scores = np.abs(stats.zscore(data[column]))\n",
    "    threshold = 4\n",
    "    outliers_mask = (z_scores > threshold)\n",
    "\n",
    "    num_outliers = outliers_mask.sum()\n",
    "    print(f\"{column}\\t{num_outliers}\")\n",
    "    counter += outliers_mask.sum()\n",
    "print(counter)\n",
    "\n",
    "column = 'Precipitacao Total'\n",
    "data = data[data[column] != 0]\n",
    "\n",
    "z_scores = np.abs(stats.zscore(data[column]))\n",
    "threshold = 4\n",
    "outliers_mask = (z_scores > threshold)\n",
    "\n",
    "num_outliers = outliers_mask.sum()\n",
    "print(f\"{column}\\t{num_outliers}\")"
   ]
  },
  {
   "cell_type": "code",
   "execution_count": null,
   "metadata": {},
   "outputs": [],
   "source": [
    "#descrição geral dos dados\n",
    "data = pd.read_csv('data.csv', delimiter=';')\n",
    "\n",
    "data = data.dropna()\n",
    "data.reset_index(drop=True, inplace=True)\n",
    "\n",
    "print(data[['Precipitacao Total', 'Pressao Maxima','Pressao Minima','Temperatura Maxima','Temperatura Minima','Temperatura Orvalho Maxima','Temperatura Orvalho Minima',\n",
    "                'Umidade Minima', 'Umidade Maxima','Precipitacao Total', 'Pressao Media', 'Temperatura Media', 'Temperatura Orvalho Media']].describe())\n",
    "\n",
    "print(data[['Umidade Media', 'Direcao Vento 0H','Direcao Vento 6H','Direcao Vento 12H','Direcao Vento 18H', 'Rajada Maxima de Vento 0H', 'Rajada Maxima de Vento 6H',\n",
    "                'Rajada Maxima de Vento 12H', 'Rajada Maxima de Vento 18H']].describe())\n",
    "\n",
    "print(data[['Vento Velocidade Media 0H', 'Vento Velocidade Media 6H', 'Vento Velocidade Media 12H', 'Vento Velocidade Media 18H', 'Radiacao Global', 'Altitude']].describe())"
   ]
  },
  {
   "cell_type": "code",
   "execution_count": null,
   "metadata": {},
   "outputs": [],
   "source": [
    "#contagem de valores por classe no atributo alvo\n",
    "data = pd.read_csv('data.csv', delimiter=';')\n",
    "\n",
    "print(data['Vai Chover Amanha'].value_counts())"
   ]
  },
  {
   "cell_type": "code",
   "execution_count": 24,
   "metadata": {},
   "outputs": [
    {
     "name": "stdout",
     "output_type": "stream",
     "text": [
      "cod -  A801  lat:  -30.05361111  outliers:  0  - long:  -51.17472221  outliers:  0  - alt:  41.18  outliers:  0\n",
      "cod -  A802  lat:  -32.07888888  outliers:  0  - long:  -52.16777777  outliers:  0  - alt:  4.92  outliers:  0\n",
      "cod -  A803  lat:  -29.72499999  outliers:  0  - long:  -53.72055554  outliers:  0  - alt:  103.1  outliers:  0\n",
      "cod -  A804  lat:  -30.75055555  outliers:  0  - long:  -55.40138888  outliers:  0  - alt:  196.0  outliers:  0\n",
      "cod -  A805  lat:  -27.85444444  outliers:  0  - long:  -53.7911111  outliers:  0  - alt:  489.67  outliers:  0\n",
      "cod -  A808  lat:  -29.35027777  outliers:  0  - long:  -49.73333333  outliers:  0  - alt:  8.44  outliers:  0\n",
      "cod -  A809  lat:  -29.83999999  outliers:  0  - long:  -57.08194443  outliers:  0  - alt:  74.29  outliers:  0\n",
      "cod -  A810  lat:  -27.89055555  outliers:  0  - long:  -54.47999999  outliers:  0  - alt:  272.84  outliers:  0\n",
      "cod -  A812  lat:  -30.54527777  outliers:  0  - long:  -53.46694443  outliers:  0  - alt:  420.82  outliers:  0\n",
      "cod -  A813  lat:  -29.87222221  outliers:  0  - long:  -52.38194443  outliers:  0  - alt:  106.99  outliers:  0\n",
      "cod -  A826  lat:  -29.70916666  outliers:  0  - long:  -55.52555554  outliers:  0  - alt:  120.88  outliers:  0\n",
      "cod -  A828  lat:  -27.65777777  outliers:  0  - long:  -52.30583333  outliers:  0  - alt:  777.08  outliers:  0\n",
      "cod -  A829  lat:  -28.7486111  outliers:  0  - long:  -50.05777777  outliers:  0  - alt:  1228.59  outliers:  0\n",
      "cod -  A838  lat:  -30.80805555  outliers:  0  - long:  -51.83416666  outliers:  0  - alt:  92.3  outliers:  0\n",
      "cod -  A839  lat:  -28.22666666  outliers:  0  - long:  -52.40361111  outliers:  0  - alt:  680.67  outliers:  0\n",
      "cod -  A840  lat:  -29.164581  outliers:  0  - long:  -51.534202  outliers:  0  - alt:  623.27  outliers:  0\n",
      "cod -  A811  lat:  -31.40333333  outliers:  0  - long:  -52.70083333  outliers:  0  - alt:  446.81  outliers:  0\n",
      "cod -  A827  lat:  -31.34777777  outliers:  0  - long:  -54.01333333  outliers:  0  - alt:  226.19  outliers:  0\n",
      "cod -  A830  lat:  -28.65  outliers:  0  - long:  -56.01638888  outliers:  0  - alt:  81.08  outliers:  0\n",
      "cod -  A831  lat:  -30.368578  outliers:  0  - long:  -56.437115  outliers:  0  - alt:  113.05  outliers:  0\n",
      "cod -  A832  lat:  -30.34138888  outliers:  0  - long:  -54.31083333  outliers:  0  - alt:  114.89  outliers:  0\n",
      "cod -  A836  lat:  -32.53472221  outliers:  0  - long:  -53.37583332  outliers:  0  - alt:  31.48  outliers:  0\n",
      "cod -  A844  lat:  -28.222381  outliers:  0  - long:  -51.512845  outliers:  0  - alt:  833.83  outliers:  0\n",
      "cod -  A852  lat:  -28.41722221  outliers:  0  - long:  -54.9625  outliers:  0  - alt:  245.5  outliers:  0\n",
      "cod -  A853  lat:  -28.60344  outliers:  0  - long:  -53.673597  outliers:  0  - alt:  426.69  outliers:  0\n",
      "cod -  A854  lat:  -27.39555555  outliers:  0  - long:  -53.42944443  outliers:  0  - alt:  489.42  outliers:  0\n",
      "cod -  A834  lat:  -30.01027777  outliers:  0  - long:  -50.13583333  outliers:  0  - alt:  4.56  outliers:  0\n",
      "cod -  A837  lat:  -28.859211  outliers:  0  - long:  -52.542387  outliers:  0  - alt:  660.44  outliers:  0\n",
      "cod -  A856  lat:  -27.92027777  outliers:  0  - long:  -53.31805554  outliers:  0  - alt:  614.11  outliers:  0\n",
      "cod -  A878  lat:  -31.24833333  outliers:  0  - long:  -50.90638888  outliers:  0  - alt:  3.82  outliers:  0\n",
      "cod -  A879  lat:  -29.36888888  outliers:  0  - long:  -50.82722221  outliers:  0  - alt:  830.93  outliers:  0\n",
      "cod -  A880  lat:  -28.51361111  outliers:  0  - long:  -50.88277777  outliers:  0  - alt:  969.89  outliers:  0\n",
      "cod -  A899  lat:  -33.74222221  outliers:  0  - long:  -53.37222221  outliers:  0  - alt:  7.41  outliers:  0\n",
      "cod -  A833  lat:  -29.191599  outliers:  0  - long:  -54.885653  outliers:  0  - alt:  390.03  outliers:  0\n",
      "cod -  A881  lat:  -31.0025  outliers:  0  - long:  -54.61805554  outliers:  0  - alt:  150.0  outliers:  0\n",
      "cod -  A882  lat:  -29.44916666  outliers:  0  - long:  -51.82333332  outliers:  0  - alt:  81.0  outliers:  0\n",
      "cod -  A883  lat:  -28.65333333  outliers:  0  - long:  -53.11194444  outliers:  0  - alt:  455.27  outliers:  0\n",
      "cod -  A884  lat:  -29.674293  outliers:  0  - long:  -51.064042  outliers:  0  - alt:  23.35  outliers:  0\n",
      "cod -  A886  lat:  -29.08944444  outliers:  0  - long:  -53.82666666  outliers:  0  - alt:  462.0  outliers:  0\n",
      "cod -  A889  lat:  -29.70222222  outliers:  0  - long:  -54.69444444  outliers:  0  - alt:  134.0  outliers:  0\n",
      "cod -  A894  lat:  -28.70472222  outliers:  0  - long:  -51.87083332  outliers:  0  - alt:  485.29  outliers:  0\n",
      "cod -  A897  lat:  -29.04916666  outliers:  0  - long:  -50.14972221  outliers:  0  - alt:  1017.0  outliers:  0\n",
      "cod -  A893  lat:  -30.54305555  outliers:  0  - long:  -52.52472221  outliers:  0  - alt:  427.75  outliers:  0\n",
      "cod -  A887  lat:  -31.8025  outliers:  0  - long:  -52.40722222  outliers:  0  - alt:  13.0  outliers:  0\n",
      "cod -  B807  lat:  -30.1861111  outliers:  0  - long:  -51.17805554  outliers:  0  - alt:  3.3  outliers:  0\n"
     ]
    }
   ],
   "source": [
    "data = pd.read_csv('data.csv', delimiter=';')\n",
    "\n",
    "#busca por outliers nos atributos de latitude e longitude\n",
    "for value in data.dropna()['Codigo'].unique():\n",
    "    filtered = data[(data['Codigo'] == value)]\n",
    "    lat_mode = filtered['Latitude'].mode()[0]\n",
    "    long_mode = filtered['Longitude'].mode()[0]\n",
    "    alt_mode = filtered['Altitude'].mode()[0]\n",
    "    lat_outliers = (filtered['Latitude'] != lat_mode).sum()\n",
    "    long_outliers = (filtered['Longitude'] != long_mode).sum()\n",
    "    alt_outliers = (filtered['Altitude'] != alt_mode).sum()\n",
    "    print(\"cod - \", value, \" lat: \", lat_mode, \" outliers: \", lat_outliers, \" - long: \", long_mode, \" outliers: \", long_outliers, \" - alt: \", alt_mode, \" outliers: \", alt_outliers)\n"
   ]
  }
 ],
 "metadata": {
  "kernelspec": {
   "display_name": "sklearn-env",
   "language": "python",
   "name": "python3"
  },
  "language_info": {
   "codemirror_mode": {
    "name": "ipython",
    "version": 3
   },
   "file_extension": ".py",
   "mimetype": "text/x-python",
   "name": "python",
   "nbconvert_exporter": "python",
   "pygments_lexer": "ipython3",
   "version": "3.9.13"
  }
 },
 "nbformat": 4,
 "nbformat_minor": 2
}
